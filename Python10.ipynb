{
 "cells": [
  {
   "cell_type": "markdown",
   "id": "c15baa73-1f4c-4243-bb4c-937cd0eca02f",
   "metadata": {},
   "source": [
    "#### 10. Control flow statement"
   ]
  },
  {
   "cell_type": "markdown",
   "id": "bf90123e-4c16-4bf4-a4e5-abb612ea0475",
   "metadata": {},
   "source": [
    "#### 10-1. Conditional statement"
   ]
  },
  {
   "cell_type": "code",
   "execution_count": 80,
   "id": "a1853c4b-9090-4fde-ae8b-e1bb6ba369f5",
   "metadata": {},
   "outputs": [],
   "source": [
    "# 조건문이란 참과 거짓을 판단하는 문장을 말한다.\n",
    "# else는 if 없이 독립적으로 사용할 수 없다."
   ]
  },
  {
   "cell_type": "code",
   "execution_count": 81,
   "id": "789cf62d-576c-475c-a859-aba9db5e4bb7",
   "metadata": {
    "scrolled": true
   },
   "outputs": [
    {
     "name": "stdout",
     "output_type": "stream",
     "text": [
      "1\n",
      "b\n"
     ]
    }
   ],
   "source": [
    "# 조건문 if, else\n",
    "a = 1\n",
    "b = 2\n",
    "if a < 3:\n",
    "    print(a)\n",
    "else:\n",
    "    print(b)\n",
    "if a > b:\n",
    "    print('a')\n",
    "else:\n",
    "    print('b')"
   ]
  },
  {
   "cell_type": "code",
   "execution_count": 82,
   "id": "9c6880df-91b9-4c07-b8e8-cc886a03bd83",
   "metadata": {},
   "outputs": [
    {
     "name": "stdout",
     "output_type": "stream",
     "text": [
      "b is greater than a\n"
     ]
    }
   ],
   "source": [
    "# 조건문 elif\n",
    "# 이전 조건문이 거짓일 때 사용된다.\n",
    "a = 1\n",
    "b = 2\n",
    "if a>b:\n",
    "    print('a is greater than b')\n",
    "elif a == b:\n",
    "    print('a is equal to b')\n",
    "elif a < b:\n",
    "    print('b is greater than a')\n",
    "else:\n",
    "    print('I don\\'t know')"
   ]
  },
  {
   "cell_type": "code",
   "execution_count": 83,
   "id": "524b6f9e-5eb5-4d58-82be-ca7d8db3864d",
   "metadata": {},
   "outputs": [
    {
     "name": "stdout",
     "output_type": "stream",
     "text": [
      "c is equal to d\n"
     ]
    }
   ],
   "source": [
    "c = 15 * 5\n",
    "d = 15 + 15 + 15 + 15 + 15\n",
    "if c > d:\n",
    "    print('c is greater than d')\n",
    "elif c == d:\n",
    "    print('c is equal to d')\n",
    "elif c < d:\n",
    "    print('c is less than d')\n",
    "else:\n",
    "    print('I don\\'t know')"
   ]
  },
  {
   "cell_type": "markdown",
   "id": "281c2cd7-8f7d-4ac4-a23e-d0d5b39320ce",
   "metadata": {},
   "source": [
    "#### 10-2. Loop"
   ]
  },
  {
   "cell_type": "code",
   "execution_count": 84,
   "id": "a2d38acf-4b2c-405b-939e-1fc97447eac8",
   "metadata": {},
   "outputs": [],
   "source": [
    "# 일정한 조건이 만족되는 동안 문장을 반복해서 수행한다.\n",
    "# while 문과 for 문을 바꾸어서 사용할 수 있는 경우도 많다."
   ]
  },
  {
   "cell_type": "code",
   "execution_count": 85,
   "id": "55ef2dee-c8b3-4baa-905f-2edd2812466c",
   "metadata": {},
   "outputs": [
    {
     "name": "stdout",
     "output_type": "stream",
     "text": [
      "1\n",
      "2\n",
      "3\n",
      "4\n"
     ]
    }
   ],
   "source": [
    "# 반복문 while\n",
    "i = 0\n",
    "while i < 4:\n",
    "    i = i + 1\n",
    "    print(i)"
   ]
  },
  {
   "cell_type": "code",
   "execution_count": 86,
   "id": "80187ad1-1acd-4512-9ae5-5bd8d557a9e8",
   "metadata": {},
   "outputs": [
    {
     "name": "stdout",
     "output_type": "stream",
     "text": [
      "hit the tree 1 times.\n",
      "hit the tree 2 times.\n",
      "hit the tree 3 times.\n",
      "hit the tree 4 times.\n",
      "hit the tree 5 times.\n",
      "hit the tree 6 times.\n",
      "hit the tree 7 times.\n",
      "hit the tree 8 times.\n",
      "hit the tree 9 times.\n",
      "hit the tree 10 times.\n",
      "tree falls\n"
     ]
    }
   ],
   "source": [
    "# 열 번 찍어 안 넘어가는 나무 없다.\n",
    "treehit = 0\n",
    "while treehit < 10:\n",
    "    treehit = treehit + 1\n",
    "    print('hit the tree %d times.' % treehit)\n",
    "    if treehit == 10:\n",
    "        print('tree falls')"
   ]
  },
  {
   "cell_type": "code",
   "execution_count": 87,
   "id": "7d7240ee-c3e8-4a5a-b25d-54bff9dc8cf9",
   "metadata": {},
   "outputs": [
    {
     "name": "stdout",
     "output_type": "stream",
     "text": [
      "\n",
      "1. Add\n",
      "2. Del\n",
      "3. List\n",
      "4. Quit\n",
      "Enter number: \n"
     ]
    },
    {
     "name": "stdin",
     "output_type": "stream",
     "text": [
      " 1\n"
     ]
    },
    {
     "name": "stdout",
     "output_type": "stream",
     "text": [
      "\n",
      "1. Add\n",
      "2. Del\n",
      "3. List\n",
      "4. Quit\n",
      "Enter number: \n"
     ]
    },
    {
     "name": "stdin",
     "output_type": "stream",
     "text": [
      " 4\n"
     ]
    }
   ],
   "source": [
    "# prompt에 4를 입력하면 조건문이 거짓이 되어 while 문을 빠져나가게 된다.\n",
    "prompt = \"\"\"\n",
    "1. Add\n",
    "2. Del\n",
    "3. List\n",
    "4. Quit\n",
    "Enter number: \"\"\"\n",
    "number = 0\n",
    "while number != 4:\n",
    "    print(prompt)\n",
    "    number = int(input())"
   ]
  },
  {
   "cell_type": "code",
   "execution_count": 9,
   "id": "62af0aa2-c3df-41b5-819b-7c6605d7af9b",
   "metadata": {
    "scrolled": true
   },
   "outputs": [],
   "source": [
    "# 반복문 for\n",
    "# 실행해야 할 문장을 여러 번 반복해서 실행한다.\n",
    "# component가 차례로 variable에 대입되어 반복 실행된다.\n",
    "# 직관적인 문장 구조를 가짐"
   ]
  },
  {
   "cell_type": "code",
   "execution_count": 10,
   "id": "7d7a7bfe-8e37-4f59-a00f-0874f0dd1fbe",
   "metadata": {
    "scrolled": true
   },
   "outputs": [
    {
     "name": "stdout",
     "output_type": "stream",
     "text": [
      "1\n",
      "2\n",
      "3\n"
     ]
    }
   ],
   "source": [
    "for a in [1, 2, 3]:\n",
    "    print(a)"
   ]
  },
  {
   "cell_type": "code",
   "execution_count": 11,
   "id": "c6c51962-3730-490f-8d15-f32be5c3a8e2",
   "metadata": {},
   "outputs": [
    {
     "name": "stdout",
     "output_type": "stream",
     "text": [
      "3\n",
      "7\n",
      "11\n"
     ]
    }
   ],
   "source": [
    "a = [(1, 2), (3, 4), (5, 6)]\n",
    "for (first, last) in a:\n",
    "    print(first + last)"
   ]
  },
  {
   "cell_type": "code",
   "execution_count": 45,
   "id": "6c144150-ca5f-4366-b30a-f18b4a2348f2",
   "metadata": {},
   "outputs": [
    {
     "name": "stdout",
     "output_type": "stream",
     "text": [
      "2 4 6 8 10 12 14 16 18  \n",
      "3 6 9 12 15 18 21 24 27  \n",
      "4 8 12 16 20 24 28 32 36  \n",
      "5 10 15 20 25 30 35 40 45  \n",
      "6 12 18 24 30 36 42 48 54  \n",
      "7 14 21 28 35 42 49 56 63  \n",
      "8 16 24 32 40 48 56 64 72  \n",
      "9 18 27 36 45 54 63 72 81  \n"
     ]
    }
   ],
   "source": [
    "# 구구단\n",
    "# end parameter를 설정한 이유는 결괏값을 출력할 때 그 줄에 계속 출력하기 위해서이다.\n",
    "# print('')는 단을 구분하기 위해 사용한다.\n",
    "# print('')는 두 번째 for 문이 끝나면 결괏값을 다음 줄부터 출력하는 역할을 한다.\n",
    "# print의 end parameter에는 줄바꿈 문자(\\n)가 기본값으로 설정되어 있다.\n",
    "for i in range(2, 10):\n",
    "    for j in range(1, 10):\n",
    "        print(i * j, end = \" \")\n",
    "    print(' ')"
   ]
  },
  {
   "cell_type": "markdown",
   "id": "7e9c4f88-29f4-4b3b-841c-3c77f8393030",
   "metadata": {},
   "source": [
    "#### 10-3. Comparison operator"
   ]
  },
  {
   "cell_type": "code",
   "execution_count": 46,
   "id": "a7674b25-bcd2-45b9-9e70-d11f86ca1d73",
   "metadata": {},
   "outputs": [
    {
     "name": "stdout",
     "output_type": "stream",
     "text": [
      "True\n"
     ]
    }
   ],
   "source": [
    "# <\n",
    "# >\n",
    "a = 1\n",
    "b = 2\n",
    "print(a < b)"
   ]
  },
  {
   "cell_type": "code",
   "execution_count": 47,
   "id": "bcf45624-a57d-4e5c-9684-95be387a0027",
   "metadata": {},
   "outputs": [
    {
     "name": "stdout",
     "output_type": "stream",
     "text": [
      "False\n"
     ]
    }
   ],
   "source": [
    "# ==\n",
    "a = 1\n",
    "b = 2\n",
    "print(a == b)"
   ]
  },
  {
   "cell_type": "code",
   "execution_count": 48,
   "id": "f758e76b-25af-4a09-ad5e-b0accdd668ad",
   "metadata": {},
   "outputs": [
    {
     "name": "stdout",
     "output_type": "stream",
     "text": [
      "True\n"
     ]
    }
   ],
   "source": [
    "# !=\n",
    "# a와 b가 같지 않다.\n",
    "a = 1\n",
    "b = 2\n",
    "print(a != b)"
   ]
  },
  {
   "cell_type": "code",
   "execution_count": 49,
   "id": "98d2d228-5ed1-4d8f-95c3-4da4acfef022",
   "metadata": {},
   "outputs": [
    {
     "name": "stdout",
     "output_type": "stream",
     "text": [
      "False\n"
     ]
    }
   ],
   "source": [
    "# >=\n",
    "a = 1\n",
    "b = 2\n",
    "print(a >= b)"
   ]
  },
  {
   "cell_type": "code",
   "execution_count": 50,
   "id": "f98209ca-ba30-4579-891a-8390b129d11d",
   "metadata": {},
   "outputs": [
    {
     "name": "stdout",
     "output_type": "stream",
     "text": [
      "True\n"
     ]
    }
   ],
   "source": [
    "# <=\n",
    "a = 1\n",
    "b = 2\n",
    "print(a <= b)"
   ]
  },
  {
   "cell_type": "markdown",
   "id": "f2c1443d-7527-4ebe-925e-47b2ed61b5a0",
   "metadata": {},
   "source": [
    "#### 10-4. and, or, not"
   ]
  },
  {
   "cell_type": "code",
   "execution_count": 51,
   "id": "fbb2faa3-e4c8-4dd6-9613-70eca4c1a602",
   "metadata": {},
   "outputs": [
    {
     "name": "stdout",
     "output_type": "stream",
     "text": [
      "False\n"
     ]
    }
   ],
   "source": [
    "# a and b\n",
    "# a와 b 모두 참이어야 참이다.\n",
    "a = 1\n",
    "b = False\n",
    "if a >= 1 and b:\n",
    "    print('True')\n",
    "else:\n",
    "    print('False')"
   ]
  },
  {
   "cell_type": "code",
   "execution_count": 52,
   "id": "a4dd9272-ef32-4c37-8c47-c2819c1d4a32",
   "metadata": {},
   "outputs": [
    {
     "name": "stdout",
     "output_type": "stream",
     "text": [
      "True\n"
     ]
    }
   ],
   "source": [
    "# a or b\n",
    "# a와 b 둘 중 하나만 참이어도 참이다.\n",
    "a = 1\n",
    "b = False\n",
    "if a >= 1 or b:\n",
    "    print('True')\n",
    "else:\n",
    "    print('False')"
   ]
  },
  {
   "cell_type": "code",
   "execution_count": 53,
   "id": "dca4ba67-e7ee-4af1-a54a-1900571da0c9",
   "metadata": {},
   "outputs": [
    {
     "name": "stdout",
     "output_type": "stream",
     "text": [
      "True\n"
     ]
    }
   ],
   "source": [
    "# not a\n",
    "# a가 거짓이면 참이다.\n",
    "a = 1\n",
    "b = False\n",
    "if a >= 1 and not b:\n",
    "    print('True')\n",
    "else:\n",
    "    print('False')"
   ]
  },
  {
   "cell_type": "markdown",
   "id": "c19061e3-74ca-45e8-ae65-634b115493df",
   "metadata": {},
   "source": [
    "#### 10-5. in, not in"
   ]
  },
  {
   "cell_type": "code",
   "execution_count": 54,
   "id": "54c538fc-cb6c-4c79-83f9-f4b3685908d9",
   "metadata": {},
   "outputs": [
    {
     "name": "stdout",
     "output_type": "stream",
     "text": [
      "True\n",
      "True\n"
     ]
    }
   ],
   "source": [
    "# in\n",
    "print(1 in [1, 2, 3])\n",
    "\n",
    "if 1 in [1, 2, 3]:\n",
    "    print(True)"
   ]
  },
  {
   "cell_type": "code",
   "execution_count": 55,
   "id": "ca1c1562-30b5-46d4-8f61-73ba006300c2",
   "metadata": {},
   "outputs": [
    {
     "name": "stdout",
     "output_type": "stream",
     "text": [
      "True\n",
      "True\n",
      "False\n"
     ]
    }
   ],
   "source": [
    "# not in\n",
    "print('j' not in ('a', 'b', 'c'))\n",
    "\n",
    "print('j' not in 'python')\n",
    "\n",
    "if 'j' not in ('a', 'b', 'c'):\n",
    "    print('False')"
   ]
  },
  {
   "cell_type": "markdown",
   "id": "778d4beb-9fb6-4dd2-9c9a-356d33f3b48a",
   "metadata": {},
   "source": [
    "#### 10-6. pass"
   ]
  },
  {
   "cell_type": "code",
   "execution_count": 56,
   "id": "52bdffde-2fd2-42af-a3e1-2f099df1a856",
   "metadata": {},
   "outputs": [],
   "source": [
    "# 조건문에서 아무런 일도 하지 않도록 설정하기\n",
    "a = [1, 2, 3]\n",
    "if 1 in a:\n",
    "    pass\n",
    "else:\n",
    "    print(False)"
   ]
  },
  {
   "cell_type": "markdown",
   "id": "6ea321e1-0314-444c-9690-21266d4fb8b3",
   "metadata": {},
   "source": [
    "#### 10-7. One line writing"
   ]
  },
  {
   "cell_type": "code",
   "execution_count": 57,
   "id": "300c2a53-aa76-47b1-8319-9b2e8c3e8632",
   "metadata": {},
   "outputs": [],
   "source": [
    "a = [1, 2, 3]\n",
    "if 1 in a: pass\n",
    "else: print(False)"
   ]
  },
  {
   "cell_type": "code",
   "execution_count": 58,
   "id": "6c5975d6-9258-49ef-ba71-945ee69c2fcf",
   "metadata": {},
   "outputs": [
    {
     "name": "stdout",
     "output_type": "stream",
     "text": [
      "True\n",
      "False\n"
     ]
    }
   ],
   "source": [
    "# Conditional expression\n",
    "# 조건부 표현식\n",
    "# 변수 = (조건문이 참인 경우의 값) if 조건문  else (조건문이 거짓인 경우의 값)\n",
    "a = [1, 2, 3]\n",
    "print(True if 1 in a else False)\n",
    "print(True if 4 in a else False)"
   ]
  },
  {
   "cell_type": "markdown",
   "id": "ad2d4e71-63b5-4a89-8eaf-5029c6d3ece6",
   "metadata": {},
   "source": [
    "#### 10-8. break"
   ]
  },
  {
   "cell_type": "code",
   "execution_count": null,
   "id": "fc34a8d0-e7ea-487b-835d-5a9a4040648e",
   "metadata": {
    "scrolled": true
   },
   "outputs": [],
   "source": [
    "# while 문을 강제로 빠져나가기\n",
    "coffee = 2\n",
    "while True:\n",
    "    money = int(input(\"please put money: \"))\n",
    "    if money == 300:\n",
    "        print(\"here is your coffee.\")\n",
    "        coffee = coffee -1\n",
    "    elif money > 300:\n",
    "        print(\"here is your coffee and keep it change %d.\" % (money -300))\n",
    "        coffee = coffee -1\n",
    "    else:\n",
    "        print(\"keep your penny\")\n",
    "        print(\"%d coffee left.\" % coffee)\n",
    "    if coffee == 0:\n",
    "        print(\"sold out\")\n",
    "        break"
   ]
  },
  {
   "cell_type": "markdown",
   "id": "1398e8a5-f416-4386-8611-d11cb73fc28c",
   "metadata": {},
   "source": [
    "#### 10-9. endless loop"
   ]
  },
  {
   "cell_type": "code",
   "execution_count": 60,
   "id": "45a293e4-7beb-4b29-89c5-21afc1ca843d",
   "metadata": {},
   "outputs": [],
   "source": [
    "# while True:\n",
    "#     print('press Ctrl + C to exit the system')"
   ]
  },
  {
   "cell_type": "markdown",
   "id": "069d3744-5d0e-4cc4-8213-1d34168ae5c8",
   "metadata": {},
   "source": [
    "#### 10-10. continue"
   ]
  },
  {
   "cell_type": "code",
   "execution_count": 61,
   "id": "5cea6612-074c-4bf7-9c83-b03e8023614a",
   "metadata": {},
   "outputs": [
    {
     "name": "stdout",
     "output_type": "stream",
     "text": [
      "1\n",
      "3\n",
      "5\n",
      "7\n",
      "9\n"
     ]
    }
   ],
   "source": [
    "# while 문의 맨 처음으로 돌아가기\n",
    "a = 0\n",
    "while a < 10:\n",
    "    a = a + 1\n",
    "    if a % 2 == 0:\n",
    "        continue\n",
    "    print(a)"
   ]
  },
  {
   "cell_type": "markdown",
   "id": "57f44156-bffa-4426-988c-8af0a0caace6",
   "metadata": {},
   "source": [
    "#### 10-11. List comprehension"
   ]
  },
  {
   "cell_type": "code",
   "execution_count": 65,
   "id": "b7c8d7d6-de3d-4d17-b9e3-b15c5e07213b",
   "metadata": {},
   "outputs": [],
   "source": [
    "# list 안에 for 문을 포함한다.\n",
    "# for 문을 2개 이상 사용가능하다."
   ]
  },
  {
   "cell_type": "code",
   "execution_count": 66,
   "id": "03de9e59-1e54-411e-9e64-c25ca6a5683e",
   "metadata": {},
   "outputs": [
    {
     "name": "stdout",
     "output_type": "stream",
     "text": [
      "[6, 12]\n"
     ]
    }
   ],
   "source": [
    "a = [1, 2 ,3 ,4]\n",
    "result = [num * 3 for num in a if  num % 2 == 0]\n",
    "print(result)"
   ]
  },
  {
   "cell_type": "code",
   "execution_count": 92,
   "id": "7ed62369-486c-461b-ba29-a4141533a1db",
   "metadata": {
    "scrolled": true
   },
   "outputs": [
    {
     "name": "stdout",
     "output_type": "stream",
     "text": [
      "[2, 4, 6, 8, 10, 12, 14, 16, 18, 3, 6, 9, 12, 15, 18, 21, 24, 27, 4, 8, 12, 16, 20, 24, 28, 32, 36, 5, 10, 15, 20, 25, 30, 35, 40, 45, 6, 12, 18, 24, 30, 36, 42, 48, 54, 7, 14, 21, 28, 35, 42, 49, 56, 63, 8, 16, 24, 32, 40, 48, 56, 64, 72, 9, 18, 27, 36, 45, 54, 63, 72, 81]\n"
     ]
    }
   ],
   "source": [
    "result = [x * y for x in range(2,10)\n",
    "         for y in range(1,10)]\n",
    "print(result)"
   ]
  },
  {
   "cell_type": "code",
   "execution_count": null,
   "id": "6a1b3367-c66d-4607-969c-dbd2c5e43bc7",
   "metadata": {},
   "outputs": [],
   "source": []
  }
 ],
 "metadata": {
  "kernelspec": {
   "display_name": "Python 3 (ipykernel)",
   "language": "python",
   "name": "python3"
  },
  "language_info": {
   "codemirror_mode": {
    "name": "ipython",
    "version": 3
   },
   "file_extension": ".py",
   "mimetype": "text/x-python",
   "name": "python",
   "nbconvert_exporter": "python",
   "pygments_lexer": "ipython3",
   "version": "3.8.10"
  }
 },
 "nbformat": 4,
 "nbformat_minor": 5
}
