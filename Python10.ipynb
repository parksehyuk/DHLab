{
 "cells": [
  {
   "cell_type": "markdown",
   "id": "aa613d34-cb44-4bf9-a577-a1d233bd8fa3",
   "metadata": {},
   "source": [
    "#### 10. Variable"
   ]
  },
  {
   "cell_type": "code",
   "execution_count": 1,
   "id": "0e15cf85-f395-42ec-99c9-bc089f453d95",
   "metadata": {},
   "outputs": [],
   "source": [
    "# 변수 즉 객체란, 자료형의 데이터값이다.\n",
    "# 자료형의 값을 저장하는 공간\n",
    "# 변수를 만들 때는 =(assignment) 기호를 사용한다.\n",
    "# C나 JAVA에서는 변수를 만들 때 자료형의 타입을 직접 지정해야 한다."
   ]
  },
  {
   "cell_type": "markdown",
   "id": "daaffb83-327e-4b85-ba67-bbc4609fb3b9",
   "metadata": {},
   "source": [
    "#### 10-1. Memory"
   ]
  },
  {
   "cell_type": "code",
   "execution_count": 4,
   "id": "a68507d4-6026-42f8-839f-9c01bb862fc1",
   "metadata": {},
   "outputs": [],
   "source": [
    "# [1, 2, 3] 값을 가지는 리스트 데이터(객체)가 자동으로 메모리에 생성된다.\n",
    "# 변수 a는 [1, 2, 3] 리스트가 저장된 메모리의 주소를 가리키게 된다.\n",
    "# 메모리란 컴퓨터가 프로그램에서 사용하는 데이터를 기억하는 공간을 말한다.\n",
    "a = [1, 2, 3]"
   ]
  },
  {
   "cell_type": "code",
   "execution_count": 3,
   "id": "6dbe2bc8-5a6d-450e-a64f-a67b52603ebc",
   "metadata": {},
   "outputs": [
    {
     "name": "stdout",
     "output_type": "stream",
     "text": [
      "139764883634752\n"
     ]
    }
   ],
   "source": [
    "# id\n",
    "# 변수가 가리키고 있는 객체의 메모리 주소 값을 리턴하는 파이썬의 내장 함수\n",
    "a = [1, 2, 3]\n",
    "print(id(a))"
   ]
  },
  {
   "cell_type": "markdown",
   "id": "88d01ec8-2cfc-472e-bbf8-69088cef2c5f",
   "metadata": {},
   "source": [
    "#### 10-2. Copying List"
   ]
  },
  {
   "cell_type": "code",
   "execution_count": 8,
   "id": "2203f3e0-88d0-485f-a37d-f24f11ed51e9",
   "metadata": {},
   "outputs": [
    {
     "name": "stdout",
     "output_type": "stream",
     "text": [
      "139764883634048\n",
      "139764883634048\n",
      "True\n"
     ]
    }
   ],
   "source": [
    "# b는 a와 완전히 동일하다.\n",
    "# [1, 2, 3]이라는 리스트 객체를 참조하는 변수가 추가되어 2개로 늘어났다는 차이만 존재한다.\n",
    "a = [1, 2, 3]\n",
    "b = a\n",
    "print(id(a))\n",
    "print(id(b))\n",
    "\n",
    "# is\n",
    "# 동일한 객체를 가리키고 있는지 판단하는 파이썬 명령어이다.\n",
    "print(a is b)"
   ]
  },
  {
   "cell_type": "code",
   "execution_count": 12,
   "id": "3f8f79a4-100f-433b-9c24-f9692aaf9389",
   "metadata": {},
   "outputs": [
    {
     "name": "stdout",
     "output_type": "stream",
     "text": [
      "[1, 2, 1, 4]\n",
      "True\n"
     ]
    }
   ],
   "source": [
    "# modulation\n",
    "a = [1, 2, 3]\n",
    "b = a\n",
    "a[2] = 1\n",
    "print(a is b)"
   ]
  },
  {
   "cell_type": "markdown",
   "id": "0d31b186-0740-4323-91c3-27619e64d679",
   "metadata": {},
   "source": [
    "#### 10-3 Identical Address"
   ]
  },
  {
   "cell_type": "code",
   "execution_count": 14,
   "id": "57d86c56-73c5-4016-9a6c-17db942ac85f",
   "metadata": {},
   "outputs": [],
   "source": [
    "# b 변수를 생성할 때, a 변수의 값을 가져오면서 a와는 다른 주소를 가리키도록 만드는 방법"
   ]
  },
  {
   "cell_type": "code",
   "execution_count": 8,
   "id": "aa3ade49-d882-46b2-ac90-abfcf4e4f86d",
   "metadata": {},
   "outputs": [
    {
     "name": "stdout",
     "output_type": "stream",
     "text": [
      "False\n",
      "[1, 2, 1]\n",
      "[1, 2, 3]\n"
     ]
    }
   ],
   "source": [
    "# [:]\n",
    "# 리스트 전체를 가리키는 [:]를 사용해 복사한다.\n",
    "a = [1, 2, 3]\n",
    "b =a[:]\n",
    "print(a is b)\n",
    "a[2] = 1\n",
    "print(a)\n",
    "print(b)"
   ]
  },
  {
   "cell_type": "code",
   "execution_count": 6,
   "id": "4cd408ac-0b65-42d5-abc9-86042a733496",
   "metadata": {},
   "outputs": [
    {
     "name": "stdout",
     "output_type": "stream",
     "text": [
      "False\n"
     ]
    }
   ],
   "source": [
    "# copy module\n",
    "from copy import copy\n",
    "a = [1, 2, 3]\n",
    "b = copy(a)\n",
    "print(a is b)"
   ]
  },
  {
   "cell_type": "code",
   "execution_count": 13,
   "id": "94827001-b7eb-4a09-ba64-baa93a395bde",
   "metadata": {},
   "outputs": [
    {
     "name": "stdout",
     "output_type": "stream",
     "text": [
      "False\n"
     ]
    }
   ],
   "source": [
    "# copy function\n",
    "a = [1, 2, 3]\n",
    "b = a.copy()\n",
    "print(a is b)"
   ]
  },
  {
   "cell_type": "markdown",
   "id": "c28b2bf1-ba16-40e5-84f3-3911b38e9bfc",
   "metadata": {},
   "source": [
    "#### 10-4. Several ways to create variables"
   ]
  },
  {
   "cell_type": "code",
   "execution_count": 1,
   "id": "eae6a5bf-630f-41cb-959b-414760a15b94",
   "metadata": {},
   "outputs": [],
   "source": [
    "# tuple\n",
    "a, b = ('python', 'life')\n",
    "(a, b) = 'python', 'life'"
   ]
  },
  {
   "cell_type": "code",
   "execution_count": 2,
   "id": "34544faf-8006-4039-9a16-fa130432f0f3",
   "metadata": {},
   "outputs": [],
   "source": [
    "# list\n",
    "[a, b] = ['python', 'life']"
   ]
  },
  {
   "cell_type": "code",
   "execution_count": 3,
   "id": "7bdcafd1-c18f-479c-b0ef-9dbb3a2c00a4",
   "metadata": {},
   "outputs": [],
   "source": [
    "# 여러 변수에 같은 값을 대입하기\n",
    "a = b = 'python'"
   ]
  },
  {
   "cell_type": "code",
   "execution_count": 6,
   "id": "76e5fbe1-970e-41c0-abec-18fdf31732b8",
   "metadata": {},
   "outputs": [
    {
     "name": "stdout",
     "output_type": "stream",
     "text": [
      "2\n",
      "1\n"
     ]
    }
   ],
   "source": [
    "# 두 변수의 값을 바꾸기\n",
    "a = 1\n",
    "b = 2\n",
    "a, b = b, a\n",
    "print(a)\n",
    "print(b)"
   ]
  },
  {
   "cell_type": "code",
   "execution_count": null,
   "id": "7f2fcf4d-8a5c-4200-9e9f-00adcf62816c",
   "metadata": {},
   "outputs": [],
   "source": []
  }
 ],
 "metadata": {
  "kernelspec": {
   "display_name": "Python 3 (ipykernel)",
   "language": "python",
   "name": "python3"
  },
  "language_info": {
   "codemirror_mode": {
    "name": "ipython",
    "version": 3
   },
   "file_extension": ".py",
   "mimetype": "text/x-python",
   "name": "python",
   "nbconvert_exporter": "python",
   "pygments_lexer": "ipython3",
   "version": "3.8.10"
  }
 },
 "nbformat": 4,
 "nbformat_minor": 5
}
