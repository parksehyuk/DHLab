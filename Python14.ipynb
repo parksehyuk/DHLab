{
 "cells": [
  {
   "cell_type": "markdown",
   "id": "fbc6088a-80e7-448e-be49-99f4d84383a8",
   "metadata": {},
   "source": [
    "#### 14. Module"
   ]
  },
  {
   "cell_type": "code",
   "execution_count": 7,
   "id": "dbfebde9-7e64-4435-b197-a3ad13cf3053",
   "metadata": {},
   "outputs": [],
   "source": [
    "# 함수나 변수 또는 클래스를 모아 놓은 파이썬 파일이다."
   ]
  },
  {
   "cell_type": "code",
   "execution_count": 18,
   "id": "e4b8894d-3202-4e60-9657-68d199f76447",
   "metadata": {},
   "outputs": [],
   "source": [
    "import sys\n",
    "sys.path.append('/home/loveofmylife/Tutorial_Python/py')"
   ]
  },
  {
   "cell_type": "code",
   "execution_count": 8,
   "id": "a8bb4100-bd80-49f9-8ce5-f37ba111f0ec",
   "metadata": {},
   "outputs": [],
   "source": [
    "# mod1.py\n",
    "def add(a, b):\n",
    "    return a + b\n",
    "def sub(a, b): \n",
    "    return a-b"
   ]
  },
  {
   "cell_type": "code",
   "execution_count": 2,
   "id": "923b1d05-3311-42c0-83e8-e04d345b13b6",
   "metadata": {},
   "outputs": [
    {
     "name": "stdout",
     "output_type": "stream",
     "text": [
      "3\n",
      "-1\n"
     ]
    }
   ],
   "source": [
    "# mod2.py\n",
    "def add(a, b):\n",
    "    return a + b\n",
    "def sub(a, b):\n",
    "    return a - b\n",
    "print(add(1, 2))\n",
    "print(sub(3, 4))"
   ]
  },
  {
   "cell_type": "code",
   "execution_count": 3,
   "id": "71f815e9-f036-48d5-9252-c12b33457b06",
   "metadata": {},
   "outputs": [
    {
     "name": "stdout",
     "output_type": "stream",
     "text": [
      "3\n",
      "-1\n"
     ]
    }
   ],
   "source": [
    "# mod3.py\n",
    "PI = 3.141592\n",
    "\n",
    "class math:\n",
    "    def solve(self, r):\n",
    "        return PI * (r ** 2)\n",
    "\n",
    "def add(a, b):\n",
    "    return a + b\n",
    "def sub(a, b):\n",
    "    return a - b\n",
    "\n",
    "if __name__ == \"__main__\":\n",
    "    print(add(1, 2))\n",
    "    print(sub(3, 4))"
   ]
  },
  {
   "cell_type": "markdown",
   "id": "1212058c-892b-492c-84dd-21ff1e563c92",
   "metadata": {},
   "source": [
    "#### 14-1. Import"
   ]
  },
  {
   "cell_type": "code",
   "execution_count": 9,
   "id": "455d2617-656e-442f-8d03-829606e3a5cd",
   "metadata": {},
   "outputs": [
    {
     "name": "stdout",
     "output_type": "stream",
     "text": [
      "3\n",
      "-1\n"
     ]
    }
   ],
   "source": [
    "# 이미 만들어 놓은 파이썬 모듈을 사용할 수 있게 해 주는 명령어이다.\n",
    "# 현재 디렉터리에 있는 파일이나 파이썬 라이브러리가 저장된 디렉터리에 있는 모듈만 불러올 수 있다.\n",
    "import mod1\n",
    "print(mod1.add(1, 2))\n",
    "print(mod1.sub(3, 4))"
   ]
  },
  {
   "cell_type": "code",
   "execution_count": 10,
   "id": "5a315fae-ba5e-4399-ba3e-80c2cde220a3",
   "metadata": {},
   "outputs": [],
   "source": [
    "# 함수를 직접 import해 모듈 이름을 붙이지 않고 바로 해당 모듈의 함수 사용하기\n",
    "from mod1 import add\n",
    "from mod1 import add, sub"
   ]
  },
  {
   "cell_type": "code",
   "execution_count": 11,
   "id": "960f98d9-08e3-4a41-beae-6f9c155d02d3",
   "metadata": {},
   "outputs": [],
   "source": [
    "# mod1 모듈의 모든 함수를 불러와 사용하기\n",
    "from mod1 import *"
   ]
  },
  {
   "cell_type": "markdown",
   "id": "20f6592a-69b6-46d6-9a4d-7a8ab2a4bdd7",
   "metadata": {},
   "source": [
    "#### 14-2. __name__ variable"
   ]
  },
  {
   "cell_type": "code",
   "execution_count": 1,
   "id": "ecb0a88b-c6e5-4870-a23b-6b1432fa55e9",
   "metadata": {},
   "outputs": [
    {
     "name": "stdout",
     "output_type": "stream",
     "text": [
      "3\n",
      "-1\n"
     ]
    }
   ],
   "source": [
    "# module의 함수만 사용하려 했지만, 파일이 실행되어 결괏값을 출력한다.\n",
    "import mod2"
   ]
  },
  {
   "cell_type": "code",
   "execution_count": 4,
   "id": "34ffd599-1a55-44d9-91cf-b217bdc52ff6",
   "metadata": {},
   "outputs": [
    {
     "name": "stdout",
     "output_type": "stream",
     "text": [
      "mod3\n"
     ]
    }
   ],
   "source": [
    "# __name__ variable\n",
    "# cmd에서 직접 mod1.py 파일을 실행할 경우, mod1.py의 __name__ 변수에는 __main__ 값이 저장된다.\n",
    "# 다른 파이썬 모듈에서 mod1을 import할 경우에는 mod1.py의 __name__ 변수에 mod1.py의 모듈 이름인 mod1이 저장된다.\n",
    "import mod3\n",
    "print(mod3.__name__)"
   ]
  },
  {
   "cell_type": "code",
   "execution_count": 2,
   "id": "c0afdcbe-709b-400a-b056-9119842cc491",
   "metadata": {},
   "outputs": [],
   "source": [
    "# if __name__ == \"__main__\"\n",
    "# cmd에서 직접 파일을 실행했을 때는 조건문이 참이 되어 결과값이 출력된다.\n",
    "# 대화형 인터프리터나 다른 파일에서 이 모듈을 불러 사용할 때는 조건문이 거짓이 되어 결과값이 출력되지 않는다.\n",
    "import mod3"
   ]
  },
  {
   "cell_type": "markdown",
   "id": "93bd9a82-b906-4934-b591-40707983bfca",
   "metadata": {},
   "source": [
    "#### 14-3. Containing variable, class"
   ]
  },
  {
   "cell_type": "code",
   "execution_count": 5,
   "id": "cac033cc-9332-4d4d-9a28-adcfa2aed664",
   "metadata": {},
   "outputs": [
    {
     "name": "stdout",
     "output_type": "stream",
     "text": [
      "3.141592\n",
      "7.5415920000000005\n"
     ]
    }
   ],
   "source": [
    "# variable\n",
    "import mod3\n",
    "print(mod3.PI)\n",
    "print(mod3.add(mod3.PI, 4.4))"
   ]
  },
  {
   "cell_type": "code",
   "execution_count": 4,
   "id": "5cfabe1c-f89a-4cf4-a978-5354de8cfb3e",
   "metadata": {
    "scrolled": true
   },
   "outputs": [
    {
     "name": "stdout",
     "output_type": "stream",
     "text": [
      "12.566368\n"
     ]
    }
   ],
   "source": [
    "# class\n",
    "a = mod3.math()\n",
    "print(a.solve(2))"
   ]
  },
  {
   "cell_type": "markdown",
   "id": "5e2462c7-1e0a-4f71-a51e-26b055819eaa",
   "metadata": {},
   "source": [
    "#### 14-4. load a module from another directory"
   ]
  },
  {
   "cell_type": "code",
   "execution_count": 12,
   "id": "3990a94f-7582-48aa-a6e2-7be5583eac2d",
   "metadata": {
    "scrolled": true
   },
   "outputs": [
    {
     "name": "stdout",
     "output_type": "stream",
     "text": [
      "['/home/loveofmylife/Tutorial_Python', '/usr/lib/python38.zip', '/usr/lib/python3.8', '/usr/lib/python3.8/lib-dynload', '', '/usr/local/lib/python3.8/dist-packages', '/usr/local/lib/python3.8/dist-packages/functorch-1.13.0a0+936e930-py3.8.egg', '/usr/lib/python3/dist-packages', '/home/loveofmylife/Tutorial_Python/py', '/home/loveofmylife/Tutorial_Python/py', '/home/loveofmylife/Tutorial_Python/py']\n"
     ]
    }
   ],
   "source": [
    "# sys.path.append\n",
    "import sys\n",
    "print(sys.path)\n",
    "sys.path.append('/home/loveofmylife/Tutorial_Python/py')"
   ]
  },
  {
   "cell_type": "code",
   "execution_count": 1,
   "id": "58167465-92ec-405d-9edf-54a97b11517a",
   "metadata": {},
   "outputs": [
    {
     "name": "stdout",
     "output_type": "stream",
     "text": [
      "/home/loveofmylife/Tutorial_Python\n",
      "['/home/loveofmylife/Tutorial_Python', '/usr/lib/python38.zip', '/usr/lib/python3.8', '/usr/lib/python3.8/lib-dynload', '', '/usr/local/lib/python3.8/dist-packages', '/usr/local/lib/python3.8/dist-packages/functorch-1.13.0a0+936e930-py3.8.egg', '/usr/lib/python3/dist-packages', '/home/loveofmylife']\n"
     ]
    }
   ],
   "source": [
    "# os\n",
    "# os.getcwd()를 사용하여 현재 작업 디렉터리의 경로를 찾아 sys.path에 추가하기\n",
    "import sys\n",
    "import os\n",
    "print(os.getcwd())\n",
    "sys.path.append(os.path.abspath(os.path.join(os.getcwd(), '..')))\n",
    "print(sys.path)"
   ]
  },
  {
   "cell_type": "code",
   "execution_count": 16,
   "id": "e08747a2-6205-4f80-896e-1b78f5c39f8e",
   "metadata": {},
   "outputs": [],
   "source": [
    "# cmd에서 PYTHONPATH 환경 변수 사용하기\n",
    "# 맥이나 유닉스 환경에서는 set 대신 export 명령을 사용해야 한다.\n",
    "# C:\\python>set PYTHONPATH=C:\\python\\py"
   ]
  }
 ],
 "metadata": {
  "kernelspec": {
   "display_name": "Python 3 (ipykernel)",
   "language": "python",
   "name": "python3"
  },
  "language_info": {
   "codemirror_mode": {
    "name": "ipython",
    "version": 3
   },
   "file_extension": ".py",
   "mimetype": "text/x-python",
   "name": "python",
   "nbconvert_exporter": "python",
   "pygments_lexer": "ipython3",
   "version": "3.8.10"
  }
 },
 "nbformat": 4,
 "nbformat_minor": 5
}
