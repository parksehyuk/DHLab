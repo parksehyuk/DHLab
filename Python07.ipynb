{
 "cells": [
  {
   "cell_type": "markdown",
   "id": "f76a565d-f59e-4c6e-9270-10c208b60ca7",
   "metadata": {},
   "source": [
    "#### 7. Date Type VI"
   ]
  },
  {
   "cell_type": "markdown",
   "id": "30dd0736-e906-4cc6-a104-7147b620afa2",
   "metadata": {},
   "source": [
    "#### 7-1. Set Type"
   ]
  },
  {
   "cell_type": "code",
   "execution_count": 4,
   "id": "85a8e4fb-1cc6-4e3d-ab95-c3440d680388",
   "metadata": {},
   "outputs": [
    {
     "name": "stdout",
     "output_type": "stream",
     "text": [
      "{'y', 't', 'o', 'p', 'h', 'n'}\n"
     ]
    }
   ],
   "source": [
    "# 집합 자료형\n",
    "# 중복을 허용하지 않는다.\n",
    "# 중복을 허용하지 않기 때문에 데이터의 중복을 제거하기 위한 필터로 사용된다.\n",
    "# 순서가 없기(Unordered) 때문에 인덱싱을 통해 요소값을 얻을 수 없다.\n",
    "\n",
    "s1 = set([1, 2, 3])\n",
    "s2 = set('python')\n",
    "print(s2)"
   ]
  },
  {
   "cell_type": "markdown",
   "id": "e3835200-db63-420b-aefa-1dd048ce3c53",
   "metadata": {},
   "source": [
    "#### 7-2. Empty set"
   ]
  },
  {
   "cell_type": "code",
   "execution_count": 7,
   "id": "38de7216-735e-4101-b024-37f6fa199a73",
   "metadata": {},
   "outputs": [
    {
     "name": "stdout",
     "output_type": "stream",
     "text": [
      "set()\n"
     ]
    }
   ],
   "source": [
    "# 공집합\n",
    "s = set()\n",
    "print(s)"
   ]
  },
  {
   "cell_type": "markdown",
   "id": "28ef4101-d063-4608-9f4c-2de4773fc097",
   "metadata": {},
   "source": [
    "#### 7-3. Indexing by Conversion"
   ]
  },
  {
   "cell_type": "code",
   "execution_count": 18,
   "id": "8902b7b0-a492-40d9-a29c-c7c7ed5ab081",
   "metadata": {},
   "outputs": [
    {
     "name": "stdout",
     "output_type": "stream",
     "text": [
      "[1, 2, 3]\n",
      "1\n",
      "(1, 2, 3)\n",
      "1\n"
     ]
    }
   ],
   "source": [
    "s1 = set([1, 2, 3])\n",
    "l1 = list(s1)\n",
    "print(l1)\n",
    "print(l1[0])\n",
    "\n",
    "s1 = set([1, 2, 3])\n",
    "t1 = tuple(s1)\n",
    "print(t1)\n",
    "print(t1[0])"
   ]
  },
  {
   "cell_type": "markdown",
   "id": "11ce138f-259c-4749-a4da-6faabaf16136",
   "metadata": {},
   "source": [
    "#### 7-4. .Intersection"
   ]
  },
  {
   "cell_type": "code",
   "execution_count": 6,
   "id": "7d099608-f584-496b-a108-292b776e03a8",
   "metadata": {},
   "outputs": [
    {
     "name": "stdout",
     "output_type": "stream",
     "text": [
      "{4, 5, 6}\n",
      "{4, 5, 6}\n"
     ]
    }
   ],
   "source": [
    "# 교집합\n",
    "\n",
    "# &\n",
    "s1 = set([1, 2, 3, 4, 5, 6])\n",
    "s2 = set([4, 5, 6, 7, 8, 9])\n",
    "print(s1 & s2)\n",
    "\n",
    "# .intersection\n",
    "print(s1.intersection(s2))"
   ]
  },
  {
   "cell_type": "markdown",
   "id": "53d4e72e-eefa-4767-8d90-84249dfa16df",
   "metadata": {},
   "source": [
    "#### 7-5. Union"
   ]
  },
  {
   "cell_type": "code",
   "execution_count": 7,
   "id": "6c9dd386-5322-4729-8ab4-a20d183b87b6",
   "metadata": {},
   "outputs": [
    {
     "name": "stdout",
     "output_type": "stream",
     "text": [
      "{1, 2, 3, 4, 5, 6, 7, 8, 9}\n",
      "{1, 2, 3, 4, 5, 6, 7, 8, 9}\n"
     ]
    }
   ],
   "source": [
    "# 합집합\n",
    "\n",
    "# |\n",
    "s1 = set([1, 2, 3, 4, 5, 6])\n",
    "s2 = set([4, 5, 6, 7, 8, 9])\n",
    "print(s1 | s2)\n",
    "\n",
    "# .union\n",
    "print(s1.union(s2))"
   ]
  },
  {
   "cell_type": "markdown",
   "id": "b64d825e-3d7a-4ae0-9ae2-ef75efe82dac",
   "metadata": {},
   "source": [
    "#### 7-6. Difference"
   ]
  },
  {
   "cell_type": "code",
   "execution_count": 8,
   "id": "b98b1480-b71d-4665-8768-5505ac353d4d",
   "metadata": {},
   "outputs": [
    {
     "name": "stdout",
     "output_type": "stream",
     "text": [
      "{1, 2, 3}\n",
      "{1, 2, 3}\n"
     ]
    }
   ],
   "source": [
    "# 차집합\n",
    "\n",
    "# -\n",
    "s1 = set([1, 2, 3, 4, 5, 6])\n",
    "s2 = set([4, 5, 6, 7, 8, 9])\n",
    "print(s1 - s2)\n",
    "\n",
    "# difference\n",
    "print(s1.difference(s2))"
   ]
  },
  {
   "cell_type": "markdown",
   "id": "11d0092b-804a-48e9-b9e7-ea8143c12bf7",
   "metadata": {},
   "source": [
    "#### 7-7. Set Function"
   ]
  },
  {
   "cell_type": "code",
   "execution_count": 35,
   "id": "68d54038-4f33-4f99-a7c9-165478e1d157",
   "metadata": {},
   "outputs": [
    {
     "name": "stdout",
     "output_type": "stream",
     "text": [
      "{1, 2, 3, 4}\n"
     ]
    }
   ],
   "source": [
    "# add\n",
    "# 값 1개 추가하기\n",
    "s1 = set([1, 2, 3])\n",
    "s1.add(4)\n",
    "print(s1)"
   ]
  },
  {
   "cell_type": "code",
   "execution_count": 38,
   "id": "b0f0d095-a46a-4af9-9e57-ac476b244233",
   "metadata": {},
   "outputs": [
    {
     "name": "stdout",
     "output_type": "stream",
     "text": [
      "{1, 2, 3, 4, 5, 6}\n"
     ]
    }
   ],
   "source": [
    "# update\n",
    "# 값 여러개 추가하기\n",
    "s1 = set([1, 2, 3])\n",
    "s1.update([4, 5, 6])\n",
    "print(s1)"
   ]
  },
  {
   "cell_type": "code",
   "execution_count": 40,
   "id": "a29dd9c0-922b-42a4-b913-61a794a0cd70",
   "metadata": {},
   "outputs": [
    {
     "name": "stdout",
     "output_type": "stream",
     "text": [
      "{1, 2}\n"
     ]
    }
   ],
   "source": [
    "# remove\n",
    "# 특정 값 제거하기\n",
    "s1 = set([1, 2, 3])\n",
    "s1.remove(3)\n",
    "print(s1)"
   ]
  }
 ],
 "metadata": {
  "kernelspec": {
   "display_name": "Python 3 (ipykernel)",
   "language": "python",
   "name": "python3"
  },
  "language_info": {
   "codemirror_mode": {
    "name": "ipython",
    "version": 3
   },
   "file_extension": ".py",
   "mimetype": "text/x-python",
   "name": "python",
   "nbconvert_exporter": "python",
   "pygments_lexer": "ipython3",
   "version": "3.8.10"
  }
 },
 "nbformat": 4,
 "nbformat_minor": 5
}
