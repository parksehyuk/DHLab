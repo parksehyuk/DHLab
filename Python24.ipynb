{
 "cells": [
  {
   "cell_type": "markdown",
   "id": "6a85936f-6135-4680-ac72-4d8460486f0e",
   "metadata": {},
   "source": [
    "#### 24. Type annotation"
   ]
  },
  {
   "cell_type": "code",
   "execution_count": 9,
   "id": "efb169ea-217e-4070-aedf-e9aaec2770e0",
   "metadata": {},
   "outputs": [],
   "source": [
    "# 변수와 함수에 타입을 지정할 수 있다."
   ]
  },
  {
   "cell_type": "code",
   "execution_count": 13,
   "id": "9ffafc13-b365-4479-88ad-25533e289416",
   "metadata": {},
   "outputs": [],
   "source": [
    "# 정수 : int, 유리수 : float, 문자열 : str, 리스트 : list, 튜플 : tuple, 딕셔너리 : dict, 집합 : set, 불 : bool"
   ]
  },
  {
   "cell_type": "code",
   "execution_count": 3,
   "id": "ce7f6465-7bb9-4c5f-871a-c69e45a0e384",
   "metadata": {},
   "outputs": [],
   "source": [
    "# dynamic programming language\n",
    "# 프로그램 실행 중 변수의 타입을 동적으로 바꿀 수 있는 파이썬을 동적 프로그래밍 언어라고 한다."
   ]
  },
  {
   "cell_type": "code",
   "execution_count": 4,
   "id": "eba0398f-fae0-4ae4-b2ab-41ac44d6c0bf",
   "metadata": {},
   "outputs": [],
   "source": [
    "# static programming language (정적)\n",
    "# 자바 등 한 번 변수에 타입을 지정하면 지정한 타입 외에 다른 타입은 사용할 수 없는 프로그래밍 언어."
   ]
  },
  {
   "cell_type": "code",
   "execution_count": 7,
   "id": "a359bd7b-366a-4f64-a250-e8581e6b2203",
   "metadata": {},
   "outputs": [],
   "source": [
    "# 변수 이름 바로 뒤에 : int를 사용해 num 변수가 int형이라는 것을 명시한다.\n",
    "num : int = 1"
   ]
  },
  {
   "cell_type": "code",
   "execution_count": 12,
   "id": "cc671f4f-ef6f-439d-ae02-b409faa6c503",
   "metadata": {},
   "outputs": [
    {
     "name": "stdout",
     "output_type": "stream",
     "text": [
      "3\n"
     ]
    }
   ],
   "source": [
    "# 함수의 매개변수에도 같은 규칙을 적용하여 매개변수의 타입을 명시할 수 있다.\n",
    "# 그리고 -> int처럼 사용해 함수의 리턴값도 타입을 명시할 수 있다.\n",
    "def add(a: int, b: int) -> int:\n",
    "    return a + b\n",
    "result = add(1, 2)\n",
    "print(result)"
   ]
  },
  {
   "cell_type": "markdown",
   "id": "cd4b6fbc-4a7b-43bc-958a-3073d336367e",
   "metadata": {},
   "source": [
    "#### 24-1. mypy"
   ]
  },
  {
   "cell_type": "code",
   "execution_count": 22,
   "id": "7de59c50-81d1-4230-ad9a-e38e17b3369e",
   "metadata": {},
   "outputs": [
    {
     "name": "stdout",
     "output_type": "stream",
     "text": [
      "6.140000000000001\n"
     ]
    }
   ],
   "source": [
    "# 파이썬은 타입 어노테이션으로 매개변수의 타입을 명시하더라도 다른 타입의 인수를 입력할 수 있다.\n",
    "# 파이썬 타입 어노테이션은 체크가 아닌 힌트이기 때문이다.\n",
    "# sample.py\n",
    "def add(a: int, b: int) -> int: \n",
    "    return a + b\n",
    "result = add(3, 3.14)\n",
    "print(result)"
   ]
  },
  {
   "cell_type": "code",
   "execution_count": 21,
   "id": "02dc157e-7850-46c9-aa36-2c332d5a21da",
   "metadata": {},
   "outputs": [
    {
     "name": "stdout",
     "output_type": "stream",
     "text": [
      "py/sample.py:3: \u001b[1m\u001b[31merror:\u001b[m Argument 2 to \u001b[m\u001b[1m\"add\"\u001b[m has incompatible type \u001b[m\u001b[1m\"float\"\u001b[m; expected \u001b[m\u001b[1m\"int\"\u001b[m  \u001b[m\u001b[33m[arg-type]\u001b[m\n",
      "\u001b[1m\u001b[31mFound 1 error in 1 file (checked 1 source file)\u001b[m\n"
     ]
    }
   ],
   "source": [
    "# mypy type error\n",
    "!mypy /home/loveofmylife/Tutorial_Python/py/sample.py"
   ]
  },
  {
   "cell_type": "code",
   "execution_count": null,
   "id": "f30171ca-d60c-4354-959c-3c438014c0f1",
   "metadata": {},
   "outputs": [],
   "source": []
  }
 ],
 "metadata": {
  "kernelspec": {
   "display_name": "Python 3 (ipykernel)",
   "language": "python",
   "name": "python3"
  },
  "language_info": {
   "codemirror_mode": {
    "name": "ipython",
    "version": 3
   },
   "file_extension": ".py",
   "mimetype": "text/x-python",
   "name": "python",
   "nbconvert_exporter": "python",
   "pygments_lexer": "ipython3",
   "version": "3.8.10"
  }
 },
 "nbformat": 4,
 "nbformat_minor": 5
}
