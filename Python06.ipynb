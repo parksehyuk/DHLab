{
 "cells": [
  {
   "cell_type": "markdown",
   "id": "7c3748b4-c050-415f-a06d-fb0a794084b6",
   "metadata": {},
   "source": [
    "#### 6. Date Type V"
   ]
  },
  {
   "cell_type": "markdown",
   "id": "57ee0cd5-4e51-4d63-8ccc-2c69aa020538",
   "metadata": {},
   "source": [
    "#### 6-1. Dictionary Type"
   ]
  },
  {
   "cell_type": "code",
   "execution_count": 4,
   "id": "1656bebe-4c73-4c57-b4c0-086530e93625",
   "metadata": {},
   "outputs": [],
   "source": [
    "# 연관 배열\n",
    "# associative array\n",
    "# Unsequential\n",
    "# Hash\n",
    "\n",
    "# 정보의 대응 관계를 나타낼 수 있는 사전이다.\n",
    "# key와 value를 한 쌍으로 가진다.\n",
    "# 리스트나 튜플처럼 순차적으로 해당 요솟값을 구하지 않고 Key를 통해 Value를 얻는다.\n",
    "# 단어의 뜻을 찾기 위해 사전의 내용을 순차적으로 모두 검색하는 것이 아니라 단어가 있는 곳만 펼쳐 보는 것이다.\n",
    "# 순서가 없는 자료형이므로 인덱싱을 지원하지 않는다."
   ]
  },
  {
   "cell_type": "markdown",
   "id": "5b505b93-4998-4e1f-92f3-bbc1ec15d3e2",
   "metadata": {},
   "source": [
    "#### 6-2. Basic Type"
   ]
  },
  {
   "cell_type": "code",
   "execution_count": 188,
   "id": "db243637-8ca3-4ec2-b427-d79c983bbb92",
   "metadata": {},
   "outputs": [
    {
     "name": "stdout",
     "output_type": "stream",
     "text": [
      "pey\n",
      "010-9999-1234\n",
      "1118\n"
     ]
    }
   ],
   "source": [
    "# dic = {key1: value1, key2: value2, ...}\n",
    "dic = {'name': 'pey', 'phone': '010-9999-1234', 'birth': '1118'}\n",
    "print(dic['name'])\n",
    "print(dic['phone'])\n",
    "print(dic['birth'])"
   ]
  },
  {
   "cell_type": "code",
   "execution_count": 189,
   "id": "289a1e7d-0869-4657-952b-22d7d8a6bdd9",
   "metadata": {},
   "outputs": [
    {
     "name": "stdout",
     "output_type": "stream",
     "text": [
      "[1, 2, 3]\n",
      "[1, 2, 3]\n",
      "[3, 2, 1]\n",
      "[3, 2, 1]\n"
     ]
    }
   ],
   "source": [
    "# value 값에 string, list 넣기\n",
    "dic = {'a': [1, 2, 3]}\n",
    "print(dic['a'])\n",
    "a = {1: [1, 2, 3]}\n",
    "print(a[1])\n",
    "dic = {'b': [3, 2, 1]}\n",
    "print(dic['b'])\n",
    "b = {2: [3, 2, 1]}\n",
    "print(b[2])"
   ]
  },
  {
   "cell_type": "markdown",
   "id": "aba56b09-67d3-4e4b-8b34-cdc0c759f04c",
   "metadata": {},
   "source": [
    "#### 6-3. Modify Dictionary Pairs"
   ]
  },
  {
   "cell_type": "code",
   "execution_count": 190,
   "id": "2d3d59a1-a5cc-4694-8b37-9efea0cc5bb0",
   "metadata": {},
   "outputs": [
    {
     "name": "stdout",
     "output_type": "stream",
     "text": [
      "{1: 'a', 2: 'b'}\n",
      "{1: 'a', 2: 'b', 'name': 'parksehyuk'}\n",
      "{1: 'a', 2: 'b', 'name': 'parksehyuk', 3: [1, 2, 3]}\n"
     ]
    }
   ],
   "source": [
    "# addition\n",
    "a = {1: 'a'}\n",
    "a[2] = 'b'\n",
    "print(a)\n",
    "a['name'] = 'parksehyuk'\n",
    "print(a)\n",
    "a[3] = [1, 2, 3]\n",
    "print(a)"
   ]
  },
  {
   "cell_type": "code",
   "execution_count": 191,
   "id": "35b1e526-db79-43a5-b552-4addfa7d5aa1",
   "metadata": {},
   "outputs": [
    {
     "name": "stdout",
     "output_type": "stream",
     "text": [
      "{2: 'b', 'name': 'parksehyuk', 3: [1, 2, 3]}\n"
     ]
    }
   ],
   "source": [
    "# del\n",
    "del a[1]\n",
    "print(a)"
   ]
  },
  {
   "cell_type": "markdown",
   "id": "20a88b5b-0cee-4471-baef-0ece25674235",
   "metadata": {},
   "source": [
    "#### 6-4. How to use Dictionary"
   ]
  },
  {
   "cell_type": "code",
   "execution_count": 192,
   "id": "5e7be759-6cfb-44b8-bc2c-dea39e8b0b92",
   "metadata": {},
   "outputs": [
    {
     "name": "stdout",
     "output_type": "stream",
     "text": [
      "5\n",
      "1\n"
     ]
    }
   ],
   "source": [
    "# 개별 특징 표현\n",
    "dic = {'김연아': '피겨스케이팅', '류현진': '야구', '손흥민': '축구'}\n",
    "grade = {'penny': 5, 'david': 1}\n",
    "print(grade['penny'])\n",
    "print(grade['david'])"
   ]
  },
  {
   "cell_type": "markdown",
   "id": "dc148293-f073-4c4a-9484-13dd6ae76654",
   "metadata": {},
   "source": [
    "#### 6-5. Caution"
   ]
  },
  {
   "cell_type": "code",
   "execution_count": 193,
   "id": "8fda5023-8a2f-41f5-adb9-a218300a3171",
   "metadata": {},
   "outputs": [
    {
     "name": "stdout",
     "output_type": "stream",
     "text": [
      "a\n",
      "b\n"
     ]
    }
   ],
   "source": [
    "# dic[1]은 두번째 요소를 나타내는 것이 아니라 Key에 해당하는 값 1을 나타낸다.\n",
    "# dictionary는 Indexing을 적용할 수 없다.\n",
    "dic = {1: 'a', 2: 'b', 3: 'c'}\n",
    "print(dic[1])\n",
    "print(dic[2])"
   ]
  },
  {
   "cell_type": "code",
   "execution_count": 194,
   "id": "cc969021-d95c-4f93-a46b-5b32c1ef20eb",
   "metadata": {},
   "outputs": [
    {
     "name": "stdout",
     "output_type": "stream",
     "text": [
      "{1: 'c'}\n",
      "{(1, 2): 'a', 1: 'b'}\n",
      "{1: [1, 2], 2: {1: 2}}\n",
      "{1: 2}\n",
      "2\n"
     ]
    }
   ],
   "source": [
    "# Key는 고유값이므로 중복되게 설정해 두면 마지막 하나를 제외한 나머지는 무시된다.\n",
    "# Key에 튜플(immutable)은 사용가능하지만, 리스트(mutable)는 사용 불가능하다.\n",
    "# Key의 가변성(mutability)의 따라 사용 유무가 결정된다.\n",
    "# Value는 mutability에 관계없이 모든 값을 사용가능하다.\n",
    "a = {1: 'a', 1: 'b', 1: 'c'}\n",
    "print(a)\n",
    "b = {(1, 2): 'a', 1: 'b'}\n",
    "print(b)\n",
    "c = {1: [1, 2], 2: {1: 2}}\n",
    "print(c)\n",
    "print(c[2])\n",
    "print(c[2][1])"
   ]
  },
  {
   "cell_type": "markdown",
   "id": "df3e6112-23d0-45ab-8dd8-6d034536e698",
   "metadata": {},
   "source": [
    "#### 6-6. Dictionary Functions"
   ]
  },
  {
   "cell_type": "code",
   "execution_count": 195,
   "id": "0f173b9a-ad46-4d18-b83a-366102edfafa",
   "metadata": {},
   "outputs": [
    {
     "name": "stdout",
     "output_type": "stream",
     "text": [
      "dict_keys(['name', 'age', 'birth'])\n",
      "name\n",
      "age\n",
      "birth\n",
      "['name', 'age', 'birth']\n"
     ]
    }
   ],
   "source": [
    "# dict_keys\n",
    "# 객체는 리스트로 변환하지 않더라도 기본적인 반복문에서 사용할 수 있다.\n",
    "# 객체는 리스트 고유의 append, insert, pop, remove, sort 함수는 수행할 수 없다.\n",
    "a = {'name': 'parksehyuk', 'age': 25, 'birth': 20000611}\n",
    "print(a.keys())\n",
    "for k in a.keys():\n",
    "    print(k)\n",
    "\n",
    "# list(a.keys())\n",
    "# dict_keys 객체를 리스트로 변환하기\n",
    "a = {'name': 'parksehyuk', 'age': 25, 'birth': 20000611}\n",
    "print(list(a.keys()))"
   ]
  },
  {
   "cell_type": "code",
   "execution_count": 196,
   "id": "2830278b-f28f-4b9c-abe5-650d01216f3c",
   "metadata": {},
   "outputs": [
    {
     "name": "stdout",
     "output_type": "stream",
     "text": [
      "dict_values(['parksehyuk', 25, 20000611])\n"
     ]
    }
   ],
   "source": [
    "# dict_values\n",
    "a = {'name': 'parksehyuk', 'age': 25, 'birth': 20000611}\n",
    "print(a.values())"
   ]
  },
  {
   "cell_type": "code",
   "execution_count": 197,
   "id": "3cab091b-59a1-4a39-9c42-266d5df1f599",
   "metadata": {},
   "outputs": [
    {
     "name": "stdout",
     "output_type": "stream",
     "text": [
      "dict_items([('name', 'parksehyuk'), ('age', 25), ('birth', 20000611)])\n"
     ]
    }
   ],
   "source": [
    "# dict_items\n",
    "# key, value 쌍 얻기\n",
    "a = {'name': 'parksehyuk', 'age': 25, 'birth': 20000611}\n",
    "print(a.items())"
   ]
  },
  {
   "cell_type": "code",
   "execution_count": 198,
   "id": "c35401a6-d1b9-45a0-8612-39c9f1eeb0cf",
   "metadata": {},
   "outputs": [
    {
     "name": "stdout",
     "output_type": "stream",
     "text": [
      "{}\n"
     ]
    }
   ],
   "source": [
    "# clear\n",
    "# 딕셔너리 안의 모든 요소를 삭제한다.\n",
    "a = {'name': 'parksehyuk', 'age': 25, 'birth': 20000611}\n",
    "a.clear()\n",
    "print(a)"
   ]
  },
  {
   "cell_type": "code",
   "execution_count": 199,
   "id": "7c733e45-c7dc-430a-81ed-8ad829c682c8",
   "metadata": {},
   "outputs": [
    {
     "name": "stdout",
     "output_type": "stream",
     "text": [
      "parksehyuk\n",
      "None\n"
     ]
    }
   ],
   "source": [
    "# get\n",
    "# a.get()은 a[]를 사용했을 때와 동일한 결괏값을 리턴한다.\n",
    "# a['nokey']는 오류를 발생시키고, a.get('nokey')는 None을 리턴한다.\n",
    "a = {'name': 'parksehyuk', 'age': 25, 'birth': 20000611}\n",
    "print(a.get('name'))\n",
    "print(a.get('phone'))"
   ]
  },
  {
   "cell_type": "code",
   "execution_count": 200,
   "id": "270f927b-9d0f-434a-8e99-719cb7743615",
   "metadata": {},
   "outputs": [
    {
     "name": "stdout",
     "output_type": "stream",
     "text": [
      "parksehyuk\n",
      "default\n"
     ]
    }
   ],
   "source": [
    "# Key가 없는 경우 정해 둔 value를 가져오고 싶을 때 get('x', 'default') 사용한다.\n",
    "a = {'name': 'parksehyuk', 'age': 25, 'birth': 20000611}\n",
    "print(a.get('name', 'default'))\n",
    "print(a.get('nokey', 'default'))"
   ]
  },
  {
   "cell_type": "code",
   "execution_count": 1,
   "id": "4dbd4ced-eadf-4754-b28b-21a811b7f9bb",
   "metadata": {},
   "outputs": [
    {
     "name": "stdout",
     "output_type": "stream",
     "text": [
      "{1: ['a'], 2: ['b'], 3: ['c']}\n"
     ]
    }
   ],
   "source": [
    "# get()으로 key 존재 여부 확인\n",
    "# append로 key 와 value를 dictionary에 추가\n",
    "dic = {1: ['a'], 2: ['b']}\n",
    "key = 3\n",
    "value = 'c'\n",
    "output = dic.get(key)\n",
    "if output is None:\n",
    "    dic[key] = output = []\n",
    "output.append(value)\n",
    "print(dic)"
   ]
  },
  {
   "cell_type": "code",
   "execution_count": 2,
   "id": "461e0d2c-16b5-4c2f-bb48-575343b1edef",
   "metadata": {},
   "outputs": [
    {
     "name": "stdout",
     "output_type": "stream",
     "text": [
      "{1: ['a'], 2: ['b'], 3: ['c'], 4: ['d']}\n"
     ]
    }
   ],
   "source": [
    "# setdefault()\n",
    "# key가 없으면 dictionary에 추가한다.\n",
    "key = 4\n",
    "value = 'd'\n",
    "output = dic.setdefault(key, [])\n",
    "output.append(value)\n",
    "print(dic)"
   ]
  },
  {
   "cell_type": "code",
   "execution_count": 3,
   "id": "a310eaff-5ad9-477b-b213-292c944d5ece",
   "metadata": {},
   "outputs": [
    {
     "name": "stdout",
     "output_type": "stream",
     "text": [
      "True\n",
      "False\n"
     ]
    }
   ],
   "source": [
    "# in\n",
    "# 해당 Key가 딕셔너리 안에 있는지 조사하기\n",
    "a = {'name': 'parksehyuk', 'age': 25, 'birth': 20000611}\n",
    "print('name' in a)\n",
    "print('phone' in a)"
   ]
  }
 ],
 "metadata": {
  "kernelspec": {
   "display_name": "Python 3 (ipykernel)",
   "language": "python",
   "name": "python3"
  },
  "language_info": {
   "codemirror_mode": {
    "name": "ipython",
    "version": 3
   },
   "file_extension": ".py",
   "mimetype": "text/x-python",
   "name": "python",
   "nbconvert_exporter": "python",
   "pygments_lexer": "ipython3",
   "version": "3.8.10"
  }
 },
 "nbformat": 4,
 "nbformat_minor": 5
}
