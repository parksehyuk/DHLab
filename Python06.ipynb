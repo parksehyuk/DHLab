{
 "cells": [
  {
   "cell_type": "markdown",
   "id": "3ee191c9-a9c8-438b-9cc0-1c58724d47ad",
   "metadata": {},
   "source": [
    "#### 6. Data Type IV"
   ]
  },
  {
   "cell_type": "markdown",
   "id": "0e7ffb6b-31f3-4283-bd19-1369342f25d8",
   "metadata": {},
   "source": [
    "#### 6-1. Tuple Type"
   ]
  },
  {
   "cell_type": "code",
   "execution_count": 13,
   "id": "46299cea-31f8-4c6c-a70a-34b4662cc413",
   "metadata": {},
   "outputs": [],
   "source": [
    "# immutable\n",
    "# 요소값의 수정, 삭제, 생성이 불가능하다.\n",
    "# 내장 함수가 없다.\n",
    "# 1개의 component만을 가질 때는 component 뒤에 쉼표(,)를 반드시 붙여야 한다.\n",
    "# 소괄호 생략 가능\n",
    "\n",
    "t1 = ()\n",
    "t2 = (1,)\n",
    "t3 = (1, 2, 3)\n",
    "t4 = 1, 2, 3\n",
    "t5 = ('a', 'b', ('ab', 'cd'))"
   ]
  },
  {
   "cell_type": "markdown",
   "id": "3818f2b9-4993-4ac7-801c-d177a167d57b",
   "metadata": {},
   "source": [
    "#### 6-2. Handling Tuple"
   ]
  },
  {
   "cell_type": "code",
   "execution_count": 14,
   "id": "6d4e9557-c02a-4335-9391-04d5aca32af6",
   "metadata": {},
   "outputs": [],
   "source": [
    "# 튜플은 요솟값을 변화시킬 수 없다는 점만 제외하면 리스트와 완전히 동일하다."
   ]
  },
  {
   "cell_type": "code",
   "execution_count": 15,
   "id": "03a36ce6-6f50-47b7-a85c-c58950d84618",
   "metadata": {},
   "outputs": [
    {
     "name": "stdout",
     "output_type": "stream",
     "text": [
      "1\n",
      "b\n"
     ]
    }
   ],
   "source": [
    "# indexing\n",
    "t1 = (1, 2, 'a', 'b')\n",
    "print(t1[0])\n",
    "print(t1[3])"
   ]
  },
  {
   "cell_type": "code",
   "execution_count": 16,
   "id": "42ef0092-c03e-4ec5-9818-a5541ab6824c",
   "metadata": {},
   "outputs": [
    {
     "name": "stdout",
     "output_type": "stream",
     "text": [
      "(2, 'a', 'b')\n"
     ]
    }
   ],
   "source": [
    "# slicing\n",
    "t1 = 1, 2, 'a', 'b'\n",
    "print(t1[1:])"
   ]
  },
  {
   "cell_type": "code",
   "execution_count": 17,
   "id": "fdf92839-a0bc-45c7-b6af-ce795d5aa0f2",
   "metadata": {},
   "outputs": [
    {
     "name": "stdout",
     "output_type": "stream",
     "text": [
      "(1, 2, 'a', 'b', 3, 4)\n"
     ]
    }
   ],
   "source": [
    "# addition\n",
    "a = 1, 2, 'a', 'b'\n",
    "b = 3, 4\n",
    "print(a + b)"
   ]
  },
  {
   "cell_type": "code",
   "execution_count": 18,
   "id": "7c28cf5b-6283-4bc7-94d0-96a5ede19af4",
   "metadata": {},
   "outputs": [
    {
     "name": "stdout",
     "output_type": "stream",
     "text": [
      "(1, 2, 1, 2, 1, 2)\n"
     ]
    }
   ],
   "source": [
    "# multiply\n",
    "# 반복\n",
    "t1 = 1, 2\n",
    "print(t1 * 3)"
   ]
  },
  {
   "cell_type": "code",
   "execution_count": 19,
   "id": "f2c94594-f761-4807-9409-d27427442992",
   "metadata": {},
   "outputs": [
    {
     "data": {
      "text/plain": [
       "4"
      ]
     },
     "execution_count": 19,
     "metadata": {},
     "output_type": "execute_result"
    }
   ],
   "source": [
    "# len\n",
    "t1 = 1, 2, 3, 4\n",
    "len(t1)"
   ]
  }
 ],
 "metadata": {
  "kernelspec": {
   "display_name": "Python 3 (ipykernel)",
   "language": "python",
   "name": "python3"
  },
  "language_info": {
   "codemirror_mode": {
    "name": "ipython",
    "version": 3
   },
   "file_extension": ".py",
   "mimetype": "text/x-python",
   "name": "python",
   "nbconvert_exporter": "python",
   "pygments_lexer": "ipython3",
   "version": "3.8.10"
  }
 },
 "nbformat": 4,
 "nbformat_minor": 5
}
