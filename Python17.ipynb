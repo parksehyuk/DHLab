{
 "cells": [
  {
   "cell_type": "markdown",
   "id": "6108bf7c-ce7e-4150-bdad-279b8dc7d0b1",
   "metadata": {},
   "source": [
    "#### 17. Built-in functions"
   ]
  },
  {
   "cell_type": "code",
   "execution_count": 4,
   "id": "76ccf824-68b5-4409-8231-7792e951114b",
   "metadata": {},
   "outputs": [],
   "source": [
    "# 이미 만들어진 것을 다시 만드는 것은 불필요한 행동이다.\n",
    "# 내장 함수는 module과 달리 import가 필요하지 않아 별다른 설정 없이 사용할 수 있다."
   ]
  },
  {
   "cell_type": "markdown",
   "id": "10fae5b6-7300-4a19-87b6-0fa000d489d6",
   "metadata": {},
   "source": [
    "#### 17-1. abs(x)"
   ]
  },
  {
   "cell_type": "code",
   "execution_count": 11,
   "id": "94fda049-1e14-4f59-ac1d-e90b9935b5c5",
   "metadata": {},
   "outputs": [
    {
     "name": "stdout",
     "output_type": "stream",
     "text": [
      "1\n",
      "1\n"
     ]
    }
   ],
   "source": [
    "# 어떤 숫자를 입력받았을 때 그 숫자의 절댓값을 리턴한다.\n",
    "print(abs(1))\n",
    "print(abs(-1))"
   ]
  },
  {
   "cell_type": "markdown",
   "id": "954a0108-867e-4d42-821e-6f1ac1a11e18",
   "metadata": {},
   "source": [
    "#### 17-2. all(x)"
   ]
  },
  {
   "cell_type": "code",
   "execution_count": 13,
   "id": "32f090ac-1b4f-4776-8bb8-40e5ca8fde3c",
   "metadata": {},
   "outputs": [
    {
     "name": "stdout",
     "output_type": "stream",
     "text": [
      "True\n",
      "False\n"
     ]
    }
   ],
   "source": [
    "# 반복 가능한 데이터 x를 입력값으로 받는다.\n",
    "# x의 요소가 모두 참이면 True, 거짓이 하나라도 있으면 False를 리턴한다.\n",
    "print(all([1, 2, 3]))\n",
    "print(all([0, 1, 2, 3]))"
   ]
  },
  {
   "cell_type": "code",
   "execution_count": 14,
   "id": "e55f5835-bd41-4950-8e0c-21ee2e9c4f01",
   "metadata": {},
   "outputs": [
    {
     "name": "stdout",
     "output_type": "stream",
     "text": [
      "True\n"
     ]
    }
   ],
   "source": [
    "# 입력 인수가 빈 값인 경우에는 True를 리턴한다.\n",
    "print(all([]))"
   ]
  },
  {
   "cell_type": "markdown",
   "id": "de78be30-ad5d-4a7e-8dc4-5bfe1cd7be27",
   "metadata": {},
   "source": [
    "#### 17-3. any(x)"
   ]
  },
  {
   "cell_type": "code",
   "execution_count": 18,
   "id": "afff2148-8b4d-4580-81a2-ef840c7bc8d3",
   "metadata": {},
   "outputs": [
    {
     "name": "stdout",
     "output_type": "stream",
     "text": [
      "True\n",
      "False\n"
     ]
    }
   ],
   "source": [
    "# all(x)의 반대로 작동한다.\n",
    "# 반복 가능한 데이터 x를 입력값으로 받는다.\n",
    "# x의 요소 중 하나라도 참이 있으면 True를 리턴하고, x가 모두 거짓일 때만 False를 리턴한다.\n",
    "print(any([1, 2 ,3]))\n",
    "print(any([0, '']))"
   ]
  },
  {
   "cell_type": "code",
   "execution_count": 19,
   "id": "2bb4b242-8641-482b-a970-2bf87ee36568",
   "metadata": {},
   "outputs": [
    {
     "name": "stdout",
     "output_type": "stream",
     "text": [
      "False\n"
     ]
    }
   ],
   "source": [
    "# 입력 인수가 빈 값인 경우에는 False를 리턴한다.\n",
    "print(any([]))"
   ]
  },
  {
   "cell_type": "markdown",
   "id": "265ec8a2-a888-4968-937e-feca69694dc9",
   "metadata": {},
   "source": [
    "#### 17-4. chr(i)"
   ]
  },
  {
   "cell_type": "code",
   "execution_count": 22,
   "id": "a577a4e4-1934-4b28-8d59-e2577d651435",
   "metadata": {},
   "outputs": [
    {
     "name": "stdout",
     "output_type": "stream",
     "text": [
      "a\n",
      "가\n"
     ]
    }
   ],
   "source": [
    "# 유니코드 숫자 값을 입력받아 그 코드에 해당하는 문자를 리턴한다.\n",
    "# 유니코드는 전 세계의 모든 문자를 컴퓨터에서 일관되게 표현하고 다룰 수 있도록 설계된 산업 표준 코드이다.\n",
    "print(chr(97))\n",
    "print(chr(44032))"
   ]
  },
  {
   "cell_type": "markdown",
   "id": "a61c8ed0-88ba-4a33-90a1-1eae60c24101",
   "metadata": {},
   "source": [
    "#### 17-5. dir"
   ]
  },
  {
   "cell_type": "code",
   "execution_count": 25,
   "id": "da1d7ef0-19c5-48af-b9a9-bc7daea10152",
   "metadata": {},
   "outputs": [
    {
     "name": "stdout",
     "output_type": "stream",
     "text": [
      "['__add__', '__class__', '__contains__', '__delattr__', '__delitem__', '__dir__', '__doc__', '__eq__', '__format__', '__ge__', '__getattribute__', '__getitem__', '__gt__', '__hash__', '__iadd__', '__imul__', '__init__', '__init_subclass__', '__iter__', '__le__', '__len__', '__lt__', '__mul__', '__ne__', '__new__', '__reduce__', '__reduce_ex__', '__repr__', '__reversed__', '__rmul__', '__setattr__', '__setitem__', '__sizeof__', '__str__', '__subclasshook__', 'append', 'clear', 'copy', 'count', 'extend', 'index', 'insert', 'pop', 'remove', 'reverse', 'sort']\n"
     ]
    }
   ],
   "source": [
    "# 객체가 지닌 변수나 함수를 보여 준다.\n",
    "print(dir([1, 2, 3]))"
   ]
  },
  {
   "cell_type": "code",
   "execution_count": 26,
   "id": "fc27cb21-b6bc-42ac-a3e7-c691b1bd793b",
   "metadata": {},
   "outputs": [
    {
     "name": "stdout",
     "output_type": "stream",
     "text": [
      "['__and__', '__class__', '__contains__', '__delattr__', '__dir__', '__doc__', '__eq__', '__format__', '__ge__', '__getattribute__', '__gt__', '__hash__', '__iand__', '__init__', '__init_subclass__', '__ior__', '__isub__', '__iter__', '__ixor__', '__le__', '__len__', '__lt__', '__ne__', '__new__', '__or__', '__rand__', '__reduce__', '__reduce_ex__', '__repr__', '__ror__', '__rsub__', '__rxor__', '__setattr__', '__sizeof__', '__str__', '__sub__', '__subclasshook__', '__xor__', 'add', 'clear', 'copy', 'difference', 'difference_update', 'discard', 'intersection', 'intersection_update', 'isdisjoint', 'issubset', 'issuperset', 'pop', 'remove', 'symmetric_difference', 'symmetric_difference_update', 'union', 'update']\n"
     ]
    }
   ],
   "source": [
    "print(dir({'1', 'a'}))"
   ]
  },
  {
   "cell_type": "markdown",
   "id": "f9e08b4b-28b0-4dbe-a6eb-1122e716d344",
   "metadata": {},
   "source": [
    "#### 17-6. divmod(a, b)"
   ]
  },
  {
   "cell_type": "code",
   "execution_count": 27,
   "id": "3614b845-5a5a-4f8a-8595-1c23c61af27f",
   "metadata": {},
   "outputs": [
    {
     "name": "stdout",
     "output_type": "stream",
     "text": [
      "(0, 1)\n"
     ]
    }
   ],
   "source": [
    "# 2개의 숫자 a, b를 입력으로 받아, a를 b로 나눈 몫과 나머지를 튜플로 리턴한다.\n",
    "print(divmod(1, 2))"
   ]
  },
  {
   "cell_type": "markdown",
   "id": "c4f92fd4-507c-4fd6-bc2c-902ce48e4cef",
   "metadata": {},
   "source": [
    "#### 17-7. enumerate"
   ]
  },
  {
   "cell_type": "code",
   "execution_count": 4,
   "id": "95e891ba-508d-497c-8596-36662a2e238b",
   "metadata": {},
   "outputs": [
    {
     "name": "stdout",
     "output_type": "stream",
     "text": [
      "0 park\n",
      "1 se\n",
      "2 hyuk\n"
     ]
    }
   ],
   "source": [
    "# 열거하다.\n",
    "# 순서가 있는 데이터(리스트, 튜플, 문자열)를 입력 받아 인덱스 값을 포함하는 enumerate 객체를 리턴한다.\n",
    "# for와 함께 사용하면 자료형의 현재 순서 index와 그 값을 알 수 있다.\n",
    "for i, name in enumerate(['park', 'se', 'hyuk']):\n",
    "    print(i, name)"
   ]
  },
  {
   "cell_type": "markdown",
   "id": "d28f9b16-7fbb-4b1e-a707-3b05362b9617",
   "metadata": {},
   "source": [
    "#### 17-8. eval(expression)"
   ]
  },
  {
   "cell_type": "code",
   "execution_count": 9,
   "id": "d4f52990-f648-4ab7-84e7-f3b9401d9d52",
   "metadata": {},
   "outputs": [
    {
     "name": "stdout",
     "output_type": "stream",
     "text": [
      "3\n",
      "(0, 1)\n"
     ]
    }
   ],
   "source": [
    "# 문자열로 구성된 표현식을 입력 받아 해당 문자열을 실행한 결괏값을 리턴한다.\n",
    "print(eval('1 + 2'))\n",
    "print(eval('divmod(1, 2)'))"
   ]
  },
  {
   "cell_type": "markdown",
   "id": "135904ef-84b1-44e1-a562-97908335a962",
   "metadata": {},
   "source": [
    "#### 17-9. filter"
   ]
  },
  {
   "cell_type": "code",
   "execution_count": 11,
   "id": "00936778-7383-48c6-9bed-ece46789d7ee",
   "metadata": {},
   "outputs": [],
   "source": [
    "# 걸러 낸다.\n",
    "# 첫 번째 인수로 함수, 두 번째 인수로 그 함수에 차례로 들어갈 반복 가능한 데이터를 받는다.\n",
    "# 반복 가능한 데이터의 요소 순서대로 함수를 호출했을 때 리턴값이 참인 것만 걸러 내어 리턴한다."
   ]
  },
  {
   "cell_type": "code",
   "execution_count": 12,
   "id": "34f5b299-8f88-4426-9a4f-a8b634e9d525",
   "metadata": {},
   "outputs": [
    {
     "name": "stdout",
     "output_type": "stream",
     "text": [
      "[1, 2, 3]\n"
     ]
    }
   ],
   "source": [
    "def positive(l):\n",
    "    result = []\n",
    "    for i in l:\n",
    "        if i > 0:\n",
    "            result.append(i)\n",
    "    return result\n",
    "print(positive([-3, -2, -1, 0, 1, 2, 3]))"
   ]
  },
  {
   "cell_type": "code",
   "execution_count": 15,
   "id": "9f8394d4-fce3-4a2d-ac5f-2a9a023a0e9e",
   "metadata": {},
   "outputs": [
    {
     "name": "stdout",
     "output_type": "stream",
     "text": [
      "[1, 2, 3]\n"
     ]
    }
   ],
   "source": [
    "# filter\n",
    "# list 함수는 filter 함수의 리턴값을 리스트로 출력하기 위해 사용한다.\n",
    "def positive(x):\n",
    "    return x > 0\n",
    "print(list(filter(positive, [-3, -2, -1, 0, 1, 2, 3])))"
   ]
  },
  {
   "cell_type": "code",
   "execution_count": 17,
   "id": "bde65c42-84c6-4730-a05d-92d019d87570",
   "metadata": {},
   "outputs": [
    {
     "data": {
      "text/plain": [
       "[1, 2, 6]"
      ]
     },
     "execution_count": 17,
     "metadata": {},
     "output_type": "execute_result"
    }
   ],
   "source": [
    "# filter with lambda\n",
    "list(filter(lambda x: x > 0, [1, -3, 2, 0, -5, 6]))"
   ]
  },
  {
   "cell_type": "markdown",
   "id": "79a6eece-63b3-4a94-9fac-18ac6543b812",
   "metadata": {},
   "source": [
    "#### 17-10. hex(x)"
   ]
  },
  {
   "cell_type": "code",
   "execution_count": 20,
   "id": "e54b84ae-5a49-44f2-b2a8-272c8d0406a2",
   "metadata": {},
   "outputs": [
    {
     "name": "stdout",
     "output_type": "stream",
     "text": [
      "0x1\n",
      "0x4d2\n"
     ]
    }
   ],
   "source": [
    "# 정수를 입력받아 16진수(hexadecimal) 문자열로 변환하여 리턴한다.\n",
    "print(hex(1))\n",
    "print(hex(1234))"
   ]
  },
  {
   "cell_type": "markdown",
   "id": "fbd4f025-2006-4bdf-91b0-ae6aafe73125",
   "metadata": {},
   "source": [
    "#### 17-11. id(object)"
   ]
  },
  {
   "cell_type": "code",
   "execution_count": 25,
   "id": "d77d2d55-b7ae-422d-9bc3-f99de96bf0ee",
   "metadata": {},
   "outputs": [
    {
     "name": "stdout",
     "output_type": "stream",
     "text": [
      "9801248\n",
      "9801248\n",
      "9801248\n"
     ]
    }
   ],
   "source": [
    "# 객체를 입력받아 객체의 고유 주솟값(레퍼런스)을 리턴한다.\n",
    "a = 1\n",
    "b = a\n",
    "print(id(1))\n",
    "print(id(a))\n",
    "print(id(b))"
   ]
  },
  {
   "cell_type": "markdown",
   "id": "4179019a-acc6-4d9d-bb3a-cddf3d9b03ff",
   "metadata": {},
   "source": [
    "#### 17-12. input([prompt])"
   ]
  },
  {
   "cell_type": "code",
   "execution_count": 32,
   "id": "43997788-59c3-4423-a51d-40b82c58a0f2",
   "metadata": {},
   "outputs": [
    {
     "name": "stdin",
     "output_type": "stream",
     "text": [
      "Enter: a\n"
     ]
    },
    {
     "name": "stdout",
     "output_type": "stream",
     "text": [
      "a\n"
     ]
    }
   ],
   "source": [
    "# 사용자 입력을 받는 함수이다.\n",
    "# 입력 인수로 문자열을 전달하면 그 문자열은 프롬프트가 된다.\n",
    "# []는 괄호 안의 내용을 생략할 수 있다는 관례 표기법이다.\n",
    "print(input('Enter:'))"
   ]
  },
  {
   "cell_type": "markdown",
   "id": "61da8bc7-ffc9-46b4-9088-366d6e4a9ce9",
   "metadata": {},
   "source": [
    "#### 17-13. int(x)"
   ]
  },
  {
   "cell_type": "code",
   "execution_count": 33,
   "id": "244dfe98-4253-4fb4-ac50-788450825da7",
   "metadata": {},
   "outputs": [
    {
     "name": "stdout",
     "output_type": "stream",
     "text": [
      "1\n",
      "1\n"
     ]
    }
   ],
   "source": [
    "# 문자열 형태의 숫자나 소수점이 있는 숫자를 정수로 리턴한다.\n",
    "# 정수가 입력되면 그대로 리턴한다.\n",
    "print(int(1))\n",
    "print(int(1.1))"
   ]
  },
  {
   "cell_type": "code",
   "execution_count": 37,
   "id": "10856728-1acb-46ed-90c4-29f028cd9d11",
   "metadata": {},
   "outputs": [
    {
     "name": "stdout",
     "output_type": "stream",
     "text": [
      "15\n"
     ]
    }
   ],
   "source": [
    "# int('x', radix)\n",
    "# radix 진수로 표현된 문자열 x를 10진수로 변환하여 리턴한다.\n",
    "print(int('1111', 2))"
   ]
  },
  {
   "cell_type": "markdown",
   "id": "7825e9b7-0d73-4e80-aebb-b5d48817e224",
   "metadata": {},
   "source": [
    "#### 17-14. isinstance(object, class)"
   ]
  },
  {
   "cell_type": "code",
   "execution_count": 39,
   "id": "9cc76c14-de20-400e-a8d3-4ca9a5bd33fe",
   "metadata": {},
   "outputs": [],
   "source": [
    "# 첫 번째 인수로 객체, 두 번째 인수로 class를 받는다.\n",
    "# 입력으로 받은 객체가 그 클래스의 instance인지 판단하여 참이면 True, 거짓이면 False를 리턴한다."
   ]
  },
  {
   "cell_type": "code",
   "execution_count": 42,
   "id": "376b9111-4b90-4838-8566-f8b38233f303",
   "metadata": {},
   "outputs": [
    {
     "name": "stdout",
     "output_type": "stream",
     "text": [
      "True\n"
     ]
    }
   ],
   "source": [
    "class person:\n",
    "    pass\n",
    "a = person()\n",
    "print(isinstance(a, person))"
   ]
  },
  {
   "cell_type": "code",
   "execution_count": 44,
   "id": "13cb2da0-690c-4b7e-9ea0-1d54a72be105",
   "metadata": {},
   "outputs": [
    {
     "name": "stdout",
     "output_type": "stream",
     "text": [
      "False\n"
     ]
    }
   ],
   "source": [
    "b = 1\n",
    "print(isinstance(b, person))"
   ]
  },
  {
   "cell_type": "markdown",
   "id": "4306f149-b3b6-4e6c-96a4-482763d94156",
   "metadata": {},
   "source": [
    "#### 17-15. len(s)"
   ]
  },
  {
   "cell_type": "code",
   "execution_count": 50,
   "id": "ee597894-999f-427d-931f-2d13c8b9fb04",
   "metadata": {},
   "outputs": [
    {
     "name": "stdout",
     "output_type": "stream",
     "text": [
      "6\n",
      "3\n",
      "2\n"
     ]
    }
   ],
   "source": [
    "# 입력값 s의 길이(요소의 전체 개수)를 리턴한다.\n",
    "print(len('python'))\n",
    "print(len([1, 2, 3]))\n",
    "print(len((1, 'a')))"
   ]
  },
  {
   "cell_type": "markdown",
   "id": "c46ffd68-1a7a-4443-9bbf-7788d030067f",
   "metadata": {},
   "source": [
    "#### 17-16. list(iterable)"
   ]
  },
  {
   "cell_type": "code",
   "execution_count": 52,
   "id": "fe9de4a6-64d7-4679-a0c4-1a928003f49e",
   "metadata": {},
   "outputs": [
    {
     "name": "stdout",
     "output_type": "stream",
     "text": [
      "['p', 'y', 't', 'h', 'o', 'n']\n",
      "[1, 2, 3]\n"
     ]
    }
   ],
   "source": [
    "# 반복 가능한 데이터를 입력받아 리스트로 만들어 리턴한다.\n",
    "print(list('python'))\n",
    "print(list((1, 2, 3)))"
   ]
  },
  {
   "cell_type": "code",
   "execution_count": 53,
   "id": "efa4262c-6796-4c10-b524-bb4cf4d42229",
   "metadata": {},
   "outputs": [
    {
     "name": "stdout",
     "output_type": "stream",
     "text": [
      "[1, 2, 3]\n"
     ]
    }
   ],
   "source": [
    "# list 함수에 list(iterable)를 입력하면 똑같은 리스트를 복사하여 리턴한다.\n",
    "print(list([1, 2, 3]))"
   ]
  },
  {
   "cell_type": "markdown",
   "id": "05bf6d66-a370-465a-9a3b-90a9cb59e6d6",
   "metadata": {},
   "source": [
    "#### 17-17. map(f, iterable)"
   ]
  },
  {
   "cell_type": "code",
   "execution_count": 55,
   "id": "95c5583f-59d2-40d8-ac7c-0cd17c754611",
   "metadata": {},
   "outputs": [],
   "source": [
    "# 함수(f)와 반복 가능한 데이터를 입력으로 받는다.\n",
    "# 입력받은 데이터의 각 요소에 함수 f를 적용한 결과를 리턴한다."
   ]
  },
  {
   "cell_type": "code",
   "execution_count": 60,
   "id": "e1cbf6a7-da82-4e70-943a-43aa76f65675",
   "metadata": {},
   "outputs": [
    {
     "name": "stdout",
     "output_type": "stream",
     "text": [
      "[2, 4, 6, 8]\n"
     ]
    }
   ],
   "source": [
    "def two_times(numberlist):\n",
    "    result = []\n",
    "    for number in numberlist:\n",
    "        result.append(number * 2)\n",
    "    return result\n",
    "result = two_times([1, 2, 3, 4])\n",
    "print(result)"
   ]
  },
  {
   "cell_type": "code",
   "execution_count": 61,
   "id": "e28017e1-c215-4fb5-b6fa-e1b02a18a8eb",
   "metadata": {},
   "outputs": [
    {
     "data": {
      "text/plain": [
       "[2, 4, 6, 8]"
      ]
     },
     "execution_count": 61,
     "metadata": {},
     "output_type": "execute_result"
    }
   ],
   "source": [
    "# map(f, iterable)\n",
    "def two_times(x):\n",
    "    return x * 2\n",
    "list(map(two_times, [1, 2, 3, 4]))"
   ]
  },
  {
   "cell_type": "code",
   "execution_count": 63,
   "id": "60bb4255-fc95-471f-8b8d-011b0722ccfe",
   "metadata": {},
   "outputs": [
    {
     "name": "stdout",
     "output_type": "stream",
     "text": [
      "[2, 4, 6, 8]\n"
     ]
    }
   ],
   "source": [
    "# lambda\n",
    "print(list(map(lambda a: a * 2, [1, 2, 3, 4])))"
   ]
  },
  {
   "cell_type": "markdown",
   "id": "b6204c6d-ddf7-4352-b6dc-e43f7857a6c3",
   "metadata": {},
   "source": [
    "#### 17-18. max(iterable)"
   ]
  },
  {
   "cell_type": "code",
   "execution_count": 64,
   "id": "edde60fe-d115-4388-9026-b0e29ef214ac",
   "metadata": {},
   "outputs": [
    {
     "name": "stdout",
     "output_type": "stream",
     "text": [
      "3\n",
      "y\n"
     ]
    }
   ],
   "source": [
    "# 인수로 반복 가능한 데이터를 입력받아 그 최댓값을 리턴한다.\n",
    "print(max([1, 2, 3]))\n",
    "print(max('python'))"
   ]
  },
  {
   "cell_type": "markdown",
   "id": "0774dea7-6319-40a2-b2ce-aa4c79e2125d",
   "metadata": {},
   "source": [
    "#### 17-19. min(iterable)"
   ]
  },
  {
   "cell_type": "code",
   "execution_count": 65,
   "id": "352cc25b-1eaf-426a-bf5d-67617fc093e3",
   "metadata": {},
   "outputs": [
    {
     "name": "stdout",
     "output_type": "stream",
     "text": [
      "1\n",
      "h\n"
     ]
    }
   ],
   "source": [
    "# max 함수와 반대\n",
    "# 인수로 반복 가능한 데이터를 입력받아 그 최솟값을 리턴한다.\n",
    "print(min([1, 2, 3]))\n",
    "print(min('python'))"
   ]
  },
  {
   "cell_type": "markdown",
   "id": "ff78b3c2-ee72-46f3-8c6f-151e40da0157",
   "metadata": {},
   "source": [
    "#### 17-20. oct(x)"
   ]
  },
  {
   "cell_type": "code",
   "execution_count": 67,
   "id": "a4e55e36-dc79-4fb3-81f0-68463dfa622c",
   "metadata": {},
   "outputs": [
    {
     "name": "stdout",
     "output_type": "stream",
     "text": [
      "0o173\n"
     ]
    }
   ],
   "source": [
    "# 정수를 8진수 문자열로 바꾸어 리턴한다.\n",
    "print(oct(123))"
   ]
  },
  {
   "cell_type": "markdown",
   "id": "ff2a8532-6eff-4359-a487-bde76f2242d9",
   "metadata": {},
   "source": [
    "#### 17-21. open(filename, [mode])"
   ]
  },
  {
   "cell_type": "code",
   "execution_count": 70,
   "id": "7199c1d8-35da-49a4-88f6-7a2337cfed01",
   "metadata": {},
   "outputs": [],
   "source": [
    "# ‘파일 이름’과 ‘읽기 방법’을 입력받아 파일 객체를 리턴한다.\n",
    "# 읽기 방법(mode)을 생략하면 기본값인 읽기 모드(r)로 파일 객체를 만들어 리턴한다.\n",
    "f = open(\"/home/loveofmylife/Tutorial_Python/py/newfile.txt\", 'rb')"
   ]
  },
  {
   "cell_type": "markdown",
   "id": "13ed6153-5e60-4e0c-a246-eea7179bd30a",
   "metadata": {},
   "source": [
    "#### 17-22. ord(c)"
   ]
  },
  {
   "cell_type": "code",
   "execution_count": 72,
   "id": "7a0f8e24-113c-4209-ab0c-9c0c4f15d175",
   "metadata": {},
   "outputs": [
    {
     "name": "stdout",
     "output_type": "stream",
     "text": [
      "97\n",
      "44032\n"
     ]
    }
   ],
   "source": [
    "# 문자의 유니코드 숫자 값을 리턴한다.\n",
    "# chr 함수와 반대로 동작한다.\n",
    "print(ord('a'))\n",
    "print(ord('가'))"
   ]
  },
  {
   "cell_type": "markdown",
   "id": "8bcc3ded-b410-4711-9368-2f6478f36434",
   "metadata": {},
   "source": [
    "#### 17-23. pow"
   ]
  },
  {
   "cell_type": "code",
   "execution_count": 73,
   "id": "305c8797-7a20-455d-862b-52119f0a312c",
   "metadata": {},
   "outputs": [
    {
     "name": "stdout",
     "output_type": "stream",
     "text": [
      "81\n"
     ]
    }
   ],
   "source": [
    "# x를 y제곱한 결괏값을 리턴한다.\n",
    "print(pow(3, 4))"
   ]
  },
  {
   "cell_type": "markdown",
   "id": "3def34ed-9f3b-4e17-bf44-fea1c2b0b2b6",
   "metadata": {},
   "source": [
    "#### 17-24. range"
   ]
  },
  {
   "cell_type": "code",
   "execution_count": 76,
   "id": "20a33454-2229-45ea-8044-e53bae9ec9cb",
   "metadata": {},
   "outputs": [],
   "source": [
    "# range([start,] stop [,step])\n",
    "# for 문과 함께 자주 사용한다.0\n",
    "# 입력받은 숫자에 해당하는 범위 값을 반복 가능한 객체로 만들어 리턴한다."
   ]
  },
  {
   "cell_type": "code",
   "execution_count": 77,
   "id": "9fd20fe4-0a1f-4b81-9a70-97d21c6ceafd",
   "metadata": {},
   "outputs": [
    {
     "name": "stdout",
     "output_type": "stream",
     "text": [
      "[0, 1, 2, 3, 4]\n"
     ]
    }
   ],
   "source": [
    "# 인수가 하나인 경우\n",
    "# 시작 숫자를 지정해 주지 않으면 range 함수는 0부터 시작한다.\n",
    "print(list(range(5)))"
   ]
  },
  {
   "cell_type": "code",
   "execution_count": 89,
   "id": "cae1f042-1b63-442a-bfce-4973a8a0fd13",
   "metadata": {},
   "outputs": [
    {
     "name": "stdout",
     "output_type": "stream",
     "text": [
      "[5, 6, 7, 8, 9]\n"
     ]
    }
   ],
   "source": [
    "# range(start, stop)\n",
    "# 입력으로 주어지는 2개의 인수는 시작 숫자와 끝 숫자를 나타낸다.\n",
    "# 끝 숫자는 해당 범위에 포함되지 않는다.\n",
    "print(list(range(5, 10)))"
   ]
  },
  {
   "cell_type": "code",
   "execution_count": 88,
   "id": "03965e47-8124-4938-9e78-f10dce5ce25c",
   "metadata": {},
   "outputs": [
    {
     "name": "stdout",
     "output_type": "stream",
     "text": [
      "[1, 4, 7]\n",
      "[0, -1, -2, -3, -4, -5, -6, -7, -8, -9]\n"
     ]
    }
   ],
   "source": [
    "# range(start, stop ,step)\n",
    "# 세 번째 인수는 숫자 사이의 거리를 의미한다.\n",
    "print(list(range(1, 10, 3)))\n",
    "print(list(range(0, -10, -1)))"
   ]
  },
  {
   "cell_type": "markdown",
   "id": "7a780272-c3c7-49bf-98f8-6b0f51530409",
   "metadata": {},
   "source": [
    "#### 17-25. round(number [,ndigits])"
   ]
  },
  {
   "cell_type": "code",
   "execution_count": 84,
   "id": "1392b4a9-8bb0-4e0b-b984-2ce7fa728a56",
   "metadata": {},
   "outputs": [
    {
     "name": "stdout",
     "output_type": "stream",
     "text": [
      "2\n"
     ]
    }
   ],
   "source": [
    "# 숫자를 입력받아 반올림해 리턴한다.\n",
    "print(round(1.5))"
   ]
  },
  {
   "cell_type": "code",
   "execution_count": 87,
   "id": "adb02baa-c2f2-4cbf-acdb-8ec3f0b62436",
   "metadata": {},
   "outputs": [
    {
     "name": "stdout",
     "output_type": "stream",
     "text": [
      "3.1415\n"
     ]
    }
   ],
   "source": [
    "# 두 번째 인수는 반올림하여 표시하고 싶은 소수점의 자릿수(ndigits)를 의미한다.\n",
    "print(round(3.141529, 4))"
   ]
  },
  {
   "cell_type": "markdown",
   "id": "17b179b2-47ae-45e8-9b93-982fa5fb376e",
   "metadata": {},
   "source": [
    "#### 17-26. sorted(iterable)"
   ]
  },
  {
   "cell_type": "code",
   "execution_count": 97,
   "id": "32b6d783-b3bc-45bc-a53d-5d6976bbb35e",
   "metadata": {},
   "outputs": [
    {
     "name": "stdout",
     "output_type": "stream",
     "text": [
      "None\n"
     ]
    }
   ],
   "source": [
    "# 리스트 자료형의 sort 함수는 리스트 객체 그 자체를 정렬만 할 뿐, 정렬된 결과를 리턴하지는 않는다.\n",
    "a = [3, 2, 1]\n",
    "print(a.sort())"
   ]
  },
  {
   "cell_type": "code",
   "execution_count": 98,
   "id": "5462ae29-f0e4-4592-85be-62a939a6e6e5",
   "metadata": {},
   "outputs": [
    {
     "name": "stdout",
     "output_type": "stream",
     "text": [
      "[1, 2, 3]\n",
      "['h', 'n', 'o', 'p', 't', 'y']\n"
     ]
    }
   ],
   "source": [
    "# 입력 데이터를 정렬한 후 그 결과를 리스트로 리턴한다.\n",
    "print(sorted([3, 2, 1]))\n",
    "print(sorted('python'))"
   ]
  },
  {
   "cell_type": "markdown",
   "id": "430c13af-b201-4d5a-904b-cd882b141dc2",
   "metadata": {},
   "source": [
    "#### 17-27. str(object)"
   ]
  },
  {
   "cell_type": "code",
   "execution_count": 104,
   "id": "67a80ed6-75e1-4986-8a55-9307e558d39f",
   "metadata": {},
   "outputs": [
    {
     "name": "stdout",
     "output_type": "stream",
     "text": [
      "3.14\n"
     ]
    }
   ],
   "source": [
    "# 문자열 형태로 객체를 변환하여 리턴한다.\n",
    "print(str(3.14))"
   ]
  },
  {
   "cell_type": "markdown",
   "id": "b9fb3025-fce4-478e-9f7b-7317d8570aff",
   "metadata": {},
   "source": [
    "#### 17-28. sum(iterable)"
   ]
  },
  {
   "cell_type": "code",
   "execution_count": 106,
   "id": "401f50e0-2543-4bf1-b706-065b7347876b",
   "metadata": {},
   "outputs": [
    {
     "name": "stdout",
     "output_type": "stream",
     "text": [
      "6\n",
      "10\n"
     ]
    }
   ],
   "source": [
    "# 입력 데이터의 합을 리턴한다.\n",
    "print(sum([1, 2, 3]))\n",
    "print(sum((1, 2, 3, 4)))"
   ]
  },
  {
   "cell_type": "markdown",
   "id": "a2b2dc47-bd28-4269-9ae2-fedf36f80619",
   "metadata": {},
   "source": [
    "#### 17-29. tuple(iterable)"
   ]
  },
  {
   "cell_type": "code",
   "execution_count": 109,
   "id": "4c789e67-92c6-46f6-8bce-7b98b7d56d14",
   "metadata": {},
   "outputs": [
    {
     "name": "stdout",
     "output_type": "stream",
     "text": [
      "(1, 2, 3)\n",
      "('p', 'y', 't', 'h', 'o', 'n')\n"
     ]
    }
   ],
   "source": [
    "# 반복 가능한 데이터를 튜플로 바꾸어 리턴한다.\n",
    "print(tuple([1, 2, 3]))\n",
    "print(tuple('python'))"
   ]
  },
  {
   "cell_type": "code",
   "execution_count": 110,
   "id": "937e83ce-d21f-49d6-a89c-4dcccc3a6fc7",
   "metadata": {},
   "outputs": [
    {
     "name": "stdout",
     "output_type": "stream",
     "text": [
      "(1, 2, 3)\n"
     ]
    }
   ],
   "source": [
    "# 입력이 튜플인 경우 그대로 리턴한다.\n",
    "print(tuple((1, 2, 3)))"
   ]
  },
  {
   "cell_type": "markdown",
   "id": "0dc9d869-d8de-41bc-88ed-7c7bc51ff095",
   "metadata": {},
   "source": [
    "#### 17-30. type(object)"
   ]
  },
  {
   "cell_type": "code",
   "execution_count": 117,
   "id": "30f17e07-d1f7-4565-9dcf-cb46b203cae4",
   "metadata": {},
   "outputs": [
    {
     "name": "stdout",
     "output_type": "stream",
     "text": [
      "<class 'str'>\n",
      "<class 'list'>\n",
      "<class '_io.TextIOWrapper'>\n"
     ]
    }
   ],
   "source": [
    "# 입력값의 자료형이 무엇인지 알려 준다.\n",
    "print(type('python'))\n",
    "print(type([1, 2, 3]))\n",
    "print(type(open(\"/home/loveofmylife/Tutorial_Python/py/newfile.txt\", 'r')))"
   ]
  },
  {
   "cell_type": "markdown",
   "id": "4f7f49c2-f59f-4536-8fc1-85c591176f01",
   "metadata": {},
   "source": [
    "#### 17-31. zip(*iterable)"
   ]
  },
  {
   "cell_type": "code",
   "execution_count": 123,
   "id": "69545533-d2c7-4078-8a55-4d9604ea8377",
   "metadata": {},
   "outputs": [],
   "source": [
    "# 동일한 개수로 이루어진 데이터들을 순서대로 묶어서 리턴한다.\n",
    "# *iterable은 반복 가능한 데이터를 여러 개 입력할 수 있다는 의미이다."
   ]
  },
  {
   "cell_type": "code",
   "execution_count": 124,
   "id": "c1f166ab-856f-432c-b04a-6c2d9cca3530",
   "metadata": {},
   "outputs": [
    {
     "name": "stdout",
     "output_type": "stream",
     "text": [
      "[(1, 4), (2, 5), (3, 6)]\n",
      "[(1, 4, 7), (2, 5, 8), (3, 6, 9)]\n"
     ]
    }
   ],
   "source": [
    "print(list(zip([1, 2, 3], [4, 5, 6])))\n",
    "print(list(zip([1, 2, 3], [4, 5, 6], [7, 8, 9])))"
   ]
  },
  {
   "cell_type": "code",
   "execution_count": 122,
   "id": "b26d46c5-8a35-4207-8a84-9c917f518d2d",
   "metadata": {},
   "outputs": [
    {
     "name": "stdout",
     "output_type": "stream",
     "text": [
      "[('a', 'e'), ('b', 'f'), ('c', 'g'), ('d', 'h')]\n",
      "[('a', 'e', 'i'), ('b', 'f', 'j'), ('c', 'g', 'k'), ('d', 'h', 'l')]\n"
     ]
    }
   ],
   "source": [
    "print(list(zip('abcd', 'efgh')))\n",
    "print(list(zip('abcd', 'efgh', 'ijkl')))"
   ]
  }
 ],
 "metadata": {
  "kernelspec": {
   "display_name": "Python 3 (ipykernel)",
   "language": "python",
   "name": "python3"
  },
  "language_info": {
   "codemirror_mode": {
    "name": "ipython",
    "version": 3
   },
   "file_extension": ".py",
   "mimetype": "text/x-python",
   "name": "python",
   "nbconvert_exporter": "python",
   "pygments_lexer": "ipython3",
   "version": "3.8.10"
  }
 },
 "nbformat": 4,
 "nbformat_minor": 5
}
