{
 "cells": [
  {
   "cell_type": "markdown",
   "id": "d001d43d-af82-41dc-925a-16fb06d64b43",
   "metadata": {},
   "source": [
    "#### 1. Introduction"
   ]
  },
  {
   "cell_type": "markdown",
   "id": "60dd1e8c-908e-49c1-a9ba-c0e6fb23a30c",
   "metadata": {},
   "source": [
    "#### 1-1. Python"
   ]
  },
  {
   "cell_type": "code",
   "execution_count": 1,
   "id": "033c0bf1-918d-44ec-9560-9dd74ba6efbf",
   "metadata": {},
   "outputs": [],
   "source": [
    "# \"Life is too short, You need python.\"\n",
    "\n",
    "# object oriented programming\n",
    "# 객체 지향 프로그래밍\n",
    "# 프로그램 설계 방법론의 일종으로 명령형 프로그래밍이다.\n",
    "# 프로그램을 데이터, 처리 방법으로 나누는 것이 아니라, 객체라는 기본 단위로 나누고 이들의 상호 작용으로 서술하는 방식이다.\n",
    "# 객체란 method, variable을 가지며 특정 역할을 수행하도록 정의한 추상적인 개념이다.\n",
    "\n",
    "# interactive interpreter\n",
    "# 입력한 소스 코드를 실행하는 환경이다.\n",
    "\n",
    "# interpreter language\n",
    "# 소스 코드를 한 줄씩 해석한 후 그때그때 실행해 결과를 바로 확인할 수 있는 언어이다.\n",
    "\n",
    "# open source\n",
    "# 저작권자가 소스 코드를 공개하여 누구나 별다른 제한 없이 자유롭게 사용·복제 ·배포·수정할 수 있는 소프트웨어이다.\n",
    "\n",
    "# python library\n",
    "# 파이썬 프로그램을 작성할 때 불러와 사용할 수 있도록 미리 만들어 놓은 파이썬 파일 모음이다.\n",
    "\n",
    "# source code\n",
    "# 컴퓨터 소프트웨어(프로그램) 제작에 사용되는 설계도이다.\n",
    "# 개념만 나타낸 추상적인 설계도(순서도)가 아닌, 입력하면 프로그램을 완성할 수 있는 세밀하고 구체적인 설계도이다.\n",
    "\n",
    "# editor란 소스 코드를 편집할 수 있는 프로그래밍 도구이다.\n",
    "\n",
    "# pickle module\n",
    "# 파이썬에서 사용하는 자료를 변형 없이 파일에 저장하거나 불러오는 일을 수행한다. (GitHub 05-6 표준 라이브러리 참고)"
   ]
  },
  {
   "cell_type": "markdown",
   "id": "d3fa8a95-cb0d-4b14-8166-83a7f9448cab",
   "metadata": {},
   "source": [
    "#### 1-2. What we can do"
   ]
  },
  {
   "cell_type": "code",
   "execution_count": 2,
   "id": "6edf8bed-9749-44a2-bbfc-599224ff1531",
   "metadata": {},
   "outputs": [],
   "source": [
    "# web programming\n",
    "\n",
    "# artificial intelligence\n",
    "# machine learning\n",
    "# 사이킷런(scikit-learn), 텐서플로(TensorFlow), 파이토치(PyTorch), 케라스(Keras)\n",
    "\n",
    "# 수치 연산 프로그래밍, 데이터 분석\n",
    "# 넘파이(NumPy), 판다스(Pandas), 맷플롯립(Matplotlib)\n",
    "\n",
    "# database programming\n",
    "# 사이베이스(Sybase), 인포믹스(Infomix), 오라클(Oracle), 마이에스큐엘(MySQL), 포스트그레스큐엘(PostgreSQL)\n",
    "\n",
    "# GUI\n",
    "# graphic user interface\n",
    "# GUI 프로그래밍이란 화면에 윈도우 창을 만들고 그 창에 프로그램을 동작시킬 수 있는 메뉴나 버튼 등을 추가하는 것이다.\n",
    "# Tkinter(티케이인터)\n",
    "\n",
    "# combination with C/C++\n",
    "# glue language\n",
    "# C/C++로 만든 프로그램을 파이썬에서 사용할 수 있고 파이썬으로 만든 프로그램도 C/C++에서 사용할 수 있다.\n",
    "\n",
    "# Internet of things\n",
    "# 파이썬은 운영체제(윈도우, 리눅스 등)의 시스템 명령어를 사용할 수 있는 각종 도구를 갖추고 있다.\n",
    "# 파일 관리, 로그 분석, 시스템 모니터링 등 여러 가지 시스템 유틸리티를 만드는 데 유리하다.\n",
    "# 유틸리티란 컴퓨터를 사용하는 데 도움을 주는 여러 가지 소프트웨어이다."
   ]
  },
  {
   "cell_type": "markdown",
   "id": "0faabe99-aef1-46e3-affa-018891392075",
   "metadata": {},
   "source": [
    "#### 1-3. What we cannot do"
   ]
  },
  {
   "cell_type": "code",
   "execution_count": 3,
   "id": "2a15ae2e-b0f3-4082-af05-cd1ba530f731",
   "metadata": {},
   "outputs": [],
   "source": [
    "# system programming\n",
    "# 리눅스 같은 운영체제 또는 엄청난 횟수의 반복과 연산이 필요한 프로그램을 만드는 것\n",
    "\n",
    "# hardware control\n",
    "# 매우 빠른 속도를 요구하거나 복잡하고 반복 연산이 많은 프로그램\n",
    "# 빠른 실행 속도가 필요한 부분은 C로 만들어, 프로그램을 파이썬 프로그램에 포함시킬 수 있다.\n",
    "\n",
    "# mobile programming\n",
    "\n",
    "# android native app\n",
    "# 안드로이드에서 파이썬으로 만든 프로그램이 실행되도록 지원하기는 한다.\n",
    "\n",
    "# iphone app"
   ]
  },
  {
   "cell_type": "markdown",
   "id": "5a317018-23ea-491b-8b9a-0138124e635a",
   "metadata": {},
   "source": [
    "#### 1-4. Basic Syntax"
   ]
  },
  {
   "cell_type": "code",
   "execution_count": 1,
   "id": "f53de9bc-7458-4362-b88e-f83cb9177d86",
   "metadata": {},
   "outputs": [],
   "source": [
    "# 대소문자 구별\n",
    "\n",
    "# 줄 맞추기, 들여 쓰기\n",
    "# 공백 문자나 탭 문자 어느 것으로 해도 상관 없으나 혼용하지 말고 같은 깊이로 작성하자.\n",
    "# 공백 문자 4개를 사용하는 것을 권장한다.\n",
    "# 탭 문자로 들여쓰기를 하더라도 대부분의 파이썬 에디터는 자동으로 공백 문자 4개로 변환하는 기능을 갖추고 있다.\n",
    "\n",
    "# 주석\n",
    "# 여러 줄로 이루어진 주석은 \"\"\" or ''' 사이에 작성한다.\n",
    "\n",
    "# python shell의 경우, 변수와 표현식의 값을 확인하기 위해서 print 함수 없이도 값 확인 가능하다.\n",
    "# 표현식의 실행 결과를 출력하는 것이 python shell 본래의 기능이기 때문이다.\n",
    "# 하지만 python editor를 사용할 경우에는 print function을 반드시 사용해야 한다.\n",
    "\n",
    "# cd(change directory)\n",
    "# 프롬프트 명령어\n",
    "# cd c:\\ 프롬프트를 바로 다음에 나오는 디렉터리(폴더)로 옮긴다.\n",
    "# 디렉터리 변경 후 명령어 python과 실행할 프로그램 이름을 입력하면 파이썬 프로그램을 실행할 수 있다.\n",
    "\n",
    "# \"c = d\" d의 값을 c에 넣어라.\n",
    "# \"c == d\" c와 d의 값이 같은가? 두 값을 비교할 때 사용한다."
   ]
  }
 ],
 "metadata": {
  "kernelspec": {
   "display_name": "Python 3 (ipykernel)",
   "language": "python",
   "name": "python3"
  },
  "language_info": {
   "codemirror_mode": {
    "name": "ipython",
    "version": 3
   },
   "file_extension": ".py",
   "mimetype": "text/x-python",
   "name": "python",
   "nbconvert_exporter": "python",
   "pygments_lexer": "ipython3",
   "version": "3.8.10"
  }
 },
 "nbformat": 4,
 "nbformat_minor": 5
}
