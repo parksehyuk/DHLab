{
 "cells": [
  {
   "cell_type": "markdown",
   "id": "555be744-7d46-4d36-878f-7e9a9def47b7",
   "metadata": {},
   "source": [
    "#### 8. Data Type VII"
   ]
  },
  {
   "cell_type": "markdown",
   "id": "470b1063-b400-409c-8c45-6fa9fcfbd143",
   "metadata": {},
   "source": [
    "#### 8-1. Bool Type"
   ]
  },
  {
   "cell_type": "code",
   "execution_count": 2,
   "id": "3b043f81-03ee-4c10-b71c-448e78665571",
   "metadata": {},
   "outputs": [],
   "source": [
    "# 불 자료형\n",
    "# True와 False 2가지 값만을 나타낸다.\n",
    "# True나 False는 파이썬의 예약어로, 첫 문자를 대문자로 작성해야 한다.\n",
    "# 불 자료형은 조건문의 리턴값으로도 사용된다."
   ]
  },
  {
   "cell_type": "code",
   "execution_count": 8,
   "id": "eafd3210-3ecf-4ef2-bce7-c14e3839c2bf",
   "metadata": {},
   "outputs": [
    {
     "name": "stdout",
     "output_type": "stream",
     "text": [
      "<class 'bool'>\n",
      "<class 'bool'>\n"
     ]
    }
   ],
   "source": [
    "# 따옴표로 감싸지 않은 문자열을 변수에 지정하지만, 오류가 발생하지 않는다.\n",
    "# type(x)는 x의 자료형을 확인하는 파이썬의 내장 함수이다.\n",
    "a = True\n",
    "b = False\n",
    "print(type(a))\n",
    "print(type(b))"
   ]
  },
  {
   "cell_type": "code",
   "execution_count": 12,
   "id": "16739eae-136b-4056-bd55-f61b04735e39",
   "metadata": {},
   "outputs": [
    {
     "name": "stdout",
     "output_type": "stream",
     "text": [
      "True\n",
      "False\n"
     ]
    }
   ],
   "source": [
    "print(1 == 1)\n",
    "print(2 < 1)"
   ]
  },
  {
   "cell_type": "markdown",
   "id": "7db9bd8d-8846-42ef-bd34-096c6a68cb3f",
   "metadata": {},
   "source": [
    "#### 8-2. Ture or False"
   ]
  },
  {
   "cell_type": "code",
   "execution_count": 17,
   "id": "6435ca82-2c67-41c2-81fb-bc2d859f8aa4",
   "metadata": {},
   "outputs": [],
   "source": [
    "# True\n",
    "# 자료형의 값이 비어 있지 않으면 참이다."
   ]
  },
  {
   "cell_type": "code",
   "execution_count": 18,
   "id": "edccef8e-81a5-460a-b5c1-c05a1fb48e84",
   "metadata": {},
   "outputs": [
    {
     "name": "stdout",
     "output_type": "stream",
     "text": [
      "4\n",
      "3\n",
      "2\n",
      "1\n"
     ]
    }
   ],
   "source": [
    "# a.pop() 함수는 리스트 a의 마지막 요소를 끄집어 내는 함수이다.\n",
    "# 리스트 안에 요소가 존재하는 한(a가 참인 동안) 마지막 요소를 계속 끄집어 낼 것이다.\n",
    "# 결국 더 이상 끄집어 낼 것이 없으면 a가 빈 리스트([])가 되어 거짓이 된다.\n",
    "# 따라서 while 문에서 조건문이 거짓이 되므로 while 문을 빠져나가게 된다.\n",
    "a = [1, 2, 3, 4]\n",
    "while a:\n",
    "    print(a.pop())"
   ]
  },
  {
   "cell_type": "code",
   "execution_count": 24,
   "id": "4583da82-392b-4a06-8426-0938f218316f",
   "metadata": {},
   "outputs": [
    {
     "name": "stdout",
     "output_type": "stream",
     "text": [
      "True\n"
     ]
    }
   ],
   "source": [
    "# 만약 [1, 2 ,3]이 참이면 'True' 문자열을 출력하고, 그렇지 않으면 'False' 문자열을 출력하라.\n",
    "if [1, 2, 3]:\n",
    "    print('True')\n",
    "else:\n",
    "    print('False')"
   ]
  },
  {
   "cell_type": "code",
   "execution_count": 25,
   "id": "27908897-77ff-4f9b-8441-620b687bd47b",
   "metadata": {},
   "outputs": [],
   "source": [
    "# False\n",
    "# 자료형의 값이 비어 있으면(\"\", [], (), {}) 거짓이다.\n",
    "# 숫자 값 0\n",
    "# None"
   ]
  },
  {
   "cell_type": "code",
   "execution_count": 26,
   "id": "8ffd4567-4f4f-410f-917c-04b16992b197",
   "metadata": {},
   "outputs": [
    {
     "name": "stdout",
     "output_type": "stream",
     "text": [
      "False\n"
     ]
    }
   ],
   "source": [
    "# 만약 []이 참이면 'True'라는 문자열을 출력하고, 그렇지 않으면 'False'라는 문자열을 출력하라.\n",
    "if []:\n",
    "    print('True')\n",
    "else:\n",
    "    print('False')"
   ]
  },
  {
   "cell_type": "markdown",
   "id": "5a043319-870d-4cc0-ba2e-8bdd9f5af987",
   "metadata": {},
   "source": [
    "#### 8-3. Bool Calculation"
   ]
  },
  {
   "cell_type": "code",
   "execution_count": 28,
   "id": "cff2cea3-f511-4c00-b651-ac69fdc7de8a",
   "metadata": {},
   "outputs": [
    {
     "name": "stdout",
     "output_type": "stream",
     "text": [
      "True\n"
     ]
    }
   ],
   "source": [
    "print(bool('python'))"
   ]
  },
  {
   "cell_type": "code",
   "execution_count": 31,
   "id": "97902e1b-5f7d-4673-97da-4f940fb9414b",
   "metadata": {},
   "outputs": [
    {
     "name": "stdout",
     "output_type": "stream",
     "text": [
      "False\n",
      "False\n"
     ]
    }
   ],
   "source": [
    "print(bool(''))\n",
    "print(bool(0))"
   ]
  }
 ],
 "metadata": {
  "kernelspec": {
   "display_name": "Python 3 (ipykernel)",
   "language": "python",
   "name": "python3"
  },
  "language_info": {
   "codemirror_mode": {
    "name": "ipython",
    "version": 3
   },
   "file_extension": ".py",
   "mimetype": "text/x-python",
   "name": "python",
   "nbconvert_exporter": "python",
   "pygments_lexer": "ipython3",
   "version": "3.8.10"
  }
 },
 "nbformat": 4,
 "nbformat_minor": 5
}
