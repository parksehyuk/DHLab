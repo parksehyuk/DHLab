{
 "cells": [
  {
   "cell_type": "markdown",
   "id": "41c3a48c-0c07-4869-9e99-0dd6c5984cfd",
   "metadata": {},
   "source": [
    "#### 20. Simple python programming"
   ]
  },
  {
   "cell_type": "code",
   "execution_count": 8,
   "id": "fbe7cae6-88e1-4ef0-ac24-01f2779f0b1d",
   "metadata": {},
   "outputs": [
    {
     "name": "stdout",
     "output_type": "stream",
     "text": [
      "[2, 4, 6, 8, 10, 12, 14, 16, 18]\n"
     ]
    }
   ],
   "source": [
    "# 구구단 2단\n",
    "def gugu(n):\n",
    "    result = []\n",
    "    i = 1\n",
    "    while i < 10:\n",
    "        result.append(n * i)\n",
    "        i = i + 1\n",
    "    return result\n",
    "result = gugu(2)\n",
    "print(result)"
   ]
  },
  {
   "cell_type": "code",
   "execution_count": 19,
   "id": "da7c697c-dc80-4c39-9f23-60363467bd69",
   "metadata": {},
   "outputs": [
    {
     "name": "stdout",
     "output_type": "stream",
     "text": [
      "2 4 6 8 10 12 14 16 18 \n",
      "3 6 9 12 15 18 21 24 27 \n",
      "4 8 12 16 20 24 28 32 36 \n",
      "5 10 15 20 25 30 35 40 45 \n",
      "6 12 18 24 30 36 42 48 54 \n",
      "7 14 21 28 35 42 49 56 63 \n",
      "8 16 24 32 40 48 56 64 72 \n",
      "9 18 27 36 45 54 63 72 81 \n"
     ]
    }
   ],
   "source": [
    "# 구구단\n",
    "for i in range(2, 10):\n",
    "    for j in range(1, 10):\n",
    "        print(i * j, end = ' ')\n",
    "    print('')"
   ]
  },
  {
   "cell_type": "code",
   "execution_count": 36,
   "id": "738f5152-a7c1-426b-a910-aae8f7acec54",
   "metadata": {},
   "outputs": [
    {
     "name": "stdout",
     "output_type": "stream",
     "text": [
      "499500\n"
     ]
    }
   ],
   "source": [
    "# 1-999 모두 더하기\n",
    "result = 0\n",
    "for n in range(1, 1000):\n",
    "    result += n\n",
    "print(result)"
   ]
  },
  {
   "cell_type": "code",
   "execution_count": 5,
   "id": "13a48c8f-6fd9-422f-949c-19a5f9a06f0e",
   "metadata": {},
   "outputs": [
    {
     "name": "stdout",
     "output_type": "stream",
     "text": [
      "233168\n"
     ]
    }
   ],
   "source": [
    "# 3과 5의 배수를 모두 더하기 (중복 항목 제외)\n",
    "result = 0\n",
    "for n in range(1, 1000):\n",
    "    if n % 3 == 0 or n % 5 == 0:\n",
    "        result += n\n",
    "print(result)"
   ]
  },
  {
   "cell_type": "code",
   "execution_count": 6,
   "id": "9eb637cf-e678-46d9-b5fa-933256a2cd9b",
   "metadata": {},
   "outputs": [
    {
     "name": "stdout",
     "output_type": "stream",
     "text": [
      "266333\n"
     ]
    }
   ],
   "source": [
    "# 3과 5의 배수를 모두 더하기 (항목 중복됨)\n",
    "result = 0\n",
    "for n in range(1, 1000):\n",
    "    if n % 3 == 0:\n",
    "        result += n\n",
    "    if n % 5 == 0:\n",
    "        result += n\n",
    "print(result)"
   ]
  },
  {
   "cell_type": "code",
   "execution_count": 4,
   "id": "90937244-7203-4d81-97e2-0f3b401e433f",
   "metadata": {},
   "outputs": [
    {
     "name": "stdout",
     "output_type": "stream",
     "text": [
      "1\n",
      "2\n",
      "3\n",
      "3\n"
     ]
    }
   ],
   "source": [
    "# 게시판 페이징\n",
    "def get_total_page(m, n):\n",
    "    if m % n == 0:\n",
    "        return m // n\n",
    "    else:\n",
    "        return m // n + 1\n",
    "\n",
    "print(get_total_page(5, 10))\n",
    "print(get_total_page(15, 10))\n",
    "print(get_total_page(25, 10))\n",
    "print(get_total_page(30, 10))"
   ]
  },
  {
   "cell_type": "code",
   "execution_count": 9,
   "id": "f9e2b121-ccce-4c8c-b056-d02059d66286",
   "metadata": {},
   "outputs": [],
   "source": [
    "# 파일에 저장,추가 및 조회가 가능한 메모장\n",
    "# /home/loveofmylife/Tutorial_Python/py\n",
    "import sys\n",
    "file_name = sys.argv[0]\n",
    "option = sys.argv[1]\n",
    "\n",
    "if option == '-a':\n",
    "    memo = sys.argv[2]\n",
    "    f = open('memo.txt', 'a')\n",
    "    f.write(memo)\n",
    "    f.write('\\n')\n",
    "    f.close()\n",
    "elif option == '-v':\n",
    "    f = open('memo.txt')\n",
    "    memo = f.read()\n",
    "    f.close()\n",
    "    print(memo)"
   ]
  },
  {
   "cell_type": "code",
   "execution_count": null,
   "id": "e0bb2a38-6355-45f8-9bb9-1af8b175ca9f",
   "metadata": {},
   "outputs": [],
   "source": [
    "# Tab 문자를 공백문자 4개로 만들기\n",
    "# python tabto4.py a.txt b.txt\n",
    "import sys\n",
    "self = sys.argv[0]\n",
    "src = sys.argv[1]\n",
    "dst = sys.argv[2]\n",
    "f = open(src)\n",
    "tab_content = f.read()\n",
    "f.close()\n",
    "space_content = tab_content.replace('\\t', '' * 4)\n",
    "print(space_content)\n",
    "f = open(dst, 'w')\n",
    "f.write(space_content)\n",
    "f.close()"
   ]
  },
  {
   "cell_type": "code",
   "execution_count": 12,
   "id": "0c151d58-22fc-4ed9-a19f-5477db4beed0",
   "metadata": {},
   "outputs": [
    {
     "name": "stdout",
     "output_type": "stream",
     "text": [
      "/home/loveofmylife/Tutorial_Python/Python20.ipynb\n",
      "/home/loveofmylife/Tutorial_Python/Python14.ipynb\n",
      "/home/loveofmylife/Tutorial_Python/Python15.ipynb\n",
      "/home/loveofmylife/Tutorial_Python/__pycache__\n",
      "/home/loveofmylife/Tutorial_Python/Python08.ipynb\n",
      "/home/loveofmylife/Tutorial_Python/Python13.ipynb\n",
      "/home/loveofmylife/Tutorial_Python/Python01.ipynb\n",
      "/home/loveofmylife/Tutorial_Python/Python04.ipynb\n",
      "/home/loveofmylife/Tutorial_Python/Python16.ipynb\n",
      "/home/loveofmylife/Tutorial_Python/Python07.ipynb\n",
      "/home/loveofmylife/Tutorial_Python/Python06.ipynb\n",
      "/home/loveofmylife/Tutorial_Python/Python05.ipynb\n",
      "/home/loveofmylife/Tutorial_Python/py\n",
      "/home/loveofmylife/Tutorial_Python/.ipynb_checkpoints\n",
      "/home/loveofmylife/Tutorial_Python/Python17.ipynb\n",
      "/home/loveofmylife/Tutorial_Python/Python09.ipynb\n",
      "/home/loveofmylife/Tutorial_Python/Python12.ipynb\n",
      "/home/loveofmylife/Tutorial_Python/Python02.ipynb\n",
      "/home/loveofmylife/Tutorial_Python/Python03.ipynb\n",
      "/home/loveofmylife/Tutorial_Python/Python10.ipynb\n",
      "/home/loveofmylife/Tutorial_Python/Python11.ipynb\n"
     ]
    }
   ],
   "source": [
    "# 하위 디렉터리 검색하기\n",
    "import os\n",
    "def search(dirname):\n",
    "    filenames = os.listdir(dirname)\n",
    "    for filename in filenames:\n",
    "        full_filename = os.path.join(dirname, filename)\n",
    "        print(full_filename)\n",
    "search('/home/loveofmylife/Tutorial_Python')"
   ]
  },
  {
   "cell_type": "code",
   "execution_count": 23,
   "id": "a3283fef-1039-42c4-b86a-8c19eb3cf27c",
   "metadata": {},
   "outputs": [],
   "source": [
    "# os.path.splitext는 파일 이름을 확장자를 기준으로 두 부분으로 나눈다.\n",
    "# try-except는 os.listdir를 수행할 때 권한이 없는 디렉터리에 접근하더라도 프로그램이 오류로 종료되지 않고 수행되도록 한다.\n",
    "# full_filename이 디렉터리인지 파일인지 구별하기 위해 os.path.isdir 함수를 사용한다.\n",
    "# 재귀 호출\n",
    "# search 함수에서 다시 자기 자신인 search 함수를 호출한다."
   ]
  },
  {
   "cell_type": "code",
   "execution_count": 22,
   "id": "6e70a828-381e-4e1d-b1bc-68cec3fd1497",
   "metadata": {},
   "outputs": [
    {
     "name": "stdout",
     "output_type": "stream",
     "text": [
      "/home/loveofmylife/Tutorial_Python/Python20.ipynb\n",
      "/home/loveofmylife/Tutorial_Python/Python14.ipynb\n",
      "/home/loveofmylife/Tutorial_Python/Python15.ipynb\n",
      "/home/loveofmylife/Tutorial_Python/Python08.ipynb\n",
      "/home/loveofmylife/Tutorial_Python/Python13.ipynb\n",
      "/home/loveofmylife/Tutorial_Python/Python01.ipynb\n",
      "/home/loveofmylife/Tutorial_Python/Python04.ipynb\n",
      "/home/loveofmylife/Tutorial_Python/Python16.ipynb\n",
      "/home/loveofmylife/Tutorial_Python/Python07.ipynb\n",
      "/home/loveofmylife/Tutorial_Python/Python06.ipynb\n",
      "/home/loveofmylife/Tutorial_Python/Python05.ipynb\n",
      "/home/loveofmylife/Tutorial_Python/py/game/graphic/screen.py\n",
      "/home/loveofmylife/Tutorial_Python/py/game/graphic/render.py\n",
      "/home/loveofmylife/Tutorial_Python/py/game/graphic/.ipynb_checkpoints/render-checkpoint.py\n",
      "/home/loveofmylife/Tutorial_Python/py/game/graphic/.ipynb_checkpoints/screen-checkpoint.py\n",
      "/home/loveofmylife/Tutorial_Python/py/game/graphic/.ipynb_checkpoints/__init__-checkpoint.py\n",
      "/home/loveofmylife/Tutorial_Python/py/game/graphic/__init__.py\n",
      "/home/loveofmylife/Tutorial_Python/py/game/play/run.py\n",
      "/home/loveofmylife/Tutorial_Python/py/game/play/.ipynb_checkpoints/testing-checkpoint.py\n",
      "/home/loveofmylife/Tutorial_Python/py/game/play/.ipynb_checkpoints/__init__-checkpoint.py\n",
      "/home/loveofmylife/Tutorial_Python/py/game/play/.ipynb_checkpoints/run-checkpoint.py\n",
      "/home/loveofmylife/Tutorial_Python/py/game/play/__init__.py\n",
      "/home/loveofmylife/Tutorial_Python/py/game/play/testing.py\n",
      "/home/loveofmylife/Tutorial_Python/py/game/sound/wav.py\n",
      "/home/loveofmylife/Tutorial_Python/py/game/sound/.ipynb_checkpoints/wav-checkpoint.py\n",
      "/home/loveofmylife/Tutorial_Python/py/game/sound/.ipynb_checkpoints/__init__-checkpoint.py\n",
      "/home/loveofmylife/Tutorial_Python/py/game/sound/.ipynb_checkpoints/echo-checkpoint.py\n",
      "/home/loveofmylife/Tutorial_Python/py/game/sound/__init__.py\n",
      "/home/loveofmylife/Tutorial_Python/py/game/sound/echo.py\n",
      "/home/loveofmylife/Tutorial_Python/py/game/.ipynb_checkpoints/__init__-checkpoint.py\n",
      "/home/loveofmylife/Tutorial_Python/py/game/__init__.py\n",
      "/home/loveofmylife/Tutorial_Python/py/mod3.py\n",
      "/home/loveofmylife/Tutorial_Python/py/mod2.py\n",
      "/home/loveofmylife/Tutorial_Python/py/mod1.py\n",
      "/home/loveofmylife/Tutorial_Python/py/tabto4.py\n",
      "/home/loveofmylife/Tutorial_Python/py/.ipynb_checkpoints/mod3-checkpoint.py\n",
      "/home/loveofmylife/Tutorial_Python/py/.ipynb_checkpoints/tabto4-checkpoint.py\n",
      "/home/loveofmylife/Tutorial_Python/py/.ipynb_checkpoints/mod1-checkpoint.py\n",
      "/home/loveofmylife/Tutorial_Python/py/.ipynb_checkpoints/mod2-checkpoint.py\n",
      "/home/loveofmylife/Tutorial_Python/py/.ipynb_checkpoints/memo-checkpoint.py\n",
      "/home/loveofmylife/Tutorial_Python/py/memo.py\n",
      "/home/loveofmylife/Tutorial_Python/.ipynb_checkpoints/Python06-checkpoint.ipynb\n",
      "/home/loveofmylife/Tutorial_Python/.ipynb_checkpoints/Python09-checkpoint.ipynb\n",
      "/home/loveofmylife/Tutorial_Python/.ipynb_checkpoints/Python16-checkpoint.ipynb\n",
      "/home/loveofmylife/Tutorial_Python/.ipynb_checkpoints/Python04-checkpoint.ipynb\n",
      "/home/loveofmylife/Tutorial_Python/.ipynb_checkpoints/Python05-checkpoint.ipynb\n",
      "/home/loveofmylife/Tutorial_Python/.ipynb_checkpoints/Python02-checkpoint.ipynb\n",
      "/home/loveofmylife/Tutorial_Python/.ipynb_checkpoints/Python12-checkpoint.ipynb\n",
      "/home/loveofmylife/Tutorial_Python/.ipynb_checkpoints/Python11-checkpoint.ipynb\n",
      "/home/loveofmylife/Tutorial_Python/.ipynb_checkpoints/Python13-checkpoint.ipynb\n",
      "/home/loveofmylife/Tutorial_Python/.ipynb_checkpoints/Python14-checkpoint.ipynb\n",
      "/home/loveofmylife/Tutorial_Python/.ipynb_checkpoints/Python10-checkpoint.ipynb\n",
      "/home/loveofmylife/Tutorial_Python/.ipynb_checkpoints/Python15-checkpoint.ipynb\n",
      "/home/loveofmylife/Tutorial_Python/.ipynb_checkpoints/Python08-checkpoint.ipynb\n",
      "/home/loveofmylife/Tutorial_Python/.ipynb_checkpoints/Python07-checkpoint.ipynb\n",
      "/home/loveofmylife/Tutorial_Python/.ipynb_checkpoints/Python20-checkpoint.ipynb\n",
      "/home/loveofmylife/Tutorial_Python/.ipynb_checkpoints/Python01-checkpoint.ipynb\n",
      "/home/loveofmylife/Tutorial_Python/.ipynb_checkpoints/Python17-checkpoint.ipynb\n",
      "/home/loveofmylife/Tutorial_Python/.ipynb_checkpoints/Python03-checkpoint.ipynb\n",
      "/home/loveofmylife/Tutorial_Python/.ipynb_checkpoints/Untitled-checkpoint.ipynb\n",
      "/home/loveofmylife/Tutorial_Python/Python17.ipynb\n",
      "/home/loveofmylife/Tutorial_Python/Python09.ipynb\n",
      "/home/loveofmylife/Tutorial_Python/Python12.ipynb\n",
      "/home/loveofmylife/Tutorial_Python/Python02.ipynb\n",
      "/home/loveofmylife/Tutorial_Python/Untitled.ipynb\n",
      "/home/loveofmylife/Tutorial_Python/Python03.ipynb\n",
      "/home/loveofmylife/Tutorial_Python/Python10.ipynb\n",
      "/home/loveofmylife/Tutorial_Python/Python11.ipynb\n"
     ]
    }
   ],
   "source": [
    "# 특정 디렉터리부터 시작해서 그 하위의 모든 파일 중 파이썬 파일만 출력해 주는 프로그램\n",
    "import os\n",
    "def search(dirname):\n",
    "    try:\n",
    "        filenames = os.listdir(dirname)\n",
    "        for filename in filenames:\n",
    "            full_filename = os.path.join(dirname, filename)\n",
    "            if os.path.isdir(full_filename):\n",
    "                search(full_filename)\n",
    "            else:\n",
    "                ext = os.path.splitext(full_filename)[-1]\n",
    "                if ext == '.ipynb':\n",
    "                    print(full_filename)\n",
    "                if ext == '.py':\n",
    "                    print(full_filename)\n",
    "    except PermissionError:\n",
    "        pass\n",
    "search(\"/home/loveofmylife/Tutorial_Python\")"
   ]
  },
  {
   "cell_type": "code",
   "execution_count": 26,
   "id": "5da8f246-a071-4431-b8c5-e90c3275cf50",
   "metadata": {},
   "outputs": [
    {
     "name": "stdout",
     "output_type": "stream",
     "text": [
      "/home/loveofmylife/Tutorial_PythonPython20.ipynb\n",
      "/home/loveofmylife/Tutorial_PythonPython14.ipynb\n",
      "/home/loveofmylife/Tutorial_PythonPython15.ipynb\n",
      "/home/loveofmylife/Tutorial_PythonPython08.ipynb\n",
      "/home/loveofmylife/Tutorial_PythonPython13.ipynb\n",
      "/home/loveofmylife/Tutorial_PythonPython01.ipynb\n",
      "/home/loveofmylife/Tutorial_PythonPython04.ipynb\n",
      "/home/loveofmylife/Tutorial_PythonPython16.ipynb\n",
      "/home/loveofmylife/Tutorial_PythonPython07.ipynb\n",
      "/home/loveofmylife/Tutorial_PythonPython06.ipynb\n",
      "/home/loveofmylife/Tutorial_PythonPython05.ipynb\n",
      "/home/loveofmylife/Tutorial_PythonPython17.ipynb\n",
      "/home/loveofmylife/Tutorial_PythonPython09.ipynb\n",
      "/home/loveofmylife/Tutorial_PythonPython12.ipynb\n",
      "/home/loveofmylife/Tutorial_PythonPython02.ipynb\n",
      "/home/loveofmylife/Tutorial_PythonUntitled.ipynb\n",
      "/home/loveofmylife/Tutorial_PythonPython03.ipynb\n",
      "/home/loveofmylife/Tutorial_PythonPython10.ipynb\n",
      "/home/loveofmylife/Tutorial_PythonPython11.ipynb\n",
      "/home/loveofmylife/Tutorial_Python/pymod3.py\n",
      "/home/loveofmylife/Tutorial_Python/pymod2.py\n",
      "/home/loveofmylife/Tutorial_Python/pymod1.py\n",
      "/home/loveofmylife/Tutorial_Python/pytabto4.py\n",
      "/home/loveofmylife/Tutorial_Python/pymemo.py\n",
      "/home/loveofmylife/Tutorial_Python/py/game__init__.py\n",
      "/home/loveofmylife/Tutorial_Python/py/game/graphicscreen.py\n",
      "/home/loveofmylife/Tutorial_Python/py/game/graphicrender.py\n",
      "/home/loveofmylife/Tutorial_Python/py/game/graphic__init__.py\n",
      "/home/loveofmylife/Tutorial_Python/py/game/graphic/.ipynb_checkpointsrender-checkpoint.py\n",
      "/home/loveofmylife/Tutorial_Python/py/game/graphic/.ipynb_checkpointsscreen-checkpoint.py\n",
      "/home/loveofmylife/Tutorial_Python/py/game/graphic/.ipynb_checkpoints__init__-checkpoint.py\n",
      "/home/loveofmylife/Tutorial_Python/py/game/playrun.py\n",
      "/home/loveofmylife/Tutorial_Python/py/game/play__init__.py\n",
      "/home/loveofmylife/Tutorial_Python/py/game/playtesting.py\n",
      "/home/loveofmylife/Tutorial_Python/py/game/play/.ipynb_checkpointstesting-checkpoint.py\n",
      "/home/loveofmylife/Tutorial_Python/py/game/play/.ipynb_checkpoints__init__-checkpoint.py\n",
      "/home/loveofmylife/Tutorial_Python/py/game/play/.ipynb_checkpointsrun-checkpoint.py\n",
      "/home/loveofmylife/Tutorial_Python/py/game/soundwav.py\n",
      "/home/loveofmylife/Tutorial_Python/py/game/sound__init__.py\n",
      "/home/loveofmylife/Tutorial_Python/py/game/soundecho.py\n",
      "/home/loveofmylife/Tutorial_Python/py/game/sound/.ipynb_checkpointswav-checkpoint.py\n",
      "/home/loveofmylife/Tutorial_Python/py/game/sound/.ipynb_checkpoints__init__-checkpoint.py\n",
      "/home/loveofmylife/Tutorial_Python/py/game/sound/.ipynb_checkpointsecho-checkpoint.py\n",
      "/home/loveofmylife/Tutorial_Python/py/game/.ipynb_checkpoints__init__-checkpoint.py\n",
      "/home/loveofmylife/Tutorial_Python/py/.ipynb_checkpointsmod3-checkpoint.py\n",
      "/home/loveofmylife/Tutorial_Python/py/.ipynb_checkpointstabto4-checkpoint.py\n",
      "/home/loveofmylife/Tutorial_Python/py/.ipynb_checkpointsmod1-checkpoint.py\n",
      "/home/loveofmylife/Tutorial_Python/py/.ipynb_checkpointsmod2-checkpoint.py\n",
      "/home/loveofmylife/Tutorial_Python/py/.ipynb_checkpointsmemo-checkpoint.py\n",
      "/home/loveofmylife/Tutorial_Python/.ipynb_checkpointsPython06-checkpoint.ipynb\n",
      "/home/loveofmylife/Tutorial_Python/.ipynb_checkpointsPython09-checkpoint.ipynb\n",
      "/home/loveofmylife/Tutorial_Python/.ipynb_checkpointsPython16-checkpoint.ipynb\n",
      "/home/loveofmylife/Tutorial_Python/.ipynb_checkpointsPython04-checkpoint.ipynb\n",
      "/home/loveofmylife/Tutorial_Python/.ipynb_checkpointsPython05-checkpoint.ipynb\n",
      "/home/loveofmylife/Tutorial_Python/.ipynb_checkpointsPython02-checkpoint.ipynb\n",
      "/home/loveofmylife/Tutorial_Python/.ipynb_checkpointsPython12-checkpoint.ipynb\n",
      "/home/loveofmylife/Tutorial_Python/.ipynb_checkpointsPython11-checkpoint.ipynb\n",
      "/home/loveofmylife/Tutorial_Python/.ipynb_checkpointsPython13-checkpoint.ipynb\n",
      "/home/loveofmylife/Tutorial_Python/.ipynb_checkpointsPython14-checkpoint.ipynb\n",
      "/home/loveofmylife/Tutorial_Python/.ipynb_checkpointsPython10-checkpoint.ipynb\n",
      "/home/loveofmylife/Tutorial_Python/.ipynb_checkpointsPython15-checkpoint.ipynb\n",
      "/home/loveofmylife/Tutorial_Python/.ipynb_checkpointsPython08-checkpoint.ipynb\n",
      "/home/loveofmylife/Tutorial_Python/.ipynb_checkpointsPython07-checkpoint.ipynb\n",
      "/home/loveofmylife/Tutorial_Python/.ipynb_checkpointsPython20-checkpoint.ipynb\n",
      "/home/loveofmylife/Tutorial_Python/.ipynb_checkpointsPython01-checkpoint.ipynb\n",
      "/home/loveofmylife/Tutorial_Python/.ipynb_checkpointsPython17-checkpoint.ipynb\n",
      "/home/loveofmylife/Tutorial_Python/.ipynb_checkpointsPython03-checkpoint.ipynb\n",
      "/home/loveofmylife/Tutorial_Python/.ipynb_checkpointsUntitled-checkpoint.ipynb\n"
     ]
    }
   ],
   "source": [
    "# os.walk\n",
    "# 시작 디렉터리부터 하위 모든 디렉터리를 차례대로 방문하는 함수이다.\n",
    "import os\n",
    "for (path, dir, files) in os.walk('/home/loveofmylife/Tutorial_Python'):\n",
    "    for filename in files:\n",
    "        ext = os.path.splitext(filename)[-1]\n",
    "        if ext == '.ipynb':\n",
    "            print('%s%s' % (path, filename))\n",
    "        if ext == '.py':\n",
    "            print('%s%s' % (path, filename))"
   ]
  },
  {
   "cell_type": "code",
   "execution_count": null,
   "id": "78cacb08-5fbe-4a0f-b9c6-d38a9d3ece4e",
   "metadata": {},
   "outputs": [],
   "source": []
  }
 ],
 "metadata": {
  "kernelspec": {
   "display_name": "Python 3 (ipykernel)",
   "language": "python",
   "name": "python3"
  },
  "language_info": {
   "codemirror_mode": {
    "name": "ipython",
    "version": 3
   },
   "file_extension": ".py",
   "mimetype": "text/x-python",
   "name": "python",
   "nbconvert_exporter": "python",
   "pygments_lexer": "ipython3",
   "version": "3.8.10"
  }
 },
 "nbformat": 4,
 "nbformat_minor": 5
}
