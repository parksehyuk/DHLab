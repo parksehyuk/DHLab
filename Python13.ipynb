{
 "cells": [
  {
   "cell_type": "markdown",
   "id": "c7809a4e-c2c4-4587-aa6d-653444101906",
   "metadata": {},
   "source": [
    "#### 13. Class"
   ]
  },
  {
   "cell_type": "code",
   "execution_count": 5,
   "id": "c3cb87ec-f715-47d1-bfdf-545871461af2",
   "metadata": {},
   "outputs": [],
   "source": [
    "# 이전에 계산한 결과값을 메모리 어딘가에 저장하고 있어야 할 때 class를 이용한다.\n",
    "# object(객체) 생성을 통해 함수만 사용할 때보다 명료한 작성이 가능하다.\n",
    "# class란 똑같은 무언가를 계속 만들어 낼 수 있는 설계 도면, object란 class로 만든 피조물이다."
   ]
  },
  {
   "cell_type": "code",
   "execution_count": 6,
   "id": "767b697d-4d37-4b7c-a73f-9a9612a92482",
   "metadata": {},
   "outputs": [
    {
     "name": "stdout",
     "output_type": "stream",
     "text": [
      "3\n",
      "7\n",
      "3\n",
      "10\n"
     ]
    }
   ],
   "source": [
    "# 똑같은 일을 하는 함수를 만들고 각 함수에서 계산한 결과값을 유지하면서 저장하는 전역 변수를 정의한다.\n",
    "# add1의 결과값은 add2에 영향을 끼치지 않지만, 많은 함수가 필요한 경우 클래스를 사용한다.\n",
    "result1 = 0\n",
    "result2 = 0\n",
    "def add1(num):\n",
    "    global result1\n",
    "    result1 += num\n",
    "    return result1\n",
    "def add2(num):\n",
    "    global result2\n",
    "    result2 += num\n",
    "    return result2\n",
    "print(add1(3))\n",
    "print(add1(4))\n",
    "print(add2(3))\n",
    "print(add2(7))"
   ]
  },
  {
   "cell_type": "code",
   "execution_count": 12,
   "id": "039fda60-2573-49a2-967c-0b92c6fe3ffa",
   "metadata": {
    "scrolled": true
   },
   "outputs": [
    {
     "name": "stdout",
     "output_type": "stream",
     "text": [
      "3\n",
      "7\n",
      "3\n",
      "10\n"
     ]
    }
   ],
   "source": [
    "# object(cal1, cal2)가 함수의 역할을 수행하며 개별 결과값은 독립적인 값을 유지한다.\n",
    "class calculator:\n",
    "    def __init__(self):\n",
    "        self.result = 0\n",
    "    def add(self, num):\n",
    "        self.result += num\n",
    "        return self.result\n",
    "cal1 = calculator()\n",
    "cal2 = calculator()\n",
    "cal3 = calculator()\n",
    "print(cal1.add(3))\n",
    "print(cal1.add(4))\n",
    "print(cal2.add(3))\n",
    "print(cal2.add(7))"
   ]
  },
  {
   "cell_type": "markdown",
   "id": "fda57518-588a-4f91-99c8-050f720a2ec0",
   "metadata": {},
   "source": [
    "#### 13-1. Object"
   ]
  },
  {
   "cell_type": "code",
   "execution_count": 10,
   "id": "74b8fc86-580c-4c40-ab1c-ffb135599f3d",
   "metadata": {},
   "outputs": [],
   "source": [
    "# a object, b object\n",
    "# Cookie()의 결과값을 리턴받은 a와 b\n",
    "# 함수를 사용해 결과값을 리턴받는 모습과 비슷하다.\n",
    "# pass는 아무것도 수행하지 않는 문법으로, 임시로 코드를 작성할 때 주로 사용한다.\n",
    "class cookie:\n",
    "    pass\n",
    "a = cookie()\n",
    "b = cookie()"
   ]
  },
  {
   "cell_type": "code",
   "execution_count": 11,
   "id": "f3e01244-209f-4d91-9744-9046d1b3efdf",
   "metadata": {},
   "outputs": [],
   "source": [
    "# instance\n",
    "# a is cookie's instance\n",
    "# calss로 생성한 object를 instance라고 한다.\n",
    "# 특정 객체(a)가 어떤 클래스(cookie)의 객체인지 관계 위주로 설명할 때 사용한다."
   ]
  },
  {
   "cell_type": "markdown",
   "id": "95edcc88-7e38-4016-9c46-866c93a2e344",
   "metadata": {},
   "source": [
    "#### 13-2. Method"
   ]
  },
  {
   "cell_type": "code",
   "execution_count": 39,
   "id": "553a3f3f-2758-43ae-91dc-ab22437a8889",
   "metadata": {},
   "outputs": [
    {
     "name": "stdout",
     "output_type": "stream",
     "text": [
      "<__main__.cal object at 0x7f5e9462cb80>\n"
     ]
    }
   ],
   "source": [
    "# class 안에 구현된 함수를 의미한다.\n",
    "# 첫 번째 매개변수 이름은 관례적으로 self를 사용한다.\n",
    "# 객체를 호출할 때 호출한 객체 자신이 전달되기 때문에 self라는 이름을 사용한다.\n",
    "class cal:\n",
    "    def setdata(self, first, second):\n",
    "        self.first = first\n",
    "        self.second = second\n",
    "print(a)"
   ]
  },
  {
   "cell_type": "markdown",
   "id": "7cc399f1-e9b2-4471-b0c5-7d9015f1dd38",
   "metadata": {},
   "source": [
    "#### 13-3. Object variables or attribute"
   ]
  },
  {
   "cell_type": "code",
   "execution_count": 41,
   "id": "4d954e16-c186-41d2-9701-37ae1ffbb7c7",
   "metadata": {},
   "outputs": [
    {
     "name": "stdout",
     "output_type": "stream",
     "text": [
      "4\n",
      "2\n"
     ]
    }
   ],
   "source": [
    "# 객체변수 or 속성\n",
    "# 객체에 생성되는 객체만의 변수 first, second..\n",
    "# setdata method의 수행문은 다음과 같이 해석된다.\n",
    "# self.first = a.first\n",
    "# self.second = a.second\n",
    "a = cal()\n",
    "a.setdata(4, 2)\n",
    "cal.setdata(a, 4, 2)\n",
    "print(a.first)\n",
    "print(a.second)"
   ]
  },
  {
   "cell_type": "code",
   "execution_count": 42,
   "id": "4ef3b910-da3a-452a-acbb-88a655899bf0",
   "metadata": {},
   "outputs": [
    {
     "name": "stdout",
     "output_type": "stream",
     "text": [
      "4\n",
      "2\n",
      "3\n",
      "7\n"
     ]
    }
   ],
   "source": [
    "a = cal()\n",
    "b = cal()\n",
    "a.setdata(4, 2)\n",
    "b.setdata(3, 7)\n",
    "print(a.first)\n",
    "print(a.second)\n",
    "print(b.first)\n",
    "print(b.second)"
   ]
  },
  {
   "cell_type": "markdown",
   "id": "94103f17-d9d6-4260-86d1-38b903f2ab3a",
   "metadata": {},
   "source": [
    "#### 13-4. Class structure"
   ]
  },
  {
   "cell_type": "code",
   "execution_count": 47,
   "id": "916f8333-ec88-447d-bb26-6832fc9733b5",
   "metadata": {},
   "outputs": [],
   "source": [
    "class cal:\n",
    "    def setdata(self, first, second):\n",
    "        self.first = first\n",
    "        self.second = second\n",
    "    def add(self):\n",
    "        result = self.first + self.second\n",
    "        return result\n",
    "    def sub(self):\n",
    "        result = self.first - self.second\n",
    "        return result\n",
    "    def mul(self):\n",
    "        result = self.first * self.second\n",
    "        return result\n",
    "    def div(self):\n",
    "        result = self.first / self.second\n",
    "        return result"
   ]
  },
  {
   "cell_type": "code",
   "execution_count": 51,
   "id": "0ede9c32-43d9-404c-bc25-409264a78eae",
   "metadata": {},
   "outputs": [
    {
     "name": "stdout",
     "output_type": "stream",
     "text": [
      "3\n",
      "-1\n",
      "2\n",
      "0.5\n",
      "7\n",
      "-1\n",
      "12\n",
      "0.75\n"
     ]
    }
   ],
   "source": [
    "a = cal()\n",
    "b = cal()\n",
    "a.setdata(1, 2)\n",
    "b.setdata(3, 4)\n",
    "print(a.add())\n",
    "print(a.sub())\n",
    "print(a.mul())\n",
    "print(a.div())\n",
    "print(b.add())\n",
    "print(b.sub())\n",
    "print(b.mul())\n",
    "print(b.div())"
   ]
  },
  {
   "cell_type": "markdown",
   "id": "2171c443-9efd-4b8b-996f-199007058c4c",
   "metadata": {},
   "source": [
    "#### 13-5. Constructor"
   ]
  },
  {
   "cell_type": "code",
   "execution_count": 53,
   "id": "ad33b488-299e-4797-9208-d88165226489",
   "metadata": {},
   "outputs": [
    {
     "ename": "AttributeError",
     "evalue": "'cal' object has no attribute 'first'",
     "output_type": "error",
     "traceback": [
      "\u001b[0;31m---------------------------------------------------------------------------\u001b[0m",
      "\u001b[0;31mAttributeError\u001b[0m                            Traceback (most recent call last)",
      "Cell \u001b[0;32mIn[53], line 3\u001b[0m\n\u001b[1;32m      1\u001b[0m \u001b[38;5;66;03m# Class의 instance a에 setdata method를 수행하지 않고 add method를 먼저 수행하면 오류가 발생한다.\u001b[39;00m\n\u001b[1;32m      2\u001b[0m a \u001b[38;5;241m=\u001b[39m cal()\n\u001b[0;32m----> 3\u001b[0m \u001b[43ma\u001b[49m\u001b[38;5;241;43m.\u001b[39;49m\u001b[43madd\u001b[49m\u001b[43m(\u001b[49m\u001b[43m)\u001b[49m\n",
      "Cell \u001b[0;32mIn[47], line 6\u001b[0m, in \u001b[0;36mcal.add\u001b[0;34m(self)\u001b[0m\n\u001b[1;32m      5\u001b[0m \u001b[38;5;28;01mdef\u001b[39;00m \u001b[38;5;21madd\u001b[39m(\u001b[38;5;28mself\u001b[39m):\n\u001b[0;32m----> 6\u001b[0m     result \u001b[38;5;241m=\u001b[39m \u001b[38;5;28;43mself\u001b[39;49m\u001b[38;5;241;43m.\u001b[39;49m\u001b[43mfirst\u001b[49m \u001b[38;5;241m+\u001b[39m \u001b[38;5;28mself\u001b[39m\u001b[38;5;241m.\u001b[39msecond\n\u001b[1;32m      7\u001b[0m     \u001b[38;5;28;01mreturn\u001b[39;00m result\n",
      "\u001b[0;31mAttributeError\u001b[0m: 'cal' object has no attribute 'first'"
     ]
    }
   ],
   "source": [
    "# Class의 instance a에 setdata method를 수행하지 않고 add method를 먼저 수행하면 오류가 발생한다.\n",
    "a = cal()\n",
    "a.add()"
   ]
  },
  {
   "cell_type": "code",
   "execution_count": 54,
   "id": "4c4fdca9-6971-4eb6-9af7-8bc2430df9ec",
   "metadata": {},
   "outputs": [],
   "source": [
    "# constructor(생성자)\n",
    "# 객체가 생성될 때 자동으로 호출되는 메서드를 의미한다.\n",
    "# 객체가 생성되는 시점에 자동으로 호출된다는 차이를 제외하고 setdata method와 같다.\n",
    "class FourCal:\n",
    "     def __init__(self, first, second):\n",
    "         self.first = first\n",
    "         self.second = second"
   ]
  },
  {
   "cell_type": "code",
   "execution_count": 57,
   "id": "9a78190d-a6ac-45d8-b2b7-bfc53741b598",
   "metadata": {},
   "outputs": [],
   "source": [
    "class cal:\n",
    "    def __init__(self, first, second):\n",
    "        self.first = first\n",
    "        self.second = second\n",
    "    def setdata(self, first, second):\n",
    "        self.first = first\n",
    "        self.second = second\n",
    "    def add(self):\n",
    "        result = self.first + self.second\n",
    "        return result\n",
    "    def sub(self):\n",
    "        result = self.first - self.second\n",
    "        return result\n",
    "    def mul(self):\n",
    "        result = self.first * self.second\n",
    "        return result\n",
    "    def div(self):\n",
    "        result = self.first / self.second\n",
    "        return result"
   ]
  },
  {
   "cell_type": "code",
   "execution_count": 59,
   "id": "12994a66-a391-45ed-b609-679968ebff23",
   "metadata": {},
   "outputs": [
    {
     "ename": "TypeError",
     "evalue": "__init__() missing 2 required positional arguments: 'first' and 'second'",
     "output_type": "error",
     "traceback": [
      "\u001b[0;31m---------------------------------------------------------------------------\u001b[0m",
      "\u001b[0;31mTypeError\u001b[0m                                 Traceback (most recent call last)",
      "Cell \u001b[0;32mIn[59], line 2\u001b[0m\n\u001b[1;32m      1\u001b[0m \u001b[38;5;66;03m# 생성자의 매개변수 first와 second에 해당하는 값이 전달되지 않았기 때문에 오류가 발생한다.\u001b[39;00m\n\u001b[0;32m----> 2\u001b[0m a \u001b[38;5;241m=\u001b[39m \u001b[43mcal\u001b[49m\u001b[43m(\u001b[49m\u001b[43m)\u001b[49m\n",
      "\u001b[0;31mTypeError\u001b[0m: __init__() missing 2 required positional arguments: 'first' and 'second'"
     ]
    }
   ],
   "source": [
    "# 생성자의 매개변수 first와 second에 해당하는 값이 전달되지 않았기 때문에 오류가 발생한다.\n",
    "a = cal()"
   ]
  },
  {
   "cell_type": "markdown",
   "id": "7c2426a6-0aa6-4667-8748-718e758eb73b",
   "metadata": {},
   "source": [
    "#### 13-6. Succession"
   ]
  },
  {
   "cell_type": "code",
   "execution_count": 69,
   "id": "9dfe9e27-d7cf-459f-b963-c66c51a40bd3",
   "metadata": {},
   "outputs": [
    {
     "name": "stdout",
     "output_type": "stream",
     "text": [
      "7\n",
      "-1\n",
      "12\n",
      "0.75\n",
      "81\n"
     ]
    }
   ],
   "source": [
    "# 기존 클래스를 변경하지 않고 기능을 추가하거나 기존 기능을 변경하려고 할 때 사용한다.\n",
    "# 상속받은 class는 기존 class의 모든 기능을 사용할 수 있다.\n",
    "class morecal(cal):\n",
    "    def pow(self):\n",
    "        result = self.first ** self.second\n",
    "        return result\n",
    "a = morecal(3, 4)\n",
    "print(a.add())\n",
    "print(a.sub())\n",
    "print(a.mul())\n",
    "print(a.div())\n",
    "print(a.pow())"
   ]
  },
  {
   "cell_type": "markdown",
   "id": "f5583b77-4363-4db9-9e88-739094bc36b5",
   "metadata": {},
   "source": [
    "#### 13-7. Method overriding"
   ]
  },
  {
   "cell_type": "code",
   "execution_count": 70,
   "id": "69f1057e-6513-410a-bb2a-4d5d2d328603",
   "metadata": {},
   "outputs": [
    {
     "ename": "ZeroDivisionError",
     "evalue": "division by zero",
     "output_type": "error",
     "traceback": [
      "\u001b[0;31m---------------------------------------------------------------------------\u001b[0m",
      "\u001b[0;31mZeroDivisionError\u001b[0m                         Traceback (most recent call last)",
      "Cell \u001b[0;32mIn[70], line 3\u001b[0m\n\u001b[1;32m      1\u001b[0m \u001b[38;5;66;03m# zero division error\u001b[39;00m\n\u001b[1;32m      2\u001b[0m a \u001b[38;5;241m=\u001b[39m cal(\u001b[38;5;241m4\u001b[39m, \u001b[38;5;241m0\u001b[39m)\n\u001b[0;32m----> 3\u001b[0m \u001b[38;5;28mprint\u001b[39m(\u001b[43ma\u001b[49m\u001b[38;5;241;43m.\u001b[39;49m\u001b[43mdiv\u001b[49m\u001b[43m(\u001b[49m\u001b[43m)\u001b[49m)\n",
      "Cell \u001b[0;32mIn[57], line 18\u001b[0m, in \u001b[0;36mcal.div\u001b[0;34m(self)\u001b[0m\n\u001b[1;32m     17\u001b[0m \u001b[38;5;28;01mdef\u001b[39;00m \u001b[38;5;21mdiv\u001b[39m(\u001b[38;5;28mself\u001b[39m):\n\u001b[0;32m---> 18\u001b[0m     result \u001b[38;5;241m=\u001b[39m \u001b[38;5;28;43mself\u001b[39;49m\u001b[38;5;241;43m.\u001b[39;49m\u001b[43mfirst\u001b[49m\u001b[43m \u001b[49m\u001b[38;5;241;43m/\u001b[39;49m\u001b[43m \u001b[49m\u001b[38;5;28;43mself\u001b[39;49m\u001b[38;5;241;43m.\u001b[39;49m\u001b[43msecond\u001b[49m\n\u001b[1;32m     19\u001b[0m     \u001b[38;5;28;01mreturn\u001b[39;00m result\n",
      "\u001b[0;31mZeroDivisionError\u001b[0m: division by zero"
     ]
    }
   ],
   "source": [
    "# zero division error\n",
    "# 0으로 나눌 때 오류가 아닌 값 0을 리턴받기\n",
    "a = cal(4, 0)\n",
    "print(a.div())"
   ]
  },
  {
   "cell_type": "code",
   "execution_count": 76,
   "id": "ac834685-52e6-435d-9ab6-e1af6da3d5ab",
   "metadata": {},
   "outputs": [
    {
     "name": "stdout",
     "output_type": "stream",
     "text": [
      "0\n"
     ]
    }
   ],
   "source": [
    "# method overriding\n",
    "# 부모 class에 있는 method를 동일한 이름으로 다시 만드는 것\n",
    "class morecal(cal):\n",
    "    def div(self):\n",
    "        if self.second == 0:\n",
    "            return 0\n",
    "        else:\n",
    "            return self.first / self.second\n",
    "a = morecal(4, 0)\n",
    "print(a.div())"
   ]
  },
  {
   "cell_type": "markdown",
   "id": "7ca71060-6b43-40a2-a800-b50b6da9c75e",
   "metadata": {},
   "source": [
    "#### 13-8. Class variable"
   ]
  },
  {
   "cell_type": "code",
   "execution_count": 79,
   "id": "ab1be812-ec24-470b-b378-b6570c63d209",
   "metadata": {},
   "outputs": [
    {
     "name": "stdout",
     "output_type": "stream",
     "text": [
      "park\n"
     ]
    }
   ],
   "source": [
    "# class 안에 변수를 선언하여 생성한다.\n",
    "class family:\n",
    "    lastname = 'park'\n",
    "a = family()\n",
    "print(a.lastname)"
   ]
  },
  {
   "cell_type": "code",
   "execution_count": 81,
   "id": "40a10b96-1b5f-4dd3-9128-f42bc8a336b1",
   "metadata": {},
   "outputs": [
    {
     "name": "stdout",
     "output_type": "stream",
     "text": [
      "kim\n"
     ]
    }
   ],
   "source": [
    "# 클래스변수는 객체변수와 달리 클래스로 만든 모든 객체에 공유된다.\n",
    "# 클래스변수의 값을 변경하면 클래스로 만든 객체의 값도 변경된다.\n",
    "family.lastname = 'kim'\n",
    "a = family()\n",
    "print(a.lastname)"
   ]
  },
  {
   "cell_type": "code",
   "execution_count": 90,
   "id": "3ad05b47-5c4d-4104-8d56-3e7b2b007d5e",
   "metadata": {},
   "outputs": [
    {
     "name": "stdout",
     "output_type": "stream",
     "text": [
      "choi\n"
     ]
    }
   ],
   "source": [
    "# class 변수 변경이 아닌 a 객체에 새로운 객체변수를 생성하기\n",
    "a.lastname = 'choi'\n",
    "print(a.lastname)"
   ]
  },
  {
   "cell_type": "code",
   "execution_count": 100,
   "id": "19204df0-80c4-4eaf-8b94-d7ab41e654ff",
   "metadata": {},
   "outputs": [
    {
     "name": "stdout",
     "output_type": "stream",
     "text": [
      "park\n",
      "choi\n",
      "park\n"
     ]
    }
   ],
   "source": [
    "# 객체변수를 생성하더라도 Class의 객체변수와는 상관없다.\n",
    "class family:\n",
    "    lastname = 'park'\n",
    "a = family()\n",
    "a.lastname = 'choi'\n",
    "b = family()\n",
    "print(family.lastname)\n",
    "print(a.lastname)\n",
    "print(b.lastname)"
   ]
  },
  {
   "cell_type": "code",
   "execution_count": null,
   "id": "c9d6af2e-8111-4964-854c-edae60670ae1",
   "metadata": {},
   "outputs": [],
   "source": []
  }
 ],
 "metadata": {
  "kernelspec": {
   "display_name": "Python 3 (ipykernel)",
   "language": "python",
   "name": "python3"
  },
  "language_info": {
   "codemirror_mode": {
    "name": "ipython",
    "version": 3
   },
   "file_extension": ".py",
   "mimetype": "text/x-python",
   "name": "python",
   "nbconvert_exporter": "python",
   "pygments_lexer": "ipython3",
   "version": "3.8.10"
  }
 },
 "nbformat": 4,
 "nbformat_minor": 5
}
