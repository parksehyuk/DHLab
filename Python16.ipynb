{
 "cells": [
  {
   "cell_type": "markdown",
   "id": "c83de740-3690-4a83-bfda-0575b88f7ad4",
   "metadata": {},
   "source": [
    "#### 16. Error exception handling techniques"
   ]
  },
  {
   "cell_type": "markdown",
   "id": "81656f20-ba93-424e-9855-6ee973fa391f",
   "metadata": {},
   "source": [
    "#### 16-1. try-except"
   ]
  },
  {
   "cell_type": "code",
   "execution_count": 1,
   "id": "f7e609d1-0535-44b2-8fb0-28dbc1aefa1a",
   "metadata": {},
   "outputs": [],
   "source": [
    "# try 블록 수행 중 오류가 발생하면 except 블록이 수행된다.\n",
    "# 하지만 try 블록에서 오류가 발생하지 않는다면 except 블록은 수행되지 않는다.\n",
    "# [] 기호는 괄호 안의 내용을 생략할 수 있다는 관례적인 표기법이다."
   ]
  },
  {
   "cell_type": "code",
   "execution_count": null,
   "id": "89a3108e-4765-4ae6-aa5e-e4f436cb3e78",
   "metadata": {},
   "outputs": [],
   "source": [
    "try:\n",
    "    ...\n",
    "except [occured_error [as error_variable]]:\n",
    "    ..."
   ]
  },
  {
   "cell_type": "code",
   "execution_count": 2,
   "id": "db1489d5-48e9-4c96-af2f-fb35d14d3359",
   "metadata": {},
   "outputs": [],
   "source": [
    "# try-except만 쓰기\n",
    "# 오류의 종류에 상관없이 오류가 발생하면 except 블록을 수행한다.\n",
    "try:\n",
    "    ...\n",
    "except:\n",
    "    ..."
   ]
  },
  {
   "cell_type": "code",
   "execution_count": 5,
   "id": "d4126370-9480-49e0-8ad5-6fda6ffc4991",
   "metadata": {},
   "outputs": [],
   "source": [
    "# 발생 오류만 포함한 except 문\n",
    "# 오류가 발생했을 때 except 문에 미리 정해 놓은 오류와 동일한 오류일 경우에만 except 블록을 수행한다.\n",
    "try:\n",
    "    ...\n",
    "except 발생오류:\n",
    "    ..."
   ]
  },
  {
   "cell_type": "code",
   "execution_count": 6,
   "id": "8558b865-d3ad-4b21-bfc7-4d7512c91252",
   "metadata": {},
   "outputs": [],
   "source": [
    "# 발생 오류와 오류 변수까지 포함한 except 문\n",
    "# 오류의 내용까지 알고 싶을 때 사용한다.\n",
    "try:\n",
    "    ...\n",
    "except 발생오류 as 오류변수:\n",
    "    ..."
   ]
  },
  {
   "cell_type": "code",
   "execution_count": 10,
   "id": "ff99ab00-839e-4a2f-adef-94e090fd13d6",
   "metadata": {},
   "outputs": [
    {
     "name": "stdout",
     "output_type": "stream",
     "text": [
      "division by zero\n"
     ]
    }
   ],
   "source": [
    "try:\n",
    "    4 / 0\n",
    "except ZeroDivisionError as e:\n",
    "    print(e)"
   ]
  },
  {
   "cell_type": "markdown",
   "id": "e0932ce8-01b4-4a3d-98a0-b42da388e15c",
   "metadata": {},
   "source": [
    "#### 16-2. try-finally"
   ]
  },
  {
   "cell_type": "code",
   "execution_count": 1,
   "id": "0ee9825d-1bfa-4a8c-b568-c986bc815b52",
   "metadata": {},
   "outputs": [],
   "source": [
    "# finally는 쓰기 모드에서 try 수행 도중 예외 발생 여부에 상관없이 항상 파일을 닫아주기 위해 사용한다.\n",
    "# finally는 사용한 리소스를 close해야 할 때 사용한다."
   ]
  },
  {
   "cell_type": "code",
   "execution_count": 20,
   "id": "65cd9c1d-55a5-4fdb-a1c1-f66f17c195fa",
   "metadata": {},
   "outputs": [],
   "source": [
    "try:\n",
    "    f = open('foo.txt', 'w')\n",
    "finally:\n",
    "    f.close()"
   ]
  },
  {
   "cell_type": "markdown",
   "id": "5f5e4550-f4d7-4a42-8169-7287bd2e44e9",
   "metadata": {},
   "source": [
    "#### 16-3. Handling multiple errors"
   ]
  },
  {
   "cell_type": "code",
   "execution_count": 3,
   "id": "f2271c2a-7475-4038-b9ae-ff61fdf3f0df",
   "metadata": {},
   "outputs": [
    {
     "name": "stdout",
     "output_type": "stream",
     "text": [
      "인덱싱 할 수 없습니다.\n"
     ]
    }
   ],
   "source": [
    "# 인덱싱 오류가 먼저 발생했으므로 ZeroDivisionError 오류는 발생하지 않는다.\n",
    "try:\n",
    "    a = [1,2]\n",
    "    print(a[3])\n",
    "    4/0\n",
    "except ZeroDivisionError:\n",
    "    print(\"0으로 나눌 수 없습니다.\")\n",
    "except IndexError:\n",
    "    print(\"인덱싱 할 수 없습니다.\")"
   ]
  },
  {
   "cell_type": "code",
   "execution_count": 4,
   "id": "9ae2e509-3b5c-460b-bdaf-155379c22700",
   "metadata": {},
   "outputs": [
    {
     "name": "stdout",
     "output_type": "stream",
     "text": [
      "list index out of range\n"
     ]
    }
   ],
   "source": [
    "try:\n",
    "    a = [1,2]\n",
    "    print(a[3])\n",
    "    4/0\n",
    "except ZeroDivisionError as e:\n",
    "    print(e)\n",
    "except IndexError as e:\n",
    "    print(e)"
   ]
  },
  {
   "cell_type": "code",
   "execution_count": 7,
   "id": "e981da2d-2916-415d-b019-cc56217ea572",
   "metadata": {},
   "outputs": [
    {
     "name": "stdout",
     "output_type": "stream",
     "text": [
      "list index out of range\n"
     ]
    }
   ],
   "source": [
    "# 2개 이상의 오류를 동일하게 처리하기 위해서는 괄호를 사용한다.\n",
    "try:\n",
    "    a = [1,2]\n",
    "    print(a[3])\n",
    "    4/0\n",
    "except (ZeroDivisionError, IndexError) as e:\n",
    "    print(e)"
   ]
  },
  {
   "cell_type": "markdown",
   "id": "f96ce593-dc49-48e4-950a-90f50aa031dc",
   "metadata": {},
   "source": [
    "#### 16-4. try-else"
   ]
  },
  {
   "cell_type": "code",
   "execution_count": 11,
   "id": "83086315-715a-42d6-b777-4f24065d08de",
   "metadata": {},
   "outputs": [],
   "source": [
    "# try 문 수행 중 오류가 발생하면 except, 오류가 발생하지 않으면 else가 수행된다.\n",
    "try:\n",
    "    ...\n",
    "except [occured_error [as error_variable]]:\n",
    "    ...\n",
    "else:\n",
    "    ..."
   ]
  },
  {
   "cell_type": "code",
   "execution_count": 13,
   "id": "452f8820-4081-4b58-b2b8-fa3e9d59148f",
   "metadata": {},
   "outputs": [
    {
     "name": "stdin",
     "output_type": "stream",
     "text": [
      "please enter your age:  19\n"
     ]
    },
    {
     "name": "stdout",
     "output_type": "stream",
     "text": [
      "welcome.\n"
     ]
    }
   ],
   "source": [
    "try:\n",
    "    age=int(input('please enter your age: '))\n",
    "except:\n",
    "    print('input is incorrect.')\n",
    "else:\n",
    "    if age <= 18:\n",
    "        print('Minors are prohibited from entering.')\n",
    "    else:\n",
    "        print('welcome.')"
   ]
  },
  {
   "cell_type": "markdown",
   "id": "1f75c102-ed68-402c-87eb-0537f073959a",
   "metadata": {},
   "source": [
    "#### 16-5. Avoid errors"
   ]
  },
  {
   "cell_type": "code",
   "execution_count": 15,
   "id": "c9a40211-0241-41a2-9009-6d3449c6f8f5",
   "metadata": {},
   "outputs": [],
   "source": [
    "# 특정 오류가 발생할 경우 그냥 통과시켜야 할 때 사용한다.\n",
    "try:\n",
    "    f = open('notexsistingfile.txt', 'r')\n",
    "except FileNotFoundError:\n",
    "    pass"
   ]
  },
  {
   "cell_type": "markdown",
   "id": "bbf26200-cf28-4539-ace2-d3b93ca95c27",
   "metadata": {},
   "source": [
    "#### 16-6. Intentionally causing an error"
   ]
  },
  {
   "cell_type": "code",
   "execution_count": 19,
   "id": "47ecfda8-0377-4f66-a32a-545e459db7c9",
   "metadata": {},
   "outputs": [],
   "source": [
    "# NotImplementedError\n",
    "# 파이썬에 이미 정의되어 있는 오류로, 꼭 작성해야 하는 부분이 구현되지 않았을 경우 일부러 오류를 발생시킨다."
   ]
  },
  {
   "cell_type": "code",
   "execution_count": 25,
   "id": "ef1571d4-e871-4491-95a9-2745ce00b7a6",
   "metadata": {},
   "outputs": [
    {
     "ename": "NotImplementedError",
     "evalue": "",
     "output_type": "error",
     "traceback": [
      "\u001b[0;31m---------------------------------------------------------------------------\u001b[0m",
      "\u001b[0;31mNotImplementedError\u001b[0m                       Traceback (most recent call last)",
      "Cell \u001b[0;32mIn[25], line 11\u001b[0m\n\u001b[1;32m      9\u001b[0m     \u001b[38;5;28;01mpass\u001b[39;00m\n\u001b[1;32m     10\u001b[0m eagle \u001b[38;5;241m=\u001b[39m eagle()\n\u001b[0;32m---> 11\u001b[0m \u001b[43meagle\u001b[49m\u001b[38;5;241;43m.\u001b[39;49m\u001b[43mfly\u001b[49m\u001b[43m(\u001b[49m\u001b[43m)\u001b[49m\n",
      "Cell \u001b[0;32mIn[25], line 7\u001b[0m, in \u001b[0;36mbird.fly\u001b[0;34m(self)\u001b[0m\n\u001b[1;32m      6\u001b[0m \u001b[38;5;28;01mdef\u001b[39;00m \u001b[38;5;21mfly\u001b[39m(\u001b[38;5;28mself\u001b[39m):\n\u001b[0;32m----> 7\u001b[0m     \u001b[38;5;28;01mraise\u001b[39;00m \u001b[38;5;167;01mNotImplementedError\u001b[39;00m\n",
      "\u001b[0;31mNotImplementedError\u001b[0m: "
     ]
    }
   ],
   "source": [
    "# raise\n",
    "# method overriding\n",
    "# Eagle 클래스는 fly method를 overriding하여 구현하지 않았다.\n",
    "# eagle 객체의 fly method를 수행하는 순간 Bird class의 fly method가 수행되어 NotImplementedError가 발생한다.\n",
    "class bird:\n",
    "    def fly(self):\n",
    "        raise NotImplementedError\n",
    "class eagle(bird):\n",
    "    pass\n",
    "eagle = eagle()\n",
    "eagle.fly()"
   ]
  },
  {
   "cell_type": "code",
   "execution_count": 29,
   "id": "398cfd85-fd18-44f1-b09d-a968bd825578",
   "metadata": {},
   "outputs": [
    {
     "name": "stdout",
     "output_type": "stream",
     "text": [
      "very fast\n"
     ]
    }
   ],
   "source": [
    "# NotImplementedError가 발생하지 않게 하려면 Eagle class에 fly 함수를 구현해야 한다.\n",
    "class eagle(bird):\n",
    "    def fly(self):\n",
    "        print(\"very fast\")\n",
    "eagle = eagle()\n",
    "eagle.fly()"
   ]
  },
  {
   "cell_type": "markdown",
   "id": "d71c6eb9-5c54-4229-a020-8d021314d9e4",
   "metadata": {},
   "source": [
    "#### 16-7. Create an exception"
   ]
  },
  {
   "cell_type": "code",
   "execution_count": 59,
   "id": "6a4a3cd6-ce14-4672-93f1-04630dbd92cf",
   "metadata": {},
   "outputs": [
    {
     "name": "stdout",
     "output_type": "stream",
     "text": [
      "angle\n"
     ]
    },
    {
     "ename": "myerror",
     "evalue": "",
     "output_type": "error",
     "traceback": [
      "\u001b[0;31m---------------------------------------------------------------------------\u001b[0m",
      "\u001b[0;31mmyerror\u001b[0m                                   Traceback (most recent call last)",
      "Cell \u001b[0;32mIn[59], line 10\u001b[0m\n\u001b[1;32m      8\u001b[0m     \u001b[38;5;28mprint\u001b[39m(david)\n\u001b[1;32m      9\u001b[0m say_david(\u001b[38;5;124m'\u001b[39m\u001b[38;5;124mangle\u001b[39m\u001b[38;5;124m'\u001b[39m)\n\u001b[0;32m---> 10\u001b[0m \u001b[43msay_david\u001b[49m\u001b[43m(\u001b[49m\u001b[38;5;124;43m'\u001b[39;49m\u001b[38;5;124;43midiot\u001b[39;49m\u001b[38;5;124;43m'\u001b[39;49m\u001b[43m)\u001b[49m\n",
      "Cell \u001b[0;32mIn[59], line 7\u001b[0m, in \u001b[0;36msay_david\u001b[0;34m(david)\u001b[0m\n\u001b[1;32m      5\u001b[0m \u001b[38;5;28;01mdef\u001b[39;00m \u001b[38;5;21msay_david\u001b[39m(david):\n\u001b[1;32m      6\u001b[0m     \u001b[38;5;28;01mif\u001b[39;00m david \u001b[38;5;241m==\u001b[39m \u001b[38;5;124m'\u001b[39m\u001b[38;5;124midiot\u001b[39m\u001b[38;5;124m'\u001b[39m:\n\u001b[0;32m----> 7\u001b[0m         \u001b[38;5;28;01mraise\u001b[39;00m myerror()\n\u001b[1;32m      8\u001b[0m     \u001b[38;5;28mprint\u001b[39m(david)\n",
      "\u001b[0;31mmyerror\u001b[0m: "
     ]
    }
   ],
   "source": [
    "# 프로그램을 수행하다 특수한 경우, 예외 처리를 위해 예외를 만들어 사용한다.\n",
    "# exception is python interior class\n",
    "class myerror(Exception):\n",
    "    pass\n",
    "def say_david(david):\n",
    "    if david == 'idiot':\n",
    "        raise myerror()\n",
    "    print(david)\n",
    "say_david('angle')\n",
    "say_david('idiot')"
   ]
  },
  {
   "cell_type": "code",
   "execution_count": 60,
   "id": "fd80f602-cfa7-4d60-83ba-aaa1eb8c0a00",
   "metadata": {},
   "outputs": [
    {
     "name": "stdout",
     "output_type": "stream",
     "text": [
      "angle\n",
      "Alias is not allowed.\n"
     ]
    }
   ],
   "source": [
    "# 예외 처리 기법을 사용하여 myerror 발생을 예외 처리하기\n",
    "try:\n",
    "    say_david('angle')\n",
    "    say_david('idiot')\n",
    "except myerror:\n",
    "    print('Alias is not allowed.')"
   ]
  },
  {
   "cell_type": "code",
   "execution_count": 49,
   "id": "41bdf7b1-557b-4218-a32b-57816c22880c",
   "metadata": {},
   "outputs": [
    {
     "name": "stdout",
     "output_type": "stream",
     "text": [
      "angle\n",
      "\n"
     ]
    }
   ],
   "source": [
    "# print(e)로 오류 메시지가 출력되지 않는다.\n",
    "try:\n",
    "    say_david('angle')\n",
    "    say_david('idiot')\n",
    "except myerror as e:\n",
    "    print(e)"
   ]
  },
  {
   "cell_type": "code",
   "execution_count": 61,
   "id": "bd5aa5fd-73c7-4754-874f-1849e773ad1a",
   "metadata": {},
   "outputs": [
    {
     "name": "stdout",
     "output_type": "stream",
     "text": [
      "angle\n",
      "Alias is not allowed.\n"
     ]
    }
   ],
   "source": [
    "# 오류 메시지가 보이게 하려면 error class에 __str__ method를 구현해야 한다.\n",
    "# __str__은 오류 메시지를 print로 출력할 경우 호출되는 method이다.\n",
    "class myerror(Exception):\n",
    "    def __str__(self):\n",
    "        return 'Alias is not allowed.'\n",
    "try:\n",
    "    say_david('angle')\n",
    "    say_david('idiot')\n",
    "except myerror as e:\n",
    "    print(e)"
   ]
  },
  {
   "cell_type": "code",
   "execution_count": null,
   "id": "d1922876-0703-4920-b128-d37115d4c353",
   "metadata": {},
   "outputs": [],
   "source": []
  }
 ],
 "metadata": {
  "kernelspec": {
   "display_name": "Python 3 (ipykernel)",
   "language": "python",
   "name": "python3"
  },
  "language_info": {
   "codemirror_mode": {
    "name": "ipython",
    "version": 3
   },
   "file_extension": ".py",
   "mimetype": "text/x-python",
   "name": "python",
   "nbconvert_exporter": "python",
   "pygments_lexer": "ipython3",
   "version": "3.8.10"
  }
 },
 "nbformat": 4,
 "nbformat_minor": 5
}
