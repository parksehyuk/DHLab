{
 "cells": [
  {
   "cell_type": "markdown",
   "id": "aef73d96-195d-4704-b5c8-b99f5b1b29af",
   "metadata": {},
   "source": [
    "#### 19. External library"
   ]
  },
  {
   "cell_type": "code",
   "execution_count": 1,
   "id": "68dcbed9-01fe-4215-92ce-158f56f0d7fa",
   "metadata": {},
   "outputs": [],
   "source": [
    "# 파이썬 표준 라이브러리가 아니므로 사용하려면 먼저 pip 도구를 이용하여 설치해야 한다."
   ]
  },
  {
   "cell_type": "markdown",
   "id": "31d49d42-d35c-48a0-ad4d-e8c6f62468be",
   "metadata": {},
   "source": [
    "#### 19-1. pip"
   ]
  },
  {
   "cell_type": "code",
   "execution_count": 160,
   "id": "d22412c0-1eec-43b7-8e23-9dcb91350da9",
   "metadata": {},
   "outputs": [],
   "source": [
    "# 파이썬 모듈이나 패키지를 쉽게 설치할 수 있도록 도와주는 도구이다.\n",
    "# pip으로 파이썬 프로그램을 설치하면 의존성 있는 모듈이나 패키지를 함께 설치해 주기 때문에 매우 편리하다.\n",
    "# PyPI(python package index)는 파이썬 소프트웨어가 모인 저장 공간이다."
   ]
  },
  {
   "cell_type": "code",
   "execution_count": null,
   "id": "ecda6c14-db72-4e7a-8104-cf06a2749f30",
   "metadata": {},
   "outputs": [],
   "source": [
    "# pip install\n",
    "pip install SomePackage"
   ]
  },
  {
   "cell_type": "code",
   "execution_count": null,
   "id": "788f18ce-4601-4f0b-80cf-c0166edb69e9",
   "metadata": {},
   "outputs": [],
   "source": [
    "# pip uninstall\n",
    "pip uninstall SomePackage"
   ]
  },
  {
   "cell_type": "code",
   "execution_count": null,
   "id": "06fc2b62-3f90-4f22-915a-2b95f8d36718",
   "metadata": {},
   "outputs": [],
   "source": [
    "# 버전을 생략하면 최신 버전을 설치한다.\n",
    "pip install SomePackage==1.0.4"
   ]
  },
  {
   "cell_type": "code",
   "execution_count": null,
   "id": "1ecc1123-7fe1-4b7d-9bb3-a72a7e326600",
   "metadata": {},
   "outputs": [],
   "source": [
    "# 패키지를 최신 버전으로 업그레이드하려면 --upgrade 옵션과 함께 사용한다.\n",
    "pip install --upgrade SomePackage"
   ]
  },
  {
   "cell_type": "code",
   "execution_count": null,
   "id": "6ae9af3f-9a33-4ab0-bb52-7e190b19e39e",
   "metadata": {},
   "outputs": [],
   "source": [
    "# 설치된 패키지 확인하기\n",
    "pip list"
   ]
  },
  {
   "cell_type": "code",
   "execution_count": 16,
   "id": "387e0c05-a2c1-4370-bba1-23289bd1df04",
   "metadata": {},
   "outputs": [],
   "source": [
    "# !\n",
    "# 이 명령어를 시스템 셸에서 실행하라\n",
    "# pip install requests는 원래 명령 프롬프트나 터미널에서 실행해야 한다.\n",
    "# 하지만 !를 붙이면 Jupyter Notebook 안에서도 실행할 수 있다."
   ]
  },
  {
   "cell_type": "code",
   "execution_count": 161,
   "id": "ac940e4a-42da-46e9-ace0-3b3cb07e5fbd",
   "metadata": {},
   "outputs": [],
   "source": [
    "# !python -m pip\n",
    "# 설치된 패키지는 현재 인터프리터 또는 환경에 따라 다를 수 있으므로 이를 방지하기 위해 사용한다.\n",
    "# !pip install은 간단하지만, 환경 관리 측면에서 !python -m pip install을 사용하는 것이 더 안전하다."
   ]
  },
  {
   "cell_type": "markdown",
   "id": "23bd32fe-dde2-4447-9920-cb6e1997060b",
   "metadata": {},
   "source": [
    "#### 19-2. faker"
   ]
  },
  {
   "cell_type": "code",
   "execution_count": 169,
   "id": "10896763-9276-45bd-b8aa-3709cc2f47a5",
   "metadata": {},
   "outputs": [
    {
     "name": "stdout",
     "output_type": "stream",
     "text": [
      "Looking in indexes: https://pypi.org/simple, https://pypi.ngc.nvidia.com\n",
      "Requirement already satisfied: faker in /usr/local/lib/python3.8/dist-packages (33.3.1)\n",
      "Requirement already satisfied: python-dateutil>=2.4 in /usr/local/lib/python3.8/dist-packages (from faker) (2.8.2)\n",
      "Requirement already satisfied: typing-extensions in /usr/local/lib/python3.8/dist-packages (from faker) (4.12.2)\n",
      "Requirement already satisfied: six>=1.5 in /usr/local/lib/python3.8/dist-packages (from python-dateutil>=2.4->faker) (1.16.0)\n",
      "\u001b[33mWARNING: Running pip as the 'root' user can result in broken permissions and conflicting behaviour with the system package manager, possibly rendering your system unusable.It is recommended to use a virtual environment instead: https://pip.pypa.io/warnings/venv. Use the --root-user-action option if you know what you are doing and want to suppress this warning.\u001b[0m\u001b[33m\n",
      "\u001b[0m"
     ]
    }
   ],
   "source": [
    "# fake test data를 생성할 때 사용하는 라이브러리이다.\n",
    "!python -m pip install faker"
   ]
  },
  {
   "cell_type": "code",
   "execution_count": 79,
   "id": "5f02ae35-c811-4503-a591-b3a1d6a92a68",
   "metadata": {},
   "outputs": [],
   "source": [
    "from faker import Faker"
   ]
  },
  {
   "cell_type": "code",
   "execution_count": 107,
   "id": "bbdf73a8-52ef-4ac2-af31-97df4c8c4b2b",
   "metadata": {},
   "outputs": [
    {
     "name": "stdout",
     "output_type": "stream",
     "text": [
      "Andrew Gardner PhD\n"
     ]
    }
   ],
   "source": [
    "fake = Faker()\n",
    "print(fake.name())"
   ]
  },
  {
   "cell_type": "code",
   "execution_count": 108,
   "id": "81e061a3-7ed9-433c-9273-734435aaec05",
   "metadata": {},
   "outputs": [
    {
     "name": "stdout",
     "output_type": "stream",
     "text": [
      "김순옥\n"
     ]
    }
   ],
   "source": [
    "# korean name\n",
    "fake = Faker('ko-KR')\n",
    "print(fake.name())"
   ]
  },
  {
   "cell_type": "code",
   "execution_count": 83,
   "id": "94846933-46c8-4d48-bf50-7214b72faec6",
   "metadata": {},
   "outputs": [
    {
     "name": "stdout",
     "output_type": "stream",
     "text": [
      "전라남도 화성시 압구정9길 223-30\n"
     ]
    }
   ],
   "source": [
    "# korean address\n",
    "fake = Faker('ko-KR')\n",
    "print(fake.address())"
   ]
  },
  {
   "cell_type": "code",
   "execution_count": 109,
   "id": "18238f8e-7f19-4b2d-848a-fef75fa5c99a",
   "metadata": {},
   "outputs": [
    {
     "name": "stdout",
     "output_type": "stream",
     "text": [
      "39759\n"
     ]
    }
   ],
   "source": [
    "fake = Faker()\n",
    "print(fake.postcode())"
   ]
  },
  {
   "cell_type": "code",
   "execution_count": 110,
   "id": "dc53208c-acf3-4b7c-a2d2-b57f71033417",
   "metadata": {},
   "outputs": [
    {
     "name": "stdout",
     "output_type": "stream",
     "text": [
      "Sierra Leone\n"
     ]
    }
   ],
   "source": [
    "fake = Faker()\n",
    "print(fake.country())"
   ]
  },
  {
   "cell_type": "code",
   "execution_count": 111,
   "id": "0be7a037-fd8a-4eb1-beed-b1da6b581dc7",
   "metadata": {},
   "outputs": [
    {
     "name": "stdout",
     "output_type": "stream",
     "text": [
      "Forbes, Mejia and Friedman\n"
     ]
    }
   ],
   "source": [
    "fake = Faker()\n",
    "print(fake.company())"
   ]
  },
  {
   "cell_type": "code",
   "execution_count": 112,
   "id": "5e0dd9b9-f982-4594-be83-8e77e7c63925",
   "metadata": {},
   "outputs": [
    {
     "name": "stdout",
     "output_type": "stream",
     "text": [
      "Hospital pharmacist\n"
     ]
    }
   ],
   "source": [
    "fake = Faker()\n",
    "print(fake.job())"
   ]
  },
  {
   "cell_type": "code",
   "execution_count": 132,
   "id": "0ac8fb5e-a790-4342-b043-a2e0260f63c3",
   "metadata": {},
   "outputs": [
    {
     "name": "stdout",
     "output_type": "stream",
     "text": [
      "010-2881-0907\n"
     ]
    }
   ],
   "source": [
    "fake = Faker('ko-KR')\n",
    "print(fake.phone_number())"
   ]
  },
  {
   "cell_type": "code",
   "execution_count": 133,
   "id": "a4f6047d-d262-41af-a93c-4a403f1da1da",
   "metadata": {},
   "outputs": [
    {
     "name": "stdout",
     "output_type": "stream",
     "text": [
      "jwilliams@example.net\n"
     ]
    }
   ],
   "source": [
    "fake = Faker()\n",
    "print(fake.email())"
   ]
  },
  {
   "cell_type": "code",
   "execution_count": 134,
   "id": "302cd60e-4962-43d2-a95f-494425f0e7ed",
   "metadata": {},
   "outputs": [
    {
     "name": "stdout",
     "output_type": "stream",
     "text": [
      "laurenhooper\n"
     ]
    }
   ],
   "source": [
    "fake = Faker()\n",
    "print(fake.user_name())"
   ]
  },
  {
   "cell_type": "code",
   "execution_count": 136,
   "id": "0c758729-cc29-43c7-b0a8-601530dce2db",
   "metadata": {},
   "outputs": [
    {
     "name": "stdout",
     "output_type": "stream",
     "text": [
      "16\n"
     ]
    }
   ],
   "source": [
    "# arbitrary number between 0 - 100\n",
    "fake = Faker()\n",
    "print(fake.pyint(min_value = 0, max_value = 100))"
   ]
  },
  {
   "cell_type": "code",
   "execution_count": 139,
   "id": "4eef0f34-d785-4ceb-9842-f12950db8d73",
   "metadata": {},
   "outputs": [
    {
     "name": "stdout",
     "output_type": "stream",
     "text": [
      "192.168.186.35\n"
     ]
    }
   ],
   "source": [
    "# IP address\n",
    "fake = Faker()\n",
    "print(fake.ipv4_private())"
   ]
  },
  {
   "cell_type": "code",
   "execution_count": 141,
   "id": "ec6ad8ed-60d2-417f-aeac-942c25af77c5",
   "metadata": {},
   "outputs": [
    {
     "name": "stdout",
     "output_type": "stream",
     "text": [
      "Administration money agreement benefit laugh key. Score along little alone result environment father. Agree not remain lose town himself writer out.\n"
     ]
    }
   ],
   "source": [
    "fake = Faker()\n",
    "print(fake.text())"
   ]
  },
  {
   "cell_type": "code",
   "execution_count": 144,
   "id": "75bfc043-4590-40e3-bda8-4a8c5d22e1ed",
   "metadata": {},
   "outputs": [
    {
     "name": "stdout",
     "output_type": "stream",
     "text": [
      "인체 공학적인 고도 기반 구조체\n"
     ]
    }
   ],
   "source": [
    "# 임의의 문장\n",
    "fake = Faker('ko-KR')\n",
    "print(fake.catch_phrase())"
   ]
  },
  {
   "cell_type": "code",
   "execution_count": 146,
   "id": "495fed17-d182-42fa-a98e-532d6c6bd4ce",
   "metadata": {},
   "outputs": [
    {
     "name": "stdout",
     "output_type": "stream",
     "text": [
      "Orange\n"
     ]
    }
   ],
   "source": [
    "fake = Faker()\n",
    "print(fake.color_name())"
   ]
  },
  {
   "cell_type": "code",
   "execution_count": 104,
   "id": "bd42118b-9bfe-4323-9152-42661303aa39",
   "metadata": {},
   "outputs": [
    {
     "name": "stdout",
     "output_type": "stream",
     "text": [
      "('황아름', '대구광역시 북구 잠실57로 835')\n",
      "('김숙자', '경상남도 의정부시 백제고분로 20-27 (서윤김읍)')\n",
      "('김지후', '제주특별자치도 홍천군 오금가 533')\n",
      "('윤서준', '강원도 청주시 청원구 영동대5길 372-19 (정남이김면)')\n",
      "('서민준', '대구광역시 은평구 언주4길 지하829 (영미윤마을)')\n",
      "('김은경', '경상남도 진천군 선릉거리 395 (옥순서동)')\n",
      "('윤보람', '대전광역시 광진구 백제고분4로 826 (예원이마을)')\n",
      "('허은지', '충청남도 화성시 오금50길 지하939')\n",
      "('김종수', '대구광역시 광진구 서초대가 144 (진호이리)')\n",
      "('최준혁', '충청북도 성남시 분당구 도산대292로 747-49 (도윤이주동)')\n",
      "('최예준', '전라북도 속초시 학동72로 145-52')\n",
      "('김정남', '서울특별시 동작구 개포78거리 280-46')\n",
      "('김시우', '부산광역시 영등포구 도산대거리 610')\n",
      "('윤은영', '전라남도 서천군 서초대274로 12 (성민양최마을)')\n",
      "('김상현', '충청남도 용인시 압구정95로 651-2')\n",
      "('차우진', '제주특별자치도 예산군 강남대거리 726-60 (우진박동)')\n",
      "('김미정', '광주광역시 서대문구 석촌호수528가 540-72')\n",
      "('오선영', '인천광역시 금천구 역삼1로 188-66')\n",
      "('오미영', '부산광역시 동대문구 반포대거리 381-39')\n",
      "('이윤서', '충청북도 여주시 도산대8가 262')\n",
      "('김영자', '경기도 청주시 서원구 삼성거리 37')\n",
      "('차아름', '대전광역시 동대문구 논현로 950')\n",
      "('김예지', '전라북도 인제군 개포6가 514-41')\n",
      "('황중수', '충청남도 속초시 반포대가 641-22 (현우송동)')\n",
      "('이지아', '서울특별시 금천구 백제고분1거리 829-65')\n",
      "('한민재', '광주광역시 영등포구 도산대로 686-56')\n",
      "('윤경수', '부산광역시 동구 개포432로 828 (영순김박마을)')\n",
      "('정현준', '경상북도 보령시 봉은사거리 513-14 (정숙이강읍)')\n",
      "('박현지', '경기도 연천군 서초중앙가 지하813 (현주송김마을)')\n",
      "('박서윤', '경상남도 수원시 개포로 915-9 (예은이동)')\n"
     ]
    }
   ],
   "source": [
    "fake = Faker('ko-KR')\n",
    "test_data = [(fake.name(), fake.address()) for i in range(30)]\n",
    "for i in test_data:\n",
    "    print(i, end = '')\n",
    "    print('')"
   ]
  },
  {
   "cell_type": "markdown",
   "id": "f0072490-2a86-420d-9b7c-811f9c0fb59a",
   "metadata": {},
   "source": [
    "#### 19-3. sympy"
   ]
  },
  {
   "cell_type": "code",
   "execution_count": 147,
   "id": "8f34bcd2-d5d9-46d1-96b7-b1aa09a11f69",
   "metadata": {},
   "outputs": [],
   "source": [
    "# 방정식 기호(symbol)를 사용하게 해준다."
   ]
  },
  {
   "cell_type": "code",
   "execution_count": 170,
   "id": "5a1f5416-1d98-4bea-8887-652119a41984",
   "metadata": {},
   "outputs": [
    {
     "name": "stdout",
     "output_type": "stream",
     "text": [
      "Looking in indexes: https://pypi.org/simple, https://pypi.ngc.nvidia.com\n",
      "Requirement already satisfied: sympy in /usr/local/lib/python3.8/dist-packages (1.13.3)\n",
      "Requirement already satisfied: mpmath<1.4,>=1.1.0 in /usr/local/lib/python3.8/dist-packages (from sympy) (1.3.0)\n",
      "\u001b[33mWARNING: Running pip as the 'root' user can result in broken permissions and conflicting behaviour with the system package manager, possibly rendering your system unusable.It is recommended to use a virtual environment instead: https://pip.pypa.io/warnings/venv. Use the --root-user-action option if you know what you are doing and want to suppress this warning.\u001b[0m\u001b[33m\n",
      "\u001b[0m"
     ]
    }
   ],
   "source": [
    "!python -m pip install sympy"
   ]
  },
  {
   "cell_type": "code",
   "execution_count": 182,
   "id": "d1b5bf06-e4bc-483c-a85c-80af4623e181",
   "metadata": {},
   "outputs": [],
   "source": [
    "import sympy"
   ]
  },
  {
   "cell_type": "code",
   "execution_count": 183,
   "id": "8622c1e6-41fd-42ce-89f9-5ef99309e56c",
   "metadata": {},
   "outputs": [],
   "source": [
    "# Fraction\n",
    "# 유리수를 표현할 때 사용하는 표준 라이브러리이다.\n",
    "from fractions import Fraction"
   ]
  },
  {
   "cell_type": "code",
   "execution_count": 175,
   "id": "38df3406-567d-4b2d-bdb9-3d7098adcf28",
   "metadata": {},
   "outputs": [],
   "source": [
    "# sympy.symbols()\n",
    "# x처럼 방정식에 사용하는 미지수를 나타내는 기호를 생성한다.\n",
    "x, y = sympy.symbols('x y')"
   ]
  },
  {
   "cell_type": "code",
   "execution_count": 193,
   "id": "78b495fb-91f6-4b99-8466-b61e7ae46aa4",
   "metadata": {},
   "outputs": [
    {
     "name": "stdout",
     "output_type": "stream",
     "text": [
      "[4400]\n",
      "The remaining money is 2640 won.\n"
     ]
    }
   ],
   "source": [
    "# sympy.Eq(a, b)\n",
    "# a와 b가 같다를 의미하는 방정식\n",
    "f = sympy.Eq(x*Fraction('2/5'), 1760)\n",
    "result = sympy.solve(f)\n",
    "print(result)\n",
    "remains = result[0] - 1760\n",
    "print('The remaining money is {} won.' .format(remains))"
   ]
  },
  {
   "cell_type": "code",
   "execution_count": 196,
   "id": "63421ab0-55d5-4dff-ab20-2d3c88914894",
   "metadata": {},
   "outputs": [
    {
     "data": {
      "text/plain": [
       "[-1, 1]"
      ]
     },
     "execution_count": 196,
     "metadata": {},
     "output_type": "execute_result"
    }
   ],
   "source": [
    "# 2차 방정식의 해\n",
    "x = sympy.symbols(\"x\")\n",
    "f = sympy.Eq(x**2, 1)\n",
    "sympy.solve(f)"
   ]
  },
  {
   "cell_type": "code",
   "execution_count": 198,
   "id": "4bf0903a-2e29-4a03-953e-2b2480ce352e",
   "metadata": {},
   "outputs": [
    {
     "data": {
      "text/plain": [
       "{x: 7, y: 3}"
      ]
     },
     "execution_count": 198,
     "metadata": {},
     "output_type": "execute_result"
    }
   ],
   "source": [
    "# 연립 1차 방정식의 해\n",
    "# 미지수가 2개 이상이라면 결과값은 리스트가 아닌 딕셔너리이다.\n",
    "x, y = sympy.symbols('x y')\n",
    "f1 = sympy.Eq(x+y, 10)\n",
    "f2 = sympy.Eq(x-y, 4)\n",
    "sympy.solve([f1, f2])"
   ]
  }
 ],
 "metadata": {
  "kernelspec": {
   "display_name": "Python 3 (ipykernel)",
   "language": "python",
   "name": "python3"
  },
  "language_info": {
   "codemirror_mode": {
    "name": "ipython",
    "version": 3
   },
   "file_extension": ".py",
   "mimetype": "text/x-python",
   "name": "python",
   "nbconvert_exporter": "python",
   "pygments_lexer": "ipython3",
   "version": "3.8.10"
  }
 },
 "nbformat": 4,
 "nbformat_minor": 5
}
