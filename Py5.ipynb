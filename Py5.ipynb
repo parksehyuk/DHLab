{
 "cells": [
  {
   "cell_type": "markdown",
   "id": "4b2afd39-c3c0-4ede-bffc-fd3b5eff4fcc",
   "metadata": {},
   "source": [
    "#### 5. Data Type III"
   ]
  },
  {
   "cell_type": "markdown",
   "id": "abf31044-f0d4-488c-8220-c87b30fba80d",
   "metadata": {},
   "source": [
    "#### 5-1. List Type"
   ]
  },
  {
   "cell_type": "code",
   "execution_count": 1,
   "id": "21396f15-5406-4370-81ce-8764e6a08a07",
   "metadata": {},
   "outputs": [
    {
     "name": "stdout",
     "output_type": "stream",
     "text": [
      "[]\n"
     ]
    }
   ],
   "source": [
    "# List name = [component 1, component 2, component 3, ...]\n",
    "# 리스트 안에는 어떠한 자료형도 포함할 수 있다.\n",
    "\n",
    "a = []\n",
    "b = [1, 2, 3, 4]\n",
    "c = ['Life', 'is', 'too', 'short']\n",
    "d = [1, 2, 'Life', 'is']\n",
    "e = [1, 2, ['Life', 'is']]\n",
    "\n",
    "# 비어 있는 리스트 생성하기\n",
    "a = list()\n",
    "print(a)"
   ]
  },
  {
   "cell_type": "markdown",
   "id": "1ac59207-3a1a-4495-b489-b2fe20eec406",
   "metadata": {},
   "source": [
    "#### 5-2. List Indexing"
   ]
  },
  {
   "cell_type": "code",
   "execution_count": 24,
   "id": "23c0a6a8-eb96-44a4-b010-1304ec2998ad",
   "metadata": {},
   "outputs": [
    {
     "name": "stdout",
     "output_type": "stream",
     "text": [
      "1\n",
      "3\n",
      "4\n",
      "['a', 'b', 'c']\n",
      "a\n",
      "Life is too short.\n"
     ]
    }
   ],
   "source": [
    "a = [1, 2, 3, 4]\n",
    "print(a[0])\n",
    "print(a[0] + a[1])\n",
    "print(a[-1])\n",
    "\n",
    "a = [1, 2, 3, ['a', 'b', 'c']]\n",
    "print(a[3])\n",
    "\n",
    "# 리스트 a에 포함된 ['a', 'b', 'c'] 리스트에서 'a' 값을 인덱싱하기\n",
    "print(a[3][0])\n",
    "\n",
    "# 삼중 리스트에서의 인덱싱\n",
    "a = [1, 2, ['a', 'b', ['Life ', 'is ', 'too ', 'short.']]]\n",
    "print(a[2][2][0] + a[2][2][1] + a[2][2][2] + a[2][2][3])"
   ]
  },
  {
   "cell_type": "markdown",
   "id": "5861b3c5-6f33-4239-a654-28ef1db67879",
   "metadata": {},
   "source": [
    "#### 5-3. List Slicing"
   ]
  },
  {
   "cell_type": "code",
   "execution_count": 37,
   "id": "299d44b4-a442-4aeb-921d-06bbef641129",
   "metadata": {},
   "outputs": [
    {
     "name": "stdout",
     "output_type": "stream",
     "text": [
      "[1, 2]\n",
      "[1, 2]\n",
      "[3, 4, 5]\n",
      "[2, 3, 4]\n",
      "[3, ['a', 'b', 'c'], 4]\n",
      "['a', 'b']\n"
     ]
    }
   ],
   "source": [
    "a = [1, 2, 3, 4, 5]\n",
    "print(a[0:2])\n",
    "print(a[:2])\n",
    "print(a[2:])\n",
    "print(a[1:-1])\n",
    "\n",
    "# 중첩된 리스트에서의 슬라이싱\n",
    "a = [1, 2, 3, ['a', 'b', 'c'], 4, 5]\n",
    "print(a[2:5])\n",
    "print(a[3][:2])"
   ]
  },
  {
   "cell_type": "markdown",
   "id": "cd501db5-3afa-4fd6-bbdd-b473f347e354",
   "metadata": {},
   "source": [
    "#### 5-4. List Calculation"
   ]
  },
  {
   "cell_type": "code",
   "execution_count": 42,
   "id": "4663ac37-2c93-45c2-99f2-a22d3e2cc800",
   "metadata": {},
   "outputs": [
    {
     "name": "stdout",
     "output_type": "stream",
     "text": [
      "[1, 2, 3, 4, 5, 6]\n",
      "[1, 2, 3, 1, 2, 3, 1, 2, 3]\n"
     ]
    },
    {
     "data": {
      "text/plain": [
       "3"
      ]
     },
     "execution_count": 42,
     "metadata": {},
     "output_type": "execute_result"
    }
   ],
   "source": [
    "# addition\n",
    "a = [1, 2, 3]\n",
    "b = [4, 5, 6]\n",
    "print(a + b)\n",
    "\n",
    "# *\n",
    "# repeat\n",
    "a = [1, 2, 3]\n",
    "print(a * 3)\n",
    "\n",
    "# Length\n",
    "a = [1, 2, 3]\n",
    "len(a)"
   ]
  },
  {
   "cell_type": "markdown",
   "id": "122b0145-37dc-4ed1-92da-695fcb51fe00",
   "metadata": {},
   "source": [
    "#### 5-5. str"
   ]
  },
  {
   "cell_type": "code",
   "execution_count": 51,
   "id": "8371e248-f8e2-4526-bdb3-62b3149c849a",
   "metadata": {},
   "outputs": [
    {
     "name": "stdout",
     "output_type": "stream",
     "text": [
      "3hi\n"
     ]
    }
   ],
   "source": [
    "# 정수나 실수를 문자열로 바꾸어 주는 파이썬의 내장 함수이다.\n",
    "# 정수와 문자열은 더할 수 없기 때문에 'str'를 이용해 변환하여 준다.\n",
    "a = [1, 2, 3]\n",
    "b = 'hi'\n",
    "print(str(a[2]) + b)"
   ]
  },
  {
   "cell_type": "markdown",
   "id": "0077fbb3-c9b9-4033-9b67-d1916d75e894",
   "metadata": {},
   "source": [
    "#### 5-6. List Edit and Delete"
   ]
  },
  {
   "cell_type": "code",
   "execution_count": 48,
   "id": "1e4665a4-c79c-414f-97c0-7fe465a96956",
   "metadata": {},
   "outputs": [
    {
     "name": "stdout",
     "output_type": "stream",
     "text": [
      "4\n",
      "[1, 3]\n",
      "[1, 2]\n"
     ]
    }
   ],
   "source": [
    "# 리스트는 값을 수정하거나 삭제 가능하다.\n",
    "\n",
    "# 수정\n",
    "a = [1, 2, 3]\n",
    "a[2] = 4\n",
    "print(a[2])\n",
    "\n",
    "# Delete\n",
    "# 'del a[x]', 'del 객체'는 x번째 요솟값을 삭제한다.\n",
    "# 파이썬이 자체적으로 가지고 있는 삭제 함수이다.\n",
    "a = [1, 2, 3]\n",
    "del a[1]\n",
    "print(a)\n",
    "\n",
    "a = [1, 2, 3, 4, 5]\n",
    "del a[2:]\n",
    "print(a)"
   ]
  },
  {
   "cell_type": "markdown",
   "id": "b0013d8c-1758-4531-96cc-c718859e15d1",
   "metadata": {},
   "source": [
    "#### 5-7. List Function"
   ]
  },
  {
   "cell_type": "code",
   "execution_count": 49,
   "id": "234917ac-4650-4d1a-aa03-902f03fa2261",
   "metadata": {},
   "outputs": [
    {
     "name": "stdout",
     "output_type": "stream",
     "text": [
      "[1, 2, 3, 4]\n",
      "[1, 2, 3, 4, [5, 6]]\n",
      "[1, 2, 3, 4]\n",
      "['a', 'b', 'c']\n",
      "['a', 'b', 'c']\n",
      "2\n",
      "[4, 1, 2, 3]\n",
      "[1, 2, 1, 2, 3]\n",
      "[1, 2, 1, 2]\n",
      "4\n",
      "[1, 2, 3]\n",
      "3\n",
      "[1, 2, 4]\n",
      "2\n",
      "[1, 2, 3, 4, 5]\n",
      "[1, 2, 3, 4, 5, 4, 5]\n"
     ]
    }
   ],
   "source": [
    "# append\n",
    "# list의 맨 마지막에 component를 추가한다.\n",
    "a = [1, 2, 3]\n",
    "a.append(4)\n",
    "print(a)\n",
    "a.append([5, 6])\n",
    "print(a)\n",
    "\n",
    "# sort\n",
    "# list component를 숫자 or 알파벳 순서로 정렬시킨다.\n",
    "a = [3, 4, 1, 2]\n",
    "a.sort()\n",
    "print(a)\n",
    "a = ['c', 'b', 'a']\n",
    "a.sort()\n",
    "print(a)\n",
    "\n",
    "# reverse\n",
    "# 현재의 리스트를 그대로 거꾸로 뒤집는다.\n",
    "# 리스트 요소들을 순서대로 정렬한 다음 다시 역순으로 정렬하는 것이 아니다.\n",
    "a = ['c', 'b', 'a']\n",
    "a.reverse()\n",
    "print(a)\n",
    "\n",
    "# index\n",
    "# 리스트에 x 값이 있으면 x의 위칫값을 리턴한다.\n",
    "a = [1, 2, 3]\n",
    "print(a.index(3))\n",
    "\n",
    "# insert\n",
    "# 리스트의 a번째 위치에 b를 삽입한다.\n",
    "a = [1, 2, 3]\n",
    "a.insert(0,4)\n",
    "print(a)\n",
    "\n",
    "# remove\n",
    "# 리스트에서 첫 번째로 나오는 해당 값을 삭제한다.\n",
    "a = [1, 2, 3, 1, 2, 3]\n",
    "a.remove(3)\n",
    "print(a)\n",
    "a.remove(3)\n",
    "print(a)\n",
    "\n",
    "# pop\n",
    "# 리스트의 맨 마지막 요소를 리턴하고, 그 요소를 삭제한다.\n",
    "a = [1, 2, 3, 4]\n",
    "print(a.pop())\n",
    "print(a)\n",
    "\n",
    "a = [1, 2, 3, 4]\n",
    "print(a.pop(2))\n",
    "print(a)\n",
    "\n",
    "# count\n",
    "# 리스트 안에 해당 값이 몇 개 있는지 센다.\n",
    "a = [1, 2, 3, 1, 2, 3]\n",
    "print(a.count(1))\n",
    "\n",
    "# extend\n",
    "# b에는 리스트만 올 수 있으며  a 리스트에 b 리스트를 더한다.\n",
    "# 'a.extend([4, 5])' = 'a += [4, 5]'\n",
    "a = [1, 2, 3]\n",
    "b = [4, 5]\n",
    "a.extend(b)\n",
    "print(a)\n",
    "a += [4, 5]\n",
    "print(a)"
   ]
  },
  {
   "cell_type": "code",
   "execution_count": null,
   "id": "4df02d59-7711-44d3-a24f-0485f009fc7a",
   "metadata": {},
   "outputs": [],
   "source": []
  }
 ],
 "metadata": {
  "kernelspec": {
   "display_name": "Python 3 (ipykernel)",
   "language": "python",
   "name": "python3"
  },
  "language_info": {
   "codemirror_mode": {
    "name": "ipython",
    "version": 3
   },
   "file_extension": ".py",
   "mimetype": "text/x-python",
   "name": "python",
   "nbconvert_exporter": "python",
   "pygments_lexer": "ipython3",
   "version": "3.8.10"
  }
 },
 "nbformat": 4,
 "nbformat_minor": 5
}
