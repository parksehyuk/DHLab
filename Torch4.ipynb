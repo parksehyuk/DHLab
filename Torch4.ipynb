{
 "cells": [
  {
   "cell_type": "markdown",
   "id": "9ca6f3f0-b208-4351-b361-67a4dfb386ea",
   "metadata": {},
   "source": [
    "#### 4. Building a neural network"
   ]
  },
  {
   "cell_type": "code",
   "execution_count": 15,
   "id": "f980e1f8-cebc-4d69-af42-49249f56477c",
   "metadata": {},
   "outputs": [],
   "source": [
    "import os\n",
    "import torch\n",
    "from torch import nn\n",
    "from torch.utils.data import DataLoader\n",
    "from torchvision import datasets, transforms"
   ]
  },
  {
   "cell_type": "code",
   "execution_count": 14,
   "id": "1bb9186f-ad8e-44f4-8e61-80631ea01f0f",
   "metadata": {},
   "outputs": [
    {
     "name": "stdout",
     "output_type": "stream",
     "text": [
      "Using cuda device\n"
     ]
    }
   ],
   "source": [
    "# training device\n",
    "device = (\n",
    "    'cuda'\n",
    "    if torch.cuda.is_available()\n",
    "    else 'mps'\n",
    "    if torch.backends.mps.is_available()\n",
    "    else 'cpu'\n",
    ")\n",
    "print(f\"Using {device} device\")"
   ]
  },
  {
   "cell_type": "code",
   "execution_count": 13,
   "id": "2bece8b1-4f13-454b-a83b-ea1d12ef4df4",
   "metadata": {},
   "outputs": [
    {
     "name": "stdout",
     "output_type": "stream",
     "text": [
      "NeuralNetwork(\n",
      "  (flatten): Flatten(start_dim=1, end_dim=-1)\n",
      "  (linear_relu_stack): Sequential(\n",
      "    (0): Linear(in_features=784, out_features=512, bias=True)\n",
      "    (1): ReLU()\n",
      "    (2): Linear(in_features=512, out_features=512, bias=True)\n",
      "    (3): ReLU()\n",
      "    (4): Linear(in_features=512, out_features=10, bias=True)\n",
      "  )\n",
      ")\n"
     ]
    }
   ],
   "source": [
    "# define class\n",
    "class NeuralNetwork(nn.Module):\n",
    "    def __init__(self):\n",
    "        super().__init__()\n",
    "        self.flatten = nn.Flatten()\n",
    "        self.linear_relu_stack = nn.Sequential(\n",
    "            nn.Linear(28 * 28, 512),\n",
    "            nn.ReLU(),\n",
    "            nn.Linear(512, 512),\n",
    "            nn.ReLU(),\n",
    "            nn.Linear(512, 10),\n",
    "        )\n",
    "\n",
    "    def forward(self, x):\n",
    "        x = self.flatten(x)\n",
    "        logits = self.linear_relu_stack(x)\n",
    "        return logits\n",
    "\n",
    "model = NeuralNetwork().to(device)\n",
    "print(model)"
   ]
  },
  {
   "cell_type": "code",
   "execution_count": 12,
   "id": "096d6c8f-5598-4c2d-b4a6-77bbfa83c2ba",
   "metadata": {},
   "outputs": [
    {
     "name": "stdout",
     "output_type": "stream",
     "text": [
      "Predicted class: tensor([0], device='cuda:0')\n"
     ]
    }
   ],
   "source": [
    "# nn.Softmax\n",
    "X = torch.rand(1, 28, 28, device=device)\n",
    "logits = model(X)\n",
    "pred_probab = nn.Softmax(dim=1)(logits)\n",
    "y_pred = pred_probab.argmax(1)\n",
    "print(f\"Predicted class: {y_pred}\")"
   ]
  },
  {
   "cell_type": "code",
   "execution_count": 19,
   "id": "189e0248-c222-47a1-afcc-db4a11ec8bf9",
   "metadata": {},
   "outputs": [],
   "source": [
    "softmax = nn.Softmax(dim=1)\n",
    "pred_probab = softmax(logits)"
   ]
  },
  {
   "cell_type": "code",
   "execution_count": 11,
   "id": "17331c1c-897f-4a6a-a681-0f7da0aaf422",
   "metadata": {},
   "outputs": [
    {
     "name": "stdout",
     "output_type": "stream",
     "text": [
      "torch.Size([3, 28, 28])\n"
     ]
    }
   ],
   "source": [
    "# model layer\n",
    "input_image = torch.rand(3, 28, 28)\n",
    "print(input_image.size())"
   ]
  },
  {
   "cell_type": "code",
   "execution_count": 9,
   "id": "9910518d-847b-428c-85b6-e96e8ae6f66a",
   "metadata": {},
   "outputs": [
    {
     "name": "stdout",
     "output_type": "stream",
     "text": [
      "torch.Size([3, 784])\n"
     ]
    }
   ],
   "source": [
    "# nn.Flatten\n",
    "flatten = nn.Flatten()\n",
    "flat_image = flatten(input_image)\n",
    "print(flat_image.size())"
   ]
  },
  {
   "cell_type": "code",
   "execution_count": 10,
   "id": "008ef028-8594-4aa0-8058-1bae9857e76a",
   "metadata": {},
   "outputs": [
    {
     "name": "stdout",
     "output_type": "stream",
     "text": [
      "torch.Size([3, 20])\n"
     ]
    }
   ],
   "source": [
    "# nn.Linear\n",
    "layer1 = nn.Linear(in_features=28*28, out_features=20)\n",
    "hidden1 = layer1(flat_image)\n",
    "print(hidden1.size())"
   ]
  },
  {
   "cell_type": "code",
   "execution_count": 16,
   "id": "cc1bf148-476f-4dc7-a3de-e1c38ebf28c2",
   "metadata": {},
   "outputs": [
    {
     "name": "stdout",
     "output_type": "stream",
     "text": [
      "Before ReLU: tensor([[ 0.2689, -0.2402,  0.3542, -0.5105, -0.0928,  0.6770,  0.3146,  0.0298,\n",
      "         -0.3495,  0.1096,  0.5766,  0.6387,  0.4468,  0.2793,  0.0015, -0.5164,\n",
      "         -0.4425, -0.0461,  0.3293,  0.4354],\n",
      "        [-0.2117,  0.0841,  0.5297, -0.7028, -0.1421,  0.9563, -0.0096, -0.1074,\n",
      "         -0.3780,  0.2297,  0.5581,  0.4620,  0.3270,  0.2396,  0.1587, -0.4245,\n",
      "         -0.3205, -0.0532,  0.1975,  0.2527],\n",
      "        [-0.3954,  0.3735,  0.2096, -0.4085, -0.3035,  0.7011,  0.4029,  0.1389,\n",
      "         -0.3216,  0.2341,  0.6004,  0.4535,  0.0851,  0.6225, -0.1516, -0.2734,\n",
      "         -0.3356, -0.0554,  0.2230,  0.4175]], grad_fn=<AddmmBackward0>)\n",
      "\n",
      "\n",
      "After ReLU: tensor([[0.2689, 0.0000, 0.3542, 0.0000, 0.0000, 0.6770, 0.3146, 0.0298, 0.0000,\n",
      "         0.1096, 0.5766, 0.6387, 0.4468, 0.2793, 0.0015, 0.0000, 0.0000, 0.0000,\n",
      "         0.3293, 0.4354],\n",
      "        [0.0000, 0.0841, 0.5297, 0.0000, 0.0000, 0.9563, 0.0000, 0.0000, 0.0000,\n",
      "         0.2297, 0.5581, 0.4620, 0.3270, 0.2396, 0.1587, 0.0000, 0.0000, 0.0000,\n",
      "         0.1975, 0.2527],\n",
      "        [0.0000, 0.3735, 0.2096, 0.0000, 0.0000, 0.7011, 0.4029, 0.1389, 0.0000,\n",
      "         0.2341, 0.6004, 0.4535, 0.0851, 0.6225, 0.0000, 0.0000, 0.0000, 0.0000,\n",
      "         0.2230, 0.4175]], grad_fn=<ReluBackward0>)\n"
     ]
    }
   ],
   "source": [
    "# nn.ReLU\n",
    "print(f\"Before ReLU: {hidden1}\\n\\n\")\n",
    "hidden1 = nn.ReLU()(hidden1)\n",
    "print(f\"After ReLU: {hidden1}\")"
   ]
  },
  {
   "cell_type": "code",
   "execution_count": 18,
   "id": "9333c51e-0ae3-4192-b155-9ac9e7e384b3",
   "metadata": {},
   "outputs": [],
   "source": [
    "## nn.Sequential\n",
    "seq_modules = nn.Sequential(\n",
    "    flatten,\n",
    "    layer1,\n",
    "    nn.ReLU(),\n",
    "    nn.Linear(20, 10)\n",
    ")\n",
    "input_image = torch.rand(3,28,28)\n",
    "logits = seq_modules(input_image)"
   ]
  },
  {
   "cell_type": "code",
   "execution_count": 20,
   "id": "36333b29-0547-4d90-86e8-154754481dba",
   "metadata": {},
   "outputs": [
    {
     "name": "stdout",
     "output_type": "stream",
     "text": [
      "Model structure: NeuralNetwork(\n",
      "  (flatten): Flatten(start_dim=1, end_dim=-1)\n",
      "  (linear_relu_stack): Sequential(\n",
      "    (0): Linear(in_features=784, out_features=512, bias=True)\n",
      "    (1): ReLU()\n",
      "    (2): Linear(in_features=512, out_features=512, bias=True)\n",
      "    (3): ReLU()\n",
      "    (4): Linear(in_features=512, out_features=10, bias=True)\n",
      "  )\n",
      ")\n",
      "\n",
      "\n",
      "Layer: linear_relu_stack.0.weight | Size: torch.Size([512, 784]) | Values : tensor([[-0.0046, -0.0202,  0.0230,  ..., -0.0214, -0.0160, -0.0301],\n",
      "        [-0.0145,  0.0243, -0.0350,  ..., -0.0015, -0.0048,  0.0214]],\n",
      "       device='cuda:0', grad_fn=<SliceBackward0>) \n",
      "\n",
      "Layer: linear_relu_stack.0.bias | Size: torch.Size([512]) | Values : tensor([-0.0264,  0.0221], device='cuda:0', grad_fn=<SliceBackward0>) \n",
      "\n",
      "Layer: linear_relu_stack.2.weight | Size: torch.Size([512, 512]) | Values : tensor([[-0.0190,  0.0435, -0.0106,  ...,  0.0304,  0.0252,  0.0164],\n",
      "        [ 0.0212,  0.0430, -0.0382,  ..., -0.0035, -0.0261, -0.0130]],\n",
      "       device='cuda:0', grad_fn=<SliceBackward0>) \n",
      "\n",
      "Layer: linear_relu_stack.2.bias | Size: torch.Size([512]) | Values : tensor([ 0.0105, -0.0423], device='cuda:0', grad_fn=<SliceBackward0>) \n",
      "\n",
      "Layer: linear_relu_stack.4.weight | Size: torch.Size([10, 512]) | Values : tensor([[ 0.0037,  0.0281,  0.0435,  ...,  0.0281, -0.0401, -0.0108],\n",
      "        [-0.0106, -0.0405,  0.0154,  ...,  0.0039, -0.0334, -0.0416]],\n",
      "       device='cuda:0', grad_fn=<SliceBackward0>) \n",
      "\n",
      "Layer: linear_relu_stack.4.bias | Size: torch.Size([10]) | Values : tensor([ 0.0049, -0.0376], device='cuda:0', grad_fn=<SliceBackward0>) \n",
      "\n"
     ]
    }
   ],
   "source": [
    "# model parameter\n",
    "print(f\"Model structure: {model}\\n\\n\")\n",
    "\n",
    "for name, param in model.named_parameters():\n",
    "    print(f\"Layer: {name} | Size: {param.size()} | Values : {param[:2]} \\n\")"
   ]
  },
  {
   "cell_type": "code",
   "execution_count": null,
   "id": "8b39c30c-3789-46a3-ad25-d6a262943b96",
   "metadata": {},
   "outputs": [],
   "source": []
  }
 ],
 "metadata": {
  "kernelspec": {
   "display_name": "Python 3 (ipykernel)",
   "language": "python",
   "name": "python3"
  },
  "language_info": {
   "codemirror_mode": {
    "name": "ipython",
    "version": 3
   },
   "file_extension": ".py",
   "mimetype": "text/x-python",
   "name": "python",
   "nbconvert_exporter": "python",
   "pygments_lexer": "ipython3",
   "version": "3.8.10"
  }
 },
 "nbformat": 4,
 "nbformat_minor": 5
}
