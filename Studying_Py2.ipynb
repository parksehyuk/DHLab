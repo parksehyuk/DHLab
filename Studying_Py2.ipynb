{
 "cells": [
  {
   "cell_type": "markdown",
   "id": "13bc703f-968f-4d70-b86e-d64e3cfdf277",
   "metadata": {},
   "source": [
    "#### 2. Basic Syntax"
   ]
  },
  {
   "cell_type": "markdown",
   "id": "7baa248c-f3ce-4726-b702-a5f153061614",
   "metadata": {},
   "source": [
    "#### 2 - 1. 명령어"
   ]
  },
  {
   "cell_type": "code",
   "execution_count": 1,
   "id": "4e1a01bc-12d3-4efb-a98b-6a550f08a2f0",
   "metadata": {},
   "outputs": [],
   "source": [
    "# 대소문자 구별\n",
    "\n",
    "# 줄 맞추기, 들여 쓰기\n",
    "\n",
    "# 주석\n",
    "# 여러 줄로 이루어진 주석은 \"\"\" or ''' 사이에 작성한다.\n",
    "\n",
    "# 파이썬 셸의 경우, 변수와 표현식의 값을 확인하기 위해서 print 함수 없이도 값 확인 가능하다.\n",
    "# 표현식의 실행 결과를 출력하는 것이 파이썬 셸 본래의 기능이기 때문이다.\n",
    "# 하지만 파이썬 에디터를 사용할 경우에는 print 함수를 반드시 사용해야 한다.\n",
    "\n",
    "# cd(change directory) 프롬프트 명령어\n",
    "# cd c:\\ 프롬프트를 바로 다음에 나오는 디렉터리(폴더)로 옮긴다.\n",
    "# 디렉터리 변경 후 명령어 python과 실행할 프로그램 이름을 입력하면 파이썬 프로그램을 실행할 수 있다.\n",
    "\n",
    "# \"c = d\" d의 값을 c에 넣어라.\n",
    "# \"c == d\" c와 d의 값이 같은가? 두 값을 비교할 때 사용한다."
   ]
  },
  {
   "cell_type": "markdown",
   "id": "e1a2614f-21ba-43b9-b955-e0efa41722ea",
   "metadata": {},
   "source": [
    "#### 2 - 2. 변수 설정"
   ]
  },
  {
   "cell_type": "code",
   "execution_count": 2,
   "id": "0da3e0db-1d22-4fa1-ad13-7ffa3fa855e8",
   "metadata": {},
   "outputs": [
    {
     "name": "stdout",
     "output_type": "stream",
     "text": [
      "python\n",
      "c\n"
     ]
    }
   ],
   "source": [
    "# 변수에 숫자 or 문자 설정\n",
    "\n",
    "\n",
    "a = 1\n",
    "b = 2\n",
    "c = \"python\"\n",
    "\n",
    "print(c)\n",
    "print('c')"
   ]
  },
  {
   "cell_type": "markdown",
   "id": "45669381-45ca-4c35-82d1-7f938ab1273d",
   "metadata": {},
   "source": [
    "#### 2 - 3. 조건문"
   ]
  },
  {
   "cell_type": "code",
   "execution_count": 3,
   "id": "789cf62d-576c-475c-a859-aba9db5e4bb7",
   "metadata": {
    "scrolled": true
   },
   "outputs": [
    {
     "name": "stdout",
     "output_type": "stream",
     "text": [
      "1\n",
      "b\n"
     ]
    }
   ],
   "source": [
    "# 조건문 if, else\n",
    "\n",
    "\n",
    "a = 1\n",
    "b = 2\n",
    "\n",
    "if a < 3:\n",
    "    print(a)\n",
    "else:\n",
    "    print(b)\n",
    "\n",
    "\n",
    "if a > b:\n",
    "    print('a')\n",
    "else:\n",
    "    print('b')"
   ]
  },
  {
   "cell_type": "code",
   "execution_count": 4,
   "id": "9c6880df-91b9-4c07-b8e8-cc886a03bd83",
   "metadata": {},
   "outputs": [
    {
     "name": "stdout",
     "output_type": "stream",
     "text": [
      "b is greater than a\n",
      "c is equal to d\n"
     ]
    }
   ],
   "source": [
    "# 조건문 elif\n",
    "\n",
    "\n",
    "a = 1\n",
    "b = 2\n",
    "\n",
    "if a>b:\n",
    "    print('a is greater than b')\n",
    "elif a == b:\n",
    "    print('a is equal to b')\n",
    "elif a < b:\n",
    "    print('b is greater than a')\n",
    "else:\n",
    "    print('I don\\'t know')\n",
    "\n",
    "\n",
    "c = 15 * 5\n",
    "d = 15 + 15 + 15 + 15 + 15\n",
    "if c > d:\n",
    "    print('c is greater than d')\n",
    "elif c == d:\n",
    "    print('c is equal to d')\n",
    "elif c < d:\n",
    "    print('c is less than d')\n",
    "else:\n",
    "    print('I don\\'t know')"
   ]
  },
  {
   "cell_type": "markdown",
   "id": "c5099ddb-a9a4-4804-9786-363babdaafcd",
   "metadata": {},
   "source": [
    "#### 2 - 4. 반복문"
   ]
  },
  {
   "cell_type": "code",
   "execution_count": 5,
   "id": "8e44439f-b0bd-42ea-8265-0d3f8a9fdbd9",
   "metadata": {
    "scrolled": true
   },
   "outputs": [
    {
     "name": "stdout",
     "output_type": "stream",
     "text": [
      "1\n",
      "2\n",
      "3\n"
     ]
    }
   ],
   "source": [
    "# 반복문 for\n",
    "# 실행해야 할 문장을 여러 번 반복해서 실행한다.\n",
    "\n",
    " \n",
    "for a in [1, 2, 3]:\n",
    "    print(a)"
   ]
  },
  {
   "cell_type": "code",
   "execution_count": 6,
   "id": "55ef2dee-c8b3-4baa-905f-2edd2812466c",
   "metadata": {},
   "outputs": [
    {
     "name": "stdout",
     "output_type": "stream",
     "text": [
      "1\n",
      "2\n",
      "3\n",
      "4\n"
     ]
    }
   ],
   "source": [
    "# 반복문 while\n",
    "# 일정한 조건이 만족되는 동안 문장을 반복해서 수행한다.\n",
    "\n",
    "\n",
    "i = 0\n",
    "while i < 4:\n",
    "    i = i + 1\n",
    "    print(i)"
   ]
  },
  {
   "cell_type": "markdown",
   "id": "322065f7-5b7c-4f7c-bd37-2f27d54379c5",
   "metadata": {},
   "source": [
    "#### 2 - 5. 함수"
   ]
  },
  {
   "cell_type": "code",
   "execution_count": 7,
   "id": "ebdf719f-7b56-4db2-8a03-5ecd961c3399",
   "metadata": {
    "scrolled": true
   },
   "outputs": [
    {
     "data": {
      "text/plain": [
       "3"
      ]
     },
     "execution_count": 7,
     "metadata": {},
     "output_type": "execute_result"
    }
   ],
   "source": [
    "# 함수\n",
    "# def 함수를 정의할 때 사용하는 예약어이다.\n",
    "# return 함수에서 값을 반환할 때 사용한다.\n",
    "# 예약어란 프로그래밍 언어에서 이미 문법적인 용도로 사용하고 있는 단어이다.\n",
    "\n",
    "\n",
    "a = 1\n",
    "b = 2\n",
    "def add(a, b):\n",
    "    return a + b\n",
    "\n",
    "add(a, b)"
   ]
  }
 ],
 "metadata": {
  "kernelspec": {
   "display_name": "Python 3 (ipykernel)",
   "language": "python",
   "name": "python3"
  },
  "language_info": {
   "codemirror_mode": {
    "name": "ipython",
    "version": 3
   },
   "file_extension": ".py",
   "mimetype": "text/x-python",
   "name": "python",
   "nbconvert_exporter": "python",
   "pygments_lexer": "ipython3",
   "version": "3.8.10"
  }
 },
 "nbformat": 4,
 "nbformat_minor": 5
}
