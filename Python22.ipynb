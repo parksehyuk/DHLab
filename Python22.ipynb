{
 "cells": [
  {
   "cell_type": "markdown",
   "id": "b4817d01-7945-4aa4-81c7-7e85ae6ae5f9",
   "metadata": {},
   "source": [
    "#### 22. Closure and decorator"
   ]
  },
  {
   "cell_type": "markdown",
   "id": "4397609c-968b-4743-9df6-1de180b04af1",
   "metadata": {},
   "source": [
    "#### 22-1. Closure"
   ]
  },
  {
   "cell_type": "code",
   "execution_count": 7,
   "id": "98c262d3-678b-498b-970c-cdca9ddceb2e",
   "metadata": {},
   "outputs": [],
   "source": [
    "# closure는 함수 안에 내부 함수(inner function)를 구현하고 그 내부 함수를 리턴하는 함수이다.\n",
    "# 외부 함수는 자신이 가진 변숫값 등을 내부 함수에 전달할 수 있다.\n",
    "# 클래스가 특정한 값을 설정해 객체를 만드는 과정과 비슷하다."
   ]
  },
  {
   "cell_type": "code",
   "execution_count": 10,
   "id": "96dc2d50-6462-4db0-90c5-18659551af03",
   "metadata": {},
   "outputs": [
    {
     "name": "stdout",
     "output_type": "stream",
     "text": [
      "30\n",
      "50\n"
     ]
    }
   ],
   "source": [
    "class Mul:\n",
    "    def __init__(self, m):\n",
    "        self.m = m\n",
    "    def mul(self, n):\n",
    "        return self.m * n\n",
    "if __name__ == \"__main__\":\n",
    "    mul3 = Mul(3)\n",
    "    mul5 = Mul(5)\n",
    "    print(mul3.mul(10))\n",
    "    print(mul5.mul(10))"
   ]
  },
  {
   "cell_type": "code",
   "execution_count": 11,
   "id": "d56d5986-e361-4bc1-9c73-8e6ea1e2bb3c",
   "metadata": {},
   "outputs": [
    {
     "name": "stdout",
     "output_type": "stream",
     "text": [
      "30\n",
      "50\n"
     ]
    }
   ],
   "source": [
    "class Mul:\n",
    "    def __init__(self, m):\n",
    "        self.m = m\n",
    "    def __call__(self, n):\n",
    "        return self.m * n\n",
    "if __name__ == \"__main__\":\n",
    "    mul3 = Mul(3)\n",
    "    mul5 = Mul(5)\n",
    "    print(mul3(10))\n",
    "    print(mul5(10))"
   ]
  },
  {
   "cell_type": "code",
   "execution_count": 14,
   "id": "63f78c13-d2ab-435e-a321-767a705654fc",
   "metadata": {},
   "outputs": [
    {
     "name": "stdout",
     "output_type": "stream",
     "text": [
      "30\n",
      "50\n"
     ]
    }
   ],
   "source": [
    "# closure\n",
    "# 외부 함수 안에 내부 함수를 구현했으며, 외부 함수는 내부 함수를 리턴한다.\n",
    "# 외부 함수에서 내부 함수를 리턴할 때 외부 함수 호출 시 인수로 받은 m 값을 내부 함수에 저장하여 리턴한다.\n",
    "def mul(m):\n",
    "    def wrapper(n):\n",
    "        return m * n\n",
    "    return wrapper\n",
    "if __name__ == \"__main__\":\n",
    "    mul3 = mul(3)\n",
    "    mul5 = mul(5)\n",
    "    print(mul3(10))\n",
    "    print(mul5(10))"
   ]
  },
  {
   "cell_type": "markdown",
   "id": "d9412cf2-ed02-4ad5-bdc3-a38183e668ae",
   "metadata": {},
   "source": [
    "#### 22-2. Decorator"
   ]
  },
  {
   "cell_type": "code",
   "execution_count": 30,
   "id": "2ee836de-dc80-4aa0-a80b-079bced9d391",
   "metadata": {},
   "outputs": [],
   "source": [
    "# 기존 함수를 바꾸지 않고 기능을 추가할 수 있게 만드는 클로저이다."
   ]
  },
  {
   "cell_type": "code",
   "execution_count": 28,
   "id": "9fb9c33d-3b87-46de-9310-d98f3c811801",
   "metadata": {},
   "outputs": [
    {
     "name": "stdout",
     "output_type": "stream",
     "text": [
      "Function is starting.\n",
      "Function execution time: 0.000144 sec\n"
     ]
    }
   ],
   "source": [
    "# 함수 실행 시간은 함수가 시작하는 순간의 시간과 함수가 종료되는 순간의 시간 차이를 계산하여 구한다.\n",
    "import time\n",
    "def func():\n",
    "    start = time.time()\n",
    "    print('Function is starting.')\n",
    "    end = time.time()\n",
    "    print('Function execution time: %f sec' % (end - start))\n",
    "func()"
   ]
  },
  {
   "cell_type": "code",
   "execution_count": 35,
   "id": "5d1228e2-b11f-4649-8292-fa49a9c5e09d",
   "metadata": {},
   "outputs": [
    {
     "name": "stdout",
     "output_type": "stream",
     "text": [
      "Function is starting.\n",
      "Function execution time: 0.000042 sec\n"
     ]
    }
   ],
   "source": [
    "# decorator (elapsed)\n",
    "# 파이썬은 함수도 객체이므로 함수 자체를 인수로 전달할 수 있다.\n",
    "import time\n",
    "def elapsed(original_func):\n",
    "    def wrapper():\n",
    "        start = time.time()\n",
    "        result = original_func()\n",
    "        end = time.time()\n",
    "        print('Function execution time: %f sec' % (end - start))\n",
    "        return result  # 기존 함수의 수행 결과를 리턴한다.\n",
    "    return wrapper\n",
    "def func():\n",
    "    print('Function is starting.')\n",
    "decorated_func = elapsed(func)\n",
    "decorated_func()"
   ]
  },
  {
   "cell_type": "code",
   "execution_count": 38,
   "id": "0d50eb32-7fe7-48d0-bf5a-d051d4cef36d",
   "metadata": {},
   "outputs": [
    {
     "name": "stdout",
     "output_type": "stream",
     "text": [
      "Function is starting.\n",
      "Function execution time: 0.000026 sec\n"
     ]
    }
   ],
   "source": [
    "# @\n",
    "# decorator를 @을 이용해 함수 위에 적용하여 사용\n",
    "import time\n",
    "def elapsed(original_func):\n",
    "    def wrapper():\n",
    "        start = time.time()\n",
    "        result = original_func()\n",
    "        end = time.time()\n",
    "        print('Function execution time: %f sec' % (end - start))\n",
    "        return result\n",
    "    return wrapper\n",
    "@elapsed\n",
    "def func():\n",
    "    print('Function is starting.')\n",
    "func()"
   ]
  },
  {
   "cell_type": "code",
   "execution_count": 55,
   "id": "227ba791-6ea8-4c6a-b8ba-59079f46037c",
   "metadata": {},
   "outputs": [
    {
     "name": "stdout",
     "output_type": "stream",
     "text": [
      "printing 'You need python'.\n",
      "Function execution time: 0.000043 sec\n"
     ]
    }
   ],
   "source": [
    "import time\n",
    "def elapsed(original_func):\n",
    "    def wrapper(*args, **kwargs):\n",
    "        start = time.time()\n",
    "        result = original_func(*args, **kwargs)\n",
    "        end = time.time()\n",
    "        print('Function execution time: %f sec' % (end - start))\n",
    "        return result\n",
    "    return wrapper\n",
    "@elapsed\n",
    "def myfunc(msg):\n",
    "    \"\"\" decorator check function \"\"\"\n",
    "    print(\"printing '%s'.\" % msg)\n",
    "myfunc('You need python')"
   ]
  },
  {
   "cell_type": "markdown",
   "id": "407eaffa-81a2-4772-af4a-40135b9cd46c",
   "metadata": {},
   "source": [
    "#### 22-3. *args & **kwargs"
   ]
  },
  {
   "cell_type": "code",
   "execution_count": 51,
   "id": "d02bdce9-45b8-460b-8023-bee1c93d5c92",
   "metadata": {},
   "outputs": [],
   "source": [
    "# *args는 모든 입력 인수를 튜플로 변환하는 매개변수이다.\n",
    "# **kwargs는 모든  'key = value' 형태의 입력 인수를 딕셔너리로 변환하는 매개변수이다."
   ]
  },
  {
   "cell_type": "code",
   "execution_count": 54,
   "id": "0043b422-6f82-4401-a548-d9919ac0b8b1",
   "metadata": {},
   "outputs": [
    {
     "name": "stdout",
     "output_type": "stream",
     "text": [
      "(1, 2, 3)\n",
      "{'name': 'foo', 'age': 3}\n"
     ]
    }
   ],
   "source": [
    "# 일반 입력 1, 2, 3 은 tuple로 저장한다.\n",
    "# key = value 형태의 입력은 dictionary로 저장한다.\n",
    "def func(*args, **kwargs):\n",
    "     print(args)\n",
    "     print(kwargs)\n",
    "func(1, 2, 3, name='foo', age=3)"
   ]
  }
 ],
 "metadata": {
  "kernelspec": {
   "display_name": "Python 3 (ipykernel)",
   "language": "python",
   "name": "python3"
  },
  "language_info": {
   "codemirror_mode": {
    "name": "ipython",
    "version": 3
   },
   "file_extension": ".py",
   "mimetype": "text/x-python",
   "name": "python",
   "nbconvert_exporter": "python",
   "pygments_lexer": "ipython3",
   "version": "3.8.10"
  }
 },
 "nbformat": 4,
 "nbformat_minor": 5
}
