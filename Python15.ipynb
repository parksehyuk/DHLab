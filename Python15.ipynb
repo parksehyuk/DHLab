{
 "cells": [
  {
   "cell_type": "markdown",
   "id": "7e38b610-83bb-419b-b58d-7b6b45c37e97",
   "metadata": {},
   "source": [
    "#### 15. Packages"
   ]
  },
  {
   "cell_type": "code",
   "execution_count": 1,
   "id": "2df49f4a-b316-42a7-8663-21237deef30c",
   "metadata": {},
   "outputs": [
    {
     "name": "stdout",
     "output_type": "stream",
     "text": [
      "['/home/loveofmylife/Tutorial_Python', '/usr/lib/python38.zip', '/usr/lib/python3.8', '/usr/lib/python3.8/lib-dynload', '', '/usr/local/lib/python3.8/dist-packages', '/usr/local/lib/python3.8/dist-packages/functorch-1.13.0a0+936e930-py3.8.egg', '/usr/lib/python3/dist-packages']\n"
     ]
    }
   ],
   "source": [
    "import sys\n",
    "print(sys.path)"
   ]
  },
  {
   "cell_type": "code",
   "execution_count": 2,
   "id": "4fb9739c-b589-4f43-9472-8d4433efa449",
   "metadata": {},
   "outputs": [
    {
     "name": "stdout",
     "output_type": "stream",
     "text": [
      "['/home/loveofmylife/Tutorial_Python', '/usr/lib/python38.zip', '/usr/lib/python3.8', '/usr/lib/python3.8/lib-dynload', '', '/usr/local/lib/python3.8/dist-packages', '/usr/local/lib/python3.8/dist-packages/functorch-1.13.0a0+936e930-py3.8.egg', '/usr/lib/python3/dist-packages', '/home/loveofmylife/Tutorial_Python/py/game', '/home/loveofmylife/Tutorial_Python/py/game/sound', '/home/loveofmylife/Tutorial_Python/py/game/graphic', '/home/loveofmylife/Tutorial_Python/py/game/play']\n"
     ]
    }
   ],
   "source": [
    "import sys\n",
    "sys.path.append('/home/loveofmylife/Tutorial_Python/py/game')\n",
    "sys.path.append('/home/loveofmylife/Tutorial_Python/py/game/sound')\n",
    "sys.path.append('/home/loveofmylife/Tutorial_Python/py/game/graphic')\n",
    "sys.path.append('/home/loveofmylife/Tutorial_Python/py/game/play')\n",
    "print(sys.path)"
   ]
  },
  {
   "cell_type": "code",
   "execution_count": 1,
   "id": "78e50ab3-1397-4fdc-a627-67812bafa82b",
   "metadata": {},
   "outputs": [],
   "source": [
    "# 관련된 모듈의 집합\n",
    "# 패키지 - 루트 디렉터리 - 서브 디렉터리 - 모듈\n",
    "# 파이썬 모듈을 계층적(디렉터리 구조)으로 관리한다.\n",
    "# 패키지 구조로 모듈을 만들면 다른 모듈과 이름이 겹치더라도 안전하게 사용할 수 있다."
   ]
  },
  {
   "cell_type": "markdown",
   "id": "1a035206-3192-4da4-a1f9-899c563515f0",
   "metadata": {},
   "source": [
    "#### 15-1. Package recognition"
   ]
  },
  {
   "cell_type": "code",
   "execution_count": 3,
   "id": "3dc9fd65-1265-4431-8ae2-bed26d90f861",
   "metadata": {},
   "outputs": [],
   "source": [
    "# __init__.py\n",
    "# 해당 디렉터리가 패키지의 일부임을 알려 주는 역할을 한다."
   ]
  },
  {
   "cell_type": "code",
   "execution_count": 8,
   "id": "7d66de02-42f7-4cd7-848c-7c238efdfd1b",
   "metadata": {},
   "outputs": [
    {
     "name": "stdout",
     "output_type": "stream",
     "text": [
      "echo\n"
     ]
    }
   ],
   "source": [
    "import echo\n",
    "echo_test()"
   ]
  },
  {
   "cell_type": "code",
   "execution_count": 6,
   "id": "2efd6c8f-b31b-43d4-acab-fdad3cc17b01",
   "metadata": {},
   "outputs": [
    {
     "name": "stdout",
     "output_type": "stream",
     "text": [
      "echo\n"
     ]
    }
   ],
   "source": [
    "import echo\n",
    "echo.echo_test()"
   ]
  },
  {
   "cell_type": "code",
   "execution_count": 39,
   "id": "e0832ed2-d66e-4443-a8a3-8d912fe0258f",
   "metadata": {
    "scrolled": true
   },
   "outputs": [
    {
     "name": "stdout",
     "output_type": "stream",
     "text": [
      "echo\n"
     ]
    }
   ],
   "source": [
    "from echo import echo_test\n",
    "echo_test()"
   ]
  },
  {
   "cell_type": "code",
   "execution_count": 9,
   "id": "a903d4dc-183c-4bc0-af21-3a3fa8f2931d",
   "metadata": {},
   "outputs": [
    {
     "name": "stdout",
     "output_type": "stream",
     "text": [
      "3.5\n",
      "The version of this game is 3.5.\n"
     ]
    }
   ],
   "source": [
    "# package 변수 및 function 정의\n",
    "import __init__\n",
    "print(__init__.VERSION)\n",
    "\n",
    "__init__.print_version_info()"
   ]
  },
  {
   "cell_type": "code",
   "execution_count": 10,
   "id": "dab2f7b9-dbdc-492f-812e-f2874144f961",
   "metadata": {},
   "outputs": [
    {
     "name": "stdout",
     "output_type": "stream",
     "text": [
      "render\n"
     ]
    }
   ],
   "source": [
    "# package 내 module을 미리 import 하기\n",
    "import __init__\n",
    "__init__.render_test()"
   ]
  },
  {
   "cell_type": "markdown",
   "id": "ee1924d6-bf3d-416f-b11d-a45f3218bec2",
   "metadata": {},
   "source": [
    "#### 15-2. Package initialization"
   ]
  },
  {
   "cell_type": "code",
   "execution_count": 2,
   "id": "88c0746b-e75b-4112-b8d8-089d878ee5d8",
   "metadata": {},
   "outputs": [
    {
     "name": "stdout",
     "output_type": "stream",
     "text": [
      "Initializing game ...\n"
     ]
    }
   ],
   "source": [
    "# __ini__.py 파일에 패키지를 처음 불러올 때 실행되어야 하는 코드를 작성하기\n",
    "# 데이터베이스 연결, 설정 파일 로드 등\n",
    "import __init__"
   ]
  },
  {
   "cell_type": "code",
   "execution_count": 3,
   "id": "2eae0ce4-665b-43ec-934b-5632cf7cb7c3",
   "metadata": {},
   "outputs": [
    {
     "name": "stdout",
     "output_type": "stream",
     "text": [
      "render\n"
     ]
    }
   ],
   "source": [
    "# package 초기화 코드는 package 하위 모듈의 함수를 import할 경우에도 실행된다.\n",
    "# 하지만 초기화 코드는 한 번 실행된 후에 다시 import 수행하더라도 실행되지 않는다.\n",
    "from render import render_test\n",
    "render_test()"
   ]
  },
  {
   "cell_type": "markdown",
   "id": "536a7227-387a-452a-b121-d5b27f367c8b",
   "metadata": {},
   "source": [
    "#### 15-3. Importable module"
   ]
  },
  {
   "cell_type": "code",
   "execution_count": 57,
   "id": "83fef380-8424-4cf3-a7f5-ce1d11446daa",
   "metadata": {},
   "outputs": [],
   "source": [
    "# __all__\n",
    "# cmd에서 특정 디렉터리의 모듈을 *를 사용하여 import할 때\n",
    "# 해당 디렉터리의 __init__.py 파일에 __all__ 변수를 설정하고 import할 수 있는 모듈을 정의해야한다.\n",
    "# 디렉터리에서 *를 사용하여 import할 경우, 이곳에 정의된 echo 모듈만 import 된다.\n",
    "# __all__ = ['echo']"
   ]
  },
  {
   "cell_type": "code",
   "execution_count": 53,
   "id": "b86ff82e-d47d-4aa9-bc23-19e7c247f0d6",
   "metadata": {},
   "outputs": [],
   "source": [
    "# 해당 디렉터리를 호출함으로 디렉터리 내 모든 모듈을 호출 할 수 있게 __init__.py 파일에 작성해준다.\n",
    "from echo import *\n",
    "from wav import *"
   ]
  },
  {
   "cell_type": "code",
   "execution_count": 56,
   "id": "f4b54017-766d-4d67-b5e5-98fa4b878bb2",
   "metadata": {},
   "outputs": [
    {
     "name": "stdout",
     "output_type": "stream",
     "text": [
      "echo\n"
     ]
    }
   ],
   "source": [
    "import sound\n",
    "echo_test()"
   ]
  },
  {
   "cell_type": "markdown",
   "id": "ee7e7e35-e02e-4a84-b955-bd0b8b27fed1",
   "metadata": {},
   "source": [
    "#### 15-4. Relative package"
   ]
  },
  {
   "cell_type": "code",
   "execution_count": 73,
   "id": "8373327a-a4b6-433f-b271-b7b4340c98c2",
   "metadata": {},
   "outputs": [],
   "source": [
    "# cmd에서 한 module에서 다른 module을 사용할때 module의 값을 수정해 사용한다.\n",
    "# .. 부모 디렉터리\n",
    "# . 현재 디렉터리"
   ]
  },
  {
   "cell_type": "code",
   "execution_count": 71,
   "id": "306f2dda-9e0c-4a57-ab51-b3f5c90462f0",
   "metadata": {},
   "outputs": [],
   "source": [
    "# render.py\n",
    "# from ..sound.echo import echo_test\n",
    "# def render_test():\n",
    "#     print(\"render\")\n",
    "#     echo_test()"
   ]
  },
  {
   "cell_type": "code",
   "execution_count": 74,
   "id": "5a33b248-d176-4040-8806-ca96762bd857",
   "metadata": {},
   "outputs": [
    {
     "name": "stdout",
     "output_type": "stream",
     "text": [
      "render\n",
      "echo\n"
     ]
    }
   ],
   "source": [
    "import render\n",
    "render.render_test()"
   ]
  }
 ],
 "metadata": {
  "kernelspec": {
   "display_name": "Python 3 (ipykernel)",
   "language": "python",
   "name": "python3"
  },
  "language_info": {
   "codemirror_mode": {
    "name": "ipython",
    "version": 3
   },
   "file_extension": ".py",
   "mimetype": "text/x-python",
   "name": "python",
   "nbconvert_exporter": "python",
   "pygments_lexer": "ipython3",
   "version": "3.8.10"
  }
 },
 "nbformat": 4,
 "nbformat_minor": 5
}
