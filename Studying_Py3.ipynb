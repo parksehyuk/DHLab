{
 "cells": [
  {
   "cell_type": "code",
   "execution_count": null,
   "id": "361f36df-d6ba-414d-b8ec-fb15667ed5c2",
   "metadata": {},
   "outputs": [],
   "source": [
    "# 자료형\n",
    "# 프로그래밍에 쓰는 숫자, 문자열 등 자료 형태로 사용하는 모든 것이다.\n",
    "\n",
    "\n",
    "# 숫자형 (Number)\n",
    "\n",
    "# 정수형, 실수형\n",
    "# 2E10 = 2*10^10\n",
    "# 2e-10 = 2*10^-10\n",
    "\n",
    "# 8진법\n",
    "# octal. 0o or 0O(숫자 0 + 알파벳 소문자 o or 대문자 O)\n",
    "# 0o177 = 1*8^2 + 7*8^1 + 7 = 127\n",
    "\n",
    "# 16진법\n",
    "# hexadecimal. 0x\n",
    "# 0xABC = 10*16^2 + 11*16^1 + 12 = 2748 (A=10, B=11, C=12)\n",
    "\n",
    "# 숫자형 활용 연산자\n",
    "\n",
    "# **\n",
    "# 거듭제곱\n",
    "# x ** y = x^y\n",
    "\n",
    "# %\n",
    "# 나눗셈의 나머지 값\n",
    "# 7 % 3 = 1\n",
    "\n",
    "# //\n",
    "# 나눗셈의 몫을 리턴\n",
    "# 7 // 4 = 1.75\n",
    "\n",
    "# 복합 연산자\n",
    "# +=, -=, *=, /=, //=, %=, **=\n",
    "# a의 값을 1만큼 증가시키려면 다음과 같이 할 수 있다.\n",
    "# a + 1로 계산된 값을 다시 a에 대입한다.\n",
    "a = a + 1  \n",
    "print(a)\n",
    "\n",
    "# 식에 의해 a의 값이 1만큼 증가된다. 해당 표현식은 값을 증가시키기 위해 사용.\n",
    "# 둘은 완전히 동일한 기능.\n",
    "a = a + 1\n",
    "a += 1\n",
    "\n",
    "# 문자형 (String)\n",
    "# 연속된 문자들의 나열\n",
    "\n",
    "# 모든 예문이(숫자포함) 큰 따옴표, 작은 따옴표, 큰따옴표 3개 연속, 작은따옴표 3개 연속으로 둘러싸여 있으면 모두 문자열.\n",
    "# (문장 안에도 작은따옴표와 큰따옴표가 들어 있어야 할 경우를 고려하여)\n",
    "\n",
    "# 역슬래시를 사용해서 작은따옴표와 큰따옴표를 문자열에 포함하기 \n",
    "# 역슬래시를 작은따옴표나 큰따옴표 앞에 삽입하면 역슬래시 뒤의 작은따옴표나 큰따옴표는 문자열을 둘러싸는 기호의 의미가 아니라 ' or \" 자체를 뜻하게 된다.\n",
    "\n",
    "# 줄바꿈 문자 multiline \n",
    "# 줄을 바꾸기 위한 이스케이프 코드 \\n 삽입"
   ]
  }
 ],
 "metadata": {
  "kernelspec": {
   "display_name": "Python 3 (ipykernel)",
   "language": "python",
   "name": "python3"
  },
  "language_info": {
   "codemirror_mode": {
    "name": "ipython",
    "version": 3
   },
   "file_extension": ".py",
   "mimetype": "text/x-python",
   "name": "python",
   "nbconvert_exporter": "python",
   "pygments_lexer": "ipython3",
   "version": "3.8.10"
  }
 },
 "nbformat": 4,
 "nbformat_minor": 5
}
