{
 "cells": [
  {
   "cell_type": "markdown",
   "id": "ae826e28-1d68-44e5-9812-d9a61a7cd8d9",
   "metadata": {
    "jp-MarkdownHeadingCollapsed": true
   },
   "source": [
    "#### 4. Date Type II"
   ]
  },
  {
   "cell_type": "markdown",
   "id": "156433a1-1d4e-499c-a4ae-196b09678e02",
   "metadata": {},
   "source": [
    "#### 4-1. String Type"
   ]
  },
  {
   "cell_type": "code",
   "execution_count": 36,
   "id": "676789dd-3ccb-4cef-8626-0e66e33acc5f",
   "metadata": {},
   "outputs": [
    {
     "name": "stdout",
     "output_type": "stream",
     "text": [
      "Life is too short, You need python.\n",
      "Life is too short, You need python.\n",
      "'Life is too short, You need python' he says.\n",
      "\"Life is too short, You need python\" he says.\n"
     ]
    }
   ],
   "source": [
    "# 문자열\n",
    "# 모든 예문이 따옴표 or 따옴표 연속 3개로 둘러싸여 있으면 모두 문자열.\n",
    "# 문장 안에도 작은따옴표와 큰따옴표가 들어 있어야 할 경우를 고려하기 때문\n",
    "\n",
    "a = 'Life is too short, You need python.'\n",
    "print(a)\n",
    "b = \"Life is too short, You need python.\"\n",
    "print(b)\n",
    "c = \"\"\"'Life is too short, You need python' he says.\"\"\"\n",
    "print(c)\n",
    "d = \"\"\"\"Life is too short, You need python\" he says.\"\"\"\n",
    "print(d)"
   ]
  },
  {
   "cell_type": "markdown",
   "id": "d6996392-7743-4bda-8113-1ca699755705",
   "metadata": {},
   "source": [
    "#### 4-2. 문자열에 따옴표 포함하기"
   ]
  },
  {
   "cell_type": "code",
   "execution_count": 37,
   "id": "0c2dc583-b437-453e-a6e2-97c469bd1ead",
   "metadata": {},
   "outputs": [
    {
     "name": "stdout",
     "output_type": "stream",
     "text": [
      "\"Life is too short, You need python\" he says.\n",
      "'Life is too short, You need python' he says.\n"
     ]
    }
   ],
   "source": [
    "# 큰따옴표 안에 들어 있는 작은따옴표는 문자열을 나타내기 위한 기호로 인식되지 않는다.\n",
    "# 작은따옴표 안에 들어 있는 큰따옴표는 문자열을 나타내기 위한 기호로 인식되지 않는다.\n",
    "\n",
    "a = '\"Life is too short, You need python\" he says.'\n",
    "print(a)\n",
    "b = \"'Life is too short, You need python' he says.\"\n",
    "print(b)"
   ]
  },
  {
   "cell_type": "markdown",
   "id": "f406f47f-6a9d-4ce4-bdbc-5eef55232051",
   "metadata": {},
   "source": [
    "#### 4-3. 역슬래시 삽입"
   ]
  },
  {
   "cell_type": "code",
   "execution_count": 1,
   "id": "123327b5-9d4d-4e20-8b11-82206ac19ce4",
   "metadata": {},
   "outputs": [
    {
     "name": "stdout",
     "output_type": "stream",
     "text": [
      "'Life is too short, You need python' he says.\n",
      "\"Life is too short, You need python\" he says.\n",
      "Life's too short, You need python.\n"
     ]
    }
   ],
   "source": [
    "# \\를 따옴표 앞에 삽입하면 역슬래시 뒤의 따옴표는 문자열을 둘러싸는 기호의 의미가 아니라 ' or \" 자체를 의미한다.\n",
    "\n",
    "a = \"\\'Life is too short, You need python\\' he says.\"\n",
    "print(a)\n",
    "b = \"\\\"Life is too short, You need python\\\" he says.\"\n",
    "print(b)\n",
    "c = \"Life\\'s too short, You need python.\"\n",
    "print(c)"
   ]
  },
  {
   "cell_type": "markdown",
   "id": "ded33753-799f-4969-b652-7123bbb0cb7b",
   "metadata": {},
   "source": [
    "#### 4-4. Multiline"
   ]
  },
  {
   "cell_type": "code",
   "execution_count": 40,
   "id": "7961f75b-9d0b-4e7b-9f9c-ea7366852114",
   "metadata": {},
   "outputs": [
    {
     "name": "stdout",
     "output_type": "stream",
     "text": [
      "\n",
      "Life is too short\n",
      "You need python\n",
      "\n",
      "\n",
      "Life's too short\n",
      "You need python\n",
      "\n"
     ]
    }
   ],
   "source": [
    "multiline1 = '''\n",
    "Life is too short\n",
    "You need python\n",
    "'''\n",
    "print(multiline1)\n",
    "\n",
    "multiline2 = \"\"\"\n",
    "Life's too short\n",
    "You need python\n",
    "\"\"\"\n",
    "print(multiline2)"
   ]
  },
  {
   "cell_type": "markdown",
   "id": "8d9a2260-babf-4cf5-b9ac-c9183ea3b367",
   "metadata": {},
   "source": [
    "#### 4-5. 이스케이프 코드"
   ]
  },
  {
   "cell_type": "code",
   "execution_count": 2,
   "id": "2f314fac-66fd-456f-94bb-16e9633ec178",
   "metadata": {},
   "outputs": [
    {
     "name": "stdout",
     "output_type": "stream",
     "text": [
      "Life is too short\n",
      "You need python\n"
     ]
    }
   ],
   "source": [
    "# \\n\n",
    "# 문자열 안에서 줄을 바꿀 때 사용\n",
    "a = 'Life is too short\\nYou need python'\n",
    "print(a)"
   ]
  },
  {
   "cell_type": "code",
   "execution_count": 3,
   "id": "2f5fe75e-67e2-46dc-ad95-ee0178249a38",
   "metadata": {},
   "outputs": [
    {
     "name": "stdout",
     "output_type": "stream",
     "text": [
      "Life is too short\tYou need python\n"
     ]
    }
   ],
   "source": [
    "# \\t\n",
    "# 문자열 사이에 탭 간격을 줄 때 사용\n",
    "b = 'Life is too short\\tYou need python'\n",
    "print(b)"
   ]
  },
  {
   "cell_type": "code",
   "execution_count": 4,
   "id": "967e49d9-8556-433f-bb08-c1a89a960c9e",
   "metadata": {},
   "outputs": [
    {
     "name": "stdout",
     "output_type": "stream",
     "text": [
      "Life is too short\\You need python\n"
     ]
    }
   ],
   "source": [
    "# \\\\\n",
    "# \\를 그대로 표현할 때 사용\n",
    "c = 'Life is too short\\\\You need python'\n",
    "print(c)"
   ]
  },
  {
   "cell_type": "code",
   "execution_count": 5,
   "id": "8fc6b8c5-2919-4446-8e35-4eb03ee92661",
   "metadata": {},
   "outputs": [
    {
     "name": "stdout",
     "output_type": "stream",
     "text": [
      "Life is too short'You need python\n"
     ]
    }
   ],
   "source": [
    "# \\'\n",
    "# 작은따옴표를 그대로 표현할 때 사용\n",
    "d = 'Life is too short\\'You need python'\n",
    "print(d)"
   ]
  },
  {
   "cell_type": "code",
   "execution_count": 6,
   "id": "aea49f17-fd03-4337-801a-acba09feb663",
   "metadata": {},
   "outputs": [
    {
     "name": "stdout",
     "output_type": "stream",
     "text": [
      "Life is too short\"You need python\n"
     ]
    }
   ],
   "source": [
    "# \\\"\n",
    "# 큰따옴표를 그대로 표현할 때 사용\n",
    "e = 'Life is too short\\\"You need python'\n",
    "print(e)"
   ]
  },
  {
   "cell_type": "code",
   "execution_count": 15,
   "id": "3478d804-0bb4-4b83-a489-2789aba1db3c",
   "metadata": {},
   "outputs": [
    {
     "name": "stdout",
     "output_type": "stream",
     "text": [
      "You need pythonrt\n"
     ]
    }
   ],
   "source": [
    "# \\r\n",
    "# 캐리지 리턴. 줄 바꿈 문자, 커서를 현재 줄의 가장 앞으로 이동한다.\n",
    "f = 'Life is too short\\rYou need python'\n",
    "print(f)"
   ]
  },
  {
   "cell_type": "code",
   "execution_count": 8,
   "id": "b2814fe6-594d-4877-9626-bcd4f0bfdf18",
   "metadata": {},
   "outputs": [
    {
     "name": "stdout",
     "output_type": "stream",
     "text": [
      "Life is too short\f",
      "You need python\n"
     ]
    }
   ],
   "source": [
    "# \\f\n",
    "# 폼 피드. 줄 바꿈 문자, 커서를 현재 줄의 다음 줄로 이동한다.\n",
    "g = 'Life is too short\\fYou need python'\n",
    "print(g)"
   ]
  },
  {
   "cell_type": "code",
   "execution_count": 21,
   "id": "15f929f3-0d9d-49bc-b1f8-5ff014dbbb07",
   "metadata": {},
   "outputs": [
    {
     "name": "stdout",
     "output_type": "stream",
     "text": [
      "Life is too short\u0007You need python\n"
     ]
    }
   ],
   "source": [
    "# \\a\n",
    "# 벨 소리. 출력할 때 PC 스피커에서 '삑' 소리가 난다.\n",
    "h = 'Life is too short\\aYou need python'\n",
    "print(h)"
   ]
  },
  {
   "cell_type": "code",
   "execution_count": 18,
   "id": "53229b66-a6bd-469c-9057-f1593d0e10a0",
   "metadata": {},
   "outputs": [
    {
     "name": "stdout",
     "output_type": "stream",
     "text": [
      "Life is too shorYou need python\n"
     ]
    }
   ],
   "source": [
    "# \\a\n",
    "# 백 스페이스\n",
    "i = 'Life is too short\\bYou need python'\n",
    "print(i)"
   ]
  },
  {
   "cell_type": "code",
   "execution_count": 24,
   "id": "09bb5c18-57e0-4175-bb10-b9c515ee531a",
   "metadata": {},
   "outputs": [
    {
     "name": "stdout",
     "output_type": "stream",
     "text": [
      "Life is too short\u0000You need python\n"
     ]
    }
   ],
   "source": [
    "# \\000\n",
    "# 널 문자\n",
    "j = 'Life is too short\\000You need python'\n",
    "print(j)"
   ]
  },
  {
   "cell_type": "markdown",
   "id": "a28d2e10-79b7-45d7-8574-33a38d0eb93a",
   "metadata": {},
   "source": [
    "#### 4-6. 문자열 연산"
   ]
  },
  {
   "cell_type": "code",
   "execution_count": 25,
   "id": "805455c1-2719-4ca5-a015-2399b508e4d8",
   "metadata": {},
   "outputs": [
    {
     "name": "stdout",
     "output_type": "stream",
     "text": [
      "Life is too short, You need python\n",
      "Life is too short, Life is too short, \n"
     ]
    }
   ],
   "source": [
    "a = 'Life is too short, '\n",
    "b = 'You need python'\n",
    "\n",
    "# 문자열 덧셈\n",
    "print(a + b)\n",
    "\n",
    "# 문자열 곱셈\n",
    "print(a * 2)"
   ]
  },
  {
   "cell_type": "markdown",
   "id": "a2216698-408b-4e28-baa2-8ba13e4e7739",
   "metadata": {},
   "source": [
    "#### 4-7. 문자열 곱셈 응용"
   ]
  },
  {
   "cell_type": "code",
   "execution_count": 27,
   "id": "83989ffb-1d18-4970-abc6-0079e343e4b0",
   "metadata": {},
   "outputs": [
    {
     "name": "stdout",
     "output_type": "stream",
     "text": [
      "==================================================\n",
      "My Program\n",
      "==================================================\n"
     ]
    }
   ],
   "source": [
    "# multistring.py\n",
    "print('=' * 50)\n",
    "print('My Program')\n",
    "print('=' * 50)"
   ]
  },
  {
   "cell_type": "markdown",
   "id": "4b031f93-d352-4421-adf3-4de7e5a91390",
   "metadata": {},
   "source": [
    "#### 4-8. 문자열 길이"
   ]
  },
  {
   "cell_type": "code",
   "execution_count": 44,
   "id": "9796fa36-d108-4c60-8bdc-d83b0db57f31",
   "metadata": {},
   "outputs": [
    {
     "data": {
      "text/plain": [
       "35"
      ]
     },
     "execution_count": 44,
     "metadata": {},
     "output_type": "execute_result"
    }
   ],
   "source": [
    "# 문자열의 길이에는 공백 문자도 포함된다.\n",
    "\n",
    "a = 'Life is too short, You need python.'\n",
    "len(a)"
   ]
  },
  {
   "cell_type": "markdown",
   "id": "90b158da-bcb0-4f9a-84ee-7da60cc69060",
   "metadata": {},
   "source": [
    "#### 4-9. String Indexing"
   ]
  },
  {
   "cell_type": "code",
   "execution_count": 35,
   "id": "a9869ca4-d142-49c2-a7cc-fe97fd765f9a",
   "metadata": {
    "scrolled": true
   },
   "outputs": [],
   "source": [
    "# 가리킨다\n",
    "# a[N]\n",
    "# 문자열의 N번째 문자\n",
    "# 파이썬은 숫자를 0부터 센다."
   ]
  },
  {
   "cell_type": "code",
   "execution_count": 36,
   "id": "bc21cb86-e8ca-4f08-8e0f-d2c323663d3e",
   "metadata": {},
   "outputs": [
    {
     "name": "stdout",
     "output_type": "stream",
     "text": [
      "e\n"
     ]
    }
   ],
   "source": [
    "# a[N]은 문자열 안의 특정한 값을 뽑아 낸다.\n",
    "a = 'Life is too short, You need Python'\n",
    "print(a[3])"
   ]
  },
  {
   "cell_type": "code",
   "execution_count": 37,
   "id": "0fbfa934-df8c-4909-b30d-3c3fcd9e109b",
   "metadata": {},
   "outputs": [
    {
     "name": "stdout",
     "output_type": "stream",
     "text": [
      "n\n"
     ]
    }
   ],
   "source": [
    "# a[-1]은 뒤에서부터 셀 때 첫 번째가 되는 문자이다.\n",
    "print(a[-1])"
   ]
  },
  {
   "cell_type": "code",
   "execution_count": 38,
   "id": "f2089f23-0b56-4cee-99f9-7b9d69ea36b2",
   "metadata": {},
   "outputs": [
    {
     "name": "stdout",
     "output_type": "stream",
     "text": [
      "L\n",
      "L\n"
     ]
    }
   ],
   "source": [
    "# 0 = -0 so a[0] = a[-0]\n",
    "print(a[0])\n",
    "print(a[-0])"
   ]
  },
  {
   "cell_type": "code",
   "execution_count": 39,
   "id": "62b9f3b8-5d1d-417d-b044-949d779d98b6",
   "metadata": {},
   "outputs": [
    {
     "name": "stdout",
     "output_type": "stream",
     "text": [
      "Life\n"
     ]
    }
   ],
   "source": [
    "# 문자열 내 단어 뽑아내기\n",
    "a = 'Life is too short, You need python.'\n",
    "b = a[0] + a[1] + a[2] + a[3]\n",
    "print(b)"
   ]
  },
  {
   "cell_type": "markdown",
   "id": "1ba83de4-9c82-49c5-8325-e2c75a9cb6ff",
   "metadata": {},
   "source": [
    "#### 4-10. String Slicing"
   ]
  },
  {
   "cell_type": "code",
   "execution_count": 40,
   "id": "445f723a-dcfc-4a5e-ae0a-b5aecc96f2b9",
   "metadata": {},
   "outputs": [],
   "source": [
    "# 잘라내다"
   ]
  },
  {
   "cell_type": "code",
   "execution_count": 41,
   "id": "78f86c9b-f00f-4d6c-896b-201bc59b633d",
   "metadata": {},
   "outputs": [
    {
     "name": "stdout",
     "output_type": "stream",
     "text": [
      "Life\n"
     ]
    }
   ],
   "source": [
    "# a[start number : end number]를 지정할 때 끝 번호에 해당하는 문자는 포함하지 않는다.\n",
    "# 0 <= a < 3\n",
    "c = a[0:4]\n",
    "print(c)"
   ]
  },
  {
   "cell_type": "code",
   "execution_count": 42,
   "id": "25307ba2-b1af-4461-83e7-f05de7b13e3b",
   "metadata": {},
   "outputs": [
    {
     "name": "stdout",
     "output_type": "stream",
     "text": [
      "You need python.\n"
     ]
    }
   ],
   "source": [
    "# end number를 생략하면 시작 번호부터 그 문자열의 끝까지 뽑아 낸다.\n",
    "d = a[19:]\n",
    "print(d)"
   ]
  },
  {
   "cell_type": "code",
   "execution_count": 43,
   "id": "3a38c7d3-44da-4d6f-a9b7-48e29f776be9",
   "metadata": {},
   "outputs": [
    {
     "name": "stdout",
     "output_type": "stream",
     "text": [
      "Life is too short\n"
     ]
    }
   ],
   "source": [
    "# start number를 생략하면 문자열의 처음부터 끝 번호까지 뽑아 낸다.\n",
    "e = a[:17]\n",
    "print(e)"
   ]
  },
  {
   "cell_type": "code",
   "execution_count": 44,
   "id": "f5910b98-ff61-4086-8d62-38487128196e",
   "metadata": {},
   "outputs": [
    {
     "name": "stdout",
     "output_type": "stream",
     "text": [
      "You need \n"
     ]
    }
   ],
   "source": [
    "# Slicing에서도 - 기호 사용 가능하다.\n",
    "# a[19:-7]은 a[19]에서 a[-8]까지를 의미한다. a[-7]은 포함하지 않는다.\n",
    "f = a[19:-7]\n",
    "print(f)"
   ]
  },
  {
   "cell_type": "code",
   "execution_count": 47,
   "id": "fb2de7d3-80df-43d4-b3b4-3d070dd7a5c5",
   "metadata": {},
   "outputs": [
    {
     "name": "stdout",
     "output_type": "stream",
     "text": [
      "2000\n",
      "0611\n",
      "Sunny\n"
     ]
    }
   ],
   "source": [
    "a = '20000611Sunny'\n",
    "year = a[:4]\n",
    "day = a[4:8]\n",
    "weather = a[8:]\n",
    "print(year)\n",
    "print(day)\n",
    "print(weather)"
   ]
  },
  {
   "cell_type": "markdown",
   "id": "801fa301-134d-44da-9e17-11dca399e6a7",
   "metadata": {},
   "source": [
    "#### 4-11. 'Pithon' to 'python'"
   ]
  },
  {
   "cell_type": "code",
   "execution_count": 48,
   "id": "1c12feb7-7d85-41d5-bed9-b4d9dcfceb3e",
   "metadata": {},
   "outputs": [
    {
     "name": "stdout",
     "output_type": "stream",
     "text": [
      "python\n"
     ]
    }
   ],
   "source": [
    "# Immutable\n",
    "# 문자열의 요솟값은 바꿀 수 있는 값이 아니다.\n",
    "\n",
    "# Slicing\n",
    "a = 'pithon'\n",
    "print(a[:1] + 'y' + a[2:])"
   ]
  },
  {
   "cell_type": "markdown",
   "id": "e71a68aa-0c5a-43e3-b606-3ecca2bf52de",
   "metadata": {},
   "source": [
    "#### 4-12. String Formatting"
   ]
  },
  {
   "cell_type": "code",
   "execution_count": 49,
   "id": "1ca6cd4d-d6bb-4481-a963-2eb215840502",
   "metadata": {},
   "outputs": [],
   "source": [
    "# 문자열 안의 특정한 값을 시간에 따라 바꾸어야 할 때 사용한다.\n",
    "# 문자열 안에 어떤 값을 삽입하는 방법이다."
   ]
  },
  {
   "cell_type": "markdown",
   "id": "71bdbfa9-1769-474e-88e9-13b057103f47",
   "metadata": {},
   "source": [
    "#### 4-13. String Format Code"
   ]
  },
  {
   "cell_type": "code",
   "execution_count": 54,
   "id": "27a44942-c6bf-4bad-bf1e-a27b43a650cf",
   "metadata": {},
   "outputs": [
    {
     "name": "stdout",
     "output_type": "stream",
     "text": [
      "I ate 3 apples\n",
      "I ate 3 apples\n"
     ]
    }
   ],
   "source": [
    "# %d\n",
    "# 정수(Integer)\n",
    "print('I ate %d apples' % 3)\n",
    "number = 3\n",
    "print('I ate %d apples' % number)"
   ]
  },
  {
   "cell_type": "code",
   "execution_count": 70,
   "id": "973f1af7-f961-4d8f-987c-858897e65036",
   "metadata": {},
   "outputs": [
    {
     "name": "stdout",
     "output_type": "stream",
     "text": [
      "I ate t apples\n"
     ]
    }
   ],
   "source": [
    "# %c\n",
    "# 문자 1개(character)\n",
    "print('I ate %c apples' % 't')"
   ]
  },
  {
   "cell_type": "code",
   "execution_count": 56,
   "id": "2db0c090-8951-46a0-b388-b1bb9660fd94",
   "metadata": {},
   "outputs": [
    {
     "name": "stdout",
     "output_type": "stream",
     "text": [
      "I ate three apples\n"
     ]
    }
   ],
   "source": [
    "# %s\n",
    "# 문자열(String)\n",
    "print('I ate %s apples' % 'three')"
   ]
  },
  {
   "cell_type": "code",
   "execution_count": 71,
   "id": "018db8b2-c910-4eb3-897d-f0a0809ac63f",
   "metadata": {},
   "outputs": [
    {
     "name": "stdout",
     "output_type": "stream",
     "text": [
      "I ate 0.500000 apples\n"
     ]
    }
   ],
   "source": [
    "# %f\n",
    "# 부동소수(floating-point)\n",
    "print('I ate %f apples' % 0.5)"
   ]
  },
  {
   "cell_type": "code",
   "execution_count": 82,
   "id": "dd546988-b1d4-493e-966e-3d4784354792",
   "metadata": {},
   "outputs": [
    {
     "name": "stdout",
     "output_type": "stream",
     "text": [
      "I ate 10 apples\n"
     ]
    }
   ],
   "source": [
    "# %o\n",
    "# 8진수\n",
    "print('I ate %o apples' % 8)"
   ]
  },
  {
   "cell_type": "code",
   "execution_count": 83,
   "id": "70ede7ab-9c7e-41cb-b7be-bcb55dd6e0de",
   "metadata": {},
   "outputs": [
    {
     "name": "stdout",
     "output_type": "stream",
     "text": [
      "I ate 10 apples\n"
     ]
    }
   ],
   "source": [
    "# %x\n",
    "# 16진수\n",
    "print('I ate %x apples' % 16)"
   ]
  },
  {
   "cell_type": "code",
   "execution_count": 85,
   "id": "2d3971c4-a5c8-4ef4-8301-d2e32c60eb11",
   "metadata": {},
   "outputs": [
    {
     "name": "stdout",
     "output_type": "stream",
     "text": [
      "I ate 70% of apples\n"
     ]
    }
   ],
   "source": [
    "# %%\n",
    "# Literal % (문자 % 자체)\n",
    "print('I ate %d%% of apples' % 70)"
   ]
  },
  {
   "cell_type": "code",
   "execution_count": 61,
   "id": "2d2e8df0-a6ec-457e-ae98-770d73dd18cb",
   "metadata": {},
   "outputs": [
    {
     "name": "stdout",
     "output_type": "stream",
     "text": [
      "I ate 10 apples, so I was sick for three days.\n"
     ]
    }
   ],
   "source": [
    "# 2개 이상의 값 넣기\n",
    "Number = 10\n",
    "Day = 'three'\n",
    "print('I ate %d apples, so I was sick for %s days.' % (Number, Day))"
   ]
  },
  {
   "cell_type": "markdown",
   "id": "5769a05a-088c-41d1-aa9e-ab1c5c75c524",
   "metadata": {},
   "source": [
    "#### 4-14 %s Format Code"
   ]
  },
  {
   "cell_type": "code",
   "execution_count": 52,
   "id": "cb81b349-bf84-4a6a-a439-9f46ea52262c",
   "metadata": {},
   "outputs": [
    {
     "name": "stdout",
     "output_type": "stream",
     "text": [
      "I have three apples\n",
      "I have 3 apples\n",
      "rate is 3.234\n"
     ]
    }
   ],
   "source": [
    "# 어떤 형태의 값이든 변환해 넣을 수 있다.\n",
    "# 자동으로 % 뒤의 값을 문자열로 바꾸어 대입하기 때문이다.\n",
    "print('I have %s apples' % 'three')\n",
    "print('I have %s apples' % 3)\n",
    "print('rate is %s' % 3.234)"
   ]
  },
  {
   "cell_type": "markdown",
   "id": "5d6c8189-de41-4af2-8b19-9ae4d144e849",
   "metadata": {},
   "source": [
    "#### 4-15 %d 와 % 가 같은 문자열 안에 존재하는 경우"
   ]
  },
  {
   "cell_type": "code",
   "execution_count": 86,
   "id": "581c07f0-5deb-4e52-94c2-fdf27c16eb8f",
   "metadata": {},
   "outputs": [
    {
     "name": "stdout",
     "output_type": "stream",
     "text": [
      "Error is 1%.\n"
     ]
    }
   ],
   "source": [
    "# %를 나타내려면 반드시 %%를 써야 한다.\n",
    "# %d와 같은 Format Code가 없으면 %는 홀로 쓰여도 상관없다.\n",
    "print('Error is %d%%.' % 1)"
   ]
  },
  {
   "cell_type": "markdown",
   "id": "72bc8248-d094-427e-a5c4-9a4b949a5346",
   "metadata": {},
   "source": [
    "#### 4-16. Using Format Code with Number"
   ]
  },
  {
   "cell_type": "code",
   "execution_count": 87,
   "id": "f5e18d55-5d21-4386-b21d-34ab08f8bab8",
   "metadata": {},
   "outputs": [],
   "source": [
    "# 정렬과 공백\n",
    "\n",
    "# %10s\n",
    "# 오른쪽 정렬\n",
    "\n",
    "# 전체 길이가 10개인 문자열 공간에서 대입되는 값을 오른쪽으로 정렬하고, 그 앞은 8개는 공백으로 남긴다.\n",
    "print('%10s' % 'hi' )\n",
    "\n",
    "# %-10s\n",
    "# 왼쪽 정렬\n",
    "\n",
    "# 전체 길이 16인 문자열 공간에서 대입되는 값을 왼쪽으로 정렬하고, 중간 값을 공백으로 남긴다.\n",
    "print('%-10ssehyuk' % 'hi')"
   ]
  },
  {
   "cell_type": "code",
   "execution_count": 55,
   "id": "40c9f9e8-09f2-47ef-9e4e-69c10af7d4f5",
   "metadata": {},
   "outputs": [
    {
     "name": "stdout",
     "output_type": "stream",
     "text": [
      "3.141593\n",
      "3.141593\n",
      "  3.141593\n"
     ]
    }
   ],
   "source": [
    "# 소수점 표현\n",
    "\n",
    "# %0.4f\n",
    "# ‘.’ 소수점 포인트, 그 뒤의 숫자 4는 소수점 뒤에 나올 숫자의 개수이다.\n",
    "# 소수점 포인트 앞의 숫자는 문자열의 전체 길이를 의미하는데, %0.4f에서 사용한 숫자 0은 길이에 상관하지 않겠다는 의미이다.\n",
    "print('%0.6f' % 3.14159265359)\n",
    "\n",
    "# %0.4f는 0을 생략하여 %.4f로 사용하기도 한다.\n",
    "print('%.6f' % 3.14159265359)\n",
    "\n",
    "# 주어진 값을 소수점 여섯 번째 자리까지만 표시하고, 전체 길이가 10개인 문자열 공간에서 오른쪽으로 정렬하는 예이다.\n",
    "print('%10.6f' % 3.14159265359)"
   ]
  },
  {
   "cell_type": "markdown",
   "id": "bf54de5e-9662-4bf3-9b93-c24a2268c10a",
   "metadata": {},
   "source": [
    "#### 4-17. String Format Function"
   ]
  },
  {
   "cell_type": "code",
   "execution_count": 90,
   "id": "69717cbd-02e0-4d2d-96de-087a340bd183",
   "metadata": {},
   "outputs": [
    {
     "name": "stdout",
     "output_type": "stream",
     "text": [
      "I ate 3 apples.\n",
      "I ate three apples.\n"
     ]
    }
   ],
   "source": [
    "print('I ate {} apples.' .format(3))\n",
    "print('I ate {} apples.' .format(\"three\"))"
   ]
  },
  {
   "cell_type": "code",
   "execution_count": 91,
   "id": "643689b4-9b31-40cc-89bc-b8595e7092e3",
   "metadata": {},
   "outputs": [
    {
     "name": "stdout",
     "output_type": "stream",
     "text": [
      "I ate 3 apples, so I was sick for three days.\n",
      "I ate 3 apples, so I was sick for three days.\n"
     ]
    }
   ],
   "source": [
    "# 둘 이상의 값 대입하기\n",
    "number = 3\n",
    "day = 'three'\n",
    "print('I ate {0} apples, so I was sick for {1} days.' .format(number,day))\n",
    "print('I ate {} apples, so I was sick for {} days.' .format(number,day))"
   ]
  },
  {
   "cell_type": "code",
   "execution_count": 92,
   "id": "c93bb65e-7b83-42ed-9759-a11bdded1867",
   "metadata": {},
   "outputs": [
    {
     "name": "stdout",
     "output_type": "stream",
     "text": [
      "I ate 3 apples, so I was sick for 3 days.\n"
     ]
    }
   ],
   "source": [
    "# 인덱스 항목과 name=value 형태를 혼용하는 것도 가능하다.\n",
    "print('I ate {0} apples, so I was sick for {day} days.' .format(number, day = 3))"
   ]
  },
  {
   "cell_type": "markdown",
   "id": "98b86abf-4685-4604-a2bf-c07a8f863826",
   "metadata": {},
   "source": [
    "#### 4-18. Array using Format Function"
   ]
  },
  {
   "cell_type": "code",
   "execution_count": 93,
   "id": "e9d77889-f6d5-4f77-aead-47b7f952bc40",
   "metadata": {},
   "outputs": [],
   "source": [
    "# 정렬만 가능, 시작점으로부터 몇 번째 위치에 둘 수 없다."
   ]
  },
  {
   "cell_type": "code",
   "execution_count": 94,
   "id": "0d2f095d-4e07-4bd7-aaf6-01d469cd5261",
   "metadata": {},
   "outputs": [
    {
     "name": "stdout",
     "output_type": "stream",
     "text": [
      "hi        \n",
      "hi        \n"
     ]
    }
   ],
   "source": [
    "# :<\n",
    "# 왼쪽 정렬\n",
    "print('{0:<10}' .format('hi'))\n",
    "print('{:<10}' .format('hi'))"
   ]
  },
  {
   "cell_type": "code",
   "execution_count": 95,
   "id": "140d82f0-a0ab-438a-908a-808df7bb1938",
   "metadata": {},
   "outputs": [
    {
     "name": "stdout",
     "output_type": "stream",
     "text": [
      "        hi\n",
      "        hi\n"
     ]
    }
   ],
   "source": [
    "# :>\n",
    "# 오른쪽 정렬\n",
    "print('{0:>10}' .format('hi'))\n",
    "print('{:>10}' .format('hi'))"
   ]
  },
  {
   "cell_type": "code",
   "execution_count": 96,
   "id": "be32b338-dee0-4895-9c1e-4781615bbfc4",
   "metadata": {},
   "outputs": [
    {
     "name": "stdout",
     "output_type": "stream",
     "text": [
      "    hi    \n",
      "    hi    \n"
     ]
    }
   ],
   "source": [
    "# :^\n",
    "# 가운데 정렬\n",
    "print('{0:^10}' .format('hi'))\n",
    "print('{:^10}' .format('hi'))"
   ]
  },
  {
   "cell_type": "code",
   "execution_count": 97,
   "id": "c26724aa-76c2-4ec9-82f2-2649467180a7",
   "metadata": {},
   "outputs": [
    {
     "name": "stdout",
     "output_type": "stream",
     "text": [
      "hi========\n",
      "!!!!!!!!hi\n",
      "@@@@hi@@@@\n"
     ]
    }
   ],
   "source": [
    "# 공백 채우기\n",
    "print('{0:=<10}' .format('hi'))\n",
    "print('{0:!>10}' .format('hi'))\n",
    "print('{0:@^10}' .format('hi'))"
   ]
  },
  {
   "cell_type": "code",
   "execution_count": 99,
   "id": "7f4471d0-c01b-4cfb-9219-3c56d8e4f0e5",
   "metadata": {},
   "outputs": [
    {
     "name": "stdout",
     "output_type": "stream",
     "text": [
      "{}\n",
      "{pi}\n"
     ]
    }
   ],
   "source": [
    "# {} or 문자 표현하기\n",
    "# {}를 문자 그대로 표시하려면 2개를 동시에 사용해야 한다.\n",
    "print('{{}}' .format())\n",
    "print('{{pi}}' .format())"
   ]
  },
  {
   "cell_type": "code",
   "execution_count": 98,
   "id": "167bfaf9-49f5-453e-8ece-3618fcd977d2",
   "metadata": {},
   "outputs": [
    {
     "name": "stdout",
     "output_type": "stream",
     "text": [
      "3.141593\n",
      "            3.141593\n"
     ]
    }
   ],
   "source": [
    "# 소수점 표현하기\n",
    "pi = 3.14159265359\n",
    "print('{0:0.6f}' .format(pi))\n",
    "print('{:20.6f}' .format(pi))"
   ]
  },
  {
   "cell_type": "markdown",
   "id": "1283878d-0b39-4c21-88f8-f99959eb62ae",
   "metadata": {},
   "source": [
    "#### 4-19 f String Formatting"
   ]
  },
  {
   "cell_type": "code",
   "execution_count": 100,
   "id": "492d15ab-f395-41fc-a638-a85463059519",
   "metadata": {},
   "outputs": [
    {
     "name": "stdout",
     "output_type": "stream",
     "text": [
      "My name is parksehyuk. I'm 25 years old.\n",
      "My name is parksehyuk. I'm 25 years old.\n"
     ]
    }
   ],
   "source": [
    "name = 'parksehyuk'\n",
    "age = 25\n",
    "print(f'My name is {name}. I\\'m {age} years old.')\n",
    "print(F\"My name is {name}. I\\'m {age} years old.\")"
   ]
  },
  {
   "cell_type": "code",
   "execution_count": 102,
   "id": "177b03c1-d596-4459-864b-738170fd7610",
   "metadata": {},
   "outputs": [
    {
     "name": "stdout",
     "output_type": "stream",
     "text": [
      "I'm 26 years old next year.\n"
     ]
    }
   ],
   "source": [
    "# 표현식 지원\n",
    "# 표현식이란 중괄호 안의 변수를 계산식과 함께 사용하는 것이다.\n",
    "age = 25\n",
    "print(f'I\\'m {age + 1} years old next year.')"
   ]
  },
  {
   "cell_type": "code",
   "execution_count": 103,
   "id": "09ddabff-2b1b-4535-8c1b-89ab1b4d0d39",
   "metadata": {},
   "outputs": [
    {
     "name": "stdout",
     "output_type": "stream",
     "text": [
      "My name is parksehyuk. I'm 25 years old.\n"
     ]
    }
   ],
   "source": [
    "# 딕셔너리\n",
    "d = {'name':'parksehyuk', 'age':25}\n",
    "print(f'My name is {d[\"name\"]}. I\\'m {d[\"age\"]} years old.')"
   ]
  },
  {
   "cell_type": "code",
   "execution_count": 104,
   "id": "14f93dc7-1689-4991-bcf4-caff5d0a09a8",
   "metadata": {},
   "outputs": [
    {
     "name": "stdout",
     "output_type": "stream",
     "text": [
      "hi        \n",
      "        hi\n",
      "    hi    \n"
     ]
    }
   ],
   "source": [
    "# 정렬\n",
    "print(f'{\"hi\":<10}')\n",
    "print(f'{\"hi\":>10}')\n",
    "print(f'{\"hi\":^10}')"
   ]
  },
  {
   "cell_type": "code",
   "execution_count": 105,
   "id": "b763c626-cd0c-4adb-85c4-ad1e9d131e89",
   "metadata": {},
   "outputs": [
    {
     "name": "stdout",
     "output_type": "stream",
     "text": [
      "hi========\n",
      "!!!!!!!!hi\n",
      "@@@@hi@@@@\n"
     ]
    }
   ],
   "source": [
    "# 공백 채우기\n",
    "print(f'{\"hi\":=<10}')\n",
    "print(f'{\"hi\":!>10}')\n",
    "print(f'{\"hi\":@^10}')"
   ]
  },
  {
   "cell_type": "code",
   "execution_count": 106,
   "id": "a645f1de-33e5-44cf-96ee-54e8d2bdee43",
   "metadata": {},
   "outputs": [
    {
     "name": "stdout",
     "output_type": "stream",
     "text": [
      "3.141593\n",
      "            3.141593\n"
     ]
    }
   ],
   "source": [
    "# 소수점 표현\n",
    "pi = 3.14159265359\n",
    "print(f'{pi:0.6f}')\n",
    "print(f'{pi:20.6f}')"
   ]
  },
  {
   "cell_type": "code",
   "execution_count": 107,
   "id": "3811c1b1-fc15-4d0e-b3ea-53442d90350e",
   "metadata": {},
   "outputs": [
    {
     "name": "stdout",
     "output_type": "stream",
     "text": [
      "{}\n",
      "{pi}\n"
     ]
    }
   ],
   "source": [
    "# {} 그대로 사용하기\n",
    "print(f'{{}}')\n",
    "print(f'{{pi}}')"
   ]
  },
  {
   "cell_type": "markdown",
   "id": "13e212b8-6605-42bb-90f4-0db923b105c6",
   "metadata": {},
   "source": [
    "#### 4-20. String Type built-in Function"
   ]
  },
  {
   "cell_type": "code",
   "execution_count": 108,
   "id": "42b9bad9-f45a-4d64-a2de-b57cb69b23b8",
   "metadata": {},
   "outputs": [],
   "source": [
    "# 문자열 자료형은 자체적으로 함수를 가지고 있다.\n",
    "# built-in Function을 사용하려면 변수 이름 뒤에 ‘.’를 붙인 후 함수 이름을 쓴다."
   ]
  },
  {
   "cell_type": "code",
   "execution_count": 109,
   "id": "8a972905-465c-49d8-9c8b-8a183744e688",
   "metadata": {},
   "outputs": [
    {
     "data": {
      "text/plain": [
       "2"
      ]
     },
     "execution_count": 109,
     "metadata": {},
     "output_type": "execute_result"
    }
   ],
   "source": [
    "# count\n",
    "# 문자열 중 해당 문자 개수 세기\n",
    "a = 'parksehyuk'\n",
    "a.count('k')"
   ]
  },
  {
   "cell_type": "code",
   "execution_count": 110,
   "id": "f4bfa0d0-49fb-4ec7-86fa-e4b7b3abd13e",
   "metadata": {},
   "outputs": [
    {
     "name": "stdout",
     "output_type": "stream",
     "text": [
      "28\n",
      "-1\n"
     ]
    }
   ],
   "source": [
    "# find\n",
    "# 문자열 중 해당 문자가 처음 나온 위치 찾기\n",
    "# 만약 찾는 문자나 문자열이 존재하지 않는다면 -1.\n",
    "a = 'Life is too short, You need python.'\n",
    "print(a.find('p'))\n",
    "print(a.find('a'))"
   ]
  },
  {
   "cell_type": "code",
   "execution_count": 111,
   "id": "3670a51f-0adb-4054-a6bb-b999212eb9bf",
   "metadata": {},
   "outputs": [
    {
     "name": "stdout",
     "output_type": "stream",
     "text": [
      "28\n"
     ]
    }
   ],
   "source": [
    "# index\n",
    "# 문자열 안에 존재하지 않는 문자를 찾으면 오류가 발생한다.\n",
    "# print(a.index('a')) -> ValueError\n",
    "a = 'Life is too short, You need python.'\n",
    "print(a.index('p'))"
   ]
  },
  {
   "cell_type": "code",
   "execution_count": 112,
   "id": "2c08148f-a609-45e8-b933-6734d85b8b29",
   "metadata": {},
   "outputs": [
    {
     "name": "stdout",
     "output_type": "stream",
     "text": [
      "a,b,c,d\n",
      "a,b,c,d\n"
     ]
    }
   ],
   "source": [
    "# join\n",
    "# 문자열 삽입\n",
    "# join 함수는 리스트나 튜플도 입력으로 사용할 수 있다.\n",
    "print(',' .join('abcd'))\n",
    "print(',' .join(['a', 'b', 'c', 'd']) )"
   ]
  },
  {
   "cell_type": "code",
   "execution_count": 113,
   "id": "1370bd79-3ceb-4b14-92c8-b39f8c665a0f",
   "metadata": {},
   "outputs": [
    {
     "name": "stdout",
     "output_type": "stream",
     "text": [
      "HI\n"
     ]
    }
   ],
   "source": [
    "# upper\n",
    "# 문자열이 이미 대문자라면 아무런 변화도 일어나지 않는다.\n",
    "a = 'hi'\n",
    "print(a.upper())"
   ]
  },
  {
   "cell_type": "code",
   "execution_count": 114,
   "id": "93cee48b-0121-4f75-b922-74d1da53b188",
   "metadata": {},
   "outputs": [
    {
     "name": "stdout",
     "output_type": "stream",
     "text": [
      "hi\n"
     ]
    }
   ],
   "source": [
    "# lower\n",
    "a = 'HI'\n",
    "print(a.lower())"
   ]
  },
  {
   "cell_type": "code",
   "execution_count": 115,
   "id": "27436c6b-14b2-4964-ad9c-bc726b164cff",
   "metadata": {},
   "outputs": [
    {
     "name": "stdout",
     "output_type": "stream",
     "text": [
      "hi    \n"
     ]
    }
   ],
   "source": [
    "# lstrip\n",
    "# 문자열 중 가장 왼쪽에 있는 한 칸 이상의 연속된 공백을 모두 지운다.\n",
    "a = '    hi    '\n",
    "print(a.lstrip())"
   ]
  },
  {
   "cell_type": "code",
   "execution_count": 116,
   "id": "5db33334-aed8-4c07-8bc1-9936905abae2",
   "metadata": {},
   "outputs": [
    {
     "name": "stdout",
     "output_type": "stream",
     "text": [
      "    hi\n"
     ]
    }
   ],
   "source": [
    "# rstrip\n",
    "# 문자열 중 가장 오른쪽에 있는 한 칸 이상의 연속된 공백을 모두 지운다.\n",
    "a = '    hi    '\n",
    "print(a.rstrip())"
   ]
  },
  {
   "cell_type": "code",
   "execution_count": 117,
   "id": "fbe2c3a5-3a1d-4b3d-83e9-ff42f10ee6df",
   "metadata": {},
   "outputs": [
    {
     "name": "stdout",
     "output_type": "stream",
     "text": [
      "hi\n"
     ]
    }
   ],
   "source": [
    "# strip\n",
    "# 문자열의 양쪽에 있는 한 칸 이상의 연속된 공백을 모두 지운다.\n",
    "a = '    hi    '\n",
    "print(a.strip())"
   ]
  },
  {
   "cell_type": "code",
   "execution_count": 118,
   "id": "f608b57c-1766-440c-855d-f92e19220823",
   "metadata": {},
   "outputs": [
    {
     "name": "stdout",
     "output_type": "stream",
     "text": [
      "Your leg is too short.\n"
     ]
    }
   ],
   "source": [
    "# replace\n",
    "# 문자열 바꾸기\n",
    "a = 'Life is too short.'\n",
    "print(a.replace('Life', 'Your leg'))"
   ]
  },
  {
   "cell_type": "code",
   "execution_count": 119,
   "id": "2811df39-9632-414a-9f86-de44f6e6f9d9",
   "metadata": {},
   "outputs": [
    {
     "name": "stdout",
     "output_type": "stream",
     "text": [
      "['Life', 'is', 'too', 'short.']\n",
      "['a', 'b', 'c', 'd']\n"
     ]
    }
   ],
   "source": [
    "# split\n",
    "# 문자열 나누기\n",
    "# 괄호 안에 값을 넣지 않으면 공백을 기준으로 문자열을 나눈다.\n",
    "# 이렇게 나눈 값은 리스트에 하나씩 들어간다.\n",
    "a = 'Life is too short.'\n",
    "print(a.split())\n",
    "b = 'a:b:c:d'\n",
    "print(b.split(':'))"
   ]
  },
  {
   "cell_type": "markdown",
   "id": "8677b096-76ab-45ae-90eb-82220408b309",
   "metadata": {},
   "source": [
    "#### 4-21. Immutable Data Type"
   ]
  },
  {
   "cell_type": "code",
   "execution_count": 120,
   "id": "cc8d3c13-ec56-4e1b-9d84-e7fff2fd338e",
   "metadata": {},
   "outputs": [],
   "source": [
    "# 함수 값을 취하더라도 변수의 값은 변하지 않는다.\n",
    "# 함수는 변수의 값 자체를 변경하는 것이 아니라 함수를 취한 값을 리턴하기 때문이다."
   ]
  },
  {
   "cell_type": "code",
   "execution_count": 121,
   "id": "d985eaef-340a-4d29-98b7-1a69b0f2e0a2",
   "metadata": {},
   "outputs": [
    {
     "name": "stdout",
     "output_type": "stream",
     "text": [
      "HI\n"
     ]
    }
   ],
   "source": [
    "# 변수 값을 바꾸고 싶다면 대입문을 사용해야 한다.\n",
    "a = 'hi'\n",
    "a = a.upper()\n",
    "print(a)"
   ]
  }
 ],
 "metadata": {
  "kernelspec": {
   "display_name": "Python 3 (ipykernel)",
   "language": "python",
   "name": "python3"
  },
  "language_info": {
   "codemirror_mode": {
    "name": "ipython",
    "version": 3
   },
   "file_extension": ".py",
   "mimetype": "text/x-python",
   "name": "python",
   "nbconvert_exporter": "python",
   "pygments_lexer": "ipython3",
   "version": "3.8.10"
  }
 },
 "nbformat": 4,
 "nbformat_minor": 5
}
