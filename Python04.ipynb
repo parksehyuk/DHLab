{
 "cells": [
  {
   "cell_type": "markdown",
   "id": "4b2afd39-c3c0-4ede-bffc-fd3b5eff4fcc",
   "metadata": {},
   "source": [
    "#### 4. Data Type III"
   ]
  },
  {
   "cell_type": "markdown",
   "id": "abf31044-f0d4-488c-8220-c87b30fba80d",
   "metadata": {},
   "source": [
    "#### 4-1. List Type"
   ]
  },
  {
   "cell_type": "code",
   "execution_count": 1,
   "id": "21396f15-5406-4370-81ce-8764e6a08a07",
   "metadata": {},
   "outputs": [],
   "source": [
    "# List name = [component 1, component 2, component 3, ...]\n",
    "# 리스트 안에는 어떠한 자료형도 포함할 수 있다.\n",
    "a = []\n",
    "b = [1, 2, 3, 4]\n",
    "c = ['Life', 'is', 'too', 'short']\n",
    "d = [1, 2, 'Life', 'is']\n",
    "e = [1, 2, ['Life', 'is']]"
   ]
  },
  {
   "cell_type": "code",
   "execution_count": 2,
   "id": "14a007a2-e018-4b8c-bd69-6438e2d47265",
   "metadata": {},
   "outputs": [
    {
     "name": "stdout",
     "output_type": "stream",
     "text": [
      "[]\n"
     ]
    }
   ],
   "source": [
    "# 비어 있는 리스트 생성하기\n",
    "a = list()\n",
    "print(a)"
   ]
  },
  {
   "cell_type": "markdown",
   "id": "1ac59207-3a1a-4495-b489-b2fe20eec406",
   "metadata": {},
   "source": [
    "#### 4-2. List Indexing"
   ]
  },
  {
   "cell_type": "code",
   "execution_count": 3,
   "id": "23c0a6a8-eb96-44a4-b010-1304ec2998ad",
   "metadata": {},
   "outputs": [
    {
     "name": "stdout",
     "output_type": "stream",
     "text": [
      "1\n",
      "3\n",
      "4\n"
     ]
    }
   ],
   "source": [
    "a = [1, 2, 3, 4]\n",
    "print(a[0])\n",
    "print(a[0] + a[1])\n",
    "print(a[-1])"
   ]
  },
  {
   "cell_type": "code",
   "execution_count": 4,
   "id": "ed552d60-06d0-406a-a779-5c301909506c",
   "metadata": {},
   "outputs": [
    {
     "name": "stdout",
     "output_type": "stream",
     "text": [
      "['a', 'b', 'c']\n"
     ]
    }
   ],
   "source": [
    "a = [1, 2, 3, ['a', 'b', 'c']]\n",
    "print(a[3])"
   ]
  },
  {
   "cell_type": "code",
   "execution_count": 5,
   "id": "bb230b28-2e2e-41d0-ac5a-eaef5dc5ec5a",
   "metadata": {},
   "outputs": [
    {
     "name": "stdout",
     "output_type": "stream",
     "text": [
      "a\n"
     ]
    }
   ],
   "source": [
    "# 리스트 a에 포함된 ['a', 'b', 'c'] 리스트에서 'a' 값을 인덱싱하기\n",
    "print(a[3][0])"
   ]
  },
  {
   "cell_type": "code",
   "execution_count": 6,
   "id": "db0d5ece-0f9e-4bdd-aecd-1fc223584e81",
   "metadata": {},
   "outputs": [
    {
     "name": "stdout",
     "output_type": "stream",
     "text": [
      "Life is too short.\n"
     ]
    }
   ],
   "source": [
    "# 삼중 리스트에서의 인덱싱\n",
    "a = [1, 2, ['a', 'b', ['Life ', 'is ', 'too ', 'short.']]]\n",
    "print(a[2][2][0] + a[2][2][1] + a[2][2][2] + a[2][2][3])"
   ]
  },
  {
   "cell_type": "markdown",
   "id": "5861b3c5-6f33-4239-a654-28ef1db67879",
   "metadata": {},
   "source": [
    "#### 4-3. List Slicing"
   ]
  },
  {
   "cell_type": "code",
   "execution_count": 7,
   "id": "299d44b4-a442-4aeb-921d-06bbef641129",
   "metadata": {},
   "outputs": [
    {
     "name": "stdout",
     "output_type": "stream",
     "text": [
      "[1, 2]\n",
      "[1, 2]\n",
      "[3, 4, 5]\n",
      "[2, 3, 4]\n"
     ]
    }
   ],
   "source": [
    "a = [1, 2, 3, 4, 5]\n",
    "print(a[0:2])\n",
    "print(a[:2])\n",
    "print(a[2:])\n",
    "print(a[1:-1])"
   ]
  },
  {
   "cell_type": "code",
   "execution_count": 8,
   "id": "40136917-9f26-4760-9f14-52bc37cf9b6f",
   "metadata": {},
   "outputs": [
    {
     "name": "stdout",
     "output_type": "stream",
     "text": [
      "[3, ['a', 'b', 'c'], 4]\n",
      "['a', 'b']\n"
     ]
    }
   ],
   "source": [
    "# 중첩된 리스트에서의 슬라이싱\n",
    "a = [1, 2, 3, ['a', 'b', 'c'], 4, 5]\n",
    "print(a[2:5])\n",
    "print(a[3][:2])"
   ]
  },
  {
   "cell_type": "markdown",
   "id": "cd501db5-3afa-4fd6-bbdd-b473f347e354",
   "metadata": {},
   "source": [
    "#### 4-4. List Calculation"
   ]
  },
  {
   "cell_type": "code",
   "execution_count": 9,
   "id": "4663ac37-2c93-45c2-99f2-a22d3e2cc800",
   "metadata": {},
   "outputs": [
    {
     "name": "stdout",
     "output_type": "stream",
     "text": [
      "[1, 2, 3, 4, 5, 6]\n"
     ]
    }
   ],
   "source": [
    "# addition\n",
    "a = [1, 2, 3]\n",
    "b = [4, 5, 6]\n",
    "print(a + b)"
   ]
  },
  {
   "cell_type": "code",
   "execution_count": 10,
   "id": "a2add2a8-c072-40c2-b5cd-2346d526b56c",
   "metadata": {},
   "outputs": [
    {
     "name": "stdout",
     "output_type": "stream",
     "text": [
      "[1, 2, 3, 1, 2, 3, 1, 2, 3]\n"
     ]
    }
   ],
   "source": [
    "# repeat\n",
    "# *\n",
    "a = [1, 2, 3]\n",
    "print(a * 3)"
   ]
  },
  {
   "cell_type": "code",
   "execution_count": 29,
   "id": "2f954d5a-4917-4b68-b2ed-30e204058211",
   "metadata": {},
   "outputs": [
    {
     "data": {
      "text/plain": [
       "3"
      ]
     },
     "execution_count": 29,
     "metadata": {},
     "output_type": "execute_result"
    }
   ],
   "source": [
    "# Length\n",
    "# len\n",
    "a = [1, 2, 3]\n",
    "len(a)"
   ]
  },
  {
   "cell_type": "markdown",
   "id": "122b0145-37dc-4ed1-92da-695fcb51fe00",
   "metadata": {},
   "source": [
    "#### 4-5. str"
   ]
  },
  {
   "cell_type": "code",
   "execution_count": 54,
   "id": "8371e248-f8e2-4526-bdb3-62b3149c849a",
   "metadata": {},
   "outputs": [
    {
     "name": "stdout",
     "output_type": "stream",
     "text": [
      "3hi\n"
     ]
    }
   ],
   "source": [
    "# 정수나 실수를 문자열로 바꾸어 주는 파이썬의 내장 함수이다.\n",
    "# 정수와 문자열은 더할 수 없기 때문에 'str'를 이용해 변환하여 준다.\n",
    "a = [1, 2, 3]\n",
    "b = 'hi'\n",
    "print(str(a[2]) + b)"
   ]
  },
  {
   "cell_type": "markdown",
   "id": "0077fbb3-c9b9-4033-9b67-d1916d75e894",
   "metadata": {},
   "source": [
    "#### 4-6. List Edit and Delete"
   ]
  },
  {
   "cell_type": "code",
   "execution_count": 12,
   "id": "1e4665a4-c79c-414f-97c0-7fe465a96956",
   "metadata": {},
   "outputs": [],
   "source": [
    "# mutable\n",
    "# 리스트는 값을 수정하거나 삭제 가능하다."
   ]
  },
  {
   "cell_type": "code",
   "execution_count": 13,
   "id": "3b5916ad-c65e-4e85-aafc-4b9f18d8f60d",
   "metadata": {},
   "outputs": [
    {
     "name": "stdout",
     "output_type": "stream",
     "text": [
      "4\n"
     ]
    }
   ],
   "source": [
    "# 수정\n",
    "a = [1, 2, 3]\n",
    "a[2] = 4\n",
    "print(a[2])"
   ]
  },
  {
   "cell_type": "code",
   "execution_count": 17,
   "id": "73b1cdd3-026c-4bd5-bdf3-2766f6e5c25d",
   "metadata": {},
   "outputs": [],
   "source": [
    "# Delete\n",
    "# 'del a[x]', 'del 객체'는 x번째 요솟값을 삭제한다.\n",
    "# 파이썬이 자체적으로 가지고 있는 삭제 함수이다."
   ]
  },
  {
   "cell_type": "code",
   "execution_count": 18,
   "id": "b2296704-b9e3-43a3-9eba-3903e45ad6bb",
   "metadata": {},
   "outputs": [
    {
     "name": "stdout",
     "output_type": "stream",
     "text": [
      "[1, 3]\n"
     ]
    }
   ],
   "source": [
    "a = [1, 2, 3]\n",
    "del a[1]\n",
    "print(a)"
   ]
  },
  {
   "cell_type": "code",
   "execution_count": 16,
   "id": "c067b053-288a-4345-88b6-049b11942f19",
   "metadata": {},
   "outputs": [
    {
     "name": "stdout",
     "output_type": "stream",
     "text": [
      "[1, 2]\n"
     ]
    }
   ],
   "source": [
    "a = [1, 2, 3, 4, 5]\n",
    "del a[2:]\n",
    "print(a)"
   ]
  },
  {
   "cell_type": "markdown",
   "id": "b0013d8c-1758-4531-96cc-c718859e15d1",
   "metadata": {},
   "source": [
    "#### 4-7. List Function"
   ]
  },
  {
   "cell_type": "code",
   "execution_count": 19,
   "id": "234917ac-4650-4d1a-aa03-902f03fa2261",
   "metadata": {},
   "outputs": [
    {
     "name": "stdout",
     "output_type": "stream",
     "text": [
      "[1, 2, 3, 4]\n",
      "[1, 2, 3, 4, [5, 6]]\n"
     ]
    }
   ],
   "source": [
    "# append\n",
    "# list의 맨 마지막에 component를 추가한다.\n",
    "a = [1, 2, 3]\n",
    "a.append(4)\n",
    "print(a)\n",
    "a.append([5, 6])\n",
    "print(a)"
   ]
  },
  {
   "cell_type": "code",
   "execution_count": 20,
   "id": "6a279fa6-359f-4afe-a1b4-438587f0f0db",
   "metadata": {},
   "outputs": [
    {
     "name": "stdout",
     "output_type": "stream",
     "text": [
      "[1, 2, 3, 4]\n",
      "['a', 'b', 'c']\n"
     ]
    }
   ],
   "source": [
    "# sort\n",
    "# list component를 숫자 or 알파벳 순서로 정렬시킨다.\n",
    "a = [3, 4, 1, 2]\n",
    "a.sort()\n",
    "print(a)\n",
    "a = ['c', 'b', 'a']\n",
    "a.sort()\n",
    "print(a)"
   ]
  },
  {
   "cell_type": "code",
   "execution_count": 21,
   "id": "d217be84-9f74-4e15-8f8d-73a9965d8cd3",
   "metadata": {},
   "outputs": [
    {
     "name": "stdout",
     "output_type": "stream",
     "text": [
      "['a', 'b', 'c']\n"
     ]
    }
   ],
   "source": [
    "# reverse\n",
    "# 현재의 리스트를 그대로 거꾸로 뒤집는다.\n",
    "# 리스트 요소들을 순서대로 정렬한 다음 다시 역순으로 정렬하는 것이 아니다.\n",
    "a = ['c', 'b', 'a']\n",
    "a.reverse()\n",
    "print(a)"
   ]
  },
  {
   "cell_type": "code",
   "execution_count": 22,
   "id": "dfb9d253-313b-44f3-acae-88985bc6a5db",
   "metadata": {},
   "outputs": [
    {
     "name": "stdout",
     "output_type": "stream",
     "text": [
      "2\n"
     ]
    }
   ],
   "source": [
    "# index\n",
    "# 리스트에 x 값이 있으면 x의 위칫값을 리턴한다.\n",
    "a = [1, 2, 3]\n",
    "print(a.index(3))"
   ]
  },
  {
   "cell_type": "code",
   "execution_count": 23,
   "id": "1a8c24f5-df8a-4f55-8934-16a43d66111b",
   "metadata": {},
   "outputs": [
    {
     "name": "stdout",
     "output_type": "stream",
     "text": [
      "[4, 1, 2, 3]\n"
     ]
    }
   ],
   "source": [
    "# insert\n",
    "# 리스트의 a번째 위치에 b를 삽입한다.\n",
    "a = [1, 2, 3]\n",
    "a.insert(0,4)\n",
    "print(a)"
   ]
  },
  {
   "cell_type": "code",
   "execution_count": 24,
   "id": "f4e9083d-971e-4a42-b25a-248ebc2e2014",
   "metadata": {},
   "outputs": [
    {
     "name": "stdout",
     "output_type": "stream",
     "text": [
      "[1, 2, 1, 2, 3]\n",
      "[1, 2, 1, 2]\n"
     ]
    }
   ],
   "source": [
    "# remove\n",
    "# 리스트에서 첫 번째로 나오는 해당 값을 삭제한다.\n",
    "a = [1, 2, 3, 1, 2, 3]\n",
    "a.remove(3)\n",
    "print(a)\n",
    "a.remove(3)\n",
    "print(a)"
   ]
  },
  {
   "cell_type": "code",
   "execution_count": 25,
   "id": "1355388f-c3e3-499d-99a9-cd563a9a2b87",
   "metadata": {},
   "outputs": [
    {
     "name": "stdout",
     "output_type": "stream",
     "text": [
      "4\n",
      "[1, 2, 3]\n"
     ]
    }
   ],
   "source": [
    "# pop\n",
    "# 리스트의 맨 마지막 요소를 리턴하고, 그 요소를 삭제한다.\n",
    "a = [1, 2, 3, 4]\n",
    "print(a.pop())\n",
    "print(a)"
   ]
  },
  {
   "cell_type": "code",
   "execution_count": 26,
   "id": "934c7bd5-5d1c-4f16-a443-a09e4545774c",
   "metadata": {},
   "outputs": [
    {
     "name": "stdout",
     "output_type": "stream",
     "text": [
      "3\n",
      "[1, 2, 4]\n"
     ]
    }
   ],
   "source": [
    "a = [1, 2, 3, 4]\n",
    "print(a.pop(2))\n",
    "print(a)"
   ]
  },
  {
   "cell_type": "code",
   "execution_count": 27,
   "id": "d10160b7-1086-4d7d-9747-c863335f010e",
   "metadata": {},
   "outputs": [
    {
     "name": "stdout",
     "output_type": "stream",
     "text": [
      "2\n"
     ]
    }
   ],
   "source": [
    "# count\n",
    "# 리스트 안에 해당 값이 몇 개 있는지 센다.\n",
    "a = [1, 2, 3, 1, 2, 3]\n",
    "print(a.count(1))"
   ]
  },
  {
   "cell_type": "code",
   "execution_count": 28,
   "id": "77b0663c-6d9a-4086-83bd-4def89abebf0",
   "metadata": {},
   "outputs": [
    {
     "name": "stdout",
     "output_type": "stream",
     "text": [
      "[1, 2, 3, 4, 5]\n",
      "[1, 2, 3, 4, 5, 4, 5]\n"
     ]
    }
   ],
   "source": [
    "# extend\n",
    "# b에는 리스트만 올 수 있으며  a 리스트에 b 리스트를 더한다.\n",
    "# 'a.extend([4, 5])' = 'a += [4, 5]'\n",
    "a = [1, 2, 3]\n",
    "b = [4, 5]\n",
    "a.extend(b)\n",
    "print(a)\n",
    "a += [4, 5]\n",
    "print(a)"
   ]
  },
  {
   "cell_type": "code",
   "execution_count": 30,
   "id": "dd3a164a-d82f-4bfe-a247-a8f54843ba0f",
   "metadata": {},
   "outputs": [
    {
     "name": "stdout",
     "output_type": "stream",
     "text": [
      "range(0, 10)\n"
     ]
    }
   ],
   "source": [
    "# range\n",
    "# list 자동 생성 함수\n",
    "a = range(10)\n",
    "print(a)"
   ]
  },
  {
   "cell_type": "code",
   "execution_count": 44,
   "id": "41cc31d4-bc3a-42b7-a166-3ad345bf3c01",
   "metadata": {},
   "outputs": [
    {
     "name": "stdout",
     "output_type": "stream",
     "text": [
      "55\n"
     ]
    }
   ],
   "source": [
    "add = 0\n",
    "for i in range(1, 11):\n",
    "    add = add + i\n",
    "print(add)"
   ]
  },
  {
   "cell_type": "code",
   "execution_count": null,
   "id": "c908d255-5273-4972-b14f-c367098a4825",
   "metadata": {},
   "outputs": [],
   "source": []
  }
 ],
 "metadata": {
  "kernelspec": {
   "display_name": "Python 3 (ipykernel)",
   "language": "python",
   "name": "python3"
  },
  "language_info": {
   "codemirror_mode": {
    "name": "ipython",
    "version": 3
   },
   "file_extension": ".py",
   "mimetype": "text/x-python",
   "name": "python",
   "nbconvert_exporter": "python",
   "pygments_lexer": "ipython3",
   "version": "3.8.10"
  }
 },
 "nbformat": 4,
 "nbformat_minor": 5
}
