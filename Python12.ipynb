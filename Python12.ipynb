{
 "cells": [
  {
   "cell_type": "markdown",
   "id": "81e22a60-397d-43da-82c6-3ace2aff86cc",
   "metadata": {},
   "source": [
    "#### 12. Input & Output"
   ]
  },
  {
   "cell_type": "markdown",
   "id": "edcf624c-b928-41f2-89b9-e29388984029",
   "metadata": {},
   "source": [
    "#### 12-1. Input"
   ]
  },
  {
   "cell_type": "code",
   "execution_count": 7,
   "id": "5c9e7e23-c63f-424d-93b1-5e65c1aace02",
   "metadata": {},
   "outputs": [
    {
     "name": "stdin",
     "output_type": "stream",
     "text": [
      "Please enter word. Life is too short, You need Python.\n"
     ]
    }
   ],
   "source": [
    "# 사용자가 키보드로 입력한 모든 것을 문자열로 저장한다.\n",
    "# () 내부 프롬프트를 띄워 사용자 입력받기\n",
    "a = input('Please enter word.')"
   ]
  },
  {
   "cell_type": "code",
   "execution_count": 8,
   "id": "49d42dbc-ee57-49f7-8726-6df9044a904e",
   "metadata": {},
   "outputs": [
    {
     "name": "stdout",
     "output_type": "stream",
     "text": [
      "Life is too short, You need Python.\n"
     ]
    }
   ],
   "source": [
    "print(a)"
   ]
  },
  {
   "cell_type": "code",
   "execution_count": 12,
   "id": "b27e2539-31b7-4ccb-b36c-4024e3411f87",
   "metadata": {},
   "outputs": [
    {
     "name": "stdin",
     "output_type": "stream",
     "text": [
      "Plsease enter number. 1\n"
     ]
    }
   ],
   "source": [
    "# input은 입력되는 모든 것을 문자열로 취급한다.\n",
    "number = input('Plsease enter number.')"
   ]
  },
  {
   "cell_type": "code",
   "execution_count": 13,
   "id": "a6d9c164-39cc-47e3-a0d2-0cff913938db",
   "metadata": {},
   "outputs": [
    {
     "name": "stdout",
     "output_type": "stream",
     "text": [
      "1\n"
     ]
    },
    {
     "data": {
      "text/plain": [
       "str"
      ]
     },
     "execution_count": 13,
     "metadata": {},
     "output_type": "execute_result"
    }
   ],
   "source": [
    "print(number)\n",
    "type(number)"
   ]
  },
  {
   "cell_type": "markdown",
   "id": "4dfa2d1f-3f9f-41d3-9d42-1e609acee05e",
   "metadata": {},
   "source": [
    "#### 12-2. Print"
   ]
  },
  {
   "cell_type": "code",
   "execution_count": 17,
   "id": "face0e8d-02f2-4d61-80d9-bb756a126d4e",
   "metadata": {},
   "outputs": [
    {
     "name": "stdout",
     "output_type": "stream",
     "text": [
      "Life is too short\n",
      "Life is too short\n"
     ]
    }
   ],
   "source": [
    "# \"\"\n",
    "# 큰따옴표로 둘러싸인 문자열은 + 연산과 동일하다.\n",
    "print(\"Life\" + \" is\" + \" too\" + \" short\")\n",
    "print(\"Life\" \" is\" \" too\" \" short\")"
   ]
  },
  {
   "cell_type": "code",
   "execution_count": 19,
   "id": "ee8df349-24c9-4771-84f9-bb5515c160ae",
   "metadata": {},
   "outputs": [
    {
     "name": "stdout",
     "output_type": "stream",
     "text": [
      "Life is too short\n"
     ]
    }
   ],
   "source": [
    "# ,\n",
    "# 문자열 띄어쓰기\n",
    "print(\"Life\" , \"is\" , \"too\" , \"short\")"
   ]
  },
  {
   "cell_type": "code",
   "execution_count": 23,
   "id": "d84487f3-d505-40bd-8d5e-065bf6ea4fe2",
   "metadata": {},
   "outputs": [
    {
     "name": "stdout",
     "output_type": "stream",
     "text": [
      "0 1 2 3 4 5 6 7 8 9 "
     ]
    }
   ],
   "source": [
    "# end\n",
    "# 한 줄에 결괏값 출력하기\n",
    "# end 매개변수의 초깃값은 줄바꿈문자(\\n) 이다.\n",
    "for i in range(10):\n",
    "    print(i, end = ' ')"
   ]
  },
  {
   "cell_type": "code",
   "execution_count": null,
   "id": "a062800f-bb63-4bbf-a0b4-cac67ec63f32",
   "metadata": {},
   "outputs": [],
   "source": []
  }
 ],
 "metadata": {
  "kernelspec": {
   "display_name": "Python 3 (ipykernel)",
   "language": "python",
   "name": "python3"
  },
  "language_info": {
   "codemirror_mode": {
    "name": "ipython",
    "version": 3
   },
   "file_extension": ".py",
   "mimetype": "text/x-python",
   "name": "python",
   "nbconvert_exporter": "python",
   "pygments_lexer": "ipython3",
   "version": "3.8.10"
  }
 },
 "nbformat": 4,
 "nbformat_minor": 5
}
