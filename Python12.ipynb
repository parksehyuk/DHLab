{
 "cells": [
  {
   "cell_type": "markdown",
   "id": "81e22a60-397d-43da-82c6-3ace2aff86cc",
   "metadata": {
    "jp-MarkdownHeadingCollapsed": true
   },
   "source": [
    "#### 12. Input & Output"
   ]
  },
  {
   "cell_type": "markdown",
   "id": "edcf624c-b928-41f2-89b9-e29388984029",
   "metadata": {},
   "source": [
    "#### 12-1. Input"
   ]
  },
  {
   "cell_type": "code",
   "execution_count": 2,
   "id": "5c9e7e23-c63f-424d-93b1-5e65c1aace02",
   "metadata": {},
   "outputs": [
    {
     "name": "stdin",
     "output_type": "stream",
     "text": [
      "Please enter word. Life is too short, You need Python.\n"
     ]
    }
   ],
   "source": [
    "# 사용자가 입력한 것을 문자열로 저장한다.\n",
    "# () 내부 프롬프트를 띄워 사용자 입력받기\n",
    "a = input('Please enter word.')"
   ]
  },
  {
   "cell_type": "code",
   "execution_count": 3,
   "id": "49d42dbc-ee57-49f7-8726-6df9044a904e",
   "metadata": {},
   "outputs": [
    {
     "name": "stdout",
     "output_type": "stream",
     "text": [
      "Life is too short, You need Python.\n"
     ]
    }
   ],
   "source": [
    "print(a)"
   ]
  },
  {
   "cell_type": "code",
   "execution_count": 4,
   "id": "b27e2539-31b7-4ccb-b36c-4024e3411f87",
   "metadata": {},
   "outputs": [
    {
     "name": "stdin",
     "output_type": "stream",
     "text": [
      "Plsease enter number. 1\n"
     ]
    },
    {
     "name": "stdout",
     "output_type": "stream",
     "text": [
      "1\n",
      "<class 'str'>\n"
     ]
    }
   ],
   "source": [
    "# input은 입력되는 모든 것을 문자열로 취급한다.\n",
    "number = input('Plsease enter number.')\n",
    "print(number)\n",
    "print(type(number))"
   ]
  },
  {
   "cell_type": "code",
   "execution_count": 5,
   "id": "b848581a-d126-4262-85e6-bb428f6adda9",
   "metadata": {},
   "outputs": [],
   "source": [
    "#사용자의 입력을 받아 그 내용을 그대로 출력하는 경우\n",
    "# while True:\n",
    "#    data = input()\n",
    "#    if not data: break\n",
    "#    print(data)"
   ]
  },
  {
   "cell_type": "markdown",
   "id": "4dfa2d1f-3f9f-41d3-9d42-1e609acee05e",
   "metadata": {},
   "source": [
    "#### 12-2. Print"
   ]
  },
  {
   "cell_type": "code",
   "execution_count": 17,
   "id": "face0e8d-02f2-4d61-80d9-bb756a126d4e",
   "metadata": {},
   "outputs": [
    {
     "name": "stdout",
     "output_type": "stream",
     "text": [
      "Life is too short\n",
      "Life is too short\n"
     ]
    }
   ],
   "source": [
    "# \"\"\n",
    "# 큰따옴표로 둘러싸인 문자열은 + 연산과 동일하다.\n",
    "print(\"Life\" + \" is\" + \" too\" + \" short\")\n",
    "print(\"Life\" \" is\" \" too\" \" short\")"
   ]
  },
  {
   "cell_type": "code",
   "execution_count": 19,
   "id": "ee8df349-24c9-4771-84f9-bb5515c160ae",
   "metadata": {},
   "outputs": [
    {
     "name": "stdout",
     "output_type": "stream",
     "text": [
      "Life is too short\n"
     ]
    }
   ],
   "source": [
    "# ,\n",
    "# 문자열 띄어쓰기\n",
    "print(\"Life\" , \"is\" , \"too\" , \"short\")"
   ]
  },
  {
   "cell_type": "code",
   "execution_count": 23,
   "id": "d84487f3-d505-40bd-8d5e-065bf6ea4fe2",
   "metadata": {
    "scrolled": true
   },
   "outputs": [
    {
     "name": "stdout",
     "output_type": "stream",
     "text": [
      "0 1 2 3 4 5 6 7 8 9 "
     ]
    }
   ],
   "source": [
    "# end\n",
    "# 한 줄에 결괏값 출력하기\n",
    "# end 매개변수의 초깃값은 줄바꿈문자(\\n) 이다.\n",
    "for i in range(10):\n",
    "    print(i, end = ' ')"
   ]
  },
  {
   "cell_type": "markdown",
   "id": "bf285b98-27a7-49e6-81df-5a82a54fb7a3",
   "metadata": {},
   "source": [
    "#### 12-3. File"
   ]
  },
  {
   "cell_type": "code",
   "execution_count": 17,
   "id": "d999dfa8-30a9-4ae0-bb88-e1ba71d0607a",
   "metadata": {},
   "outputs": [],
   "source": [
    "# r : 읽기 모드"
   ]
  },
  {
   "cell_type": "code",
   "execution_count": 18,
   "id": "e24d6b08-c38e-4737-a11b-32cf0ac57dfa",
   "metadata": {},
   "outputs": [],
   "source": [
    "# w : 쓰기 모드\n",
    "# 해당 파일이 이미 존재할 경우 원래 있던 내용이 모두 사라지고, 해당 파일이 존재하지 않으면 새로운 파일이 생성된다.\n",
    "# close는 열려 있는 파일 객체를 닫아 주는 역할을 한다.\n",
    "# 쓰기모드로 열었던 파일을 닫지 않고 다시 사용하려고 하면 오류가 발생하기 때문에 직접 닫아주는 것이 좋다."
   ]
  },
  {
   "cell_type": "code",
   "execution_count": 19,
   "id": "f76a7b6c-8e5b-4394-8219-d305a58dde58",
   "metadata": {},
   "outputs": [],
   "source": [
    "# a : 추가 모드\n",
    "# 파일의 마지막에 새로운 내용을 추가할 때 사용한다."
   ]
  },
  {
   "cell_type": "code",
   "execution_count": 1,
   "id": "b2f2146e-33a4-413d-abf9-92aca4be2a93",
   "metadata": {},
   "outputs": [],
   "source": [
    "# b\t: 바이너리 모드\n",
    "# w, r, a와 함께 사용한다. (rb : 바이너리 읽기 모드)"
   ]
  },
  {
   "cell_type": "code",
   "execution_count": 16,
   "id": "fcb0cdeb-26af-4f47-81a8-f037364e97f3",
   "metadata": {},
   "outputs": [],
   "source": [
    "# file path\n",
    "# \"C:/User/directory/newfile.txt\"\n",
    "# \"C:\\\\User\\\\directory\\\\newfile.txt\"\n",
    "\n",
    "# raw string\n",
    "# 파일 경로에 이스케이프 문자가 있을 경우, 줄바꿈 문자로 해석되어 의도했던 파일 경로와 달라질 수 있기에 r 문자 사용\n",
    "# r\"C:\\User\\directory\\newfile.txt\""
   ]
  },
  {
   "cell_type": "code",
   "execution_count": 19,
   "id": "b9e0db77-ca56-466c-b1e8-6942a44b8857",
   "metadata": {},
   "outputs": [],
   "source": [
    "# create a file\n",
    "# 파일 경로를 설정해주지 않는다면 현재 디렉터리에 생성된다.\n",
    "f = open(\"/home/loveofmylife/Tutorial_Python/py/newfile.txt\", 'w')\n",
    "f.close()"
   ]
  },
  {
   "cell_type": "markdown",
   "id": "cf257c13-71ba-49ec-861b-0a1da9c4c5c6",
   "metadata": {},
   "source": [
    "#### 12-4. Write mode"
   ]
  },
  {
   "cell_type": "code",
   "execution_count": 20,
   "id": "bf3e69a2-958c-4fc2-b1a8-459f99307bd5",
   "metadata": {},
   "outputs": [],
   "source": [
    "# write data\n",
    "f = open(\"/home/loveofmylife/Tutorial_Python/py/newfile.txt\", 'w')\n",
    "for i in range(1, 11):\n",
    "    data = \"%dth line.\\n\" % i\n",
    "    f.write(data)\n",
    "f.close()"
   ]
  },
  {
   "cell_type": "code",
   "execution_count": 22,
   "id": "d3463ff3-5732-4e38-9219-3fa1423a349f",
   "metadata": {},
   "outputs": [
    {
     "name": "stdout",
     "output_type": "stream",
     "text": [
      "1th line.\n",
      "\n",
      "2th line.\n",
      "\n",
      "3th line.\n",
      "\n",
      "4th line.\n",
      "\n",
      "5th line.\n",
      "\n",
      "6th line.\n",
      "\n",
      "7th line.\n",
      "\n",
      "8th line.\n",
      "\n",
      "9th line.\n",
      "\n",
      "10th line.\n",
      "\n"
     ]
    }
   ],
   "source": [
    "for i in range(1, 11):\n",
    "    data = \"%dth line.\\n\" % i\n",
    "    print(data)"
   ]
  },
  {
   "cell_type": "code",
   "execution_count": 23,
   "id": "1e197b29-cd3c-45b0-b2a5-2ebc48b25a47",
   "metadata": {},
   "outputs": [],
   "source": [
    "# with\n",
    "# 파일을 열고 닫는 것을 자동으로 처리하기\n",
    "# with 블록을 벗어나는 순간, 열린 파일 객체 f가 자동으로 닫힌다.\n",
    "with open(\"/home/loveofmylife/Tutorial_Python/py/foo.txt\", \"w\") as f:\n",
    "    f.write(\"Life is too short, you need python\")"
   ]
  },
  {
   "cell_type": "markdown",
   "id": "bc312cce-4cf1-4ac9-9fee-7c9d94951095",
   "metadata": {},
   "source": [
    "#### 12-5. Read mode"
   ]
  },
  {
   "cell_type": "code",
   "execution_count": 24,
   "id": "46a2b17d-08ba-4eff-9a95-da9807c07c5d",
   "metadata": {},
   "outputs": [
    {
     "name": "stdout",
     "output_type": "stream",
     "text": [
      "1th line.\n",
      "\n"
     ]
    }
   ],
   "source": [
    "# readline\n",
    "# 파일의 첫 번째 줄을 읽어 출력하기\n",
    "f = open(\"/home/loveofmylife/Tutorial_Python/py/newfile.txt\", 'r')\n",
    "line = f.readline()\n",
    "print(line)\n",
    "f.close()"
   ]
  },
  {
   "cell_type": "code",
   "execution_count": 25,
   "id": "eb839f82-7b97-42f5-9cbd-aebf60b4c509",
   "metadata": {},
   "outputs": [
    {
     "name": "stdout",
     "output_type": "stream",
     "text": [
      "1th line.\n",
      "\n",
      "2th line.\n",
      "\n",
      "3th line.\n",
      "\n",
      "4th line.\n",
      "\n",
      "5th line.\n",
      "\n",
      "6th line.\n",
      "\n",
      "7th line.\n",
      "\n",
      "8th line.\n",
      "\n",
      "9th line.\n",
      "\n",
      "10th line.\n",
      "\n"
     ]
    }
   ],
   "source": [
    "# 파일 전체를 화면에 출력하기\n",
    "# readline은 더 이상 읽을 줄이 없을 경우, 빈 문자열('')을 리턴한다.\n",
    "# 한 줄씩 읽어 출력할 때 줄 끝에 줄바꿈문자(\\n)가 있으므로 빈 줄도 같이 출력된다.\n",
    "f = open(\"/home/loveofmylife/Tutorial_Python/py/newfile.txt\", 'r')\n",
    "while True:\n",
    "    line = f.readline()\n",
    "    if not line: break\n",
    "    print(line)\n",
    "f.close()"
   ]
  },
  {
   "cell_type": "code",
   "execution_count": 26,
   "id": "8a1f1694-3940-4364-805a-574f7e8857ec",
   "metadata": {},
   "outputs": [
    {
     "name": "stdout",
     "output_type": "stream",
     "text": [
      "1th line.\n",
      "\n",
      "2th line.\n",
      "\n",
      "3th line.\n",
      "\n",
      "4th line.\n",
      "\n",
      "5th line.\n",
      "\n",
      "6th line.\n",
      "\n",
      "7th line.\n",
      "\n",
      "8th line.\n",
      "\n",
      "9th line.\n",
      "\n",
      "10th line.\n",
      "\n"
     ]
    }
   ],
   "source": [
    "# readlines\n",
    "# 파일의 모든 줄을 읽어 각각의 줄을 요소로 가지는 리스트를 리턴한다.\n",
    "f = open(\"/home/loveofmylife/Tutorial_Python/py/newfile.txt\", 'r')\n",
    "lines = f.readlines()\n",
    "for line in lines:\n",
    "    print(line)\n",
    "f.close()"
   ]
  },
  {
   "cell_type": "code",
   "execution_count": 27,
   "id": "b7425d21-f2e8-4a64-a5f8-0933ae15c29f",
   "metadata": {},
   "outputs": [
    {
     "name": "stdout",
     "output_type": "stream",
     "text": [
      "1th line.\n",
      "2th line.\n",
      "3th line.\n",
      "4th line.\n",
      "5th line.\n",
      "6th line.\n",
      "7th line.\n",
      "8th line.\n",
      "9th line.\n",
      "10th line.\n"
     ]
    }
   ],
   "source": [
    "# strip\n",
    "# 줄 바꿈 문자를 제거하여 문자열을 출력하기\n",
    "f = open(\"/home/loveofmylife/Tutorial_Python/py/newfile.txt\", 'r')\n",
    "lines = f.readlines()\n",
    "for line in lines:\n",
    "    line = line.strip()\n",
    "    print(line)\n",
    "f.close()"
   ]
  },
  {
   "cell_type": "code",
   "execution_count": 28,
   "id": "6bcf0211-2042-4353-bc63-3d790a00ca99",
   "metadata": {},
   "outputs": [
    {
     "name": "stdout",
     "output_type": "stream",
     "text": [
      "1th line.\n",
      "2th line.\n",
      "3th line.\n",
      "4th line.\n",
      "5th line.\n",
      "6th line.\n",
      "7th line.\n",
      "8th line.\n",
      "9th line.\n",
      "10th line.\n",
      "\n"
     ]
    }
   ],
   "source": [
    "# read\n",
    "# 파일 내용 전체를 문자열로 리턴한다.\n",
    "f = open(\"/home/loveofmylife/Tutorial_Python/py/newfile.txt\", 'r')\n",
    "data = f.read()\n",
    "print(data)\n",
    "f.close()"
   ]
  },
  {
   "cell_type": "code",
   "execution_count": 29,
   "id": "44c60954-fa94-4f88-b394-e593924dd363",
   "metadata": {},
   "outputs": [
    {
     "name": "stdout",
     "output_type": "stream",
     "text": [
      "1th line.\n",
      "\n",
      "2th line.\n",
      "\n",
      "3th line.\n",
      "\n",
      "4th line.\n",
      "\n",
      "5th line.\n",
      "\n",
      "6th line.\n",
      "\n",
      "7th line.\n",
      "\n",
      "8th line.\n",
      "\n",
      "9th line.\n",
      "\n",
      "10th line.\n",
      "\n"
     ]
    }
   ],
   "source": [
    "# for\n",
    "# 파일 객체(f)는 for를 사용하여 파일을 줄 단위로 읽을 수 있다.\n",
    "f = open(\"/home/loveofmylife/Tutorial_Python/py/newfile.txt\", 'r')\n",
    "for line in f:\n",
    "    print(line)\n",
    "f.close()"
   ]
  },
  {
   "cell_type": "markdown",
   "id": "330c93e7-46cf-441d-b2c4-ae4b397d4b4a",
   "metadata": {},
   "source": [
    "#### 12-6. Addition mode"
   ]
  },
  {
   "cell_type": "code",
   "execution_count": 30,
   "id": "0b258d33-d565-4274-80f6-010670cca2fc",
   "metadata": {},
   "outputs": [],
   "source": [
    "# 기존값을 유지하면서, 새로운 값만 추가해야 할 경우\n",
    "f = open(\"/home/loveofmylife/Tutorial_Python/py/newfile.txt\",'a')\n",
    "for i in range(11, 20):\n",
    "    data = \"%dth line.\\n\" % i\n",
    "    f.write(data)\n",
    "f.close()"
   ]
  },
  {
   "cell_type": "code",
   "execution_count": 35,
   "id": "407a0dcc-a875-404e-aebc-d4eac85f683d",
   "metadata": {},
   "outputs": [
    {
     "name": "stdout",
     "output_type": "stream",
     "text": [
      "1th line.\n",
      "2th line.\n",
      "3th line.\n",
      "4th line.\n",
      "5th line.\n",
      "6th line.\n",
      "7th line.\n",
      "8th line.\n",
      "9th line.\n",
      "10th line.\n",
      "11th line.\n",
      "12th line.\n",
      "13th line.\n",
      "14th line.\n",
      "15th line.\n",
      "16th line.\n",
      "17th line.\n",
      "18th line.\n",
      "19th line.\n"
     ]
    }
   ],
   "source": [
    "f = open(\"/home/loveofmylife/Tutorial_Python/py/newfile.txt\", 'r')\n",
    "for line in f:\n",
    "    line = line.strip()\n",
    "    print(line)\n",
    "f.close()"
   ]
  },
  {
   "cell_type": "markdown",
   "id": "01b232e4-076d-46d4-8767-509521080d0e",
   "metadata": {},
   "source": [
    "#### 12-7. Sys module"
   ]
  },
  {
   "cell_type": "code",
   "execution_count": 39,
   "id": "0c64cda6-48b3-47f2-b31d-1fa5308b2d9b",
   "metadata": {},
   "outputs": [],
   "source": [
    "# 파일 이름을 인수로 받아 해당 파일의 내용을 출력해 주는 프롬프트 명령어\n",
    "# C:\\> type a.txt"
   ]
  },
  {
   "cell_type": "code",
   "execution_count": 41,
   "id": "91df9608-a755-4b30-b63b-01b1a3d2e701",
   "metadata": {},
   "outputs": [
    {
     "name": "stdout",
     "output_type": "stream",
     "text": [
      "-f\n",
      "/root/.local/share/jupyter/runtime/kernel-30bff219-f188-4ffe-a848-e056e6b68fc7.json\n"
     ]
    }
   ],
   "source": [
    "# 프로그램 실행 시 전달받은 인수를 for 문을 사용해 차례대로 출력한다.\n",
    "# argv는 프로그램 실행 시 전달된 인수를 의미한다.\n",
    "# argv[0] = 파일 이름\n",
    "# argv[1]부터는 뒤에 따라오는 인수가 차례대로 argv의 요소가 된다.\n",
    "import sys\n",
    "args = sys.argv[1:]\n",
    "for i in args:\n",
    "    print(i)"
   ]
  },
  {
   "cell_type": "code",
   "execution_count": 43,
   "id": "8d109697-df24-47ab-a162-4bc8643bc4e9",
   "metadata": {},
   "outputs": [
    {
     "name": "stdout",
     "output_type": "stream",
     "text": [
      "-F /ROOT/.LOCAL/SHARE/JUPYTER/RUNTIME/KERNEL-30BFF219-F188-4FFE-A848-E056E6B68FC7.JSON "
     ]
    }
   ],
   "source": [
    "# 프로그램 실행 시 전달된 인수를 대문자로 바꾸어 준다.\n",
    "import sys\n",
    "args = sys.argv[1:]\n",
    "for i in args:\n",
    "    print(i.upper(), end=' ')"
   ]
  }
 ],
 "metadata": {
  "kernelspec": {
   "display_name": "Python 3 (ipykernel)",
   "language": "python",
   "name": "python3"
  },
  "language_info": {
   "codemirror_mode": {
    "name": "ipython",
    "version": 3
   },
   "file_extension": ".py",
   "mimetype": "text/x-python",
   "name": "python",
   "nbconvert_exporter": "python",
   "pygments_lexer": "ipython3",
   "version": "3.8.10"
  }
 },
 "nbformat": 4,
 "nbformat_minor": 5
}
