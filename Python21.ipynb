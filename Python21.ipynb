{
 "cells": [
  {
   "cell_type": "markdown",
   "id": "f2803d7e-1837-41a4-b38a-e158a6c558d4",
   "metadata": {},
   "source": [
    "#### 21. Unicode"
   ]
  },
  {
   "cell_type": "code",
   "execution_count": 8,
   "id": "e9dabf7e-aadb-4599-b642-c492667197b7",
   "metadata": {},
   "outputs": [],
   "source": [
    "# 0과 1 값만 인식할 수 있는 컴퓨터가 입력받는 문자를 인식하는 방법\n",
    "# 모든 나라의 문자를 포함하도록 설계되었고 세계 표준이다.\n",
    "# 파이썬은 버전 3부터 모든 문자열을 유니코드로 처리한다."
   ]
  },
  {
   "cell_type": "markdown",
   "id": "027b8847-91d5-4aaa-94ca-7492904ef774",
   "metadata": {},
   "source": [
    "#### 21-1. ASCII"
   ]
  },
  {
   "cell_type": "code",
   "execution_count": 7,
   "id": "a6ce0e56-8c33-4dab-81d0-37e4b1f6fac3",
   "metadata": {},
   "outputs": [],
   "source": [
    "# character set (문자 셋)\n",
    "# 숫자마다 문자를 매핑해두어 해당 숫자를 문자로 대체하여 인식하는 방식이다.\n",
    "# 아스키코드는 미국에서 최초로 만든 문자 셋으로 처리할 수 있는 문자 개수가 127개인 매핑(mapping) 문자이다."
   ]
  },
  {
   "cell_type": "markdown",
   "id": "605f9999-d5f4-4522-a974-61f81ed8f8b2",
   "metadata": {},
   "source": [
    "#### 21-2. Encoding"
   ]
  },
  {
   "cell_type": "code",
   "execution_count": 9,
   "id": "5688d3a4-70a5-4124-ae96-8149a3657118",
   "metadata": {},
   "outputs": [],
   "source": [
    "# 유니코드 문자열을 파일에 적거나 다른 시스템으로 전송하려면 byte 문자열로 변환해야 한다.\n",
    "# 파일을 읽거나 네트워크를 통해 byte 문자열을 수신할 때는 인코딩 방식을 알아야 디코딩할 수 있다."
   ]
  },
  {
   "cell_type": "code",
   "execution_count": 26,
   "id": "826381a1-50e5-493b-a7ad-2b043eaa5537",
   "metadata": {
    "scrolled": true
   },
   "outputs": [
    {
     "name": "stdout",
     "output_type": "stream",
     "text": [
      "b'Life is too short'\n",
      "<class 'bytes'>\n"
     ]
    }
   ],
   "source": [
    "# utf-8\n",
    "# 유니코드 문자열을 바이트 문자열로 만들 때는 인코딩 방식을 인수로 넘겨 주어야 한다.\n",
    "# 인수를 생략하면 기본값인 utf-8로 동작한다.\n",
    "a = \"Life is too short\"\n",
    "b = a.encode('utf-8')\n",
    "print(b)\n",
    "print(type(b))"
   ]
  },
  {
   "cell_type": "code",
   "execution_count": 17,
   "id": "6ba9fac9-72b9-4ed8-ad7b-d159421c5f3b",
   "metadata": {},
   "outputs": [
    {
     "name": "stdout",
     "output_type": "stream",
     "text": [
      "b'\\xed\\x95\\x9c\\xea\\xb8\\x80'\n"
     ]
    }
   ],
   "source": [
    "a = '한글'\n",
    "b = a.encode('utf-8')\n",
    "print(b)"
   ]
  },
  {
   "cell_type": "code",
   "execution_count": 18,
   "id": "1c878042-364f-42c1-afe8-a0c30d4506bc",
   "metadata": {},
   "outputs": [
    {
     "name": "stdout",
     "output_type": "stream",
     "text": [
      "b'\\xc7\\xd1\\xb1\\xdb'\n"
     ]
    }
   ],
   "source": [
    "a = '한글'\n",
    "b = a.encode('euc-kr')\n",
    "print(b)"
   ]
  },
  {
   "cell_type": "markdown",
   "id": "f437b418-8060-4dcd-b231-54cbb1044903",
   "metadata": {},
   "source": [
    "#### 21-3. Decoding"
   ]
  },
  {
   "cell_type": "code",
   "execution_count": 21,
   "id": "3597c0ef-dc24-4ba2-874a-4b4bfca5a320",
   "metadata": {},
   "outputs": [
    {
     "name": "stdout",
     "output_type": "stream",
     "text": [
      "한글\n"
     ]
    }
   ],
   "source": [
    "# 'euc-kr'로 인코딩한 바이트 문자열은 'euc-kr'로만 디코딩해야 한다.\n",
    "a = '한글'\n",
    "b = a.encode('euc-kr')\n",
    "print(b.decode('euc-kr'))"
   ]
  },
  {
   "cell_type": "markdown",
   "id": "c157c110-ac12-4919-b317-df26e5368be0",
   "metadata": {},
   "source": [
    "#### 21-4. Input/Output and Encoding"
   ]
  },
  {
   "cell_type": "code",
   "execution_count": 24,
   "id": "b37bf873-38da-4440-8fa1-30586ce479ba",
   "metadata": {},
   "outputs": [],
   "source": [
    "# 파일을 읽거나 네트워크를 통해 데이터를 주고받을 때는\n",
    "# 입력으로 받은 바이트 문자열은 되도록 빨리 유니코드 문자열로 디코딩한다.\n",
    "# 함수나 클래스 등에서는 유니코드 문자열만 사용한다.\n",
    "# 입력에 대한 결과를 전송하는 마지막 부분에서만 유니코드 문자열을 바이트 문자열로 인코딩해서 반환한다."
   ]
  },
  {
   "cell_type": "code",
   "execution_count": 27,
   "id": "33b4386a-83d9-4bb3-8522-3a5c582a46ae",
   "metadata": {},
   "outputs": [],
   "source": [
    "# 'euc-kr'로 작성된 파일을 유니코드 문자열로 읽기\n",
    "with open('/home/loveofmylife/Tutorial_Python/py/euc_kr.txt', encoding='euc-kr') as f:\n",
    "    data = f.read()  # 유니코드 문자열 \n",
    "\n",
    "# unicode 문자열로 프로그램 수행하기\n",
    "data = data + \"\\n\" + \"추가 문자열\"\n",
    "\n",
    "# 'euc-kr'로 수정된 문자열 저장하기\n",
    "with open('/home/loveofmylife/Tutorial_Python/py/euc_kr.txt', encoding='euc-kr', mode='w') as f:\n",
    "    f.write(data)"
   ]
  },
  {
   "cell_type": "markdown",
   "id": "66311c9b-b4a5-4ed9-97bf-cded2c378e5c",
   "metadata": {},
   "source": [
    "#### 21-5. Source code encoding"
   ]
  },
  {
   "cell_type": "code",
   "execution_count": 28,
   "id": "1c0df175-ce71-4ea3-a042-cf5f43ddd398",
   "metadata": {},
   "outputs": [],
   "source": [
    "# # -*- coding: utf-8 -*-\n",
    "# 소스 코드의 인코딩을 명시하고자 소스 코드 가장 위에 문장을 넣는다."
   ]
  }
 ],
 "metadata": {
  "kernelspec": {
   "display_name": "Python 3 (ipykernel)",
   "language": "python",
   "name": "python3"
  },
  "language_info": {
   "codemirror_mode": {
    "name": "ipython",
    "version": 3
   },
   "file_extension": ".py",
   "mimetype": "text/x-python",
   "name": "python",
   "nbconvert_exporter": "python",
   "pygments_lexer": "ipython3",
   "version": "3.8.10"
  }
 },
 "nbformat": 4,
 "nbformat_minor": 5
}
