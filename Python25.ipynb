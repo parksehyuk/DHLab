{
 "cells": [
  {
   "cell_type": "markdown",
   "id": "f2579367-5777-4b35-adf5-ee3c604847db",
   "metadata": {},
   "source": [
    "#### 25. Regular expressions"
   ]
  },
  {
   "cell_type": "code",
   "execution_count": 2,
   "id": "31572a99-4623-43ae-9bf8-2d43f4c25777",
   "metadata": {},
   "outputs": [],
   "source": [
    "# 정규 표현식 (정규식)\n",
    "# 파이썬만의 고유 문법이 아니라 복잡한 문자열을 처리하는 모든 곳에서 사용하는 형식 언어이다."
   ]
  },
  {
   "cell_type": "code",
   "execution_count": 245,
   "id": "3bfd6f00-ea09-4af0-a5b3-4af34cf8a605",
   "metadata": {},
   "outputs": [
    {
     "name": "stdout",
     "output_type": "stream",
     "text": [
      "\n",
      "park 000611-*******\n",
      "lee 050808-*******\n",
      "\n"
     ]
    }
   ],
   "source": [
    "data = '''\n",
    "park 000611-3123456\n",
    "lee 050808-4123456\n",
    "'''\n",
    "result = []\n",
    "for line in data.split('\\n'):\n",
    "    word_result = []\n",
    "    for word in line.split(' '):\n",
    "        if len(word) == 14 and word[:6].isdigit() and word[7:].isdigit():\n",
    "            word = word[:6] + '-' + '*******'\n",
    "        word_result.append(word)\n",
    "    result.append(' '.join(word_result))\n",
    "print('\\n'.join(result))"
   ]
  },
  {
   "cell_type": "code",
   "execution_count": 246,
   "id": "c4d00e96-531d-4436-a4bc-2a2a3ef75445",
   "metadata": {},
   "outputs": [
    {
     "name": "stdout",
     "output_type": "stream",
     "text": [
      "\n",
      "park 000611-*******\n",
      "lee 050808-*******\n",
      "\n"
     ]
    }
   ],
   "source": [
    "import re \n",
    "data = '''\n",
    "park 000611-3123456\n",
    "lee 050808-4123456\n",
    "'''\n",
    "pat = re.compile(r'(\\d{6})[-]\\d{7}')\n",
    "print(pat.sub(r'\\g<1>-*******', data))"
   ]
  },
  {
   "cell_type": "markdown",
   "id": "f153a787-cf94-4c36-9f1f-7cee47d00821",
   "metadata": {},
   "source": [
    "#### 25-1. Meta characters"
   ]
  },
  {
   "cell_type": "code",
   "execution_count": 9,
   "id": "21d622d4-549e-4fd2-8b73-d527bac2ffbb",
   "metadata": {},
   "outputs": [],
   "source": [
    "# 메타 문자\n",
    "# . ^ $ * + ? { } [ ] \\ | ( )\n",
    "# 원래 그 문자가 가진 뜻이 아니라 특별한 의미를 가진 문자이다.\n",
    "# 정규 표현식에 메타 문자를 사용하면 특별한 의미를 갖게 된다."
   ]
  },
  {
   "cell_type": "markdown",
   "id": "f8b42330-792e-488e-b9ee-d9ef167d6853",
   "metadata": {},
   "source": [
    "#### 25-2. [ ] - character class"
   ]
  },
  {
   "cell_type": "code",
   "execution_count": 1,
   "id": "16533486-d80f-42e5-8424-d4331fce56ee",
   "metadata": {},
   "outputs": [],
   "source": [
    "# 문자 클래스\n",
    "# [] 사이에는 어떤 문자도 들어갈 수 있으며, 그 사이 문자들과의 매치라는 의미를 갖는다."
   ]
  },
  {
   "cell_type": "code",
   "execution_count": 4,
   "id": "5adc2360-fb53-4b33-a967-27b80f59562c",
   "metadata": {},
   "outputs": [],
   "source": [
    "# -\n",
    "# [abc] = [a-c], [012345] = [0-5]\n",
    "# 하이픈(-)을 사용하면 두 문자 사이의 범위를 의미한다."
   ]
  },
  {
   "cell_type": "code",
   "execution_count": 75,
   "id": "4c75eea1-b66a-4b68-81fd-151661dac62b",
   "metadata": {},
   "outputs": [],
   "source": [
    "# 모든 알파벳\n",
    "# [a-zA-Z]"
   ]
  },
  {
   "cell_type": "code",
   "execution_count": 76,
   "id": "ec199fd0-897d-4422-846f-aa7af23d91df",
   "metadata": {},
   "outputs": [],
   "source": [
    "# ^\n",
    "# 문자 클래스 안에 ^ 메타 문자를 사용할 경우에는 반대의 의미를 갖는다."
   ]
  },
  {
   "cell_type": "markdown",
   "id": "265de87a-31a3-4fc3-80f8-89a10ef5b704",
   "metadata": {},
   "source": [
    "#### 25-3. Frequently used character classes"
   ]
  },
  {
   "cell_type": "code",
   "execution_count": 18,
   "id": "93d3654a-e5ba-47a0-a9eb-e8bde84caa69",
   "metadata": {},
   "outputs": [],
   "source": [
    "# 대문자로 사용된 것은 소문자의 반대임을 추측할 수 있다."
   ]
  },
  {
   "cell_type": "code",
   "execution_count": 74,
   "id": "1fbc2a2f-ad0b-4091-9089-f49fea7b9d27",
   "metadata": {},
   "outputs": [],
   "source": [
    "# \\d\n",
    "# [0-9]\n",
    "# 모든 숫자와 매치된다."
   ]
  },
  {
   "cell_type": "code",
   "execution_count": 73,
   "id": "1fd430dd-bb93-4170-b9ee-8c9656725d26",
   "metadata": {},
   "outputs": [],
   "source": [
    "# \\D\n",
    "# [^0-9]\n",
    "# 숫자가 아닌 것과 매치된다."
   ]
  },
  {
   "cell_type": "code",
   "execution_count": 21,
   "id": "50cafe8c-ac2d-4030-b9af-3dbb5ab158be",
   "metadata": {},
   "outputs": [],
   "source": [
    "# \\s\n",
    "# [ \\t\\n\\r\\f\\v]\n",
    "# 화이트스페이스(whitespace) 문자와 매치된다.\n",
    "# 맨 앞의 빈칸은 공백 문자(space)를 의미한다."
   ]
  },
  {
   "cell_type": "code",
   "execution_count": 22,
   "id": "0738f693-7060-409d-bc34-b93c9906134c",
   "metadata": {},
   "outputs": [],
   "source": [
    "# \\S\n",
    "# [^ \\t\\n\\r\\f\\v]\n",
    "# 화이트스페이스 문자가 아닌 것과 매치된다."
   ]
  },
  {
   "cell_type": "code",
   "execution_count": 20,
   "id": "02fb877d-7e40-4a8b-8699-12b5b59fad84",
   "metadata": {},
   "outputs": [],
   "source": [
    "# \\w\n",
    "# [a-zA-Z0-9_]\n",
    "# 문자+숫자(alphanumeric)와 매치된다."
   ]
  },
  {
   "cell_type": "code",
   "execution_count": 23,
   "id": "b1e0fad6-af4f-4d27-b34d-8d7580ada573",
   "metadata": {},
   "outputs": [],
   "source": [
    "# \\W\n",
    "# [^a-zA-Z0-9_]\n",
    "# 문자+숫자(alphanumeric)가 아닌 문자와 매치된다."
   ]
  },
  {
   "cell_type": "markdown",
   "id": "d8072751-500b-4acf-87ca-ac6f7b26b78b",
   "metadata": {},
   "source": [
    "#### 25-4. .(dot)"
   ]
  },
  {
   "cell_type": "code",
   "execution_count": 144,
   "id": "beb118ae-46c9-46fa-83eb-f00ab7f56d2b",
   "metadata": {},
   "outputs": [],
   "source": [
    "# 정규 표현식의 . 메타 문자는 줄바꿈 문자 \\n을 제외한 모든 문자와 매치된다.\n",
    "# 정규식을 작성할 때 re.DOTALL, re.S 옵션을 주면 .(dot) 문자와 \\n 문자도 매치된다."
   ]
  },
  {
   "cell_type": "code",
   "execution_count": 32,
   "id": "f09a0294-8878-494c-9969-6f605cfded47",
   "metadata": {},
   "outputs": [],
   "source": [
    "# a.b\n",
    "# a와 b라는 문자 사이에 어떤 문자가 들어가도 모두 매치된다."
   ]
  },
  {
   "cell_type": "code",
   "execution_count": 33,
   "id": "e1121478-72fa-421e-8855-dc50c35d9662",
   "metadata": {},
   "outputs": [],
   "source": [
    "# [.]\n",
    "# [] 안에 문자를 쓰면 .는 메타 문자가 아니라 ‘.’ 문자 그대로를 의미한다."
   ]
  },
  {
   "cell_type": "markdown",
   "id": "1f3d551f-4fca-4509-bd6e-858011c807a5",
   "metadata": {},
   "source": [
    "#### 25-7. {}"
   ]
  },
  {
   "cell_type": "code",
   "execution_count": 80,
   "id": "c1e37469-ff07-4272-966e-f3ee5cba59d6",
   "metadata": {},
   "outputs": [],
   "source": [
    "# ca{2,5}t\n",
    "# {m, n}\n",
    "# 반복 횟수가 m부터 n까지인 문자와 매치한다.\n",
    "# *, +, ? 메타 문자는 모두 {m, n} 형태로 고쳐 쓰는 것이 가능하다.\n",
    "# 하지만 이해하기 쉽고 표현도 간결한 *, +, ? 메타 문자를 사용하는 것이 좋다."
   ]
  },
  {
   "cell_type": "code",
   "execution_count": 48,
   "id": "ce722de8-e4fa-4bdb-9a2e-981d71092237",
   "metadata": {},
   "outputs": [],
   "source": [
    "# {1,}은 +, {0,}은 *와 동일하다.\n",
    "# 생략된 m은 0과 동일하며, 생략된 n은 무한대(약 2억 개 미만)의 의미를 갖는다."
   ]
  },
  {
   "cell_type": "code",
   "execution_count": 49,
   "id": "d7b883c5-fbd7-4974-a2f1-70c52e4349a8",
   "metadata": {},
   "outputs": [],
   "source": [
    "# {3,}\n",
    "# 반복 횟수 3 이상"
   ]
  },
  {
   "cell_type": "code",
   "execution_count": 50,
   "id": "00df29ec-a1df-4ebb-a5a4-f8e497aad304",
   "metadata": {},
   "outputs": [],
   "source": [
    "# {, 3}\n",
    "# 반복 횟수 3 이하"
   ]
  },
  {
   "cell_type": "markdown",
   "id": "245ac036-6596-43d5-9a8c-ceed868d42b6",
   "metadata": {},
   "source": [
    "#### 25-5. *"
   ]
  },
  {
   "cell_type": "code",
   "execution_count": 78,
   "id": "b1666a39-0d84-436b-8e5d-dfb70898cede",
   "metadata": {},
   "outputs": [],
   "source": [
    "# ca*t\n",
    "# * 바로 앞에 있는 문자가 0부터 무한대까지 반복될 수 있다.\n",
    "# 메모리 용량에 한계가 있어 실제로는 약 2억개 까지 반복한다."
   ]
  },
  {
   "cell_type": "markdown",
   "id": "22577516-cb48-457f-8cdb-43bc9f73573d",
   "metadata": {},
   "source": [
    "#### 25-6. +"
   ]
  },
  {
   "cell_type": "code",
   "execution_count": 79,
   "id": "aa0c196e-a2df-467b-866c-35c0f35e4d86",
   "metadata": {},
   "outputs": [],
   "source": [
    "# ca+t\n",
    "#  최소 1번 이상 반복될 때 사용한다.\n",
    "# *는 반복 횟수가 0부터, +는 반복 횟수가 1부터이다."
   ]
  },
  {
   "cell_type": "markdown",
   "id": "aa5435e0-45ad-477e-8e2d-e3a4899fbf97",
   "metadata": {},
   "source": [
    "#### 25-8. ?"
   ]
  },
  {
   "cell_type": "code",
   "execution_count": 84,
   "id": "3c1e989d-4250-42fe-849b-c48c50ac0914",
   "metadata": {},
   "outputs": [],
   "source": [
    "# ca?t\n",
    "# {0, 1}\n",
    "# a가 있어도 되고 없어도 됌"
   ]
  },
  {
   "cell_type": "markdown",
   "id": "55018513-a6af-4b2c-841a-ae6966471bd9",
   "metadata": {},
   "source": [
    "#### 25-9. re module"
   ]
  },
  {
   "cell_type": "code",
   "execution_count": 57,
   "id": "cef7e2f4-6b44-4757-981d-3b0f9ecfc299",
   "metadata": {},
   "outputs": [],
   "source": [
    "# re(regular expression)\n",
    "# standard library\n",
    "import re"
   ]
  },
  {
   "cell_type": "code",
   "execution_count": 61,
   "id": "54017897-fccf-4e74-ab62-e127c55ac5b5",
   "metadata": {},
   "outputs": [
    {
     "name": "stdout",
     "output_type": "stream",
     "text": [
      "re.compile('ab*')\n"
     ]
    }
   ],
   "source": [
    "# re.compile\n",
    "# 정규 표현식을 컴파일한다.\n",
    "# re.compile의 리턴값을 객체 p(컴파일된 패턴 객체)에 할당해 이후 작업을 수행한다.\n",
    "# 패턴은 정규식을 컴파일한 결과이다.\n",
    "p = re.compile('ab*')\n",
    "print(p)"
   ]
  },
  {
   "cell_type": "markdown",
   "id": "3fc7e0c8-3f2c-4a76-a4b5-27bc33df2668",
   "metadata": {},
   "source": [
    "#### 25-10. String search using regular expressions"
   ]
  },
  {
   "cell_type": "code",
   "execution_count": 69,
   "id": "be3bda5b-875e-4b64-9652-9538a7670bf7",
   "metadata": {},
   "outputs": [],
   "source": [
    "# 컴파일된 패턴 객체를 사용하여 문자열 검색을 수행할 수 있다.\n",
    "# match 객체란 정규식의 검색 결과로 리턴된 객체를 말한다.\n",
    "# match, search는 정규식과 매치될 때는 match 객체를 리턴하고 매치되지 않을 때는 None을 리턴한다."
   ]
  },
  {
   "cell_type": "code",
   "execution_count": 86,
   "id": "3f24cdee-2e9a-4df2-87e4-82f0a02f1182",
   "metadata": {},
   "outputs": [],
   "source": [
    "import re\n",
    "p = re.compile('[a-z]+')"
   ]
  },
  {
   "cell_type": "code",
   "execution_count": 103,
   "id": "d32da374-bcc9-41d6-bca6-56e3cb5e50b2",
   "metadata": {},
   "outputs": [
    {
     "name": "stdout",
     "output_type": "stream",
     "text": [
      "<re.Match object; span=(0, 6), match='pyhton'>\n"
     ]
    }
   ],
   "source": [
    "# match\n",
    "# 문자열의 처음부터 정규식과 매치되는지 조사하며, 결과로 match 객체 또는 None을 리턴한다.\n",
    "m = p.match('pyhton')\n",
    "print(m)"
   ]
  },
  {
   "cell_type": "code",
   "execution_count": 89,
   "id": "caf46675-a0dc-4f8f-bd60-672b25a8a992",
   "metadata": {},
   "outputs": [
    {
     "name": "stdout",
     "output_type": "stream",
     "text": [
      "None\n"
     ]
    }
   ],
   "source": [
    "m = p.match('3 pyhton')\n",
    "print(m)"
   ]
  },
  {
   "cell_type": "code",
   "execution_count": 93,
   "id": "0da0a350-d1fd-4430-b702-6509b71d6b7e",
   "metadata": {},
   "outputs": [
    {
     "name": "stdout",
     "output_type": "stream",
     "text": [
      "No match\n"
     ]
    }
   ],
   "source": [
    "# match의 결과로 match 객체 또는 None을 리턴하기 때문에 파이썬 정규식 프로그램은 보통 이렇게 작성한다.\n",
    "# match의 결괏값이 있을 때만 다음 작업을 수행하겠다는 의미이다.\n",
    "import re\n",
    "p = re.compile('regular expressions')\n",
    "m = p.match('string to inspect')\n",
    "if m:\n",
    "    print('Match found: ', m.group())\n",
    "else:\n",
    "    print('No match')"
   ]
  },
  {
   "cell_type": "code",
   "execution_count": 104,
   "id": "47933a6a-daf1-48f7-bd7a-c714b41e0974",
   "metadata": {},
   "outputs": [
    {
     "name": "stdout",
     "output_type": "stream",
     "text": [
      "<re.Match object; span=(0, 6), match='python'>\n"
     ]
    }
   ],
   "source": [
    "# search\n",
    "# 문자열 전체를 검색하여 정규식과 매치되는지 조사한다.\n",
    "p = re.compile('[a-z]+')\n",
    "m = p.search('python')\n",
    "print(m)"
   ]
  },
  {
   "cell_type": "code",
   "execution_count": 240,
   "id": "5c193e6e-75a6-49d9-83a8-8c07b431faf6",
   "metadata": {},
   "outputs": [
    {
     "name": "stdout",
     "output_type": "stream",
     "text": [
      "None\n"
     ]
    }
   ],
   "source": [
    "# search는 문자열 전체를 검색하기 때문에 '3' 이후의 'python' 문자열과 매치된다.\n",
    "m = p.search('3 python')\n",
    "print(m)"
   ]
  },
  {
   "cell_type": "code",
   "execution_count": 239,
   "id": "76e87ba0-5d49-4112-872c-f684ce21ffde",
   "metadata": {},
   "outputs": [
    {
     "name": "stdout",
     "output_type": "stream",
     "text": [
      "[]\n"
     ]
    }
   ],
   "source": [
    "# findall\n",
    "# # 정규식과 매치되는 모든 문자열(substring)을 리스트로 리턴한다.\n",
    "result = p.findall('life is too short')\n",
    "print(result)"
   ]
  },
  {
   "cell_type": "code",
   "execution_count": 107,
   "id": "16596cd0-fd37-4275-85d8-6591adcdf9fe",
   "metadata": {},
   "outputs": [],
   "source": [
    "# finditer()\n",
    "# 정규식과 매치되는 모든 문자열(substring)을 반복 가능한 객체로 리턴한다."
   ]
  },
  {
   "cell_type": "code",
   "execution_count": 235,
   "id": "a0818605-c4ce-4452-b74b-af81eaf4a487",
   "metadata": {},
   "outputs": [
    {
     "name": "stdout",
     "output_type": "stream",
     "text": [
      "<callable_iterator object at 0x7f79243e09d0>\n"
     ]
    }
   ],
   "source": [
    "# finditer는 findall과 동일하지만, 그 결과로 반복 가능한 객체(iterator object)를 리턴한다.\n",
    "# 그리고 반복 가능한 객체가 포함하는 각각의 요소는 match 객체이다.\n",
    "result = p.finditer('life is too short')\n",
    "print(result)\n",
    "for r in result: print(r)"
   ]
  },
  {
   "cell_type": "markdown",
   "id": "71168499-19a2-4147-a3c5-fd0dc1f47816",
   "metadata": {},
   "source": [
    "#### 25-11. Methods of match object"
   ]
  },
  {
   "cell_type": "code",
   "execution_count": 126,
   "id": "d25d1c80-a614-4a51-a285-831ad96c01ed",
   "metadata": {},
   "outputs": [
    {
     "name": "stdout",
     "output_type": "stream",
     "text": [
      "python\n"
     ]
    }
   ],
   "source": [
    "# group\n",
    "# 매치된 문자열을 리턴한다.\n",
    "m = p.match('python')\n",
    "print(m.group())"
   ]
  },
  {
   "cell_type": "code",
   "execution_count": 131,
   "id": "a503ca4a-178d-4c90-93f5-9d57f63bb23a",
   "metadata": {},
   "outputs": [
    {
     "name": "stdout",
     "output_type": "stream",
     "text": [
      "0\n"
     ]
    }
   ],
   "source": [
    "# start\n",
    "# 매치된 문자열의 시작 위치를 리턴한다.\n",
    "# match 객체로 start method를 사용하면 문자열의 시작부터 조사하기 때문에 결괏값은 항상 0일 수밖에 없다.\n",
    "m = p.match('python')\n",
    "print(m.start())"
   ]
  },
  {
   "cell_type": "code",
   "execution_count": 134,
   "id": "fe85aee9-93e3-4447-8b35-0bc88523fbd8",
   "metadata": {},
   "outputs": [
    {
     "name": "stdout",
     "output_type": "stream",
     "text": [
      "2\n"
     ]
    }
   ],
   "source": [
    "# search method를 사용할 때\n",
    "m = p.search(\"3 python\")\n",
    "print(m.start())"
   ]
  },
  {
   "cell_type": "code",
   "execution_count": 128,
   "id": "4bac524a-b92c-4719-ba9e-cc5ccca3ae68",
   "metadata": {},
   "outputs": [
    {
     "name": "stdout",
     "output_type": "stream",
     "text": [
      "6\n"
     ]
    }
   ],
   "source": [
    "# end\n",
    "# 매치된 문자열의 끝 위치를 리턴한다.\n",
    "m = p.match('python')\n",
    "print(m.end())"
   ]
  },
  {
   "cell_type": "code",
   "execution_count": 129,
   "id": "6bb8c0ae-88ea-4b4e-927b-0d6214e5f28c",
   "metadata": {},
   "outputs": [
    {
     "name": "stdout",
     "output_type": "stream",
     "text": [
      "(0, 6)\n"
     ]
    }
   ],
   "source": [
    "# span\n",
    "# 매치된 문자열의 (시작, 끝)에 해당하는 튜플을 리턴한다.\n",
    "m = p.match('python')\n",
    "print(m.span())"
   ]
  },
  {
   "cell_type": "markdown",
   "id": "d9d800e1-8852-43d2-a823-2e765bb69b9c",
   "metadata": {},
   "source": [
    "#### 25-12. Performing on a per-module basis"
   ]
  },
  {
   "cell_type": "code",
   "execution_count": 233,
   "id": "46868d47-e8a9-4587-b7ef-065deb884c88",
   "metadata": {},
   "outputs": [
    {
     "name": "stdout",
     "output_type": "stream",
     "text": [
      "<re.Match object; span=(0, 6), match='python'>\n"
     ]
    }
   ],
   "source": [
    "# compile & match method를 한번에 수항하기\n",
    "# 하지만 한 번 만든 패턴 객체를 여러 번 사용해야 할 때는 이 방법보다 re.compile을 사용하는 것이 편리하다.\n",
    "m = re.match('[a-z]+', 'python')\n",
    "print(m)"
   ]
  },
  {
   "cell_type": "markdown",
   "id": "4b0d4755-624d-48d5-868a-df873d2f6bea",
   "metadata": {},
   "source": [
    "#### 25-13. Comfile options"
   ]
  },
  {
   "cell_type": "code",
   "execution_count": 140,
   "id": "33209791-07e9-4d39-b0d6-23aff2c402dc",
   "metadata": {},
   "outputs": [],
   "source": [
    "# 옵션을 사용할 때는 re.DOTALL, re.S 등 전체 옵션 이름이나 약어 둘 다 사용 가능하다."
   ]
  },
  {
   "cell_type": "code",
   "execution_count": 146,
   "id": "c2deae89-b31a-4b3e-8c16-88af1b98979b",
   "metadata": {},
   "outputs": [
    {
     "name": "stdout",
     "output_type": "stream",
     "text": [
      "<re.Match object; span=(0, 3), match='a\\nb'>\n"
     ]
    }
   ],
   "source": [
    "# DOTALL(S)\n",
    "# .(dot)이 줄바꿈 문자를 포함해 모든 문자와 매치될 수 있게 한다.\n",
    "# 여러 줄로 이루어진 문자열에서 줄바꿈 문자에 상관없이 검색할 때 사용한다.\n",
    "p = re.compile('a.b', re.DOTALL)\n",
    "m = p.match('a\\nb')\n",
    "print(m)"
   ]
  },
  {
   "cell_type": "code",
   "execution_count": 148,
   "id": "1a75c7b4-4e90-4249-9f76-9da514542622",
   "metadata": {},
   "outputs": [
    {
     "name": "stdout",
     "output_type": "stream",
     "text": [
      "<re.Match object; span=(0, 6), match='PyThOn'>\n"
     ]
    }
   ],
   "source": [
    "# IGNORECASE(I)\n",
    "# 대소문자에 관계없이 매치될 수 있게 한다.\n",
    "p = re.compile('[a-z]+', re.I)\n",
    "a = p.match('PyThOn')\n",
    "print(a)"
   ]
  },
  {
   "cell_type": "code",
   "execution_count": 156,
   "id": "b60427b8-f777-4ed4-8098-51cf667c6a2d",
   "metadata": {},
   "outputs": [],
   "source": [
    "# MULTILINE(M)\n",
    "# 여러 줄과 매치될 수 있게 한다. ^, $ 메타 문자 사용과 관계 있는 옵션이다.\n",
    "# ^는 문자열의 처음, $는 문자열의 마지막과 매치된다."
   ]
  },
  {
   "cell_type": "code",
   "execution_count": 232,
   "id": "e22f23bd-6457-404f-8547-822ae55d782d",
   "metadata": {},
   "outputs": [
    {
     "name": "stdout",
     "output_type": "stream",
     "text": [
      "['python one']\n"
     ]
    }
   ],
   "source": [
    "# 정규식 '^python\\s\\w+'은 python이라는 문자열로 시작하고 그 뒤에 white space, 그 뒤에 단어가 와야 한다는 의미이다.\n",
    "p = re.compile(r'^python\\s\\w+')\n",
    "data = \"\"\"python one\n",
    "python two\"\"\"\n",
    "print(p.findall(data))"
   ]
  },
  {
   "cell_type": "code",
   "execution_count": 231,
   "id": "24e8206a-1faf-4462-b7d4-9e4248ac46a5",
   "metadata": {},
   "outputs": [
    {
     "name": "stdout",
     "output_type": "stream",
     "text": [
      "['python one', 'python two']\n"
     ]
    }
   ],
   "source": [
    "# re.MULTILINE & re.M\n",
    "# ^ 메타 문자를 문자열 전체의 처음이 아니라 각 라인(줄)의 처음으로 인식시키고 싶은 경우 사용한다.\n",
    "# re.MULTILINE 옵션은 ^, $ 메타 문자를 문자열의 각 줄마다 적용해 주는 것\n",
    "p = re.compile(r'^python\\s\\w+', re.MULTILINE)\n",
    "data = \"\"\"python one\n",
    "python two\"\"\"\n",
    "print(p.findall(data))"
   ]
  },
  {
   "cell_type": "code",
   "execution_count": 162,
   "id": "c44b950a-0783-4e8f-9d06-9c144c94a46c",
   "metadata": {},
   "outputs": [],
   "source": [
    "# VERBOSE(X)\n",
    "# re.VERBOSE & re.X\n",
    "# verbose 모드를 사용할 수 있게 한다. 정규식을 보기 편하게 만들 수 있고 주석 등을 사용할 수 있게 된다.\n",
    "charref = re.compile(r'&[#](0[0-7]+|[0-9]+|x[0-9a-fA-F]+);')"
   ]
  },
  {
   "cell_type": "code",
   "execution_count": 165,
   "id": "f228f459-2b57-4d3e-89fa-3e8b978e14bf",
   "metadata": {},
   "outputs": [],
   "source": [
    "# 컴파일된 패턴 객체인 charref는 모두 동일한 역할을 한다.\n",
    "# re.VERBOSE 옵션을 사용하면 [] 안에 사용한 white space를 제외하고, 문자열에 사용된 white space는 컴파일할 때 제거된다.\n",
    "charref = re.compile(r\"\"\"\n",
    " &[#]                # Start of a numeric entity reference\n",
    " (\n",
    "     0[0-7]+         # Octal form\n",
    "   | [0-9]+          # Decimal form\n",
    "   | x[0-9a-fA-F]+   # Hexadecimal form\n",
    " )\n",
    " ;                   # Trailing semicolon\n",
    "\"\"\", re.VERBOSE)"
   ]
  },
  {
   "cell_type": "markdown",
   "id": "0f0bcbf8-4f6c-4da5-8d48-dd26447d2310",
   "metadata": {},
   "source": [
    "#### 25-14. Backslash problem"
   ]
  },
  {
   "cell_type": "code",
   "execution_count": 175,
   "id": "0ec68601-4728-4286-a697-253cd3c8194b",
   "metadata": {},
   "outputs": [],
   "source": [
    "# \\\\\\\\\n",
    "# 정규식을 해석하고 수행하는 모듈인 정규식 엔진에서 \\ 문자를 사용하려면 파이썬은 \\\\\\\\를 사용해야 한다.\n",
    "p = re.compile('\\\\\\\\section')"
   ]
  },
  {
   "cell_type": "code",
   "execution_count": 176,
   "id": "668cb90f-57a6-4a5b-9a74-29ad5c9157ef",
   "metadata": {},
   "outputs": [],
   "source": [
    "# \\section\n",
    "# \\s 문자가 whitespace로 해석되어 의도한 대로 매치가 이루어지지 않는다.\n",
    "# \\ 문자가 문자열 자체라는 것을 알려 주기 위해 \\\\를 사용해 이스케이프 처리를 해야 한다.\n",
    "# 정규식 엔진에 \\\\ 문자를 전달하려면 파이썬은 \\\\\\\\처럼 역슬래시를 4개나 사용해야 한다."
   ]
  },
  {
   "cell_type": "code",
   "execution_count": 179,
   "id": "b1bec00b-a9c8-4329-bcf1-fad26c910bb7",
   "metadata": {},
   "outputs": [],
   "source": [
    "# raw string expression method\n",
    "# 정규식 문자열 앞에 r 문자를 삽입하면 raw string 규칙에 의해 \\\\ 대신 \\를 사용해도 \\\\와 동일한 의미를 갖는다.\n",
    "# 만약 역슬래시를 사용하지 않는 정규식이라면 r의 유무에 상관없이 동일한 정규식이 된다.\n",
    "p = re.compile(r'\\\\section')"
   ]
  },
  {
   "cell_type": "markdown",
   "id": "0a9c7b20-9f2e-49e8-a303-c178d17edf8c",
   "metadata": {},
   "source": [
    "#### 25-15. Metacharacters without string consumption"
   ]
  },
  {
   "cell_type": "code",
   "execution_count": 181,
   "id": "fda7f2a4-e217-4a33-bce2-a483fb8395c0",
   "metadata": {},
   "outputs": [],
   "source": [
    "# +, *, [], {} 등의 메타 문자는 매치가 성사되면 문자열을 탐색하는 시작 위치가 변경된다(소비된다)."
   ]
  },
  {
   "cell_type": "markdown",
   "id": "9bb5f07c-ab2e-42e8-ab48-b058e8d5aa96",
   "metadata": {},
   "source": [
    "#### 25-16. |"
   ]
  },
  {
   "cell_type": "code",
   "execution_count": 188,
   "id": "f3081872-ef12-4dd4-83f5-2d7141b99fba",
   "metadata": {},
   "outputs": [
    {
     "name": "stdout",
     "output_type": "stream",
     "text": [
      "<re.Match object; span=(0, 4), match='Crow'>\n"
     ]
    }
   ],
   "source": [
    "# or(또는)과 동일한 의미로 사용된다.\n",
    "p = re.compile('Crow|Servo')\n",
    "m = p.match('CrowHello')\n",
    "print(m)"
   ]
  },
  {
   "cell_type": "markdown",
   "id": "2a59ba8a-468d-49c5-85d1-6ce497ec17fd",
   "metadata": {},
   "source": [
    "#### 25-17. ^"
   ]
  },
  {
   "cell_type": "code",
   "execution_count": 191,
   "id": "38c4cec0-9b49-4cda-9230-a838b78b0949",
   "metadata": {},
   "outputs": [
    {
     "name": "stdout",
     "output_type": "stream",
     "text": [
      "<re.Match object; span=(0, 4), match='Life'>\n",
      "None\n"
     ]
    }
   ],
   "source": [
    "# 문자열의 맨 처음과 일치한다.\n",
    "# comfile option re.MULTILINE을 사용할 경우에는 여러 줄의 문자열일 때 각 줄의 처음과 일치한다.\n",
    "print(re.search('^Life', 'Life is too short'))\n",
    "print(re.search('^Life', 'My Life'))"
   ]
  },
  {
   "cell_type": "markdown",
   "id": "fc74d562-218e-460e-b412-e543814cd3d6",
   "metadata": {},
   "source": [
    "#### 25-18. $"
   ]
  },
  {
   "cell_type": "code",
   "execution_count": 193,
   "id": "a05298c6-5af0-4d42-a55a-45b7c5ea0a09",
   "metadata": {},
   "outputs": [
    {
     "name": "stdout",
     "output_type": "stream",
     "text": [
      "<re.Match object; span=(12, 17), match='short'>\n",
      "None\n"
     ]
    }
   ],
   "source": [
    "# ^ 메타 문자와 반대이며, 문자열의 끝과 매치한다.\n",
    "print(re.search('short$', 'Life is too short'))\n",
    "print(re.search('short$', 'Life is too short, you need python'))"
   ]
  },
  {
   "cell_type": "markdown",
   "id": "88e649c2-7940-4939-9750-391cd67b76e8",
   "metadata": {},
   "source": [
    "#### 25-19. \\A"
   ]
  },
  {
   "cell_type": "code",
   "execution_count": 194,
   "id": "1b96404b-ffa0-4daa-b6c3-804f6d7aca53",
   "metadata": {},
   "outputs": [],
   "source": [
    "# \\A\n",
    "# 문자열의 처음과 매치된다.\n",
    "# re.MULTILINE 옵션을 사용할 경우 줄과 상관없이 전체 문자열의 처음하고만 매치된다."
   ]
  },
  {
   "cell_type": "markdown",
   "id": "241e46a3-71e1-46c1-b3c9-22e027aca861",
   "metadata": {},
   "source": [
    "#### 25-20. \\Z"
   ]
  },
  {
   "cell_type": "code",
   "execution_count": 195,
   "id": "a8d24bb2-cb99-4658-b930-b9e919879192",
   "metadata": {},
   "outputs": [],
   "source": [
    "# \\Z\n",
    "# 문자열의 끝과 매치된다.\n",
    "# re.MULTILINE 옵션을 사용할 경우 전체 문자열의 끝과 매치된다."
   ]
  },
  {
   "cell_type": "markdown",
   "id": "bcc4569b-bb7f-4b4c-b1f8-670b70c6c21d",
   "metadata": {},
   "source": [
    "#### 25-21. \\b"
   ]
  },
  {
   "cell_type": "code",
   "execution_count": 201,
   "id": "7b65145e-4b8a-4e16-8515-587150fb7a9e",
   "metadata": {},
   "outputs": [],
   "source": [
    "# \\b\n",
    "# 단어 구분자(word boundary)\n",
    "# 보통 단어는 화이트스페이스에 의해 구분된다.|"
   ]
  },
  {
   "cell_type": "code",
   "execution_count": 202,
   "id": "4dda2c0f-132c-4d15-aada-fac823533415",
   "metadata": {},
   "outputs": [],
   "source": [
    "# r'\\bclass \\b'\n",
    "# \\b는 파이썬 리터럴 규칙에 따르면 백스페이스(backspace)를 의미한다.\n",
    "# 단어 구분자임을 알려 주기 위해 raw string이라는 것을 알려 주는 r을 반드시 붙여야 한다."
   ]
  },
  {
   "cell_type": "code",
   "execution_count": 198,
   "id": "e38f2727-5977-4a2c-a3d6-018d98276caa",
   "metadata": {},
   "outputs": [
    {
     "name": "stdout",
     "output_type": "stream",
     "text": [
      "<re.Match object; span=(3, 8), match='class'>\n"
     ]
    }
   ],
   "source": [
    "# '\\bclass\\b'' 정규식은 앞뒤가 화이트스페이스로 구분된 class와 매치된다.\n",
    "p = re.compile(r'\\bclass\\b')\n",
    "print(p.search('no class at all'))"
   ]
  },
  {
   "cell_type": "code",
   "execution_count": 200,
   "id": "791106fb-626d-4e79-a64c-3de1bd5050c2",
   "metadata": {},
   "outputs": [
    {
     "name": "stdout",
     "output_type": "stream",
     "text": [
      "None\n",
      "None\n"
     ]
    }
   ],
   "source": [
    "# class가 whitespace로 구분된 단어가 아니므로 매치되지 않는다.\n",
    "print(p.search('the declassified algorithm'))\n",
    "print(p.search('one subclass is'))"
   ]
  },
  {
   "cell_type": "markdown",
   "id": "2ff5961c-d129-4c1c-be1a-45be5b246302",
   "metadata": {},
   "source": [
    "#### 25-22. \\B"
   ]
  },
  {
   "cell_type": "code",
   "execution_count": 207,
   "id": "d8b7806c-06c3-4fc4-885c-4f1b25a475cc",
   "metadata": {},
   "outputs": [
    {
     "name": "stdout",
     "output_type": "stream",
     "text": [
      "<re.Match object; span=(6, 11), match='class'>\n"
     ]
    }
   ],
   "source": [
    "# \\B 메타 문자는 \\b 메타 문자와 반대이다.\n",
    "# white space로 구분된 단어가 아닌 경우에만 매치된다.\n",
    "p = re.compile(r'\\Bclass\\B')\n",
    "print(p.search('the declassified algorithm'))"
   ]
  },
  {
   "cell_type": "code",
   "execution_count": 208,
   "id": "5bf716d9-cb4f-442d-bf3c-aad1ef62684b",
   "metadata": {},
   "outputs": [
    {
     "name": "stdout",
     "output_type": "stream",
     "text": [
      "None\n"
     ]
    }
   ],
   "source": [
    "# class 단어의 앞뒤에 화이트스페이스가 하나라도 있는 경우에는 매치가 되지 않는다.\n",
    "print(p.search('no class at all'))"
   ]
  },
  {
   "cell_type": "markdown",
   "id": "5ada20c6-6f2c-4e00-9299-fa6c94d7170d",
   "metadata": {},
   "source": [
    "#### 25-23. groupping"
   ]
  },
  {
   "cell_type": "code",
   "execution_count": 211,
   "id": "539c48ff-e898-4ccf-aefd-cbe7a939168d",
   "metadata": {},
   "outputs": [],
   "source": [
    "# ()\n",
    "# 그룹을 만들어 주는 메타 문자이다."
   ]
  },
  {
   "cell_type": "code",
   "execution_count": 210,
   "id": "60f3e28a-4f58-4844-b74b-de84e902d2ac",
   "metadata": {},
   "outputs": [],
   "source": [
    "# (ABC)+\n",
    "# ABC 문자열이 계속해서 반복되는지 조사하는 정규식을 작성할 때"
   ]
  },
  {
   "cell_type": "code",
   "execution_count": 214,
   "id": "49a2fd6e-1654-4a7d-b351-fd8571a32e40",
   "metadata": {},
   "outputs": [
    {
     "name": "stdout",
     "output_type": "stream",
     "text": [
      "<re.Match object; span=(0, 9), match='ABCABCABC'>\n",
      "ABCABCABC\n"
     ]
    }
   ],
   "source": [
    "p = re.compile('(ABC)+')\n",
    "m = p.search('ABCABCABC OK?')\n",
    "print(m)\n",
    "print(m.group())"
   ]
  },
  {
   "cell_type": "code",
   "execution_count": 230,
   "id": "edbe2003-727e-4a7c-883b-2e5bfeaa7d87",
   "metadata": {},
   "outputs": [
    {
     "name": "stdout",
     "output_type": "stream",
     "text": [
      "<re.Match object; span=(0, 18), match='park 010-1234-1234'>\n"
     ]
    }
   ],
   "source": [
    "# 이름 + \" \" + 전화번호 형태의 문자열을 찾는 정규식\n",
    "p = re.compile(r'\\w+\\s+\\d+[-]\\d+[-]\\d+')\n",
    "m = p.search('park 010-1234-1234')\n",
    "print(m)"
   ]
  },
  {
   "cell_type": "code",
   "execution_count": 229,
   "id": "494c1955-5e41-4713-87f6-f87a82682781",
   "metadata": {},
   "outputs": [
    {
     "name": "stdout",
     "output_type": "stream",
     "text": [
      "park\n"
     ]
    }
   ],
   "source": [
    "# 매치된 문자열 중에서 특정 부분의 문자열만 뽑아 내기\n",
    "p = re.compile(r'(\\w+)\\s+\\d+[-]\\d+[-]\\d+')\n",
    "m = p.search('park 010-1234-1234')\n",
    "print(m.group(1))"
   ]
  },
  {
   "cell_type": "code",
   "execution_count": 220,
   "id": "bf109a73-22fe-4a95-a49d-247a5a116bed",
   "metadata": {},
   "outputs": [],
   "source": [
    "# group index\n",
    "# group(n)\n",
    "# n 번째 그룹에 해당되는 문자열"
   ]
  },
  {
   "cell_type": "code",
   "execution_count": 227,
   "id": "99cb3e18-aedb-4746-8d7c-581917ae4d85",
   "metadata": {},
   "outputs": [
    {
     "name": "stdout",
     "output_type": "stream",
     "text": [
      "010\n"
     ]
    }
   ],
   "source": [
    "# 그룹이 중첩된 경우는 바깥쪽부터 시작해 안쪽으로 들어갈수록 인덱스 값이 증가한다.\n",
    "p = re.compile(r'(\\w+)\\s+((\\d+)[-]\\d+[-]\\d+)')\n",
    "m = p.search('park 010-1234-1234')\n",
    "print(m.group(3))"
   ]
  },
  {
   "cell_type": "markdown",
   "id": "c9e1356f-f51f-4478-b534-c56e33a8b5e5",
   "metadata": {},
   "source": [
    "#### 25-24. Rereferencing grouped strings"
   ]
  },
  {
   "cell_type": "code",
   "execution_count": 222,
   "id": "b2f2727a-5199-4cc7-a013-79217b32702b",
   "metadata": {},
   "outputs": [],
   "source": [
    "# \\1\n",
    "# 재참조 메타 문자\n",
    "# 정규식의 그룹 중 첫 번째 그룹을 가리킨다."
   ]
  },
  {
   "cell_type": "code",
   "execution_count": 223,
   "id": "21b3ec3f-8cba-4000-af30-af2f06ee8d46",
   "metadata": {},
   "outputs": [
    {
     "data": {
      "text/plain": [
       "'the the'"
      ]
     },
     "execution_count": 223,
     "metadata": {},
     "output_type": "execute_result"
    }
   ],
   "source": [
    "# '(\\b\\w+)\\s+\\1'은 (그룹) + \" \" + 그룹과 동일한 단어와 매치된다.\n",
    "# 해당 정규식은 2개의 동일한 단어를 연속적으로 사용해야 매치된다.\n",
    "p = re.compile(r'(\\b\\w+)\\s+\\1')\n",
    "p.search('Paris in the the spring').group()"
   ]
  },
  {
   "cell_type": "code",
   "execution_count": 224,
   "id": "436b823b-af6c-4413-86d0-4314bbc9dacd",
   "metadata": {},
   "outputs": [],
   "source": [
    "# named groups\n",
    "# 그루핑된 문자열에 이름 붙이기\n",
    "# 그룹을 인덱스가 아닌 이름으로 참조할 수 있다면, 정규식 수정 시 그룹을 인덱스로 참조한 프로그램을 변경할 필요가 없다."
   ]
  },
  {
   "cell_type": "code",
   "execution_count": 247,
   "id": "f4c94c56-63e3-46e0-90ff-8dd3f2ca998c",
   "metadata": {},
   "outputs": [
    {
     "name": "stdout",
     "output_type": "stream",
     "text": [
      "park\n"
     ]
    }
   ],
   "source": [
    "# (\\w+) group에 name을 붙인 것\n",
    "p = re.compile(r'(?P<name>\\w+)\\s+((\\d+)[-]\\d+[-]\\d+)')\n",
    "m = p.search('park 010-1234-1234')\n",
    "print(m.group('name'))"
   ]
  },
  {
   "cell_type": "code",
   "execution_count": 248,
   "id": "a9046789-7120-40ae-93b0-2b5c239c1f4d",
   "metadata": {},
   "outputs": [
    {
     "data": {
      "text/plain": [
       "'the the'"
      ]
     },
     "execution_count": 248,
     "metadata": {},
     "output_type": "execute_result"
    }
   ],
   "source": [
    "# 그룹 이름을 사용하여 정규식 안에서 재참조하기\n",
    "p = re.compile(r'(?P<word>\\b\\w+)\\s+(?P=word)')\n",
    "p.search('Paris in the the spring').group()"
   ]
  },
  {
   "cell_type": "markdown",
   "id": "722007e1-6a61-4633-8d40-90d61befc9f2",
   "metadata": {},
   "source": [
    "#### 25-25. Lookahead assertions"
   ]
  },
  {
   "cell_type": "code",
   "execution_count": 254,
   "id": "77c52636-bdbd-4fb7-ad51-e4f1d846f986",
   "metadata": {},
   "outputs": [],
   "source": [
    "# 전방 탐색 확장 구문\n",
    "# 조건이 통과되어도 문자열이 소비되지 않는다."
   ]
  },
  {
   "cell_type": "code",
   "execution_count": 260,
   "id": "d2b05030-1d76-4761-b6d7-067792f542a0",
   "metadata": {},
   "outputs": [],
   "source": [
    "# 긍정형 전방 탐색((?=...))\n",
    "# ...에 해당하는 정규식과 매치되어야 한다."
   ]
  },
  {
   "cell_type": "code",
   "execution_count": 255,
   "id": "16da884c-9455-42d3-8502-d451656c6eff",
   "metadata": {},
   "outputs": [
    {
     "name": "stdout",
     "output_type": "stream",
     "text": [
      "http:\n"
     ]
    }
   ],
   "source": [
    "# http:라는 검색 결과에서 :을 제외하고 출력하기\n",
    "p = re.compile(\".+:\")\n",
    "m = p.search(\"http://google.com\")\n",
    "print(m.group())"
   ]
  },
  {
   "cell_type": "code",
   "execution_count": 261,
   "id": "e721ecef-3c9c-4477-af5c-70e299110cde",
   "metadata": {},
   "outputs": [
    {
     "name": "stdout",
     "output_type": "stream",
     "text": [
      "http\n"
     ]
    }
   ],
   "source": [
    "# :에 해당하는 문자열이 정규식 엔진에 의해 소비되지 않아 검색에는 포함되지만, 검색 결과에는 제외되어 :를 제거 후 리턴한다.\n",
    "p = re.compile(\".+(?=:)\")\n",
    "m = p.search(\"http://google.com\")\n",
    "print(m.group())"
   ]
  },
  {
   "cell_type": "code",
   "execution_count": 258,
   "id": "12a00bad-377a-412d-875f-7cf621ba9e06",
   "metadata": {},
   "outputs": [],
   "source": [
    "# 부정형 전방 탐색((?!...))\n",
    "# ...에 해당하는 정규식과 매치되지 않아야 한다."
   ]
  },
  {
   "cell_type": "code",
   "execution_count": 269,
   "id": "b8630e68-a9bb-4323-9c69-4b36e3a31a13",
   "metadata": {},
   "outputs": [],
   "source": [
    "# .*[.].*$\n",
    "# 파일_이름 + . + 확장자를 나타내는 정규식"
   ]
  },
  {
   "cell_type": "code",
   "execution_count": 268,
   "id": "77742f0f-41d8-4e17-a89f-3d506b78ae27",
   "metadata": {},
   "outputs": [],
   "source": [
    "# .*[.]([^b]..|.[^a].|..[^t])$\n",
    "# 확장자가 bat인 파일 제외하는 정규식\n",
    "# |를 사용해 확장자의 첫 번째 문자가 b가 아니거나, 두 번째 문자가 a가 아니거나, 세 번째 문자가 t가 아닌 경우를 의미한다.\n",
    "# 하지만 확장자의 문자 개수가 2개인 케이스를 포함하지 못한다."
   ]
  },
  {
   "cell_type": "code",
   "execution_count": 267,
   "id": "818b74c0-7afe-4b6d-9abd-7d60861c1c30",
   "metadata": {},
   "outputs": [],
   "source": [
    "# .*[.]([^b].?.?|.[^a]?.?|..?[^t]?)$\n",
    "# 확장자가 bat인 파일 제외하고, 확장자의 문자 개수가 2개여도 통과되는 정규식"
   ]
  },
  {
   "cell_type": "code",
   "execution_count": 272,
   "id": "cdbf5a42-33c3-4914-aefd-297081f6b899",
   "metadata": {},
   "outputs": [],
   "source": [
    "# .*[.](?!bat$).*$\n",
    "# 확장자가 bat가 아닌 경우에만 통과된다. (부정형 전방 탐색)"
   ]
  },
  {
   "cell_type": "code",
   "execution_count": 271,
   "id": "bc02af91-109f-45c9-a83f-9cbd14be5226",
   "metadata": {},
   "outputs": [],
   "source": [
    "# .*[.](?!bat$|exe$).*$\n",
    "# 확장자가 bat와 exe가 아닌 경우에만 통과된다. (부정형 전방 탐색)"
   ]
  },
  {
   "cell_type": "markdown",
   "id": "a62ac6f4-a9d9-42b9-b11c-f5c3b7aed2a6",
   "metadata": {},
   "source": [
    "#### 25-26. replace string"
   ]
  },
  {
   "cell_type": "code",
   "execution_count": 275,
   "id": "0de72ca6-8d78-4adc-8d47-1fe100ebdab4",
   "metadata": {},
   "outputs": [
    {
     "data": {
      "text/plain": [
       "'colour socks and colour shoes'"
      ]
     },
     "execution_count": 275,
     "metadata": {},
     "output_type": "execute_result"
    }
   ],
   "source": [
    "# sub\n",
    "# 정규식과 매치되는 부분을 다른 문자로 바꾼다.\n",
    "p = re.compile('(blue|white|red)')\n",
    "p.sub('colour', 'blue socks and red shoes')"
   ]
  },
  {
   "cell_type": "code",
   "execution_count": 276,
   "id": "8e0b664f-0223-41fa-8731-6847cb850c9e",
   "metadata": {},
   "outputs": [
    {
     "data": {
      "text/plain": [
       "'colour socks and red shoes'"
      ]
     },
     "execution_count": 276,
     "metadata": {},
     "output_type": "execute_result"
    }
   ],
   "source": [
    "# count\n",
    "# sub method으 바꾸기 횟수를 제한한다.\n",
    "p.sub('colour', 'blue socks and red shoes', count=1)"
   ]
  },
  {
   "cell_type": "code",
   "execution_count": 278,
   "id": "0ebf0dfd-e0df-4247-a106-e06993a18073",
   "metadata": {},
   "outputs": [
    {
     "data": {
      "text/plain": [
       "('colour socks and colour shoes', 2)"
      ]
     },
     "execution_count": 278,
     "metadata": {},
     "output_type": "execute_result"
    }
   ],
   "source": [
    "# subn\n",
    "# sub와 동일한 기능을 하지만, 반환 결과를 튜플로 리턴한다.\n",
    "# tuple의 첫 번째 요소는 변경된 문자열, 두 번째 요소는 바꾸기가 발생한 횟수이다.\n",
    "p = re.compile('(blue|white|red)')\n",
    "p.subn( 'colour', 'blue socks and red shoes')"
   ]
  },
  {
   "cell_type": "markdown",
   "id": "d0173745-2406-4cea-acb0-84a29a185277",
   "metadata": {},
   "source": [
    "#### 25-27. Using reference syntax when using sub methods"
   ]
  },
  {
   "cell_type": "code",
   "execution_count": 287,
   "id": "eb00ce6a-2d5f-4c67-a8d3-ab482c845a59",
   "metadata": {},
   "outputs": [
    {
     "name": "stdout",
     "output_type": "stream",
     "text": [
      "010-1234-1234 park\n"
     ]
    }
   ],
   "source": [
    "# '이름 + 전화번호' 문자열을 '전화번호 + 이름'으로 바꾼다.\n",
    "# sub의 바꿀 문자열 부분에 \\g<그룹_이름>을 사용하면 정규식의 그룹 이름을 참조할 수 있다.\n",
    "p = re.compile(r'(?P<name>\\w+)\\s+(?P<phone>(\\d+)[-]\\d+[-]\\d+)')\n",
    "print(p.sub(r'\\g<phone> \\g<name>', 'park 010-1234-1234'))"
   ]
  },
  {
   "cell_type": "code",
   "execution_count": 288,
   "id": "d8b423c6-6583-498e-848f-96cde495f86d",
   "metadata": {},
   "outputs": [
    {
     "name": "stdout",
     "output_type": "stream",
     "text": [
      "010-1234-1234 park\n"
     ]
    }
   ],
   "source": [
    "# 그룹 이름 대신 참조 번호를 사용해도 같은 결과를 리턴한다.\n",
    "p = re.compile(r'(?P<name>\\w+)\\s+(?P<phone>(\\d+)[-]\\d+[-]\\d+)')\n",
    "print(p.sub(r'\\g<2> \\g<1>', 'park 010-1234-1234'))"
   ]
  },
  {
   "cell_type": "markdown",
   "id": "e0664951-f0b9-4b18-a3f8-d77ec4e47848",
   "metadata": {},
   "source": [
    "#### 25-28. Passing a function as a parameter to a sub method"
   ]
  },
  {
   "cell_type": "code",
   "execution_count": 290,
   "id": "7811df9d-04b2-40ab-9639-eb4b6903cad1",
   "metadata": {},
   "outputs": [
    {
     "data": {
      "text/plain": [
       "'Call 0xffd2 for printing, 0xc000 for user code.'"
      ]
     },
     "execution_count": 290,
     "metadata": {},
     "output_type": "execute_result"
    }
   ],
   "source": [
    "# sub method의 첫 번째 인수에 함수를 전달하기\n",
    "# match 객체를 입력으로 받아 16진수로 변환하여 리턴해 주는 함수\n",
    "def hexrepl(match):\n",
    "     value = int(match.group())\n",
    "     return hex(value)\n",
    "p = re.compile(r'\\d+')\n",
    "p.sub(hexrepl, 'Call 65490 for printing, 49152 for user code.')"
   ]
  },
  {
   "cell_type": "markdown",
   "id": "cf93428a-7268-4055-86c0-32363d96cbd3",
   "metadata": {},
   "source": [
    "#### 25-29. greedy & non-greedy"
   ]
  },
  {
   "cell_type": "code",
   "execution_count": 296,
   "id": "d4f8dec8-4d52-49cd-9ec3-d8eecdc2829e",
   "metadata": {},
   "outputs": [
    {
     "name": "stdout",
     "output_type": "stream",
     "text": [
      "32\n",
      "(0, 32)\n",
      "<html><head><title>Title</title>\n"
     ]
    }
   ],
   "source": [
    "# *\n",
    "# greedy meta character\n",
    "# 탐욕스러워 매치할 수 있는 최대한의 문자열인 <html><head><title>Title</title>을 모두 소비한다.\n",
    "# <.*> 정규식의 매치 결과로 <html>을 리턴해 주지 않는다.\n",
    "s = '<html><head><title>Title</title>'\n",
    "print(len(s))\n",
    "print(re.match('<.*>', s).span())\n",
    "print(re.match('<.*>', s).group())"
   ]
  },
  {
   "cell_type": "code",
   "execution_count": 302,
   "id": "ba451e7d-a013-4993-966b-b18d04fc28cd",
   "metadata": {},
   "outputs": [
    {
     "name": "stdout",
     "output_type": "stream",
     "text": [
      "<html>\n"
     ]
    }
   ],
   "source": [
    "# ?\n",
    "# non-greedy meta character\n",
    "# *?, +?, ??, {m,n}?와 같이 사용되며 greedy character의 탐욕을 제한하며, 최소한으로 반복을 수행하게 도와준다.\n",
    "print(re.match('<.*?>', s).group())"
   ]
  }
 ],
 "metadata": {
  "kernelspec": {
   "display_name": "Python 3 (ipykernel)",
   "language": "python",
   "name": "python3"
  },
  "language_info": {
   "codemirror_mode": {
    "name": "ipython",
    "version": 3
   },
   "file_extension": ".py",
   "mimetype": "text/x-python",
   "name": "python",
   "nbconvert_exporter": "python",
   "pygments_lexer": "ipython3",
   "version": "3.8.10"
  }
 },
 "nbformat": 4,
 "nbformat_minor": 5
}
