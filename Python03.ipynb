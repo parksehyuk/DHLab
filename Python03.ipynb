{
 "cells": [
  {
   "cell_type": "markdown",
   "id": "cf9da9fc-f157-4c1b-b1f5-bc05e47ea166",
   "metadata": {},
   "source": [
    "#### 3. Date Type I"
   ]
  },
  {
   "cell_type": "code",
   "execution_count": 17,
   "id": "361f36df-d6ba-414d-b8ec-fb15667ed5c2",
   "metadata": {},
   "outputs": [],
   "source": [
    "# 자료형\n",
    "# 프로그래밍에 쓰는 숫자, 문자열 등 자료 형태로 사용하는 모든 것이다."
   ]
  },
  {
   "cell_type": "markdown",
   "id": "572d4327-c374-4402-a37b-d53ed219a28e",
   "metadata": {},
   "source": [
    "#### 3-1. Number Type"
   ]
  },
  {
   "cell_type": "code",
   "execution_count": 18,
   "id": "00b57e1d-805d-498e-ad69-7afa8db838cf",
   "metadata": {},
   "outputs": [],
   "source": [
    "# 숫자형"
   ]
  },
  {
   "cell_type": "markdown",
   "id": "b3fe32d9-20a9-449a-ab9c-49648b1318c9",
   "metadata": {},
   "source": [
    "#### 3-2. Integer, Real number"
   ]
  },
  {
   "cell_type": "code",
   "execution_count": 19,
   "id": "b525ef3f-0f55-48ab-8859-872fc6865aa8",
   "metadata": {},
   "outputs": [
    {
     "name": "stdout",
     "output_type": "stream",
     "text": [
      "20000000000.0\n",
      "0.0002\n"
     ]
    }
   ],
   "source": [
    "# 2E10 = 2 * 10^10\n",
    "# 2e-4 = 2* 10^-4\n",
    "print(2E10)\n",
    "print(2e-4)"
   ]
  },
  {
   "cell_type": "markdown",
   "id": "370872f7-c583-4625-8e89-a290ab024e18",
   "metadata": {},
   "source": [
    "#### 3-2. 진법"
   ]
  },
  {
   "cell_type": "code",
   "execution_count": 20,
   "id": "52290b08-c32f-4fc0-b29e-2a2355de0b1b",
   "metadata": {},
   "outputs": [
    {
     "name": "stdout",
     "output_type": "stream",
     "text": [
      "127\n",
      "127\n"
     ]
    }
   ],
   "source": [
    "# 8진법\n",
    "# octal\n",
    "# 0o or 0O\n",
    "# 0o177 = 1*8^2 + 7*8^1 + 7 = 127\n",
    "print(0O177)\n",
    "print(0o177)"
   ]
  },
  {
   "cell_type": "code",
   "execution_count": 21,
   "id": "2b2c10da-c643-400d-a2d3-9fed2fbf50e8",
   "metadata": {},
   "outputs": [
    {
     "name": "stdout",
     "output_type": "stream",
     "text": [
      "2748\n",
      "2748\n"
     ]
    }
   ],
   "source": [
    "# 16진법\n",
    "# hexadecimal\n",
    "# 0x or 0X\n",
    "# 0xABC = 10*16^2 + 11*16^1 + 12 = 2748 (A=10, B=11, C=12)\n",
    "print(0XABC)\n",
    "print(0xABC)"
   ]
  },
  {
   "cell_type": "markdown",
   "id": "26042436-ca3f-4606-a046-6a5f1016f8db",
   "metadata": {},
   "source": [
    "#### 3-3. 숫자형 활용 연산자"
   ]
  },
  {
   "cell_type": "code",
   "execution_count": 22,
   "id": "004b3e69-6237-464f-9cab-3660141c5650",
   "metadata": {},
   "outputs": [
    {
     "name": "stdout",
     "output_type": "stream",
     "text": [
      "1024\n"
     ]
    }
   ],
   "source": [
    "# **\n",
    "# 거듭제곱\n",
    "# x ** y = x^y\n",
    "print(2 ** 10)"
   ]
  },
  {
   "cell_type": "code",
   "execution_count": 23,
   "id": "f6ed1a7c-d200-4ba7-ab5c-dfbda5641c08",
   "metadata": {},
   "outputs": [
    {
     "name": "stdout",
     "output_type": "stream",
     "text": [
      "1\n"
     ]
    }
   ],
   "source": [
    "# %\n",
    "# 나눗셈의 나머지 값\n",
    "# 7 % 3 = 1\n",
    "print(7 % 3)"
   ]
  },
  {
   "cell_type": "code",
   "execution_count": 24,
   "id": "b1a78c32-6b2b-40c4-8e08-9acce203d193",
   "metadata": {},
   "outputs": [
    {
     "name": "stdout",
     "output_type": "stream",
     "text": [
      "1\n"
     ]
    }
   ],
   "source": [
    "# //\n",
    "# 나눗셈의 몫 값\n",
    "# 7 // 4 = 1\n",
    "print(7 // 4)"
   ]
  },
  {
   "cell_type": "markdown",
   "id": "67efbb22-5645-40d8-8cd3-7f7dfec4648a",
   "metadata": {},
   "source": [
    "#### 3-4. 복합 연산자"
   ]
  },
  {
   "cell_type": "code",
   "execution_count": 25,
   "id": "8cec924e-f8c8-42a4-af2c-0c5301874708",
   "metadata": {},
   "outputs": [],
   "source": [
    "# a = a + 1\n",
    "# a의 값을 1만큼 증가시킨다.\n",
    "# a + 1로 계산된 값을 다시 a에 대입한다.\n",
    "# 식에 의해 a의 값이 1만큼 증가된다.\n",
    "# 해당 표현식은 값을 증가시키기 위해 사용한다.\n",
    "\n",
    "# 둘은 완전히 동일한 기능.\n",
    "# a = a + 1\n",
    "# a += 1"
   ]
  },
  {
   "cell_type": "code",
   "execution_count": 26,
   "id": "c4cf62d4-083e-40b3-b355-6c21dc6c7138",
   "metadata": {},
   "outputs": [
    {
     "name": "stdout",
     "output_type": "stream",
     "text": [
      "3\n"
     ]
    }
   ],
   "source": [
    "# +=\n",
    "a = 1\n",
    "a = a + 1\n",
    "a += 1\n",
    "print(a)"
   ]
  },
  {
   "cell_type": "code",
   "execution_count": 27,
   "id": "e30d8ee1-5520-4695-b488-ac7a65933f0d",
   "metadata": {},
   "outputs": [
    {
     "name": "stdout",
     "output_type": "stream",
     "text": [
      "0\n"
     ]
    }
   ],
   "source": [
    "# -=\n",
    "b = 2\n",
    "b = b - 1\n",
    "b -= 1\n",
    "print(b)"
   ]
  },
  {
   "cell_type": "code",
   "execution_count": 28,
   "id": "2ed8a206-fa4f-42b9-a046-c8b217b6e733",
   "metadata": {},
   "outputs": [
    {
     "name": "stdout",
     "output_type": "stream",
     "text": [
      "3\n"
     ]
    }
   ],
   "source": [
    "# *=\n",
    "c = 3\n",
    "c = c * 1\n",
    "c *= 1\n",
    "print(c)"
   ]
  },
  {
   "cell_type": "code",
   "execution_count": 29,
   "id": "a21f4e56-7a85-4d84-82a0-c8773fe7a7b2",
   "metadata": {},
   "outputs": [
    {
     "name": "stdout",
     "output_type": "stream",
     "text": [
      "4.0\n"
     ]
    }
   ],
   "source": [
    "# /=\n",
    "d = 4\n",
    "d = d / 1\n",
    "d /= 1\n",
    "print(d)"
   ]
  },
  {
   "cell_type": "code",
   "execution_count": 30,
   "id": "bdb2b41a-f702-437a-9413-812b459dc3e3",
   "metadata": {},
   "outputs": [
    {
     "name": "stdout",
     "output_type": "stream",
     "text": [
      "5\n"
     ]
    }
   ],
   "source": [
    "# //=\n",
    "e = 5\n",
    "e = e // 1\n",
    "e //= 1\n",
    "print(e)"
   ]
  },
  {
   "cell_type": "code",
   "execution_count": 31,
   "id": "286cbf66-19a7-4241-820f-f9b03946d0de",
   "metadata": {},
   "outputs": [
    {
     "name": "stdout",
     "output_type": "stream",
     "text": [
      "0\n"
     ]
    }
   ],
   "source": [
    "# %=\n",
    "f = 6\n",
    "f = f % 1\n",
    "f %= 1\n",
    "print(f)"
   ]
  },
  {
   "cell_type": "code",
   "execution_count": 32,
   "id": "9fe83768-e2a9-4bb0-81ae-35baba2c9175",
   "metadata": {},
   "outputs": [
    {
     "name": "stdout",
     "output_type": "stream",
     "text": [
      "7\n"
     ]
    }
   ],
   "source": [
    "# **=\n",
    "g = 7\n",
    "g = g ** 1\n",
    "g **= 1\n",
    "print(g)"
   ]
  }
 ],
 "metadata": {
  "kernelspec": {
   "display_name": "Python 3 (ipykernel)",
   "language": "python",
   "name": "python3"
  },
  "language_info": {
   "codemirror_mode": {
    "name": "ipython",
    "version": 3
   },
   "file_extension": ".py",
   "mimetype": "text/x-python",
   "name": "python",
   "nbconvert_exporter": "python",
   "pygments_lexer": "ipython3",
   "version": "3.8.10"
  }
 },
 "nbformat": 4,
 "nbformat_minor": 5
}
