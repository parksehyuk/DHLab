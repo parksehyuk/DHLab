{
 "cells": [
  {
   "cell_type": "markdown",
   "id": "05de0702-539b-479c-8de2-c90dbaf3a09a",
   "metadata": {},
   "source": [
    "#### 18. standard library"
   ]
  },
  {
   "cell_type": "code",
   "execution_count": null,
   "id": "b8063cd7-531e-41f3-b78c-81f189694d29",
   "metadata": {},
   "outputs": [],
   "source": [
    "# 파이썬 표준 라이브러리는 파이썬을 설치할 때 자동으로 컴퓨터에 설치된다.\n"
   ]
  },
  {
   "cell_type": "markdown",
   "id": "241d13fe-256f-416c-8e9d-99a630ba17c5",
   "metadata": {},
   "source": [
    "#### 18-1. datetime"
   ]
  },
  {
   "cell_type": "code",
   "execution_count": 8,
   "id": "db13e9d3-628a-45fe-9386-1e4aa8fb6355",
   "metadata": {},
   "outputs": [],
   "source": [
    "# 연, 월, 일로 날짜를 표현할 때 사용하는 함수이다."
   ]
  },
  {
   "cell_type": "code",
   "execution_count": 7,
   "id": "ddd5ab3c-3618-451a-a5d0-7466c971a8a8",
   "metadata": {},
   "outputs": [
    {
     "name": "stdout",
     "output_type": "stream",
     "text": [
      "263\n"
     ]
    }
   ],
   "source": [
    "# day2에서 day1을 빼면 datetime 모듈의 timedelta 객체가 리턴된다.\n",
    "import datetime\n",
    "day1 = datetime.date(2024, 4, 21)\n",
    "day2 = datetime.date(2025, 1, 9)\n",
    "print(diff.days)"
   ]
  },
  {
   "cell_type": "code",
   "execution_count": 9,
   "id": "ab47b9aa-a8ee-41bd-91a1-95d21a66f7a7",
   "metadata": {},
   "outputs": [
    {
     "data": {
      "text/plain": [
       "6"
      ]
     },
     "execution_count": 9,
     "metadata": {},
     "output_type": "execute_result"
    }
   ],
   "source": [
    "# 요일은 datetime.date 객체의 weekday 함수를 사용한다.\n",
    "# 0부터 순서대로 월화수목금토일을 의미한다.\n",
    "day = datetime.date(2024, 4, 21)\n",
    "day.weekday()"
   ]
  },
  {
   "cell_type": "code",
   "execution_count": 10,
   "id": "9c6c3369-5070-4ef7-957a-d109bf9ae964",
   "metadata": {},
   "outputs": [
    {
     "data": {
      "text/plain": [
       "7"
      ]
     },
     "execution_count": 10,
     "metadata": {},
     "output_type": "execute_result"
    }
   ],
   "source": [
    "# 1부터 순서대로 요일을 출력하기\n",
    "day = datetime.date(2024, 4, 21)\n",
    "day.isoweekday()"
   ]
  },
  {
   "cell_type": "markdown",
   "id": "b7966795-ad56-4ad9-92d0-6903583e3a2c",
   "metadata": {},
   "source": [
    "#### 18-2. time"
   ]
  },
  {
   "cell_type": "code",
   "execution_count": 12,
   "id": "fffb823a-8b67-40c6-afc8-8e09b173936a",
   "metadata": {},
   "outputs": [
    {
     "data": {
      "text/plain": [
       "1736485351.9830277"
      ]
     },
     "execution_count": 12,
     "metadata": {},
     "output_type": "execute_result"
    }
   ],
   "source": [
    "# time.time\n",
    "# UTC(universal time coordinated, 협정 세계 표준시)를 사용하여 현재 시간을 실수 형태로 리턴하는 함수이다.\n",
    "# 1970년 1월 1일 0시 0분 0초를 기준으로 지난 시간을 초 단위로 리턴해 준다.\n",
    "import time\n",
    "time.time()"
   ]
  },
  {
   "cell_type": "code",
   "execution_count": 13,
   "id": "d031e7b5-b330-4e04-8431-067726e3ba10",
   "metadata": {},
   "outputs": [
    {
     "data": {
      "text/plain": [
       "time.struct_time(tm_year=2025, tm_mon=1, tm_mday=10, tm_hour=5, tm_min=2, tm_sec=55, tm_wday=4, tm_yday=10, tm_isdst=0)"
      ]
     },
     "execution_count": 13,
     "metadata": {},
     "output_type": "execute_result"
    }
   ],
   "source": [
    "# time.localtime\n",
    "# time.time()이 리턴한 실숫값을 사용해서 연, 월, 일, 시, 분, 초, ... 의 형태로 바꾸어 주는 함수이다.\n",
    "time.localtime(time.time())"
   ]
  },
  {
   "cell_type": "code",
   "execution_count": 14,
   "id": "afdf0d11-1da3-4a91-baeb-91135a400217",
   "metadata": {},
   "outputs": [
    {
     "data": {
      "text/plain": [
       "'Fri Jan 10 05:03:23 2025'"
      ]
     },
     "execution_count": 14,
     "metadata": {},
     "output_type": "execute_result"
    }
   ],
   "source": [
    "# time.asctime\n",
    "# time.localtime가 리턴된 튜플 형태의 값을 인수로 받아서 날짜와 시간을 알아보기 쉬운 형태로 리턴하는 함수이다.\n",
    "time.asctime(time.localtime(time.time()))"
   ]
  },
  {
   "cell_type": "code",
   "execution_count": 15,
   "id": "26afb319-f1c6-45f4-8e05-adc4554d55e6",
   "metadata": {},
   "outputs": [
    {
     "data": {
      "text/plain": [
       "'Fri Jan 10 05:04:29 2025'"
      ]
     },
     "execution_count": 15,
     "metadata": {},
     "output_type": "execute_result"
    }
   ],
   "source": [
    "# time.ctime\n",
    "# time.asctime(time.localtime(time.time()))을 간단하게 표기\n",
    "# ctime은 asctime과 다르게 항상 현재 시간만을 리턴한다.\n",
    "time.ctime()"
   ]
  },
  {
   "cell_type": "code",
   "execution_count": 16,
   "id": "c7520007-4925-4667-8a32-2e3ccffeb1cc",
   "metadata": {},
   "outputs": [
    {
     "name": "stdout",
     "output_type": "stream",
     "text": [
      "0\n",
      "1\n",
      "2\n",
      "3\n",
      "4\n",
      "5\n",
      "6\n",
      "7\n",
      "8\n",
      "9\n"
     ]
    }
   ],
   "source": [
    "# time.sleep\n",
    "# 일정한 시간 간격을 두고 루프를 실행할 수 있다.\n",
    "# 1초 간격으로 0부터 9까지의 숫자를 출력한다.\n",
    "import time\n",
    "for i in range(10):\n",
    "    print(i)\n",
    "    time.sleep(1)"
   ]
  },
  {
   "cell_type": "code",
   "execution_count": 20,
   "id": "51ee380f-b11d-4908-8c12-629ecee4a1c1",
   "metadata": {},
   "outputs": [
    {
     "data": {
      "text/plain": [
       "time.struct_time(tm_year=2025, tm_mon=1, tm_mday=10, tm_hour=5, tm_min=11, tm_sec=4, tm_wday=4, tm_yday=10, tm_isdst=0)"
      ]
     },
     "execution_count": 20,
     "metadata": {},
     "output_type": "execute_result"
    }
   ],
   "source": [
    "# 인수 없이 time 함수 사용하기\n",
    "time.localtime()"
   ]
  },
  {
   "cell_type": "code",
   "execution_count": 18,
   "id": "da1a660f-9f3c-4117-b0bc-41f4a2c65ae5",
   "metadata": {},
   "outputs": [
    {
     "data": {
      "text/plain": [
       "'Fri Jan 10 05:10:47 2025'"
      ]
     },
     "execution_count": 18,
     "metadata": {},
     "output_type": "execute_result"
    }
   ],
   "source": [
    "time.asctime()"
   ]
  },
  {
   "cell_type": "code",
   "execution_count": 19,
   "id": "f3bdd712-896b-4721-ba72-bc0668aa185a",
   "metadata": {},
   "outputs": [
    {
     "data": {
      "text/plain": [
       "'Fri Jan 10 05:10:50 2025'"
      ]
     },
     "execution_count": 19,
     "metadata": {},
     "output_type": "execute_result"
    }
   ],
   "source": [
    "time.strftime('%c')"
   ]
  },
  {
   "cell_type": "code",
   "execution_count": null,
   "id": "8c6c6c21-1244-4e94-b12c-dfec198fcd88",
   "metadata": {},
   "outputs": [],
   "source": [
    "# time.strftime\n",
    "# 시간에 관계된 것을 표현하는 포맷 코드를 제공한다.\n",
    "import time\n",
    "time.strftime('%x', time.localtime(time.time()))\n",
    "time.strftime('%c', time.localtime(time.time()))"
   ]
  },
  {
   "cell_type": "code",
   "execution_count": null,
   "id": "695e49b3-ee7f-4845-a1d1-70677b9f97ce",
   "metadata": {},
   "outputs": [],
   "source": [
    "%a\t요일의 줄임말\tMon\n",
    "%A\t요일\tMonday\n",
    "%b\t달의 줄임말\tJan\n",
    "%B\t달\tJanuary\n",
    "%c\t날짜와 시간을 출력함.\tThu May 25 10:13:52 2023\n",
    "%d\t일(day)\t[01,31]\n",
    "%H\t시간(hour): 24시간 출력 형태\t[00,23]\n",
    "%I\t시간(hour): 12시간 출력 형태\t[01,12]\n",
    "%j\t1년 중 누적 날짜\t[001,366]\n",
    "%m\t달\t[01,12]\n",
    "%M\t분\t[01,59]\n",
    "%p\tAM or PM\tAM\n",
    "%S\t초\t[00,59]\n",
    "%U\t1년 중 누적 주(일요일 시작)\t[00,53]\n",
    "%w\t숫자로 된 요일\t[0(일), 6(토)]\n",
    "%W\t1년 중 누적 주(월요일 시작)\t[00,53]\n",
    "%x\t현재 설정된 지역에 기반한 날짜 출력\t05/25/23\n",
    "%X\t현재 설정된 지역에 기반한 시간 출력\t17:22:21\n",
    "%Y\t연도 출력\t2023\n",
    "%Z\t시간대 출력\t대한민국 표준시\n",
    "%%\t문자 %\t%\n",
    "%y\t세기 부분을 제외한 연도 출력\t01"
   ]
  }
 ],
 "metadata": {
  "kernelspec": {
   "display_name": "Python 3 (ipykernel)",
   "language": "python",
   "name": "python3"
  },
  "language_info": {
   "codemirror_mode": {
    "name": "ipython",
    "version": 3
   },
   "file_extension": ".py",
   "mimetype": "text/x-python",
   "name": "python",
   "nbconvert_exporter": "python",
   "pygments_lexer": "ipython3",
   "version": "3.8.10"
  }
 },
 "nbformat": 4,
 "nbformat_minor": 5
}
