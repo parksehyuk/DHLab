{
 "cells": [
  {
   "cell_type": "markdown",
   "id": "05de0702-539b-479c-8de2-c90dbaf3a09a",
   "metadata": {},
   "source": [
    "#### 18. Standard library"
   ]
  },
  {
   "cell_type": "code",
   "execution_count": 60,
   "id": "b8063cd7-531e-41f3-b78c-81f189694d29",
   "metadata": {},
   "outputs": [],
   "source": [
    "# 파이썬 표준 라이브러리는 파이썬을 설치할 때 자동으로 컴퓨터에 설치된다."
   ]
  },
  {
   "cell_type": "markdown",
   "id": "241d13fe-256f-416c-8e9d-99a630ba17c5",
   "metadata": {},
   "source": [
    "#### 18-1. datetime"
   ]
  },
  {
   "cell_type": "code",
   "execution_count": 61,
   "id": "db13e9d3-628a-45fe-9386-1e4aa8fb6355",
   "metadata": {},
   "outputs": [],
   "source": [
    "# 연, 월, 일로 날짜를 표현할 때 사용하는 함수이다."
   ]
  },
  {
   "cell_type": "code",
   "execution_count": 62,
   "id": "a46fa83a-d1dc-45db-bf10-cc55085301dc",
   "metadata": {},
   "outputs": [],
   "source": [
    "import datetime"
   ]
  },
  {
   "cell_type": "code",
   "execution_count": 70,
   "id": "ddd5ab3c-3618-451a-a5d0-7466c971a8a8",
   "metadata": {},
   "outputs": [
    {
     "name": "stdout",
     "output_type": "stream",
     "text": [
      "264\n"
     ]
    }
   ],
   "source": [
    "# day2에서 day1을 빼면 datetime 모듈의 timedelta 객체가 리턴된다.\n",
    "day1 = datetime.date(2024, 4, 21)\n",
    "day2 = datetime.date(2025, 1, 10)\n",
    "diff = day2 - day1\n",
    "print(diff.days)"
   ]
  },
  {
   "cell_type": "code",
   "execution_count": 71,
   "id": "ab47b9aa-a8ee-41bd-91a1-95d21a66f7a7",
   "metadata": {},
   "outputs": [
    {
     "data": {
      "text/plain": [
       "6"
      ]
     },
     "execution_count": 71,
     "metadata": {},
     "output_type": "execute_result"
    }
   ],
   "source": [
    "# 요일은 datetime.date 객체의 weekday 함수를 사용한다.\n",
    "# 0부터 순서대로 월화수목금토일을 의미한다.\n",
    "day = datetime.date(2024, 4, 21)\n",
    "day.weekday()"
   ]
  },
  {
   "cell_type": "code",
   "execution_count": 72,
   "id": "9c6c3369-5070-4ef7-957a-d109bf9ae964",
   "metadata": {},
   "outputs": [
    {
     "data": {
      "text/plain": [
       "7"
      ]
     },
     "execution_count": 72,
     "metadata": {},
     "output_type": "execute_result"
    }
   ],
   "source": [
    "# 1부터 순서대로 요일을 출력하기\n",
    "day = datetime.date(2024, 4, 21)\n",
    "day.isoweekday()"
   ]
  },
  {
   "cell_type": "markdown",
   "id": "b7966795-ad56-4ad9-92d0-6903583e3a2c",
   "metadata": {},
   "source": [
    "#### 18-2. time"
   ]
  },
  {
   "cell_type": "code",
   "execution_count": 107,
   "id": "cf655f3a-7140-4c22-9795-50fae999abdb",
   "metadata": {},
   "outputs": [],
   "source": [
    "import time"
   ]
  },
  {
   "cell_type": "code",
   "execution_count": 108,
   "id": "fffb823a-8b67-40c6-afc8-8e09b173936a",
   "metadata": {},
   "outputs": [
    {
     "data": {
      "text/plain": [
       "1736746325.2297745"
      ]
     },
     "execution_count": 108,
     "metadata": {},
     "output_type": "execute_result"
    }
   ],
   "source": [
    "# time.time\n",
    "# UTC(universal time coordinated, 협정 세계 표준시)를 사용하여 현재 시간을 실수 형태로 리턴하는 함수이다.\n",
    "# 1970년 1월 1일 0시 0분 0초를 기준으로 지난 시간을 초 단위로 리턴해 준다.\n",
    "time.time()"
   ]
  },
  {
   "cell_type": "code",
   "execution_count": 74,
   "id": "d031e7b5-b330-4e04-8431-067726e3ba10",
   "metadata": {},
   "outputs": [
    {
     "data": {
      "text/plain": [
       "time.struct_time(tm_year=2025, tm_mon=1, tm_mday=13, tm_hour=5, tm_min=29, tm_sec=53, tm_wday=0, tm_yday=13, tm_isdst=0)"
      ]
     },
     "execution_count": 74,
     "metadata": {},
     "output_type": "execute_result"
    }
   ],
   "source": [
    "# time.localtime\n",
    "# time.time()이 리턴한 실숫값을 사용해서 연, 월, 일, 시, 분, 초, ... 의 형태로 바꾸어 주는 함수이다.\n",
    "time.localtime(time.time())"
   ]
  },
  {
   "cell_type": "code",
   "execution_count": 75,
   "id": "afdf0d11-1da3-4a91-baeb-91135a400217",
   "metadata": {},
   "outputs": [
    {
     "data": {
      "text/plain": [
       "'Mon Jan 13 05:29:54 2025'"
      ]
     },
     "execution_count": 75,
     "metadata": {},
     "output_type": "execute_result"
    }
   ],
   "source": [
    "# time.asctime\n",
    "# time.localtime가 리턴된 튜플 형태의 값을 인수로 받아서 날짜와 시간을 알아보기 쉬운 형태로 리턴하는 함수이다.\n",
    "time.asctime(time.localtime(time.time()))"
   ]
  },
  {
   "cell_type": "code",
   "execution_count": 76,
   "id": "26afb319-f1c6-45f4-8e05-adc4554d55e6",
   "metadata": {},
   "outputs": [
    {
     "data": {
      "text/plain": [
       "'Mon Jan 13 05:29:55 2025'"
      ]
     },
     "execution_count": 76,
     "metadata": {},
     "output_type": "execute_result"
    }
   ],
   "source": [
    "# time.ctime\n",
    "# time.asctime(time.localtime(time.time()))을 간단하게 표기\n",
    "# ctime은 asctime과 다르게 항상 현재 시간만을 리턴한다.\n",
    "time.ctime()"
   ]
  },
  {
   "cell_type": "code",
   "execution_count": 67,
   "id": "c7520007-4925-4667-8a32-2e3ccffeb1cc",
   "metadata": {},
   "outputs": [
    {
     "name": "stdout",
     "output_type": "stream",
     "text": [
      "0\n",
      "1\n",
      "2\n",
      "3\n",
      "4\n",
      "5\n",
      "6\n",
      "7\n",
      "8\n",
      "9\n"
     ]
    }
   ],
   "source": [
    "# time.sleep\n",
    "# 일정한 시간 간격을 두고 루프를 실행할 수 있다.\n",
    "# 1초 간격으로 0부터 9까지의 숫자를 출력한다.\n",
    "import time\n",
    "for i in range(10):\n",
    "    print(i)\n",
    "    time.sleep(1)"
   ]
  },
  {
   "cell_type": "code",
   "execution_count": 77,
   "id": "51ee380f-b11d-4908-8c12-629ecee4a1c1",
   "metadata": {},
   "outputs": [
    {
     "data": {
      "text/plain": [
       "time.struct_time(tm_year=2025, tm_mon=1, tm_mday=13, tm_hour=5, tm_min=29, tm_sec=58, tm_wday=0, tm_yday=13, tm_isdst=0)"
      ]
     },
     "execution_count": 77,
     "metadata": {},
     "output_type": "execute_result"
    }
   ],
   "source": [
    "# 인수 없이 time 함수 사용하기\n",
    "time.localtime()"
   ]
  },
  {
   "cell_type": "code",
   "execution_count": 78,
   "id": "da1a660f-9f3c-4117-b0bc-41f4a2c65ae5",
   "metadata": {},
   "outputs": [
    {
     "data": {
      "text/plain": [
       "'Mon Jan 13 05:29:59 2025'"
      ]
     },
     "execution_count": 78,
     "metadata": {},
     "output_type": "execute_result"
    }
   ],
   "source": [
    "time.asctime()"
   ]
  },
  {
   "cell_type": "code",
   "execution_count": 79,
   "id": "f3bdd712-896b-4721-ba72-bc0668aa185a",
   "metadata": {},
   "outputs": [
    {
     "data": {
      "text/plain": [
       "'Mon Jan 13 05:29:59 2025'"
      ]
     },
     "execution_count": 79,
     "metadata": {},
     "output_type": "execute_result"
    }
   ],
   "source": [
    "time.strftime('%c')"
   ]
  },
  {
   "cell_type": "markdown",
   "id": "b6e1464a-c74d-4309-98d7-331a06bc6219",
   "metadata": {},
   "source": [
    "#### 18-3. time.strftime"
   ]
  },
  {
   "cell_type": "code",
   "execution_count": 80,
   "id": "8c6c6c21-1244-4e94-b12c-dfec198fcd88",
   "metadata": {},
   "outputs": [],
   "source": [
    "# 시간에 관계된 것을 표현하는 포맷 코드를 제공한다."
   ]
  },
  {
   "cell_type": "code",
   "execution_count": 81,
   "id": "92b82918-dd09-4ffc-9c69-bdbbae76de76",
   "metadata": {},
   "outputs": [],
   "source": [
    "import time"
   ]
  },
  {
   "cell_type": "code",
   "execution_count": 82,
   "id": "04b89ed8-06b3-41c6-973b-dc8052c6d31d",
   "metadata": {},
   "outputs": [
    {
     "data": {
      "text/plain": [
       "'Mon'"
      ]
     },
     "execution_count": 82,
     "metadata": {},
     "output_type": "execute_result"
    }
   ],
   "source": [
    "# 요일 줄임말\n",
    "time.strftime('%a', time.localtime(time.time()))"
   ]
  },
  {
   "cell_type": "code",
   "execution_count": 83,
   "id": "ac2286c1-b828-460e-9939-d302c8d98ab9",
   "metadata": {},
   "outputs": [
    {
     "data": {
      "text/plain": [
       "'Monday'"
      ]
     },
     "execution_count": 83,
     "metadata": {},
     "output_type": "execute_result"
    }
   ],
   "source": [
    "# 요일\n",
    "time.strftime('%A', time.localtime(time.time()))"
   ]
  },
  {
   "cell_type": "code",
   "execution_count": 84,
   "id": "a215b14c-3f53-48ae-9ce6-99b1eeaac829",
   "metadata": {},
   "outputs": [
    {
     "data": {
      "text/plain": [
       "'Jan'"
      ]
     },
     "execution_count": 84,
     "metadata": {},
     "output_type": "execute_result"
    }
   ],
   "source": [
    "# 달의 줄임말\n",
    "time.strftime('%b', time.localtime(time.time()))"
   ]
  },
  {
   "cell_type": "code",
   "execution_count": 85,
   "id": "46633a8b-76fa-4f4f-8892-5024e1560387",
   "metadata": {},
   "outputs": [
    {
     "data": {
      "text/plain": [
       "'January'"
      ]
     },
     "execution_count": 85,
     "metadata": {},
     "output_type": "execute_result"
    }
   ],
   "source": [
    "# 달\n",
    "time.strftime('%B', time.localtime(time.time()))"
   ]
  },
  {
   "cell_type": "code",
   "execution_count": 86,
   "id": "56be0df1-e5d2-4df7-8202-9f87cfe02c79",
   "metadata": {},
   "outputs": [
    {
     "data": {
      "text/plain": [
       "'Mon Jan 13 05:30:01 2025'"
      ]
     },
     "execution_count": 86,
     "metadata": {},
     "output_type": "execute_result"
    }
   ],
   "source": [
    "# 날짜와 시간 출력\n",
    "time.strftime('%c', time.localtime(time.time()))"
   ]
  },
  {
   "cell_type": "code",
   "execution_count": 87,
   "id": "d02b2a35-d4d7-4d7d-bac9-0a88ddeb3ae9",
   "metadata": {},
   "outputs": [
    {
     "data": {
      "text/plain": [
       "'13'"
      ]
     },
     "execution_count": 87,
     "metadata": {},
     "output_type": "execute_result"
    }
   ],
   "source": [
    "# 일(day) \n",
    "time.strftime('%d', time.localtime(time.time()))"
   ]
  },
  {
   "cell_type": "code",
   "execution_count": 88,
   "id": "e4d3a96e-b7d7-4700-b093-861e61b4c77d",
   "metadata": {},
   "outputs": [
    {
     "data": {
      "text/plain": [
       "'05'"
      ]
     },
     "execution_count": 88,
     "metadata": {},
     "output_type": "execute_result"
    }
   ],
   "source": [
    "# 시간(hour): 24시간 출력 형태\n",
    "time.strftime('%H', time.localtime(time.time()))"
   ]
  },
  {
   "cell_type": "code",
   "execution_count": 89,
   "id": "2b200945-189c-4f10-a124-e4bb4bfe55af",
   "metadata": {},
   "outputs": [
    {
     "data": {
      "text/plain": [
       "'05'"
      ]
     },
     "execution_count": 89,
     "metadata": {},
     "output_type": "execute_result"
    }
   ],
   "source": [
    "# 시간(hour): 12시간 출력 형태\n",
    "time.strftime('%I', time.localtime(time.time()))"
   ]
  },
  {
   "cell_type": "code",
   "execution_count": 90,
   "id": "616a5670-5974-4e6a-81a0-0cc0024a835b",
   "metadata": {},
   "outputs": [
    {
     "data": {
      "text/plain": [
       "'%J'"
      ]
     },
     "execution_count": 90,
     "metadata": {},
     "output_type": "execute_result"
    }
   ],
   "source": [
    "# 1년 중 누적 날짜\n",
    "time.strftime('%J', time.localtime(time.time()))"
   ]
  },
  {
   "cell_type": "code",
   "execution_count": 91,
   "id": "ff61dfd5-273e-48e1-bba1-991881dbba52",
   "metadata": {},
   "outputs": [
    {
     "data": {
      "text/plain": [
       "'01'"
      ]
     },
     "execution_count": 91,
     "metadata": {},
     "output_type": "execute_result"
    }
   ],
   "source": [
    "# 월(month)\n",
    "time.strftime('%m', time.localtime(time.time()))"
   ]
  },
  {
   "cell_type": "code",
   "execution_count": 92,
   "id": "f17de2d1-0ad8-4cb9-a37c-c51f6ffecd83",
   "metadata": {},
   "outputs": [
    {
     "data": {
      "text/plain": [
       "'30'"
      ]
     },
     "execution_count": 92,
     "metadata": {},
     "output_type": "execute_result"
    }
   ],
   "source": [
    "# 분(minute)\n",
    "time.strftime('%M', time.localtime(time.time()))"
   ]
  },
  {
   "cell_type": "code",
   "execution_count": 93,
   "id": "4ed3bc86-3171-482d-bc71-2e4afb9ac825",
   "metadata": {},
   "outputs": [
    {
     "data": {
      "text/plain": [
       "'AM'"
      ]
     },
     "execution_count": 93,
     "metadata": {},
     "output_type": "execute_result"
    }
   ],
   "source": [
    "# AM or PM\n",
    "time.strftime('%p', time.localtime(time.time()))"
   ]
  },
  {
   "cell_type": "code",
   "execution_count": 94,
   "id": "a9aa04cf-9963-4ae9-9455-d2e103deae4a",
   "metadata": {},
   "outputs": [
    {
     "data": {
      "text/plain": [
       "'02'"
      ]
     },
     "execution_count": 94,
     "metadata": {},
     "output_type": "execute_result"
    }
   ],
   "source": [
    "# 초(second)\n",
    "time.strftime('%S', time.localtime(time.time()))"
   ]
  },
  {
   "cell_type": "code",
   "execution_count": 95,
   "id": "64896738-4062-43b5-8533-a57751c0ba6d",
   "metadata": {},
   "outputs": [
    {
     "data": {
      "text/plain": [
       "'02'"
      ]
     },
     "execution_count": 95,
     "metadata": {},
     "output_type": "execute_result"
    }
   ],
   "source": [
    "# 1년 중 누적 주(일요일 시작)\n",
    "time.strftime('%U', time.localtime(time.time()))"
   ]
  },
  {
   "cell_type": "code",
   "execution_count": 96,
   "id": "de2c63e1-4391-4739-9569-302c1a6388bf",
   "metadata": {},
   "outputs": [
    {
     "data": {
      "text/plain": [
       "'1'"
      ]
     },
     "execution_count": 96,
     "metadata": {},
     "output_type": "execute_result"
    }
   ],
   "source": [
    "# 숫자로 된 요일\n",
    "time.strftime('%w', time.localtime(time.time()))"
   ]
  },
  {
   "cell_type": "code",
   "execution_count": 97,
   "id": "7c7d576b-a093-41b6-aa02-436214de4b2a",
   "metadata": {},
   "outputs": [
    {
     "data": {
      "text/plain": [
       "'02'"
      ]
     },
     "execution_count": 97,
     "metadata": {},
     "output_type": "execute_result"
    }
   ],
   "source": [
    "# 1년 중 누적 주(월요일 시작)\n",
    "time.strftime('%W', time.localtime(time.time()))"
   ]
  },
  {
   "cell_type": "code",
   "execution_count": 98,
   "id": "596e4473-60db-4c46-b3eb-f6a98cc2e12e",
   "metadata": {},
   "outputs": [
    {
     "data": {
      "text/plain": [
       "'01/13/25'"
      ]
     },
     "execution_count": 98,
     "metadata": {},
     "output_type": "execute_result"
    }
   ],
   "source": [
    "# 현재 설정된 지역에 기반한 날짜 출력\n",
    "time.strftime('%x', time.localtime(time.time()))"
   ]
  },
  {
   "cell_type": "code",
   "execution_count": 99,
   "id": "7df3a02f-2e74-4744-8a6c-1025c366cdac",
   "metadata": {},
   "outputs": [
    {
     "data": {
      "text/plain": [
       "'05:30:03'"
      ]
     },
     "execution_count": 99,
     "metadata": {},
     "output_type": "execute_result"
    }
   ],
   "source": [
    "# 현재 설정된 지역에 기반한 시간 출력\n",
    "time.strftime('%X', time.localtime(time.time()))"
   ]
  },
  {
   "cell_type": "code",
   "execution_count": 100,
   "id": "e9f50cdd-f202-4e83-baa4-9f96fd87eec2",
   "metadata": {},
   "outputs": [
    {
     "data": {
      "text/plain": [
       "'25'"
      ]
     },
     "execution_count": 100,
     "metadata": {},
     "output_type": "execute_result"
    }
   ],
   "source": [
    "# 세기 부분을 제외한 연도 출력\n",
    "time.strftime('%y', time.localtime(time.time()))"
   ]
  },
  {
   "cell_type": "code",
   "execution_count": 101,
   "id": "8050d0a3-77b5-4cb7-9098-b0bb2755c0dc",
   "metadata": {},
   "outputs": [
    {
     "data": {
      "text/plain": [
       "'2025'"
      ]
     },
     "execution_count": 101,
     "metadata": {},
     "output_type": "execute_result"
    }
   ],
   "source": [
    "# 연도(year)\n",
    "time.strftime('%Y', time.localtime(time.time()))"
   ]
  },
  {
   "cell_type": "code",
   "execution_count": 102,
   "id": "21f0afc8-1d83-4665-9548-77f629f50d45",
   "metadata": {},
   "outputs": [
    {
     "data": {
      "text/plain": [
       "'UTC'"
      ]
     },
     "execution_count": 102,
     "metadata": {},
     "output_type": "execute_result"
    }
   ],
   "source": [
    "# 시간대 출력 대한민국 표준시\n",
    "time.strftime('%Z', time.localtime(time.time()))"
   ]
  },
  {
   "cell_type": "code",
   "execution_count": 103,
   "id": "8ef03dd4-7318-4e7a-aaa4-a05e830c688c",
   "metadata": {},
   "outputs": [
    {
     "data": {
      "text/plain": [
       "'%'"
      ]
     },
     "execution_count": 103,
     "metadata": {},
     "output_type": "execute_result"
    }
   ],
   "source": [
    "# 문자 % %\n",
    "time.strftime('%%', time.localtime(time.time()))"
   ]
  },
  {
   "cell_type": "markdown",
   "id": "af0f06ef-f5d6-4699-b8cc-07431426cc05",
   "metadata": {},
   "source": [
    "#### 18-4. math"
   ]
  },
  {
   "cell_type": "code",
   "execution_count": 109,
   "id": "9d8b8558-1997-4225-a35c-29d9951af866",
   "metadata": {},
   "outputs": [],
   "source": [
    "import math"
   ]
  },
  {
   "cell_type": "code",
   "execution_count": 113,
   "id": "74ec0c83-322c-4bc5-9204-b736b1ff3b00",
   "metadata": {},
   "outputs": [
    {
     "name": "stdout",
     "output_type": "stream",
     "text": [
      "20\n"
     ]
    }
   ],
   "source": [
    "# math.gcd\n",
    "# 최대 공약수(greatest common divisor) 구하기\n",
    "# after python 3.9 version can used more than 3 arguments\n",
    "print(math.gcd(80, 100))"
   ]
  },
  {
   "cell_type": "code",
   "execution_count": 112,
   "id": "480978b4-e198-48df-a876-1380328e188b",
   "metadata": {},
   "outputs": [],
   "source": [
    "# math.lcm\n",
    "# 최소 공배수(least common multiple) 구하기\n",
    "# after python 3.9 version\n",
    "math.lcm(4, 5)"
   ]
  },
  {
   "cell_type": "markdown",
   "id": "ae4e3a3a-2b81-4444-9398-76fc3ec41a93",
   "metadata": {},
   "source": [
    "#### 18-5. random"
   ]
  },
  {
   "cell_type": "code",
   "execution_count": 114,
   "id": "8d3ff798-d4f6-4564-9540-9de23af030c6",
   "metadata": {},
   "outputs": [],
   "source": [
    "# random은 난수(규칙이 없는 임의의 수)를 발생시키는 모듈이다."
   ]
  },
  {
   "cell_type": "code",
   "execution_count": 115,
   "id": "2e137734-9db1-4fb8-b6a9-b3d6897087a0",
   "metadata": {},
   "outputs": [],
   "source": [
    "import random"
   ]
  },
  {
   "cell_type": "code",
   "execution_count": 120,
   "id": "c3d1acea-ec5c-4a1f-b7c8-a814a804fbba",
   "metadata": {},
   "outputs": [
    {
     "data": {
      "text/plain": [
       "0.25095639654137003"
      ]
     },
     "execution_count": 120,
     "metadata": {},
     "output_type": "execute_result"
    }
   ],
   "source": [
    "# 0.0에서 1.0 사이의 실수 중에서 난수 값을 리턴한다.\n",
    "random.random()"
   ]
  },
  {
   "cell_type": "code",
   "execution_count": 121,
   "id": "4fd3dc88-798d-4e5f-b1c4-0fe8baee91a8",
   "metadata": {},
   "outputs": [
    {
     "data": {
      "text/plain": [
       "3"
      ]
     },
     "execution_count": 121,
     "metadata": {},
     "output_type": "execute_result"
    }
   ],
   "source": [
    "# 1에서 10 사이의 정수 중에서 난수 값을 리턴한다.\n",
    "random.randint(1, 10)"
   ]
  },
  {
   "cell_type": "code",
   "execution_count": 179,
   "id": "0bf07f95-3222-4ec3-98d6-731519a0f12f",
   "metadata": {},
   "outputs": [
    {
     "name": "stdout",
     "output_type": "stream",
     "text": [
      "1\n",
      "2\n",
      "3\n",
      "4\n",
      "5\n"
     ]
    }
   ],
   "source": [
    "# 함수는 리스트의 요소 중 무작위로 하나를 선택하여 꺼낸 다음 그 값을 리턴한다.\n",
    "# 꺼낸 요소는 pop 메서드에 의해 사라진다.\n",
    "# len(data)는 무작위로 추출할 원소의 개수를 의미한다.\n",
    "import random\n",
    "def random_pop(data):\n",
    "    number = random.randint(0, len(data)-1)\n",
    "    return data.pop(number)\n",
    "if __name__ == \"__main__\":\n",
    "    data = [1, 2, 3, 4, 5]\n",
    "    while data:\n",
    "        print(random_pop(data))"
   ]
  },
  {
   "cell_type": "code",
   "execution_count": 451,
   "id": "fedad86c-a67c-451c-ba1b-37012f94571f",
   "metadata": {},
   "outputs": [
    {
     "name": "stdout",
     "output_type": "stream",
     "text": [
      "3\n",
      "2\n",
      "1\n",
      "5\n",
      "4\n"
     ]
    }
   ],
   "source": [
    "# choice\n",
    "# 입력으로 받은 리스트에서 무작위로 하나를 선택하여 리턴한다.\n",
    "import random\n",
    "def random_pop(data):\n",
    "    number = random.choice(data)\n",
    "    data.remove(number)\n",
    "    return number\n",
    "if __name__ == \"__main__\":\n",
    "    data = [1, 2, 3, 4, 5]\n",
    "    while data:\n",
    "        print(random_pop(data))"
   ]
  },
  {
   "cell_type": "code",
   "execution_count": 239,
   "id": "aeadbf8c-8066-49f6-909f-a88a0f962fad",
   "metadata": {},
   "outputs": [
    {
     "data": {
      "text/plain": [
       "[5, 1, 2, 4, 3]"
      ]
     },
     "execution_count": 239,
     "metadata": {},
     "output_type": "execute_result"
    }
   ],
   "source": [
    "# random.sample\n",
    "# 리스트의 항목을 무작위로 섞는다.\n",
    "data = [1, 2, 3, 4, 5]\n",
    "random.sample(data, len(data))"
   ]
  },
  {
   "cell_type": "markdown",
   "id": "8b759534-4204-4025-becd-e82de00264cf",
   "metadata": {},
   "source": [
    "#### 18-6. itertools"
   ]
  },
  {
   "cell_type": "code",
   "execution_count": null,
   "id": "e78b31da-4a9d-4476-b66e-b9e7eebdce74",
   "metadata": {},
   "outputs": [],
   "source": [
    "# itertools.zip_longest(*iterables, fillvalue=None)\n",
    "# 같은 개수의 자료형을 묶는 zip 함수와 똑같이 동작한다.\n",
    "# 요소 개수가 부족한 항목은 None으로 채우지만, fillvalue로 값을 지정하면 None 대신 지정된 값으로 채운다.\n",
    "# 반복 가능 객체(*iterables) 길이가 서로 다르면 긴 객체의 길이에 맞춰 fillvalue에 설정한 값을 짧은 객체에 채운다."
   ]
  },
  {
   "cell_type": "code",
   "execution_count": 243,
   "id": "6e15797d-a7b7-4d6e-85a5-902401ea1a35",
   "metadata": {},
   "outputs": [
    {
     "name": "stdout",
     "output_type": "stream",
     "text": [
      "[('park', 'candy'), ('hwang', 'chocolate'), ('song', 'jelly'), ('jang', 'chips'), ('lee', 'chips')]\n"
     ]
    }
   ],
   "source": [
    "import itertools\n",
    "students = ['park', 'hwang', 'song', 'jang', 'lee']\n",
    "snacks = ['candy', 'chocolate', 'jelly']\n",
    "result = itertools.zip_longest(students, snacks, fillvalue='chips')\n",
    "print(list(result))"
   ]
  },
  {
   "cell_type": "code",
   "execution_count": 244,
   "id": "f1fe554a-b612-4519-be98-05d15d9aad80",
   "metadata": {},
   "outputs": [
    {
     "data": {
      "text/plain": [
       "[('1', '2'), ('1', '3'), ('2', '1'), ('2', '3'), ('3', '1'), ('3', '2')]"
      ]
     },
     "execution_count": 244,
     "metadata": {},
     "output_type": "execute_result"
    }
   ],
   "source": [
    "# itertools.permutations(iterable, r)\n",
    "# 반복 가능 객체 중에서 r개를 선택한 순열을 이터레이터로 리턴한다.\n",
    "list(itertools.permutations(['1', '2', '3'], 2))"
   ]
  },
  {
   "cell_type": "code",
   "execution_count": 245,
   "id": "a6c7239f-3e24-4b78-b76e-da4f1fbeb11f",
   "metadata": {},
   "outputs": [
    {
     "name": "stdout",
     "output_type": "stream",
     "text": [
      "12\n",
      "13\n",
      "21\n",
      "23\n",
      "31\n",
      "32\n"
     ]
    }
   ],
   "source": [
    "for a, b in itertools.permutations(['1', '2', '3'], 2):\n",
    "    print(a + b)"
   ]
  },
  {
   "cell_type": "code",
   "execution_count": 248,
   "id": "5613b596-2214-4372-97d8-0ab6ed7c3e2c",
   "metadata": {},
   "outputs": [
    {
     "data": {
      "text/plain": [
       "[('1', '2'), ('1', '3'), ('2', '3')]"
      ]
     },
     "execution_count": 248,
     "metadata": {},
     "output_type": "execute_result"
    }
   ],
   "source": [
    "# itertools.combinations\n",
    "# 조합\n",
    "# 순서에 상관없이 반복 가능 객체 중에서 r개를 선택한 조합을 이터레이터로 리턴한다.\n",
    "list(itertools.combinations(['1', '2', '3'], 2))"
   ]
  },
  {
   "cell_type": "code",
   "execution_count": null,
   "id": "6d277874-16fd-42c1-a6bb-b9f7fea5b22f",
   "metadata": {},
   "outputs": [],
   "source": [
    "# lottery\n",
    "it = itertools.combinations(range(1, 46), 6)\n",
    "for num in it:\n",
    "    print(num)"
   ]
  },
  {
   "cell_type": "code",
   "execution_count": 249,
   "id": "793c0159-da92-4c78-85bc-39c4055a82bc",
   "metadata": {},
   "outputs": [
    {
     "data": {
      "text/plain": [
       "8145060"
      ]
     },
     "execution_count": 249,
     "metadata": {},
     "output_type": "execute_result"
    }
   ],
   "source": [
    "# 순환하여 출력하지 않고 이터레이터의 개수만 세기\n",
    "len(list(itertools.combinations(range(1, 46), 6)))"
   ]
  },
  {
   "cell_type": "code",
   "execution_count": 251,
   "id": "a1162f8e-f236-4ae9-aa8e-87fbdd86b7f9",
   "metadata": {},
   "outputs": [
    {
     "data": {
      "text/plain": [
       "15890700"
      ]
     },
     "execution_count": 251,
     "metadata": {},
     "output_type": "execute_result"
    }
   ],
   "source": [
    "# itertools.combinations_with_replacement\n",
    "# 중복 조합\n",
    "len(list(itertools.combinations_with_replacement(range(1, 46), 6)))"
   ]
  },
  {
   "cell_type": "markdown",
   "id": "bf46375f-1235-4e61-811d-ff8dd1cd1690",
   "metadata": {},
   "source": [
    "#### 18-7. functools"
   ]
  },
  {
   "cell_type": "code",
   "execution_count": 254,
   "id": "8403f7bf-b39c-4d96-afd8-758cc9d76ef2",
   "metadata": {},
   "outputs": [
    {
     "name": "stdout",
     "output_type": "stream",
     "text": [
      "15\n"
     ]
    }
   ],
   "source": [
    "# functools.reduce(function, iterable)\n",
    "# 함수를 반복 가능한 객체의 요소에 차례대로(왼쪽부터) 누적 적용하여 객체를 하나의 값으로 줄인다.\n",
    "import functools\n",
    "data = [1, 2, 3, 4, 5]\n",
    "result = functools.reduce(lambda x, y: x + y, data)\n",
    "print(result)"
   ]
  },
  {
   "cell_type": "code",
   "execution_count": null,
   "id": "2a534bca-915d-48c2-8135-906d185bb24d",
   "metadata": {},
   "outputs": [],
   "source": [
    "# reduce()에 선언한 람다 함수를 data 요소에 차례대로 누적 적용하여 계산한다.\n",
    "# ((((1+2)+3)+4)+5)"
   ]
  },
  {
   "cell_type": "code",
   "execution_count": 255,
   "id": "664e1b4d-1f5e-4eb4-95bf-3e632c7c1091",
   "metadata": {},
   "outputs": [
    {
     "name": "stdout",
     "output_type": "stream",
     "text": [
      "8\n"
     ]
    }
   ],
   "source": [
    "# 최대값\n",
    "# 요소를 차례대로 reduce()의 람다 함수로 전달하여 두 값 중 큰 값을 선택하고 마지막에 남은 최댓값을 리턴한다.\n",
    "num_list = [1, 2, 3, 4, 5, 6, 7, 8]\n",
    "max_num = functools.reduce(lambda x, y: x if x > y else y, num_list)\n",
    "print(max_num)"
   ]
  },
  {
   "cell_type": "code",
   "execution_count": 256,
   "id": "cf00ee20-61a4-4bbc-a3b8-d30498f68581",
   "metadata": {},
   "outputs": [
    {
     "name": "stdout",
     "output_type": "stream",
     "text": [
      "1\n"
     ]
    }
   ],
   "source": [
    "# 최소값\n",
    "num_list = [1, 2, 3, 4, 5, 6, 7, 8]\n",
    "min_num = functools.reduce(lambda x, y: x if x < y else y, num_list)\n",
    "print(min_num)"
   ]
  },
  {
   "cell_type": "markdown",
   "id": "feed6b95-056d-467d-b418-f82155ea13cf",
   "metadata": {},
   "source": [
    "#### 18-8. operator"
   ]
  },
  {
   "cell_type": "code",
   "execution_count": 260,
   "id": "9e93c425-da3c-4944-8ff4-6b8fbce51838",
   "metadata": {},
   "outputs": [
    {
     "name": "stdout",
     "output_type": "stream",
     "text": [
      "[('song', 24, 'C'), ('park', 25, 'A'), ('hwang', 26, 'B')]\n"
     ]
    }
   ],
   "source": [
    "# operator.itemgetter\n",
    "# sorted와 같은 함수의 key 매개변수에 적용하여 다양한 기준으로 정렬할 수 있도록 도와주는 모듈이다.\n",
    "# itemgetter(1)은 튜플의 두 번째 요소를 기준으로 정렬하겠다는 의미이다.\n",
    "from operator import itemgetter\n",
    "students = [('park', 25, 'A'), ('hwang', 26, 'B'), ('song', 24, 'C')]\n",
    "result = sorted(students, key = itemgetter(1))\n",
    "print(result)"
   ]
  },
  {
   "cell_type": "code",
   "execution_count": 264,
   "id": "8e142307-8aa3-473a-8255-1003d080cf2e",
   "metadata": {},
   "outputs": [
    {
     "name": "stdout",
     "output_type": "stream",
     "text": [
      "[{'name': 'song', 'age': 24}, {'name': 'park', 'age': 25}, {'name': 'hwang', 'age': 26}]\n"
     ]
    }
   ],
   "source": [
    "# in dictionary\n",
    "students = [{'name': 'park', 'age': 25}, {'name': 'hwang', 'age': 26}, {'name': 'song', 'age': 24}]\n",
    "result = sorted(students, key = itemgetter('age'))\n",
    "print(result)"
   ]
  },
  {
   "cell_type": "code",
   "execution_count": 269,
   "id": "984cd6f1-2f9f-4616-a860-42b60a36f86d",
   "metadata": {},
   "outputs": [
    {
     "name": "stdout",
     "output_type": "stream",
     "text": [
      "[<__main__.Student object at 0x7ff3685db3d0>, <__main__.Student object at 0x7ff368692bb0>, <__main__.Student object at 0x7ff3685dbb50>]\n"
     ]
    }
   ],
   "source": [
    "# operator.attrgetter\n",
    "# 리스트의 요소가 튜플이 아닌 클래스의 객체라면 attrgetter()를 적용하여 정렬해야 한다.\n",
    "from operator import attrgetter\n",
    "class Student:\n",
    "    def __init__(self, name, age, grade):\n",
    "        self.name = name\n",
    "        self.age = age\n",
    "        self.grade = grade\n",
    "students = [Student('park', 25, 'A'), Student('hwang', 26, 'B'), Student('song', 24, 'C')]\n",
    "result = sorted(students, key=attrgetter('age'))\n",
    "print(result)"
   ]
  },
  {
   "cell_type": "markdown",
   "id": "10b3a005-7000-4e69-baea-ca2c341890d0",
   "metadata": {},
   "source": [
    "#### 18-9. shutil"
   ]
  },
  {
   "cell_type": "code",
   "execution_count": 273,
   "id": "04c1956d-656d-4915-a262-0b854d7d6ea7",
   "metadata": {},
   "outputs": [
    {
     "data": {
      "text/plain": [
       "'/home/loveofmylife/Tutorial_Python/py/d.txt'"
      ]
     },
     "execution_count": 273,
     "metadata": {},
     "output_type": "execute_result"
    }
   ],
   "source": [
    "# 파일을 복사(copy)하거나 이동(move)할 때 사용하는 모듈이다.\n",
    "# 작업 중인 파일을 자동으로 백업하기 위해 c:\\doit\\a.txt를 c:\\temp\\a.txt.bak이라는 이름으로 복사하는 프로그램을 만들기\n",
    "import shutil\n",
    "shutil.copy('/home/loveofmylife/Tutorial_Python/py/c.txt', '/home/loveofmylife/Tutorial_Python/py/d.txt')"
   ]
  },
  {
   "cell_type": "code",
   "execution_count": 274,
   "id": "82853511-b0e8-42aa-bfaf-4dfda87ea972",
   "metadata": {},
   "outputs": [
    {
     "data": {
      "text/plain": [
       "'/home/loveofmylife/Tutorial_Python/py/garbage/d.txt'"
      ]
     },
     "execution_count": 274,
     "metadata": {},
     "output_type": "execute_result"
    }
   ],
   "source": [
    "# shutil.move\n",
    "# 휴지통으로 삭제하는 기능을 구현하기\n",
    "# shutil_move.py\n",
    "import shutil\n",
    "shutil.move('/home/loveofmylife/Tutorial_Python/py/d.txt', '/home/loveofmylife/Tutorial_Python/py/garbage/d.txt')"
   ]
  },
  {
   "cell_type": "markdown",
   "id": "6f1d2708-a81e-4fb0-84be-f2beaac0814f",
   "metadata": {},
   "source": [
    "#### 18-10. glob"
   ]
  },
  {
   "cell_type": "code",
   "execution_count": 275,
   "id": "af65b6a2-94e7-44d3-972b-0a11bf83589b",
   "metadata": {},
   "outputs": [],
   "source": [
    "# 특정 디렉터리에 있는 파일 이름 모두를 알아야 할 때"
   ]
  },
  {
   "cell_type": "code",
   "execution_count": 279,
   "id": "8c7455a3-d61d-44cb-87fd-668c575c5e69",
   "metadata": {},
   "outputs": [
    {
     "data": {
      "text/plain": [
       "['/home/loveofmylife/Tutorial_Python/Python20.ipynb',\n",
       " '/home/loveofmylife/Tutorial_Python/Python14.ipynb',\n",
       " '/home/loveofmylife/Tutorial_Python/Python15.ipynb',\n",
       " '/home/loveofmylife/Tutorial_Python/Python08.ipynb',\n",
       " '/home/loveofmylife/Tutorial_Python/Python13.ipynb',\n",
       " '/home/loveofmylife/Tutorial_Python/Python01.ipynb',\n",
       " '/home/loveofmylife/Tutorial_Python/Python04.ipynb',\n",
       " '/home/loveofmylife/Tutorial_Python/Python16.ipynb',\n",
       " '/home/loveofmylife/Tutorial_Python/Python07.ipynb',\n",
       " '/home/loveofmylife/Tutorial_Python/Python06.ipynb',\n",
       " '/home/loveofmylife/Tutorial_Python/Python05.ipynb',\n",
       " '/home/loveofmylife/Tutorial_Python/Python18.ipynb',\n",
       " '/home/loveofmylife/Tutorial_Python/Python17.ipynb',\n",
       " '/home/loveofmylife/Tutorial_Python/Python09.ipynb',\n",
       " '/home/loveofmylife/Tutorial_Python/Python12.ipynb',\n",
       " '/home/loveofmylife/Tutorial_Python/Python02.ipynb',\n",
       " '/home/loveofmylife/Tutorial_Python/Python03.ipynb',\n",
       " '/home/loveofmylife/Tutorial_Python/Python10.ipynb',\n",
       " '/home/loveofmylife/Tutorial_Python/Python11.ipynb']"
      ]
     },
     "execution_count": 279,
     "metadata": {},
     "output_type": "execute_result"
    }
   ],
   "source": [
    "# glob(pathname)\n",
    "# 디렉터리 안의 파일들을 읽어서 list로 리턴하며, 메타 문자를 써서 원하는 파일만 읽어 들일 수 있다.\n",
    "# Tutorial_Python directory 내 이름이 python으로 시작하는 파일을 모두 찾아서 읽어들인다.\n",
    "import glob\n",
    "glob.glob('/home/loveofmylife/Tutorial_Python/Python*')"
   ]
  },
  {
   "cell_type": "markdown",
   "id": "9c075fc7-0f7a-4d6f-be93-0033e4d05ff8",
   "metadata": {},
   "source": [
    "#### 18-11. pickle"
   ]
  },
  {
   "cell_type": "code",
   "execution_count": 280,
   "id": "b4957f67-dd43-4121-bb98-8da13cf7a291",
   "metadata": {},
   "outputs": [],
   "source": [
    "# 객체의 형태를 그대로 유지하면서 파일에 저장하고 불러올 수 있게 하는 모듈이다."
   ]
  },
  {
   "cell_type": "code",
   "execution_count": 377,
   "id": "8f6f21f5-2cf8-41b4-9903-e2864eb2a4ce",
   "metadata": {},
   "outputs": [],
   "source": [
    "# dump\n",
    "# 딕셔너리 객체인 data를 그대로 파일에 저장하는 방법을 보여 준다.\n",
    "import pickle\n",
    "f = open('/home/loveofmylife/Tutorial_Python/py/test1.txt', 'wb')\n",
    "data = {1: 'python', 2: 'You need'}\n",
    "pickle.dump(data, f)\n",
    "f.close()"
   ]
  },
  {
   "cell_type": "code",
   "execution_count": 378,
   "id": "82a0acce-c3fc-4e93-ac38-807bdb19a3f7",
   "metadata": {},
   "outputs": [
    {
     "name": "stdout",
     "output_type": "stream",
     "text": [
      "{1: 'python', 2: 'You need'}\n"
     ]
    }
   ],
   "source": [
    "# load\n",
    "# 어떤 자료형이든 저장하고 불러올 수 있다.\n",
    "f = open('/home/loveofmylife/Tutorial_Python/py/test1.txt', 'rb')\n",
    "data = pickle.load(f)\n",
    "print(data)"
   ]
  },
  {
   "cell_type": "markdown",
   "id": "4b4fbb26-fd9c-4fd4-b822-00d47d83efa0",
   "metadata": {},
   "source": [
    "#### 18-12. os"
   ]
  },
  {
   "cell_type": "code",
   "execution_count": 295,
   "id": "d24e6fb7-7e65-4fdc-9399-883780c69aa9",
   "metadata": {},
   "outputs": [],
   "source": [
    "# 환경 변수나 디렉터리, 파일 등의 OS 자원을 제어할 수 있게 해 주는 모듈이다."
   ]
  },
  {
   "cell_type": "code",
   "execution_count": 296,
   "id": "afe49539-ef01-46f0-8d94-4a895faad0f9",
   "metadata": {},
   "outputs": [],
   "source": [
    "import os"
   ]
  },
  {
   "cell_type": "code",
   "execution_count": 299,
   "id": "b42b6293-15c1-424b-b182-1ad51d0f388d",
   "metadata": {},
   "outputs": [
    {
     "name": "stdout",
     "output_type": "stream",
     "text": [
      "environ({'APIKEYDHLAB': 'dhlabforopticsandeeplearning1111', 'OPENAI_API_BASE': 'http://dhlab.gachon.ac.kr:40003/v1', 'MLFLOW_TRACKING_URI': 'http://dhlab.gachon.ac.kr:40005', 'JUPYTERHUB_API_TOKEN': '5277ea8ea1f64c6b87ff8804c876e777', 'JPY_API_TOKEN': '5277ea8ea1f64c6b87ff8804c876e777', 'JUPYTERHUB_CLIENT_ID': 'jupyterhub-user-loveofmylife', 'JUPYTERHUB_HOST': '', 'JUPYTERHUB_OAUTH_CALLBACK_URL': '/user/loveofmylife/oauth_callback', 'JUPYTERHUB_OAUTH_SCOPES': '[\"access:servers!server=loveofmylife/\", \"access:servers!user=loveofmylife\"]', 'JUPYTERHUB_OAUTH_ACCESS_SCOPES': '[\"access:servers!server=loveofmylife/\", \"access:servers!user=loveofmylife\"]', 'JUPYTERHUB_OAUTH_CLIENT_ALLOWED_SCOPES': '[]', 'JUPYTERHUB_USER': 'loveofmylife', 'JUPYTERHUB_SERVER_NAME': '', 'JUPYTERHUB_API_URL': 'http://210.102.178.169:59999/hub/api', 'JUPYTERHUB_ACTIVITY_URL': 'http://210.102.178.169:59999/hub/api/users/loveofmylife/activity', 'JUPYTERHUB_BASE_URL': '/', 'JUPYTERHUB_SERVICE_PREFIX': '/user/loveofmylife/', 'JUPYTERHUB_SERVICE_URL': 'http://0.0.0.0:46171/user/loveofmylife/', 'JUPYTERHUB_DEFAULT_URL': '/lab', 'SLURM_CONF': '/etc/slurm/slurm.conf', 'USER': 'root', 'HOME': '/root', 'SHELL': '/bin/bash', 'SLURM_JOB_USER': 'loveofmylife', 'SLURM_TASKS_PER_NODE': '1', 'SLURM_JOB_UID': '2007', 'SLURM_EXPORT_ENV': 'APIKEYDHLAB,OPENAI_API_BASE,MLFLOW_TRACKING_URI,JUPYTERHUB_API_TOKEN,JPY_API_TOKEN,JUPYTERHUB_CLIENT_ID,JUPYTERHUB_HOST,JUPYTERHUB_OAUTH_CALLBACK_URL,JUPYTERHUB_OAUTH_SCOPES,JUPYTERHUB_OAUTH_ACCESS_SCOPES,JUPYTERHUB_OAUTH_CLIENT_ALLOWED_SCOPES,JUPYTERHUB_USER,JUPYTERHUB_SERVER_NAME,JUPYTERHUB_API_URL,JUPYTERHUB_ACTIVITY_URL,JUPYTERHUB_BASE_URL,JUPYTERHUB_SERVICE_PREFIX,JUPYTERHUB_SERVICE_URL,JUPYTERHUB_DEFAULT_URL,SLURM_CONF,USER,HOME,SHELL', 'SLURM_TASK_PID': '17935', 'SLURM_JOB_GPUS': '2', 'SLURM_LOCALID': '0', 'SLURM_SUBMIT_DIR': '/home/server/batchspawner', 'SLURMD_NODENAME': 'gpu01', 'SLURM_JOB_START_TIME': '1736733165', 'SLURM_CLUSTER_NAME': 'deepops', 'SLURM_JOB_END_TIME': '1736992365', 'SLURM_CPUS_ON_NODE': '2', 'SLURM_JOB_CPUS_PER_NODE': '2', 'SLURM_GPUS_ON_NODE': '1', 'SLURM_GTIDS': '0', 'SLURM_JOB_PARTITION': 'batch', 'SLURM_JOB_NUM_NODES': '1', 'SLURM_JOBID': '117047', 'SLURM_JOB_QOS': 'normal', 'SLURM_PROCID': '0', 'SLURM_CPUS_PER_TASK': '2', 'SLURM_TOPOLOGY_ADDR': 'gpu01', 'SLURM_TOPOLOGY_ADDR_PATTERN': 'node', 'SLURM_MEM_PER_CPU': '0', 'SLURM_WORKING_CLUSTER': 'deepops:login01:6817:9984:109', 'SLURM_NODELIST': 'gpu01', 'SLURM_JOB_ACCOUNT': 'loveofmylife', 'SLURM_PRIO_PROCESS': '0', 'SLURM_NNODES': '1', 'SLURM_SUBMIT_HOST': 'login01', 'SLURM_JOB_ID': '117047', 'SLURM_NODEID': '0', 'SLURM_JOB_NAME': 'jupyterhub', 'SLURM_NTASKS_PER_NODE': '1', 'SLURM_JOB_GID': '2007', 'SLURM_GET_USER_ENV': '1', 'SLURM_JOB_NODELIST': 'gpu01', 'SLURM_MPI_TYPE': 'pmix', 'SLURM_UMASK': '0002', 'SLURM_NTASKS': '1', 'SLURM_NPROCS': '1', 'SLURMD_DEBUG': '2', 'SLURM_STEP_ID': '0', 'SLURM_STEPID': '0', 'SLURM_STEP_NODELIST': 'gpu01', 'SLURM_STEP_NUM_NODES': '1', 'SLURM_STEP_NUM_TASKS': '1', 'SLURM_STEP_TASKS_PER_NODE': '1', 'SLURM_STEP_LAUNCHER_PORT': '43667', 'SLURM_SRUN_COMM_PORT': '43667', 'SLURM_PMIXP_ABORT_AGENT_PORT': '37407', 'SLURM_PMIX_MAPPING_SERV': '(vector,(0,1,1))', 'SLURM_SRUN_COMM_HOST': '192.9.57.209', 'SLURM_STEP_GPUS': '2', 'CUDA_VISIBLE_DEVICES': '0', 'SLURM_CPU_BIND': 'quiet,mask_cpu:0x00030000', 'SLURM_CPU_BIND_LIST': '0x00030000', 'SLURM_CPU_BIND_TYPE': 'mask_cpu:', 'SLURM_CPU_BIND_VERBOSE': 'quiet', 'SLURM_LAUNCH_NODE_IPADDR': '192.9.57.209', 'PMIX_NAMESPACE': 'slurm.pmix.117047.0', 'PMIX_RANK': '0', 'PMIX_SERVER_URI3': 'pmix-server.17926;tcp4://127.0.0.1:36867', 'PMIX_SERVER_URI2': 'pmix-server.17926;tcp4://127.0.0.1:36867', 'PMIX_SERVER_URI21': 'pmix-server.17926;tcp4://127.0.0.1:36867', 'PMIX_SECURITY_MODE': 'none', 'PMIX_PTL_MODULE': 'tcp', 'PMIX_BFROP_BUFFER_TYPE': 'PMIX_BFROP_BUFFER_NON_DESC', 'PMIX_GDS_MODULE': 'hash', 'PMIX_SERVER_TMPDIR': '/var/spool/slurm/d/pmix.117047.0/', 'PMIX_SYSTEM_TMPDIR': '/var/empty', 'PMIX_HOSTNAME': 'gpu01', 'PMIX_VERSION': '3.2.3', 'NPP_VERSION': '11.8.0.86', 'NVIDIA_VISIBLE_DEVICES': 'all', 'DALI_BUILD': '5920076', 'CUSOLVER_VERSION': '11.4.1.48', 'CUBLAS_VERSION': '11.11.3.6', 'PYVER': '3.8', 'MASTER_PORT': '51511', 'CUFFT_VERSION': '10.9.0.58', 'NVIDIA_REQUIRE_CUDA': 'cuda>=9.0', 'CUDA_CACHE_DISABLE': '1', 'TENSORBOARD_PORT': '6006', '_CUDA_COMPAT_STATUS': 'System has unsupported display driver / cuda driver combination (CUDA_ERROR_SYSTEM_DRIVER_MISMATCH) cuInit()=803', 'TORCH_CUDA_ARCH_LIST': '5.2 6.0 6.1 7.0 7.5 8.0 8.6 9.0+PTX', 'NCCL_VERSION': '2.15.5', 'OPENBLAS_VERSION': '0.3.20', 'CUSPARSE_VERSION': '11.7.5.86', 'ENV': '/etc/shinit_v2', 'PWD': '/workspace', 'LOGNAME': 'loveofmylife', 'OPENUCX_VERSION': '1.14.0', 'NSIGHT_SYSTEMS_VERSION': '2022.4.2.1', 'NVIDIA_DRIVER_CAPABILITIES': 'compute,utility,video', 'POLYGRAPHY_VERSION': '0.42.1', 'TRT_VERSION': '8.5.1.7', 'WORLD_SIZE': '1', 'NVIDIA_PRODUCT_NAME': 'PyTorch', 'RDMACORE_VERSION': '36.0', 'COCOAPI_VERSION': '2.0+nv0.7.1', 'CUDA_VERSION': '11.8.0.065', 'PYTORCH_VERSION': '1.13.0a0+936e930', 'PMIX_MCA_psec': 'none', 'CURAND_VERSION': '10.3.0.86', 'PYTORCH_BUILD_NUMBER': '0', 'USE_EXPERIMENTAL_CUDNN_V8_API': '1', 'CUTENSOR_VERSION': '1.6.1.5', 'PIP_DEFAULT_TIMEOUT': '100', 'HPCX_VERSION': '2.12.2tp1', 'TORCH_CUDNN_V8_API_ENABLED': '1', 'NVM_DIR': '/usr/local/nvm', 'MASTER_ADDR': 'gpu01', 'TERM': 'xterm-color', 'GDRCOPY_VERSION': '2.3', 'OPENMPI_VERSION': '4.1.4', 'NVJPEG_VERSION': '11.9.0.86', 'LIBRARY_PATH': '/usr/local/cuda/lib64/stubs:', 'PYTHONIOENCODING': 'utf-8', 'SHLVL': '0', 'BASH_ENV': '/etc/bash.bashrc', 'CONDA_DIR': '/opt/conda', 'PMIX_MCA_gds': 'hash', 'DEFAULT_INTEL_MKL_DIR': '/usr/local', 'CUDNN_VERSION': '8.7.0.80', 'NSIGHT_COMPUTE_VERSION': '2022.3.0.22', 'DALI_VERSION': '1.18.0', 'JUPYTER_PORT': '8888', 'PYTORCH_HOME': '/opt/pytorch/pytorch', 'LD_LIBRARY_PATH': '/usr/local/lib/python3.8/dist-packages/torch/lib:/usr/local/lib/python3.8/dist-packages/torch_tensorrt/lib:/usr/local/cuda/compat/lib:/usr/local/nvidia/lib:/usr/local/nvidia/lib64', 'NVIDIA_BUILD_ID': '48503342', 'PMIX_MCA_ptl': '^usock', 'OMPI_MCA_coll_hcoll_enable': '0', 'OPAL_PREFIX': '/opt/hpcx/ompi', 'CUDA_DRIVER_VERSION': '520.61.05', 'TRANSFORMER_ENGINE_VERSION': '0.2', 'LC_ALL': 'C.UTF-8', 'PYTORCH_BUILD_VERSION': '1.13.0a0+936e930', '_CUDA_COMPAT_PATH': '/usr/local/cuda/compat', 'CUDA_HOME': '/usr/local/cuda', 'CUDA_MODULE_LOADING': 'LAZY', 'NVIDIA_REQUIRE_JETPACK_HOST_MOUNTS': '', 'PATH': '/usr/local/lib/python3.8/dist-packages/torch_tensorrt/bin:/usr/local/mpi/bin:/usr/local/nvidia/bin:/usr/local/cuda/bin:/usr/local/sbin:/usr/local/bin:/usr/sbin:/usr/bin:/sbin:/bin:/usr/local/ucx/bin:/opt/tensorrt/bin', 'MOFED_VERSION': '5.4-rdmacore36.0', 'NVIDIA_PYTORCH_VERSION': '22.11', 'TRTOSS_VERSION': '22.10', 'DEBIAN_FRONTEND': 'noninteractive', 'TORCH_ALLOW_TF32_CUBLAS_OVERRIDE': '1', 'INTEL_MKL_DIR': '/usr/local', 'RANK': '0', 'LOCAL_RANK': '0', 'TMPDIR': '/tmp', 'GIT_PYTHON_REFRESH': 'quiet', 'PYDEVD_USE_FRAME_EVAL': 'NO', 'JPY_SESSION_NAME': '/home/loveofmylife/Tutorial_Python/Python18.ipynb', 'JPY_PARENT_PID': '17935', 'CLICOLOR': '1', 'FORCE_COLOR': '1', 'CLICOLOR_FORCE': '1', 'PAGER': 'cat', 'GIT_PAGER': 'cat', 'MPLBACKEND': 'module://matplotlib_inline.backend_inline'})\n"
     ]
    }
   ],
   "source": [
    "# os.environ\n",
    "# 시스템 정보\n",
    "# 환경 변수에 대한 정보를 딕셔너리 형태로 구성된 environ 객체로 리턴한다.\n",
    "print(os.environ)"
   ]
  },
  {
   "cell_type": "code",
   "execution_count": 301,
   "id": "4028bb81-db4a-4e0b-b427-8b1e62c755c2",
   "metadata": {},
   "outputs": [
    {
     "name": "stdout",
     "output_type": "stream",
     "text": [
      "/usr/local/lib/python3.8/dist-packages/torch_tensorrt/bin:/usr/local/mpi/bin:/usr/local/nvidia/bin:/usr/local/cuda/bin:/usr/local/sbin:/usr/local/bin:/usr/sbin:/usr/bin:/sbin:/bin:/usr/local/ucx/bin:/opt/tensorrt/bin\n"
     ]
    }
   ],
   "source": [
    "# PATH 환경 변수\n",
    "# 리턴받은 객체는 호출하여 사용할 수 있다.\n",
    "print(os.environ['PATH'])"
   ]
  },
  {
   "cell_type": "code",
   "execution_count": 311,
   "id": "19d9de82-ec57-402a-8c9a-b889e925aad0",
   "metadata": {},
   "outputs": [],
   "source": [
    "# os.chdir\n",
    "# 현재 디렉터리 위치 변경하기\n",
    "os.chdir('/home/loveofmylife/Tutorial_Python')"
   ]
  },
  {
   "cell_type": "code",
   "execution_count": 312,
   "id": "c01d3d49-0bbb-4006-8f67-f46d6eca77f2",
   "metadata": {},
   "outputs": [
    {
     "name": "stdout",
     "output_type": "stream",
     "text": [
      "/home/loveofmylife/Tutorial_Python\n"
     ]
    }
   ],
   "source": [
    "# os.getcwd\n",
    "# 현재 디렉터리 위치 돌려받기\n",
    "print(os.getcwd())"
   ]
  },
  {
   "cell_type": "code",
   "execution_count": 314,
   "id": "41e26b91-5bc4-4656-ad2e-7e86a5c6bfed",
   "metadata": {},
   "outputs": [
    {
     "name": "stdout",
     "output_type": "stream",
     "text": [
      "Python01.ipynb\tPython06.ipynb\tPython11.ipynb\tPython16.ipynb\tpy\n",
      "Python02.ipynb\tPython07.ipynb\tPython12.ipynb\tPython17.ipynb\ttest1.txt\n",
      "Python03.ipynb\tPython08.ipynb\tPython13.ipynb\tPython18.ipynb\n",
      "Python04.ipynb\tPython09.ipynb\tPython14.ipynb\tPython20.ipynb\n",
      "Python05.ipynb\tPython10.ipynb\tPython15.ipynb\t__pycache__\n"
     ]
    },
    {
     "data": {
      "text/plain": [
       "0"
      ]
     },
     "execution_count": 314,
     "metadata": {},
     "output_type": "execute_result"
    }
   ],
   "source": [
    "# os.system\n",
    "# 시스템 명령어 호출하기\n",
    "os.system('dir')"
   ]
  },
  {
   "cell_type": "code",
   "execution_count": 317,
   "id": "8395932b-6cfc-45fd-8111-58fbf241d6fd",
   "metadata": {},
   "outputs": [
    {
     "name": "stdout",
     "output_type": "stream",
     "text": [
      "Python01.ipynb\tPython06.ipynb\tPython11.ipynb\tPython16.ipynb\tpy\n",
      "Python02.ipynb\tPython07.ipynb\tPython12.ipynb\tPython17.ipynb\ttest1.txt\n",
      "Python03.ipynb\tPython08.ipynb\tPython13.ipynb\tPython18.ipynb\n",
      "Python04.ipynb\tPython09.ipynb\tPython14.ipynb\tPython20.ipynb\n",
      "Python05.ipynb\tPython10.ipynb\tPython15.ipynb\t__pycache__\n",
      "\n"
     ]
    }
   ],
   "source": [
    "# os.popen\n",
    "# 실행한 시스템 명령어의 결과값을 읽기 모드 형태의 파일 객체로 리턴한다.\n",
    "f = os.popen('dir')\n",
    "print(f.read())"
   ]
  },
  {
   "cell_type": "code",
   "execution_count": 320,
   "id": "d8a22937-6572-4cc4-aaf6-31b34e138449",
   "metadata": {},
   "outputs": [],
   "source": [
    "# directory 생성\n",
    "os.mkdir('dir')"
   ]
  },
  {
   "cell_type": "code",
   "execution_count": 322,
   "id": "79681ef0-8441-4b68-8a54-4412f3511ef3",
   "metadata": {},
   "outputs": [],
   "source": [
    "# directory 삭제\n",
    "os.rmdir('dir')"
   ]
  },
  {
   "cell_type": "code",
   "execution_count": 324,
   "id": "9b05fd81-9e3d-44f7-8d33-4407dc91919a",
   "metadata": {},
   "outputs": [],
   "source": [
    "# delete file\n",
    "os.remove('asdf.txt')"
   ]
  },
  {
   "cell_type": "code",
   "execution_count": 379,
   "id": "6c818ab4-8ac8-4300-a767-b6462772f4eb",
   "metadata": {},
   "outputs": [],
   "source": [
    "# src라는 이름의 파일을 dst라는 이름으로 바꾼다.\n",
    "os.rename('/home/loveofmylife/Tutorial_Python/py/src.txt', '/home/loveofmylife/Tutorial_Python/py/dst.txt')"
   ]
  },
  {
   "cell_type": "markdown",
   "id": "99dab85f-148f-4ecd-bd1b-64756bbdfdfc",
   "metadata": {},
   "source": [
    "#### 18-13. zipfile"
   ]
  },
  {
   "cell_type": "code",
   "execution_count": 326,
   "id": "118149cf-8a8a-4e1c-b54d-11685914dfbe",
   "metadata": {},
   "outputs": [],
   "source": [
    "# 여러 개의 파일을 zip 형식으로 합치거나 이를 해제할 때 사용하는 모듈이다."
   ]
  },
  {
   "cell_type": "code",
   "execution_count": 333,
   "id": "f6082b1e-80f0-4bbd-a156-b1cf4e45202c",
   "metadata": {},
   "outputs": [],
   "source": [
    "import zipfile"
   ]
  },
  {
   "cell_type": "code",
   "execution_count": 336,
   "id": "9d1d53b3-ca7d-43f5-b88e-1bdc6fd02802",
   "metadata": {},
   "outputs": [],
   "source": [
    "# 3개의 텍스트 파일을 하나로 합쳐 'mytext.txt'를 만들고 파일을 원래의 텍스트 파일 3개로 해제하는 프로그램\n",
    "# ZipFile 객체의 write() 함수로 개별 파일을 추가한다.\n",
    "# extreactall() 함수를 사용하여 모든 파일을 해제한다."
   ]
  },
  {
   "cell_type": "code",
   "execution_count": 390,
   "id": "2b8e8628-ce78-44be-b6a2-98634d4c75f2",
   "metadata": {},
   "outputs": [],
   "source": [
    "os.chdir('/home/loveofmylife/Tutorial_Python/py')\n",
    "\n",
    "# 파일 합치기\n",
    "with zipfile.ZipFile('/home/loveofmylife/Tutorial_Python/py/mytext.zip', 'w') as myzip:\n",
    "    myzip.write('a.txt')\n",
    "    myzip.write('b.txt')\n",
    "    myzip.write('c.txt')\n",
    "\n",
    "# 해제하기\n",
    "with zipfile.ZipFile('mytext.zip') as myzip:\n",
    "    myzip.extractall()"
   ]
  },
  {
   "cell_type": "code",
   "execution_count": 391,
   "id": "653257d2-efa1-4b55-98ba-f51f7712ff0f",
   "metadata": {},
   "outputs": [],
   "source": [
    "# 합친 파일에서 특정 파일만 해제하기 위해 extract() 함수를 사용하기\n",
    "with zipfile.ZipFile('/home/loveofmylife/Tutorial_Python/py/mytext.zip') as myzip:\n",
    "    myzip.extract('a.txt')"
   ]
  },
  {
   "cell_type": "code",
   "execution_count": 342,
   "id": "0f43e81f-7b08-40a2-a5f7-96ee84af6076",
   "metadata": {},
   "outputs": [],
   "source": [
    "# compression\n",
    "# ZIP_STORED: 압축하지 않고 파일을 zip으로만 묶는다. 속도가 빠르다.\n",
    "# ZIP_DEFLATED: 일반적인 zip 압축으로 속도가 빠르고 압축률은 낮다(호환성이 좋다).\n",
    "# ZIP_BZIP2: bzip2 압축으로 압축률이 높고 속도가 느리다.\n",
    "# ZIP_LZMA: lzma 압축으로 압축률이 높고 속도가 느리다(7zip과 동일한 알고리즘으로 알려져 있다)."
   ]
  },
  {
   "cell_type": "code",
   "execution_count": 392,
   "id": "0e217567-194d-45e8-a50b-37d7b8630f21",
   "metadata": {},
   "outputs": [],
   "source": [
    "#  compression, compresslevel option\n",
    "# 파일을 압축하여 묶는 경우\n",
    "os.chdir('/home/loveofmylife/Tutorial_Python/py')\n",
    "with zipfile.ZipFile('/home/loveofmylife/Tutorial_Python/py/mytxt.zip', 'w', compression=zipfile.ZIP_LZMA, compresslevel=9) as myzip:\n",
    "    myzip.write('a.txt')\n",
    "    myzip.write('b.txt')\n",
    "    myzip.write('c.txt')"
   ]
  },
  {
   "cell_type": "code",
   "execution_count": 393,
   "id": "ba413c8f-4f3e-41f9-86fc-69eb0cb587ba",
   "metadata": {},
   "outputs": [],
   "source": [
    "os.chdir('/home/loveofmylife/Tutorial_Python')"
   ]
  },
  {
   "cell_type": "markdown",
   "id": "332d5a06-7679-48a0-a1f1-8d49e0107b5c",
   "metadata": {},
   "source": [
    "#### 18-14 threading"
   ]
  },
  {
   "cell_type": "code",
   "execution_count": 343,
   "id": "c28ec5f7-9325-427b-9c5b-0b1e38b70bc3",
   "metadata": {},
   "outputs": [],
   "source": [
    "# 보통 한개의 process는 한가지 일만 한다.\n",
    "# thread를 사용하면 한 프로세스 안에서 두가지 또는 그 이상의 일을 동시에 수행할 수 있다."
   ]
  },
  {
   "cell_type": "code",
   "execution_count": 394,
   "id": "d0741b39-a7a1-4624-98fc-648e345371d8",
   "metadata": {},
   "outputs": [
    {
     "name": "stdout",
     "output_type": "stream",
     "text": [
      "Start\n",
      "working:0\n",
      "\n",
      "working:1\n",
      "\n",
      "working:2\n",
      "\n",
      "working:3\n",
      "\n",
      "working:4\n",
      "\n",
      "working:0\n",
      "\n",
      "working:1\n",
      "\n",
      "working:2\n",
      "\n",
      "working:3\n",
      "\n",
      "working:4\n",
      "\n",
      "working:0\n",
      "\n",
      "working:1\n",
      "\n",
      "working:2\n",
      "\n",
      "working:3\n",
      "\n",
      "working:4\n",
      "\n",
      "working:0\n",
      "\n",
      "working:1\n",
      "\n",
      "working:2\n",
      "\n",
      "working:3\n",
      "\n",
      "working:4\n",
      "\n",
      "working:0\n",
      "\n",
      "working:1\n",
      "\n",
      "working:2\n",
      "\n",
      "working:3\n",
      "\n",
      "working:4\n",
      "\n",
      "End\n"
     ]
    }
   ],
   "source": [
    "# 5초 소요되는 함수\n",
    "import time\n",
    "def long_task():\n",
    "    for i in range(5):\n",
    "        time.sleep(1)\n",
    "        print(\"working:%s\\n\" % i)\n",
    "print(\"Start\")\n",
    "\n",
    "# long_task를 5회 수행한다.\n",
    "for i in range(5):\n",
    "    long_task()\n",
    "print(\"End\")"
   ]
  },
  {
   "cell_type": "code",
   "execution_count": 357,
   "id": "42433254-d366-42b2-af61-fcbfbf3a988c",
   "metadata": {},
   "outputs": [
    {
     "name": "stdout",
     "output_type": "stream",
     "text": [
      "Start\n",
      "working:0\n",
      "\n",
      "working:0\n",
      "\n",
      "working:0\n",
      "\n",
      "working:0\n",
      "\n",
      "working:0\n",
      "\n",
      "working:1\n",
      "working:1\n",
      "\n",
      "\n",
      "working:1\n",
      "\n",
      "working:1\n",
      "\n",
      "working:1\n",
      "\n",
      "working:2\n",
      "\n",
      "working:2\n",
      "\n",
      "working:2\n",
      "\n",
      "working:2\n",
      "\n",
      "working:2\n",
      "\n",
      "working:3\n",
      "working:3\n",
      "\n",
      "working:3\n",
      "\n",
      "\n",
      "working:3\n",
      "\n",
      "working:3\n",
      "\n",
      "working:4\n",
      "\n",
      "working:4\n",
      "\n",
      "working:4\n",
      "\n",
      "working:4\n",
      "\n",
      "working:4\n",
      "\n",
      "End\n"
     ]
    }
   ],
   "source": [
    "# threading.Thread\n",
    "# thread 객체가 동시 작업을 가능하게 해 준다.\n",
    "# join으로 스레드가 종료될때까지 기다림으로 프로그램이 정상 종료되지 않는 오류 해결하기\n",
    "import time\n",
    "import threading\n",
    "def long_task():\n",
    "    for i in range(5):\n",
    "        time.sleep(1)\n",
    "        print(\"working:%s\\n\" % i)\n",
    "print(\"Start\")\n",
    "threads = []\n",
    "for i in range(5):\n",
    "    t = threading.Thread(target=long_task)\n",
    "    threads.append(t)\n",
    "for t in threads:\n",
    "    t.start()\n",
    "for t in threads:\n",
    "    t.join()\n",
    "print(\"End\")"
   ]
  },
  {
   "cell_type": "markdown",
   "id": "bdf1e108-61d3-4dbf-9fd4-7594701db579",
   "metadata": {},
   "source": [
    "#### 18-15. tempfile"
   ]
  },
  {
   "cell_type": "code",
   "execution_count": 353,
   "id": "df3c8a72-682e-41ed-9635-69177846d4dc",
   "metadata": {},
   "outputs": [],
   "source": [
    "# 중복되지 않는 임시 파일의 이름을 무작위로 만들어서 리턴한다.\n",
    "# 파일을 임시로 만들어서 사용할 때"
   ]
  },
  {
   "cell_type": "code",
   "execution_count": 352,
   "id": "233d320e-3fd8-4a5e-9181-b83e3216d882",
   "metadata": {},
   "outputs": [
    {
     "name": "stdout",
     "output_type": "stream",
     "text": [
      "(52, '/tmp/tmpayg0zl16')\n"
     ]
    }
   ],
   "source": [
    "# tempfile.mkstemp\n",
    "import tempfile\n",
    "filename = tempfile.mkstemp()\n",
    "print(filename)"
   ]
  },
  {
   "cell_type": "code",
   "execution_count": 358,
   "id": "75896876-25c5-4e12-83bc-71418adce882",
   "metadata": {},
   "outputs": [],
   "source": [
    "# tempfile.TemporaryFile\n",
    "# 임시 저장 공간으로 사용할 파일 객체를 리턴한다.\n",
    "# 기본적으로 바이너리 쓰기 모드(wb)를 갖는다.\n",
    "# f.close()가 호출되면 이 파일은 자동으로 삭제된다."
   ]
  },
  {
   "cell_type": "code",
   "execution_count": 359,
   "id": "1a618ab4-63ff-4022-8fbc-99020e3d865d",
   "metadata": {},
   "outputs": [],
   "source": [
    "# tempfile.TemporaryFile\n",
    "import tempfile\n",
    "f = tempfile.TemporaryFile()\n",
    "f.close()"
   ]
  },
  {
   "cell_type": "markdown",
   "id": "155633f1-f742-4a86-8f2f-9e31b1ffaf32",
   "metadata": {},
   "source": [
    "#### 18-16. traceback"
   ]
  },
  {
   "cell_type": "code",
   "execution_count": 360,
   "id": "9bfacd89-383a-458a-a478-1e7b09a50e42",
   "metadata": {},
   "outputs": [],
   "source": [
    "# 프로그램 실행 중 발생한 오류를 추적하고자 할 때 사용하는 모듈이다."
   ]
  },
  {
   "cell_type": "code",
   "execution_count": 365,
   "id": "f2e2cdce-35a9-4fdc-af78-6da36a53b75f",
   "metadata": {},
   "outputs": [
    {
     "name": "stdout",
     "output_type": "stream",
     "text": [
      "Occured error.\n",
      "Traceback (most recent call last):\n",
      "  File \"/tmp/ipykernel_25863/1834290278.py\", line 9, in main\n",
      "    b()\n",
      "  File \"/tmp/ipykernel_25863/1834290278.py\", line 6, in b\n",
      "    a()\n",
      "  File \"/tmp/ipykernel_25863/1834290278.py\", line 4, in a\n",
      "    return 1/0\n",
      "ZeroDivisionError: division by zero\n",
      "\n"
     ]
    }
   ],
   "source": [
    "# traceback.format_exc()\n",
    "import traceback\n",
    "def a():\n",
    "    return 1/0\n",
    "def b():\n",
    "    a()\n",
    "def main():\n",
    "    try:\n",
    "        b()\n",
    "    except:\n",
    "        print('Occured error.')\n",
    "        print(traceback.format_exc())\n",
    "main()"
   ]
  },
  {
   "cell_type": "markdown",
   "id": "c75490a9-f139-45cf-893a-4c622f44a60a",
   "metadata": {},
   "source": [
    "#### 18-17. json"
   ]
  },
  {
   "cell_type": "code",
   "execution_count": 403,
   "id": "3831d071-1c2e-44d4-a436-db38ab3f612a",
   "metadata": {},
   "outputs": [],
   "source": [
    "# json data를 쉽게 처리하고자 사용하는 모듈이다."
   ]
  },
  {
   "cell_type": "code",
   "execution_count": 416,
   "id": "48f96add-c5d8-4e98-a023-ee251971b7cd",
   "metadata": {},
   "outputs": [],
   "source": [
    "import json"
   ]
  },
  {
   "cell_type": "code",
   "execution_count": 417,
   "id": "189c749d-65ca-4c14-b65e-f8a6b23e26bd",
   "metadata": {},
   "outputs": [],
   "source": [
    "# 딕셔너리 자료형을 json 파일로 생성할 때\n",
    "data = {'name': 'park', 'birth': '0611', 'age': 26}\n",
    "with open('/home/loveofmylife/Tutorial_Python/py/myinfo.json', 'w') as f:\n",
    "    json.dump(data, f)"
   ]
  },
  {
   "cell_type": "code",
   "execution_count": 418,
   "id": "ad5ad5b5-36bd-4abf-9ce9-3730f7de96ce",
   "metadata": {},
   "outputs": [
    {
     "name": "stdout",
     "output_type": "stream",
     "text": [
      "<class 'dict'>\n",
      "{'name': 'park', 'birth': '0611', 'age': 26}\n"
     ]
    }
   ],
   "source": [
    "with open('/home/loveofmylife/Tutorial_Python/py/myinfo.json') as f:\n",
    "    data = json.load(f)\n",
    "print(type(data))\n",
    "print(data)"
   ]
  },
  {
   "cell_type": "code",
   "execution_count": 423,
   "id": "8c97958c-6584-4eae-bdd7-1f3a07b44bb8",
   "metadata": {},
   "outputs": [
    {
     "name": "stdout",
     "output_type": "stream",
     "text": [
      "{\"name\": \"\\ubc15\\uc138\\ud601\", \"birth\": \"0611\", \"age\": 26}\n"
     ]
    }
   ],
   "source": [
    "# 파이썬 자료형을 json 문자열로 만드는 방법\n",
    "# json data에선 한글 문자열이 아스키 형태의 코드로 표시되기에 마치 문자열이 깨진 것처럼 보인다.\n",
    "d = {'name': '박세혁', 'birth': '0611', 'age': 26}\n",
    "json_data = json.dumps(d)\n",
    "print(json_data)"
   ]
  },
  {
   "cell_type": "code",
   "execution_count": 425,
   "id": "fc357f45-81f5-465a-a458-c8aada58c25b",
   "metadata": {},
   "outputs": [
    {
     "name": "stdout",
     "output_type": "stream",
     "text": [
      "{'name': '박세혁', 'birth': '0611', 'age': 26}\n"
     ]
    }
   ],
   "source": [
    "# json.load\n",
    "# json 문자열을 딕셔너리로 다시 역변환하기\n",
    "print(json.loads(json_data))"
   ]
  },
  {
   "cell_type": "code",
   "execution_count": 427,
   "id": "d15658e4-3961-4740-a530-362af84e7c20",
   "metadata": {},
   "outputs": [
    {
     "name": "stdout",
     "output_type": "stream",
     "text": [
      "{\"name\": \"박세혁\", \"birth\": \"0611\", \"age\": 26}\n"
     ]
    }
   ],
   "source": [
    "# ensure_ascii=False option\n",
    "# 데이터를 저장할 때 아스키 형태로 변환하지 않는다.\n",
    "d = {'name': '박세혁', 'birth': '0611', 'age': 26}\n",
    "json_data = json.dumps(d, ensure_ascii=False)\n",
    "print(json_data)"
   ]
  },
  {
   "cell_type": "code",
   "execution_count": 428,
   "id": "d5873165-8de3-4fb7-9b1d-b2409e33cbd8",
   "metadata": {},
   "outputs": [
    {
     "name": "stdout",
     "output_type": "stream",
     "text": [
      "{\n",
      "  \"name\": \"박세혁\",\n",
      "  \"birth\": \"0611\",\n",
      "  \"age\": 26\n",
      "}\n"
     ]
    }
   ],
   "source": [
    "# indent option\n",
    "# json 문자열을 보기 좋게 정렬하기\n",
    "d = {'name': '박세혁', 'birth': '0611', 'age': 26}\n",
    "print(json.dumps(d, indent=2, ensure_ascii=False))"
   ]
  },
  {
   "cell_type": "code",
   "execution_count": 430,
   "id": "7ceba322-b5f5-49bb-b4df-418b8a579b59",
   "metadata": {},
   "outputs": [
    {
     "name": "stdout",
     "output_type": "stream",
     "text": [
      "[1, 2, 3]\n",
      "[4, 5, 6]\n"
     ]
    }
   ],
   "source": [
    "# 딕셔너리 외에 리스트나 튜플처럼 다른 자료형도 json 문자열로 변환 가능하다.\n",
    "print(json.dumps([1,2,3]))\n",
    "print(json.dumps((4,5,6)))"
   ]
  },
  {
   "cell_type": "markdown",
   "id": "59fbaae7-3644-483a-8f40-3b1974149f27",
   "metadata": {},
   "source": [
    "#### 18-18. urllib"
   ]
  },
  {
   "cell_type": "code",
   "execution_count": 431,
   "id": "50153835-b133-443f-910a-9871c107b89d",
   "metadata": {},
   "outputs": [],
   "source": [
    "# URL을 읽고 분석할 때 사용하는 모듈이다."
   ]
  },
  {
   "cell_type": "code",
   "execution_count": 436,
   "id": "24847c42-cf95-4f77-8749-fbc81f020505",
   "metadata": {},
   "outputs": [],
   "source": [
    "# 온라인 브라우저 데이터를 오프라인(html) 파일로 저장하는 함수\n",
    "# get_wikidocs(page) 함수는 위키독스의 페이지 번호를 입력받아 해당 페이지의 리소스 내용을 파일로 저장한다.\n",
    "# urllib.request.urlopen(resource)로 s 객체를 생성한다.\n",
    "# s.read()로 리소스 내용 전체를 읽어 저장한다.\n",
    "# get_wikidocs(12)를 호출하면 https://wikidocs.net/12 웹 페이지를 wikidocs_12.html라는 파일로 저장한다."
   ]
  },
  {
   "cell_type": "code",
   "execution_count": 437,
   "id": "0cbfddac-8ca1-4e08-91f4-8a115d97d55d",
   "metadata": {},
   "outputs": [],
   "source": [
    "import urllib.request\n",
    "def get_wikidocs(page):\n",
    "    resource = 'https://wikidocs.net/{}'.format(page)\n",
    "    with urllib.request.urlopen(resource) as s:\n",
    "        with open('/home/loveofmylife/Tutorial_Python/py/wikidocs_%s.html' % page, 'wb') as f:\n",
    "            f.write(s.read())"
   ]
  },
  {
   "cell_type": "code",
   "execution_count": 442,
   "id": "9166251f-2e15-4d29-ae81-22c50a620aed",
   "metadata": {},
   "outputs": [],
   "source": [
    "# SSL 오류\n",
    "# server SSL 인증서의 신뢰 여부 확인 과정에서, local system에 필요한 CA(인증 기관) 인증서를 찾을 수 없어 발생하는 오류이다.\n",
    "# macOS에서 자주 발생한다.\n",
    "# # SSL 인증서 검증을 비활성화하는 Context 생성하여 오류를 해결한다.\n",
    "import urllib.request\n",
    "import ssl\n",
    "context = ssl._create_unverified_context()\n",
    "def get_wikidocs(page):\n",
    "    resource = f'https://wikidocs.net/{page}'\n",
    "    with urllib.request.urlopen(resource, context = context) as s:\n",
    "        with open(f'/home/loveofmylife/Tutorial_Python/py/wikidocs_{page}.html', 'wb') as f:\n",
    "            f.write(s.read())\n",
    "get_wikidocs(12)"
   ]
  },
  {
   "cell_type": "markdown",
   "id": "162c2e87-0542-4cd7-952f-a143dc9cae02",
   "metadata": {},
   "source": [
    "#### 18-19. webbrowser"
   ]
  },
  {
   "cell_type": "code",
   "execution_count": 443,
   "id": "1d860d28-c8a6-49ff-9e6d-d363a6843f47",
   "metadata": {},
   "outputs": [],
   "source": [
    "# 파이썬 프로그램에서 시스템 브라우저를 호출할 때 사용하는 모듈이다."
   ]
  },
  {
   "cell_type": "code",
   "execution_count": 449,
   "id": "96f46d4c-b6df-41d5-8d70-69fece25a340",
   "metadata": {},
   "outputs": [
    {
     "data": {
      "text/plain": [
       "False"
      ]
     },
     "execution_count": 449,
     "metadata": {},
     "output_type": "execute_result"
    }
   ],
   "source": [
    "# webbrowser.open_new\n",
    "# 파이썬으로 웹 페이지를 새 창으로 열기\n",
    "import webbrowser\n",
    "webbrowser.open_new('http://python.org')"
   ]
  },
  {
   "cell_type": "code",
   "execution_count": 450,
   "id": "78570b99-ae93-446e-b391-8f313c5c8e96",
   "metadata": {},
   "outputs": [
    {
     "data": {
      "text/plain": [
       "False"
      ]
     },
     "execution_count": 450,
     "metadata": {},
     "output_type": "execute_result"
    }
   ],
   "source": [
    "# 이미 열린 브라우저로 원하는 사이트를 열고 싶다면 다음처럼 open_new() 대신 open()을 사용하면 된다.\n",
    "webbrowser.open('http://python.org')"
   ]
  }
 ],
 "metadata": {
  "kernelspec": {
   "display_name": "Python 3 (ipykernel)",
   "language": "python",
   "name": "python3"
  },
  "language_info": {
   "codemirror_mode": {
    "name": "ipython",
    "version": 3
   },
   "file_extension": ".py",
   "mimetype": "text/x-python",
   "name": "python",
   "nbconvert_exporter": "python",
   "pygments_lexer": "ipython3",
   "version": "3.8.10"
  }
 },
 "nbformat": 4,
 "nbformat_minor": 5
}
