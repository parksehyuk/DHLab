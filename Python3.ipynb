{
 "cells": [
  {
   "cell_type": "markdown",
   "id": "cf9da9fc-f157-4c1b-b1f5-bc05e47ea166",
   "metadata": {},
   "source": [
    "#### 3. Date Type I"
   ]
  },
  {
   "cell_type": "code",
   "execution_count": 1,
   "id": "361f36df-d6ba-414d-b8ec-fb15667ed5c2",
   "metadata": {},
   "outputs": [],
   "source": [
    "# 자료형\n",
    "# 프로그래밍에 쓰는 숫자, 문자열 등 자료 형태로 사용하는 모든 것이다."
   ]
  },
  {
   "cell_type": "markdown",
   "id": "572d4327-c374-4402-a37b-d53ed219a28e",
   "metadata": {},
   "source": [
    "#### 3-1. Number Type"
   ]
  },
  {
   "cell_type": "code",
   "execution_count": 2,
   "id": "00b57e1d-805d-498e-ad69-7afa8db838cf",
   "metadata": {},
   "outputs": [],
   "source": [
    "# 숫자형\n",
    "\n",
    "# 정수형, 실수형\n",
    "# 2E10 = 2 * 10^10\n",
    "# 2e-10 = 2* 10^-10"
   ]
  },
  {
   "cell_type": "markdown",
   "id": "370872f7-c583-4625-8e89-a290ab024e18",
   "metadata": {},
   "source": [
    "#### 3-2. 진법"
   ]
  },
  {
   "cell_type": "code",
   "execution_count": 3,
   "id": "52290b08-c32f-4fc0-b29e-2a2355de0b1b",
   "metadata": {},
   "outputs": [
    {
     "name": "stdout",
     "output_type": "stream",
     "text": [
      "127\n",
      "127\n"
     ]
    }
   ],
   "source": [
    "# 8진법\n",
    "# octal. 0o or 0O\n",
    "# 0o177 = 1*8^2 + 7*8^1 + 7 = 127\n",
    "\n",
    "print(0O177)\n",
    "print(0o177)"
   ]
  },
  {
   "cell_type": "code",
   "execution_count": 4,
   "id": "2b2c10da-c643-400d-a2d3-9fed2fbf50e8",
   "metadata": {},
   "outputs": [
    {
     "name": "stdout",
     "output_type": "stream",
     "text": [
      "2748\n",
      "2748\n"
     ]
    }
   ],
   "source": [
    "# 16진법\n",
    "# hexadecimal. 0x or 0X\n",
    "# 0xABC = 10*16^2 + 11*16^1 + 12 = 2748 (A=10, B=11, C=12)\n",
    "\n",
    "print(0XABC)\n",
    "print(0xABC)"
   ]
  },
  {
   "cell_type": "markdown",
   "id": "26042436-ca3f-4606-a046-6a5f1016f8db",
   "metadata": {},
   "source": [
    "#### 3-3. 숫자형 활용 연산자"
   ]
  },
  {
   "cell_type": "code",
   "execution_count": 5,
   "id": "004b3e69-6237-464f-9cab-3660141c5650",
   "metadata": {},
   "outputs": [
    {
     "name": "stdout",
     "output_type": "stream",
     "text": [
      "1024\n",
      "1\n",
      "1\n"
     ]
    }
   ],
   "source": [
    "# 숫자형 활용 연산자\n",
    "\n",
    "# **\n",
    "# 거듭제곱\n",
    "# x ** y = x^y\n",
    "print(2 ** 10)\n",
    "\n",
    "# %\n",
    "# 나눗셈의 나머지 값\n",
    "# 7 % 3 = 1\n",
    "print(7 % 3)\n",
    "\n",
    "# //\n",
    "# 나눗셈의 몫 값\n",
    "# 7 // 4 = 1\n",
    "print(7 // 4)"
   ]
  },
  {
   "cell_type": "markdown",
   "id": "67efbb22-5645-40d8-8cd3-7f7dfec4648a",
   "metadata": {},
   "source": [
    "#### 3-4. 복합 연산자"
   ]
  },
  {
   "cell_type": "code",
   "execution_count": 6,
   "id": "9cf660b2-62f6-433f-a322-875e1d4ad74e",
   "metadata": {},
   "outputs": [],
   "source": [
    "# +=\n",
    "\n",
    "# -=\n",
    "\n",
    "# *=\n",
    "\n",
    "# /=\n",
    "\n",
    "# //=\n",
    "\n",
    "# %=\n",
    "\n",
    "# **="
   ]
  },
  {
   "cell_type": "code",
   "execution_count": 7,
   "id": "8cec924e-f8c8-42a4-af2c-0c5301874708",
   "metadata": {},
   "outputs": [
    {
     "name": "stdout",
     "output_type": "stream",
     "text": [
      "3\n",
      "0\n",
      "3\n",
      "4.0\n",
      "5\n",
      "0\n",
      "7\n"
     ]
    }
   ],
   "source": [
    "# a = a + 1\n",
    "# a의 값을 1만큼 증가시킨다.\n",
    "# a + 1로 계산된 값을 다시 a에 대입한다.\n",
    "# 식에 의해 a의 값이 1만큼 증가된다.\n",
    "# 해당 표현식은 값을 증가시키기 위해 사용한다.\n",
    "\n",
    "# 둘은 완전히 동일한 기능.\n",
    "# a = a + 1\n",
    "# a += 1\n",
    "\n",
    "# +=\n",
    "a = 1\n",
    "a = a + 1\n",
    "a += 1\n",
    "print(a)\n",
    "\n",
    "# -=\n",
    "b = 2\n",
    "b = b - 1\n",
    "b -= 1\n",
    "print(b)\n",
    "\n",
    "# *=\n",
    "c = 3\n",
    "c = c * 1\n",
    "c *= 1\n",
    "print(c)\n",
    "\n",
    "# /=\n",
    "d = 4\n",
    "d = d / 1\n",
    "d /= 1\n",
    "print(d)\n",
    "\n",
    "# //=\n",
    "e = 5\n",
    "e = e // 1\n",
    "e //= 1\n",
    "print(e)\n",
    "\n",
    "# %=\n",
    "f = 6\n",
    "f = f % 1\n",
    "f %= 1\n",
    "print(f)\n",
    "\n",
    "# **=\n",
    "g = 7\n",
    "g = g ** 1\n",
    "g **= 1\n",
    "print(g)"
   ]
  }
 ],
 "metadata": {
  "kernelspec": {
   "display_name": "Python 3 (ipykernel)",
   "language": "python",
   "name": "python3"
  },
  "language_info": {
   "codemirror_mode": {
    "name": "ipython",
    "version": 3
   },
   "file_extension": ".py",
   "mimetype": "text/x-python",
   "name": "python",
   "nbconvert_exporter": "python",
   "pygments_lexer": "ipython3",
   "version": "3.8.10"
  }
 },
 "nbformat": 4,
 "nbformat_minor": 5
}
