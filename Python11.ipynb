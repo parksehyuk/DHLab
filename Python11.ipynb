{
 "cells": [
  {
   "cell_type": "markdown",
   "id": "5d031413-dca4-4c34-b65b-08155fddf01b",
   "metadata": {},
   "source": [
    "#### 11. Function"
   ]
  },
  {
   "cell_type": "code",
   "execution_count": 18,
   "id": "c7c26a69-d8a2-485d-9398-ec606909a6e4",
   "metadata": {},
   "outputs": [],
   "source": [
    "# 반복적으로 작성한 부분을 기능 단위의 함수로 분리해 흐름을 읽기 위해 사용한다."
   ]
  },
  {
   "cell_type": "markdown",
   "id": "1a59eca2-e557-4768-9a81-70dc5d4c13f4",
   "metadata": {},
   "source": [
    "#### 11-1. def & return"
   ]
  },
  {
   "cell_type": "code",
   "execution_count": 7,
   "id": "bb84ac1a-9c77-47d6-ba10-3a35e07a7fbc",
   "metadata": {
    "scrolled": true
   },
   "outputs": [],
   "source": [
    "# def\n",
    "# 함수를 정의할 때 사용하는 예약어이다.\n",
    "# 예약어란 프로그래밍 언어에서 이미 문법적인 용도로 사용하고 있는 단어이다."
   ]
  },
  {
   "cell_type": "code",
   "execution_count": 10,
   "id": "7e1399cc-9a9c-415e-8996-27eef20ee919",
   "metadata": {},
   "outputs": [],
   "source": [
    "# return\n",
    "# 함수에서 결과값을 반환할 때 사용하는 명령어이다."
   ]
  },
  {
   "cell_type": "code",
   "execution_count": 11,
   "id": "e99c9c2b-b4e2-4f0b-9899-c48733eaf564",
   "metadata": {},
   "outputs": [
    {
     "name": "stdout",
     "output_type": "stream",
     "text": [
      "3\n"
     ]
    }
   ],
   "source": [
    "a = 1\n",
    "b = 2\n",
    "def add(a, b):\n",
    "    return a + b\n",
    "print(add(a, b))"
   ]
  },
  {
   "cell_type": "markdown",
   "id": "cb3f81c9-9054-4bc1-bdc4-4d24f433d7f2",
   "metadata": {},
   "source": [
    "#### 11-2. Parameter and arguments"
   ]
  },
  {
   "cell_type": "code",
   "execution_count": 13,
   "id": "9ec86882-a20e-4b72-8466-3dd1f5995cee",
   "metadata": {},
   "outputs": [],
   "source": [
    "# parameter(매개변수)는 함수에 입력으로 전달된 값을 받는 변수이다.\n",
    "# arguments(인수)는 함수를 호출할 때 전달하는 입력값을 의미한다."
   ]
  },
  {
   "cell_type": "code",
   "execution_count": 16,
   "id": "66f3c3d7-6c7d-4f11-badb-139d80ebd051",
   "metadata": {},
   "outputs": [
    {
     "name": "stdout",
     "output_type": "stream",
     "text": [
      "3\n"
     ]
    }
   ],
   "source": [
    "# a, b is parameter\n",
    "# 1, 2 is arguments\n",
    "def add(a, b):\n",
    "    return a + b\n",
    "print(add(1, 2))"
   ]
  },
  {
   "cell_type": "markdown",
   "id": "b96dd6f8-4017-426d-aef7-fe512d66b1bd",
   "metadata": {},
   "source": [
    "#### 11-3. Form of function according to input and return value"
   ]
  },
  {
   "cell_type": "code",
   "execution_count": 19,
   "id": "d9c97d37-a193-4297-8c4d-9fa64e2b650f",
   "metadata": {},
   "outputs": [],
   "source": [
    "# 함수의 형태는 입력값과 리턴값의 존재 유무에 따라 4가지 유형으로 나뉜다."
   ]
  },
  {
   "cell_type": "code",
   "execution_count": 47,
   "id": "396bd841-8227-4166-9638-42d207648a25",
   "metadata": {},
   "outputs": [],
   "source": [
    "# normal function\n",
    "# input, result exsist"
   ]
  },
  {
   "cell_type": "code",
   "execution_count": 48,
   "id": "323a1af0-7b49-4f57-8d18-8063db220730",
   "metadata": {},
   "outputs": [
    {
     "name": "stdout",
     "output_type": "stream",
     "text": [
      "3\n"
     ]
    }
   ],
   "source": [
    "a = 1\n",
    "b = 2\n",
    "def add(a, b):\n",
    "    return a + b\n",
    "print(add(a, b))"
   ]
  },
  {
   "cell_type": "code",
   "execution_count": 49,
   "id": "6a15f50b-be80-4d70-b685-2dd893892594",
   "metadata": {},
   "outputs": [
    {
     "name": "stdout",
     "output_type": "stream",
     "text": [
      "HI\n"
     ]
    }
   ],
   "source": [
    "# no input function\n",
    "def say():\n",
    "    return 'HI'\n",
    "print(say())"
   ]
  },
  {
   "cell_type": "code",
   "execution_count": 50,
   "id": "19d7d747-4105-4ef2-9df0-58f271ab8728",
   "metadata": {},
   "outputs": [],
   "source": [
    "# no return function"
   ]
  },
  {
   "cell_type": "code",
   "execution_count": 45,
   "id": "2bccae7c-9f62-454a-b537-54dc7088f0e5",
   "metadata": {},
   "outputs": [],
   "source": [
    "# print는 함수의 구성 요소 중 하나인 수행할 문장에 해당하는 부분이다.\n",
    "# 리턴값은 오직 return 명령어로만 돌려받을 수 있다.\n",
    "# none이란 거짓을 나타내는 자료형이다.\n",
    "# none을 리턴한다는 것은 리턴값이 없다는 것이다.\n",
    "# 문자열을 출력한다는 것과 리턴값이 있다는 것은 다른 말이다."
   ]
  },
  {
   "cell_type": "code",
   "execution_count": 42,
   "id": "1126f51f-c111-4a07-876e-feb380e17ef5",
   "metadata": {},
   "outputs": [
    {
     "name": "stdout",
     "output_type": "stream",
     "text": [
      "1, 2 sum is 3.\n",
      "None\n"
     ]
    }
   ],
   "source": [
    "def add(a, b):\n",
    "    print(\"%d, %d sum is %d.\" % (a, b, a+b))\n",
    "a = add(1, 2)\n",
    "print(a)"
   ]
  },
  {
   "cell_type": "code",
   "execution_count": 54,
   "id": "c83da14e-b210-490a-8a1f-0f4dc3047e98",
   "metadata": {},
   "outputs": [],
   "source": [
    "# no input, no return function"
   ]
  },
  {
   "cell_type": "code",
   "execution_count": 53,
   "id": "64930da6-c444-4b8e-9de8-40b8d1cef2f4",
   "metadata": {},
   "outputs": [
    {
     "name": "stdout",
     "output_type": "stream",
     "text": [
      "HI\n"
     ]
    }
   ],
   "source": [
    "def say():\n",
    "    print('HI')\n",
    "say()"
   ]
  },
  {
   "cell_type": "markdown",
   "id": "c5ea90aa-9c82-4a13-a571-a2b27bd9b177",
   "metadata": {},
   "source": [
    "#### 11-4. Call by specifying parameter"
   ]
  },
  {
   "cell_type": "code",
   "execution_count": 1,
   "id": "bcfa1f21-54c8-4876-9f61-d7dedfd62eeb",
   "metadata": {},
   "outputs": [
    {
     "name": "stdout",
     "output_type": "stream",
     "text": [
      "-1\n"
     ]
    }
   ],
   "source": [
    "# 매개변수를 지정하여 함수를 호출하기\n",
    "def sub(a, b):\n",
    "    return a - b\n",
    "result = sub(a = 1, b = 2)\n",
    "print(result)"
   ]
  },
  {
   "cell_type": "code",
   "execution_count": 69,
   "id": "4298878d-6eb0-4a84-a59a-cb221519b523",
   "metadata": {},
   "outputs": [
    {
     "name": "stdout",
     "output_type": "stream",
     "text": [
      "-1\n"
     ]
    }
   ],
   "source": [
    "# 매개변수를 지정하면 순서에 상관없이 사용할 수 있다.\n",
    "def sub(a, b):\n",
    "    return a - b\n",
    "result = sub(b = 2, a = 1)\n",
    "print(result)"
   ]
  },
  {
   "cell_type": "code",
   "execution_count": 107,
   "id": "fafd8131-098e-4e40-8b15-264a9164f908",
   "metadata": {},
   "outputs": [],
   "source": [
    "# 입력값의 개수를 모를 때\n",
    "# 변수 이름 앞에 *을 붙이면 입력값을 전부 모아 튜플로 만들어 준다.\n",
    "# 따라서 입력값이 몇 개인지 상관 없다."
   ]
  },
  {
   "cell_type": "code",
   "execution_count": 2,
   "id": "e9adfaa6-6766-4906-8907-10a3e36a8cab",
   "metadata": {},
   "outputs": [
    {
     "name": "stdout",
     "output_type": "stream",
     "text": [
      "55\n"
     ]
    }
   ],
   "source": [
    "def add_many(*args):\n",
    "    result = 0\n",
    "    for i in args:\n",
    "        result = result + i\n",
    "    return result\n",
    "result = add_many(1, 2, 3, 4, 5, 6, 7, 8, 9, 10)\n",
    "print(result)"
   ]
  },
  {
   "cell_type": "code",
   "execution_count": 3,
   "id": "0842cbf3-d7ba-4b2e-b0b1-090d3a77d0f9",
   "metadata": {},
   "outputs": [
    {
     "name": "stdout",
     "output_type": "stream",
     "text": [
      "15\n",
      "120\n"
     ]
    }
   ],
   "source": [
    "def add_mul(choice, *args):\n",
    "    if choice == 'add':\n",
    "        result = 0\n",
    "        for i in args:\n",
    "            result = result + i\n",
    "    elif choice == 'mul':\n",
    "        result = 1\n",
    "        for i in args:\n",
    "            result = result * i\n",
    "    return result\n",
    "    \n",
    "result = add_mul('add', 1, 2, 3, 4, 5)\n",
    "print(result)\n",
    "\n",
    "result = add_mul('mul', 1, 2, 3, 4, 5)\n",
    "print(result)"
   ]
  },
  {
   "cell_type": "markdown",
   "id": "2e57aa76-cce4-4f06-b152-b9c520c1782c",
   "metadata": {},
   "source": [
    "#### 11-5. Keyword parameter"
   ]
  },
  {
   "cell_type": "code",
   "execution_count": 4,
   "id": "4cd4cb7a-94d4-4934-b809-bd931ad54ea1",
   "metadata": {},
   "outputs": [],
   "source": [
    "# kwarg\n",
    "# keyword arguments\n",
    "# 매개변수 이름 앞에 **을 붙이면 매개변수 kwargs는 딕셔너리가 된다."
   ]
  },
  {
   "cell_type": "code",
   "execution_count": 5,
   "id": "99a33243-5a84-4892-bc60-1079957dd6a4",
   "metadata": {},
   "outputs": [
    {
     "name": "stdout",
     "output_type": "stream",
     "text": [
      "{'a': 1, 'name': 'foo', 'age': 25}\n"
     ]
    }
   ],
   "source": [
    "def print_kwargs(**kwargs):\n",
    "    print(kwargs)\n",
    "print_kwargs(a = 1, name = 'foo', age = 25)"
   ]
  },
  {
   "cell_type": "markdown",
   "id": "687f8d92-a38d-459c-9ba9-b27490969a42",
   "metadata": {},
   "source": [
    "#### 11-6. Function result is always one"
   ]
  },
  {
   "cell_type": "code",
   "execution_count": 123,
   "id": "b75f373a-2798-4f05-af53-4df2c39f1aec",
   "metadata": {},
   "outputs": [
    {
     "name": "stdout",
     "output_type": "stream",
     "text": [
      "(7, 12)\n"
     ]
    }
   ],
   "source": [
    "# 두개의 리턴값은 하나의 tuple 값으로 리턴된다.\n",
    "def add_and_mul(a, b):\n",
    "    return a + b, a * b\n",
    "result = add_and_mul(3, 4)\n",
    "print(result)"
   ]
  },
  {
   "cell_type": "code",
   "execution_count": 122,
   "id": "d1179498-108a-4d55-a1ae-8781c1cb020f",
   "metadata": {},
   "outputs": [
    {
     "name": "stdout",
     "output_type": "stream",
     "text": [
      "7\n",
      "12\n"
     ]
    }
   ],
   "source": [
    "# 하나의 튜플 값을 2개의 값으로 분리하여 리턴할 수 있다.\n",
    "result1, result2 = add_and_mul(3, 4)\n",
    "print(result1)\n",
    "print(result2)"
   ]
  },
  {
   "cell_type": "code",
   "execution_count": 124,
   "id": "8d58282d-d01c-442e-81d0-65d05f481c54",
   "metadata": {},
   "outputs": [
    {
     "name": "stdout",
     "output_type": "stream",
     "text": [
      "7\n"
     ]
    }
   ],
   "source": [
    "# 두개의 return을 작성하더라도 두번째 return은 실행되지 않는다.\n",
    "# 함수는 return을 만나는 순간, 리턴값을 돌려 준 후 함수를 빠져나간다.\n",
    "def add_and_mul(a, b):\n",
    "    return a + b\n",
    "    return a * b\n",
    "result = add_and_mul(3, 4)\n",
    "print(result)"
   ]
  },
  {
   "cell_type": "code",
   "execution_count": 6,
   "id": "ddd8ce10-45a1-4c0d-acad-c11a57c337aa",
   "metadata": {},
   "outputs": [],
   "source": [
    "# 리턴값이 없는 함수에서 return을 단독으로 사용하여 함수를 즉시 빠져나가기\n",
    "def say(david):\n",
    "    if david == 'fool':\n",
    "        return\n",
    "    print('my name is %s' % david)"
   ]
  },
  {
   "cell_type": "code",
   "execution_count": 7,
   "id": "2755a324-79fa-4ddd-b307-d2399752b294",
   "metadata": {},
   "outputs": [
    {
     "name": "stdout",
     "output_type": "stream",
     "text": [
      "my name is idiot\n",
      "None\n"
     ]
    }
   ],
   "source": [
    "# 입력값으로 fool이 들어오지 않는 경우 문자열을 출력한다.\n",
    "result = say('idiot')\n",
    "print(result)"
   ]
  },
  {
   "cell_type": "code",
   "execution_count": 158,
   "id": "b53dd153-cbb7-4589-af35-367af499a3d0",
   "metadata": {},
   "outputs": [
    {
     "name": "stdout",
     "output_type": "stream",
     "text": [
      "None\n"
     ]
    }
   ],
   "source": [
    "# 입력값으로 fool이 들어온 경우 문자열을 출력하지 않고 즉시 함수를 빠져나간다.\n",
    "result = say('fool')\n",
    "print(result)"
   ]
  },
  {
   "cell_type": "markdown",
   "id": "67cc3c69-9dc3-4f7b-8dd4-e4346917234f",
   "metadata": {},
   "source": [
    "#### 11-7. Preset initial value for parameter"
   ]
  },
  {
   "cell_type": "code",
   "execution_count": 14,
   "id": "a8e9d917-1e3c-4bfc-ab12-ed28b7fa7b55",
   "metadata": {},
   "outputs": [
    {
     "name": "stdout",
     "output_type": "stream",
     "text": [
      "my name is sehyuk.\n",
      "I'm 25 years old.\n",
      "I'm a man'\n"
     ]
    }
   ],
   "source": [
    "def say_myself(name, age, man=True): \n",
    "    print(\"my name is %s.\" % name) \n",
    "    print(\"I\\'m %d years old.\" % age) \n",
    "    if man: \n",
    "        print(\"I\\'m a man'\")\n",
    "    else: \n",
    "        print(\"I\\'m a woman'\")\n",
    "result = say_myself('sehyuk', 25, True)"
   ]
  },
  {
   "cell_type": "code",
   "execution_count": 153,
   "id": "7924bda9-f65c-4eb6-af55-cc9fd1e0302f",
   "metadata": {},
   "outputs": [
    {
     "name": "stdout",
     "output_type": "stream",
     "text": [
      "my name is sehyuk.\n",
      "I'm 25 years old.\n",
      "I'm a man'\n"
     ]
    }
   ],
   "source": [
    "# man 변수에 입력값을 주지 않는다면, 초깃값 True를 갖게 된다.\n",
    "result = say_myself('sehyuk', 25)"
   ]
  },
  {
   "cell_type": "code",
   "execution_count": 8,
   "id": "4689d2ec-03fd-496f-979d-05e1362df6ad",
   "metadata": {},
   "outputs": [
    {
     "ename": "SyntaxError",
     "evalue": "non-default argument follows default argument (67552144.py, line 3)",
     "output_type": "error",
     "traceback": [
      "\u001b[0;36m  Cell \u001b[0;32mIn[8], line 3\u001b[0;36m\u001b[0m\n\u001b[0;31m    def say_myself(name, man=True, age):\u001b[0m\n\u001b[0m                   ^\u001b[0m\n\u001b[0;31mSyntaxError\u001b[0m\u001b[0;31m:\u001b[0m non-default argument follows default argument\n"
     ]
    }
   ],
   "source": [
    "# 초기값이 없는 매개변수(age)는 초기값이 있는 매개변수(man) 뒤에 사용할 수 없다.\n",
    "# 초기화하고 싶은 매개변수는 항상 뒤쪽에 놓아야 하기 때문에 오류가 발생한다.\n",
    "def say_myself(name, man=True, age): \n",
    "    print(\"my name is %s.\" % name) \n",
    "    print(\"I\\'m %d years old.\" % age) \n",
    "    if man: \n",
    "        print(\"I\\'m a man'\")\n",
    "    else: \n",
    "        print(\"I\\'m a woman'\")\n",
    "result = say_myself('sehyuk', 25, True)"
   ]
  },
  {
   "cell_type": "markdown",
   "id": "bf706bd2-1388-482a-b308-5b919152e33d",
   "metadata": {},
   "source": [
    "#### 11-8. Scope of variables declared within a function"
   ]
  },
  {
   "cell_type": "code",
   "execution_count": 159,
   "id": "b03806f0-21df-4e6d-a123-cf39453084b3",
   "metadata": {},
   "outputs": [],
   "source": [
    "# 함수 안에서 사용하는 매개변수는 함수 안에서만 사용하는 ‘함수만의 변수’이다.\n",
    "# 입력값을 전달받는 매개변수 a는 함수 밖의 변수 a와는 전혀 상관없다."
   ]
  },
  {
   "cell_type": "code",
   "execution_count": 176,
   "id": "f2709b3e-38bc-4130-a7e0-1b46d5320c5c",
   "metadata": {},
   "outputs": [
    {
     "name": "stdout",
     "output_type": "stream",
     "text": [
      "None\n",
      "1\n"
     ]
    }
   ],
   "source": [
    "# 매개변수 a의 값에 1을 더했지만 2가 출력되지 않고 변수에 대입한 값 1이 나온다.\n",
    "a = 1\n",
    "def asdf(a):\n",
    "    a = a + 1\n",
    "print(asdf(a))\n",
    "print(a)"
   ]
  },
  {
   "cell_type": "code",
   "execution_count": 177,
   "id": "adc369b7-d85b-4df6-9dd7-ef0dfc8a3996",
   "metadata": {},
   "outputs": [
    {
     "name": "stdout",
     "output_type": "stream",
     "text": [
      "None\n",
      "1\n"
     ]
    }
   ],
   "source": [
    "print(asdf(3))\n",
    "print(a)"
   ]
  },
  {
   "cell_type": "code",
   "execution_count": 179,
   "id": "e5a4b58c-ecda-4125-a4b4-c557b4f2b7ee",
   "metadata": {},
   "outputs": [
    {
     "ename": "NameError",
     "evalue": "name 'x' is not defined",
     "output_type": "error",
     "traceback": [
      "\u001b[0;31m---------------------------------------------------------------------------\u001b[0m",
      "\u001b[0;31mNameError\u001b[0m                                 Traceback (most recent call last)",
      "Cell \u001b[0;32mIn[179], line 4\u001b[0m\n\u001b[1;32m      2\u001b[0m \u001b[38;5;28;01mdef\u001b[39;00m \u001b[38;5;21masdf\u001b[39m(x):\n\u001b[1;32m      3\u001b[0m     x \u001b[38;5;241m=\u001b[39m x \u001b[38;5;241m+\u001b[39m \u001b[38;5;241m1\u001b[39m\n\u001b[0;32m----> 4\u001b[0m asdf(\u001b[43mx\u001b[49m)\n\u001b[1;32m      5\u001b[0m \u001b[38;5;28mprint\u001b[39m(x)\n",
      "\u001b[0;31mNameError\u001b[0m: name 'x' is not defined"
     ]
    }
   ],
   "source": [
    "# x 변수는 어디에도 선언되지 않았기에 오류가 발생한다.\n",
    "def asdf(x):\n",
    "    x = x + 1\n",
    "asdf(x)\n",
    "print(x)"
   ]
  },
  {
   "cell_type": "markdown",
   "id": "23fd02b3-7b03-406a-8d7b-425fce25e617",
   "metadata": {},
   "source": [
    "#### 11-9. Vartest function"
   ]
  },
  {
   "cell_type": "code",
   "execution_count": 11,
   "id": "94eb1f82-e7b5-4340-a171-49d3f60e8931",
   "metadata": {},
   "outputs": [],
   "source": [
    "# 함수 안에서 함수 밖의 변수를 변경하기"
   ]
  },
  {
   "cell_type": "code",
   "execution_count": 12,
   "id": "17c075d0-a5f2-40b3-822d-78442592e306",
   "metadata": {},
   "outputs": [
    {
     "name": "stdout",
     "output_type": "stream",
     "text": [
      "2\n"
     ]
    }
   ],
   "source": [
    "# return\n",
    "a = 1\n",
    "def vartest(a):\n",
    "    a = a + 1\n",
    "    return a\n",
    "a = vartest(a)\n",
    "print(a)"
   ]
  },
  {
   "cell_type": "code",
   "execution_count": 13,
   "id": "794d6010-f52b-407f-bae5-41f75e0ba201",
   "metadata": {},
   "outputs": [
    {
     "name": "stdout",
     "output_type": "stream",
     "text": [
      "2\n"
     ]
    }
   ],
   "source": [
    "# global\n",
    "# 함수는 독립적으로 존재하는 것이 좋기 때문에, global 명령어는 사용하지 않는 것이 좋다.\n",
    "# 외부 변수에 종속적인 함수는 그다지 좋은 함수가 아니다.\n",
    "a = 1\n",
    "def vartest():\n",
    "    global a\n",
    "    a = a+1\n",
    "vartest()\n",
    "print(a)"
   ]
  },
  {
   "cell_type": "markdown",
   "id": "fded1199-3c18-4cb5-851f-02b5de8bb595",
   "metadata": {},
   "source": [
    "#### 11-10. lambda"
   ]
  },
  {
   "cell_type": "code",
   "execution_count": 189,
   "id": "e05e8c01-1bfb-41f8-b40f-c446466504f9",
   "metadata": {},
   "outputs": [],
   "source": [
    "# reserved word (예약어)\n",
    "# def와 동일한 역할을 한다.\n",
    "# def를 사용해야 할 정도로 복잡하지 않거나 함수를 한줄로 간결하게 만들 때 사용한다."
   ]
  },
  {
   "cell_type": "code",
   "execution_count": 190,
   "id": "22611edd-b0b1-4888-8c3b-5b51e0fb9e43",
   "metadata": {},
   "outputs": [
    {
     "name": "stdout",
     "output_type": "stream",
     "text": [
      "7\n"
     ]
    }
   ],
   "source": [
    "add = lambda a, b: a + b\n",
    "result = add(3, 4)\n",
    "print(result)"
   ]
  }
 ],
 "metadata": {
  "kernelspec": {
   "display_name": "Python 3 (ipykernel)",
   "language": "python",
   "name": "python3"
  },
  "language_info": {
   "codemirror_mode": {
    "name": "ipython",
    "version": 3
   },
   "file_extension": ".py",
   "mimetype": "text/x-python",
   "name": "python",
   "nbconvert_exporter": "python",
   "pygments_lexer": "ipython3",
   "version": "3.8.10"
  }
 },
 "nbformat": 4,
 "nbformat_minor": 5
}
