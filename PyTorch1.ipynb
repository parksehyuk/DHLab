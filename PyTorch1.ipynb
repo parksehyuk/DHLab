{
 "cells": [
  {
   "cell_type": "markdown",
   "id": "cf4e87d6-3778-4ddc-8aa2-603f073068f5",
   "metadata": {},
   "source": [
    "#### 1. PyTorch I"
   ]
  },
  {
   "cell_type": "code",
   "execution_count": null,
   "id": "9bdb32c1-526b-49b7-a17d-494d1d1bc413",
   "metadata": {},
   "outputs": [],
   "source": [
    "# Torch 및 Caffe2를 기반으로 한 파이썬 딥러닝 라이브러리이다."
   ]
  },
  {
   "cell_type": "code",
   "execution_count": 102,
   "id": "80745ee6-482b-45c3-acb1-0f89e83618e1",
   "metadata": {},
   "outputs": [],
   "source": [
    "# 텐서 vs. NumPy 배열\n",
    "# 텐서: GPU 연산, 자동 미분 지원.\n",
    "# NumPy: CPU 기반 연산만 가능.\n",
    "# PyTorch의 텐서는 NumPy보다 더 강력한 기능을 제공하며, 딥러닝 및 대규모 데이터 연산에 적합합니다.\n",
    "# 딥러닝에서 텐서의 역할\n",
    "# 입력 데이터(이미지, 텍스트 등)를 표현, 모델의 가중치와 편향을 저장, 연산 결과(출력)를 계산.\n",
    "# 이미지 데이터를 모델에 넣으면 이는 고차원 텐서로 표현된다."
   ]
  },
  {
   "cell_type": "code",
   "execution_count": 52,
   "id": "99121a15-28b1-46e4-a771-6a660c7df234",
   "metadata": {
    "scrolled": true
   },
   "outputs": [
    {
     "name": "stdout",
     "output_type": "stream",
     "text": [
      "True\n"
     ]
    }
   ],
   "source": [
    "# GPU 사용 가능 여부 확인\n",
    "import torch\n",
    "print(torch.cuda.is_available())"
   ]
  },
  {
   "cell_type": "markdown",
   "id": "1b6b3cf4-8250-4d30-9cc6-95c74187b257",
   "metadata": {},
   "source": [
    "#### 1-1. torch 생성"
   ]
  },
  {
   "cell_type": "code",
   "execution_count": 3,
   "id": "1b553d2e-60a1-449d-b884-99f396f2709c",
   "metadata": {},
   "outputs": [
    {
     "name": "stdout",
     "output_type": "stream",
     "text": [
      "tensor([[0., 0., 0.],\n",
      "        [0., 0., 0.]])\n"
     ]
    }
   ],
   "source": [
    "# 모든 값이 0인 텐서\n",
    "zeros = torch.zeros((2, 3))\n",
    "print(zeros)"
   ]
  },
  {
   "cell_type": "code",
   "execution_count": 4,
   "id": "f8cd6ba3-51b0-4b78-8c61-8922c5f24a49",
   "metadata": {},
   "outputs": [
    {
     "name": "stdout",
     "output_type": "stream",
     "text": [
      "tensor([[1., 1., 1.],\n",
      "        [1., 1., 1.],\n",
      "        [1., 1., 1.]])\n"
     ]
    }
   ],
   "source": [
    "# 모든 값이 1인 텐서\n",
    "ones = torch.ones((3, 3))\n",
    "print(ones)"
   ]
  },
  {
   "cell_type": "code",
   "execution_count": 5,
   "id": "f36e7d2c-34d5-4cdc-b567-3f2b9a14cefb",
   "metadata": {},
   "outputs": [
    {
     "name": "stdout",
     "output_type": "stream",
     "text": [
      "tensor([[0.3536, 0.8030],\n",
      "        [0.8829, 0.0534],\n",
      "        [0.7438, 0.9064],\n",
      "        [0.3665, 0.0901]])\n"
     ]
    }
   ],
   "source": [
    "# 임의의 값으로 초기화된 텐서\n",
    "random_tensor = torch.rand((4, 2))\n",
    "print(random_tensor)"
   ]
  },
  {
   "cell_type": "code",
   "execution_count": 6,
   "id": "1b990b86-e4ff-4ed3-b064-06c729d63465",
   "metadata": {},
   "outputs": [
    {
     "name": "stdout",
     "output_type": "stream",
     "text": [
      "tensor([0, 1, 2, 3, 4, 5, 6, 7, 8, 9])\n"
     ]
    }
   ],
   "source": [
    "# 0부터 9까지 범위의 값 생성\n",
    "range_tensor = torch.arange(0, 10)\n",
    "print(range_tensor)"
   ]
  },
  {
   "cell_type": "code",
   "execution_count": 7,
   "id": "178c5559-4fb4-4c18-9e29-51ce7a922de4",
   "metadata": {},
   "outputs": [
    {
     "name": "stdout",
     "output_type": "stream",
     "text": [
      "tensor([1, 2, 3, 4, 5])\n"
     ]
    }
   ],
   "source": [
    "# 1D tensor (vector)\n",
    "print(torch.tensor([1, 2, 3, 4, 5]))"
   ]
  },
  {
   "cell_type": "code",
   "execution_count": 8,
   "id": "c60beb68-ad50-412c-9fb8-dde903dda4fe",
   "metadata": {},
   "outputs": [
    {
     "name": "stdout",
     "output_type": "stream",
     "text": [
      "tensor([[1, 2],\n",
      "        [3, 4],\n",
      "        [5, 6]])\n"
     ]
    }
   ],
   "source": [
    "# 2D tensor (procession)(행렬)\n",
    "print(torch.tensor([[1, 2], [3, 4], [5, 6]]))"
   ]
  },
  {
   "cell_type": "code",
   "execution_count": 9,
   "id": "1b8ea231-a90a-4f5b-8a73-b179fd1e36f5",
   "metadata": {},
   "outputs": [
    {
     "name": "stdout",
     "output_type": "stream",
     "text": [
      "tensor([[1, 2],\n",
      "        [3, 4]], device='cuda:0')\n"
     ]
    }
   ],
   "source": [
    "# device\n",
    "# GPU 또는 CPU\n",
    "# GPU가 없다면 오류가 발생한다.\n",
    "print(torch.tensor([[1, 2], [3, 4]], device = 'cuda:0'))"
   ]
  },
  {
   "cell_type": "code",
   "execution_count": 55,
   "id": "bfd18af3-cd9f-4d96-b339-8a82f1ed0a38",
   "metadata": {},
   "outputs": [
    {
     "name": "stdout",
     "output_type": "stream",
     "text": [
      "tensor([[1., 2.],\n",
      "        [3., 4.]], dtype=torch.float64)\n"
     ]
    }
   ],
   "source": [
    "# dtype\n",
    "# 데이터 타입\n",
    "# float64\n",
    "# 기본적인 실수형 데이터 타입으로 64비트 부동소수점 실수이다.\n",
    "print(torch.tensor([[1, 2], [3, 4]], dtype = torch.float64))"
   ]
  },
  {
   "cell_type": "markdown",
   "id": "bc33e332-f961-4a3e-a28f-9da675aadcbf",
   "metadata": {},
   "source": [
    "#### 1-2. numpy로 변환"
   ]
  },
  {
   "cell_type": "code",
   "execution_count": 11,
   "id": "fa9c99bb-8b09-42fa-9ba5-5c804e7d8589",
   "metadata": {},
   "outputs": [
    {
     "name": "stdout",
     "output_type": "stream",
     "text": [
      "tensor([1, 2, 3])\n"
     ]
    }
   ],
   "source": [
    "# NumPy array (배열)\n",
    "import numpy as np\n",
    "np_array = np.array([1, 2, 3])\n",
    "tensor_from_np = torch.from_numpy(np_array)\n",
    "print(tensor_from_np)"
   ]
  },
  {
   "cell_type": "code",
   "execution_count": 12,
   "id": "7cc17010-398c-4f03-a968-91e3d5c309a8",
   "metadata": {},
   "outputs": [
    {
     "name": "stdout",
     "output_type": "stream",
     "text": [
      "[[1 2]\n",
      " [3 4]]\n"
     ]
    }
   ],
   "source": [
    "temp = torch.tensor([[1, 2], [3, 4]])\n",
    "print(temp.numpy())"
   ]
  },
  {
   "cell_type": "code",
   "execution_count": 13,
   "id": "c16ee31b-efd0-41de-ac53-f55fcbdef3bf",
   "metadata": {},
   "outputs": [
    {
     "name": "stdout",
     "output_type": "stream",
     "text": [
      "[[1 2]\n",
      " [3 4]]\n"
     ]
    }
   ],
   "source": [
    "# 연산이 이루어질 장치 지정\n",
    "# cuda는 nvidia의 gpu에서 병렬 처리를 할 수 있도록 도와주는 병렬 컴퓨팅 플랫폼이다.\n",
    "temp = torch.tensor([[1, 2], [3, 4]], device = 'cuda:0')\n",
    "temp = torch.tensor([[1, 2], [3, 4]], device = 'cpu:0')\n",
    "print(temp.to('cpu').numpy())"
   ]
  },
  {
   "cell_type": "markdown",
   "id": "6fdc6886-47dd-426d-bfee-1777883eef64",
   "metadata": {},
   "source": [
    "#### 1-3. slicing"
   ]
  },
  {
   "cell_type": "code",
   "execution_count": 54,
   "id": "29d1869b-bcb0-4f56-9578-78daacb725c2",
   "metadata": {},
   "outputs": [
    {
     "name": "stdout",
     "output_type": "stream",
     "text": [
      "tensor(1.) tensor(2.) tensor(10.)\n",
      "tensor([3., 4., 5.]) tensor([5., 6., 7., 8., 9.])\n"
     ]
    }
   ],
   "source": [
    "temp = torch.Tensor([1, 2, 3, 4, 5, 6, 7, 8, 9, 10])\n",
    "print(temp[0], temp[1], temp[-1])\n",
    "print(temp[2:5], temp[4:-1])"
   ]
  },
  {
   "cell_type": "markdown",
   "id": "c64d2b6b-6731-405b-bc30-606a216de926",
   "metadata": {},
   "source": [
    "#### 1-4. calculation"
   ]
  },
  {
   "cell_type": "code",
   "execution_count": 15,
   "id": "093513dd-dc4c-464f-bd8d-817372b0bb39",
   "metadata": {},
   "outputs": [
    {
     "name": "stdout",
     "output_type": "stream",
     "text": [
      "tensor([4, 6, 9])\n",
      "tensor([2, 2, 3])\n",
      "tensor([4, 5, 7])\n"
     ]
    }
   ],
   "source": [
    "# 덧셈과 뺄셈\n",
    "w = torch.tensor([3, 4, 6])\n",
    "v = torch.tensor([1, 2, 3])\n",
    "print(w + v)\n",
    "print(w - v)\n",
    "print(w + 1)"
   ]
  },
  {
   "cell_type": "code",
   "execution_count": 16,
   "id": "981b01fb-d4f6-4456-955c-b6453c1037cc",
   "metadata": {},
   "outputs": [
    {
     "name": "stdout",
     "output_type": "stream",
     "text": [
      "tensor([[19, 22],\n",
      "        [43, 50]])\n",
      "tensor([[ 5, 12],\n",
      "        [21, 32]])\n"
     ]
    }
   ],
   "source": [
    "# 행렬 연산\n",
    "x = torch.tensor([[1, 2], [3, 4]])\n",
    "y = torch.tensor([[5, 6], [7, 8]])\n",
    "\n",
    "# 행렬 곱셈\n",
    "print(torch.matmul(x, y))\n",
    "\n",
    "# 요소별 곱셈\n",
    "print(x * y)"
   ]
  },
  {
   "cell_type": "code",
   "execution_count": 17,
   "id": "2bdd7ff2-9894-4af1-9e9a-52c880362499",
   "metadata": {},
   "outputs": [
    {
     "name": "stdout",
     "output_type": "stream",
     "text": [
      "cuda:0\n"
     ]
    }
   ],
   "source": [
    "# 텐서를 gpu로 이동시켜 gpu 연산\n",
    "# 텐서를 GPU로 이동\n",
    "tensor = x\n",
    "tensor_gpu = tensor.to('cuda')\n",
    "print(tensor_gpu.device)"
   ]
  },
  {
   "cell_type": "code",
   "execution_count": 18,
   "id": "274a066a-4b9a-4606-b2cc-fd44a8d88dd7",
   "metadata": {},
   "outputs": [
    {
     "name": "stdout",
     "output_type": "stream",
     "text": [
      "tensor(4.)\n"
     ]
    }
   ],
   "source": [
    "# 자동 미분\n",
    "# 텐서는 자동 미분을 지원하여 딥러닝 모델의 학습에 사용된다.\n",
    "x = torch.tensor(2.0, requires_grad = True)\n",
    "y = x ** 2\n",
    "# 역전파 계산\n",
    "y.backward()\n",
    "# dy/dx = 2x\n",
    "print(x.grad)"
   ]
  },
  {
   "cell_type": "markdown",
   "id": "b239dc40-1473-4c8c-a3aa-232bf638059c",
   "metadata": {},
   "source": [
    "#### 1-5. 텐서 모양과 모양 바꾸기"
   ]
  },
  {
   "cell_type": "code",
   "execution_count": 19,
   "id": "ee535edb-7851-4a25-9976-4f0ceda2d677",
   "metadata": {},
   "outputs": [],
   "source": [
    "temp = torch.tensor([[1, 2], [3, 4]])"
   ]
  },
  {
   "cell_type": "code",
   "execution_count": 20,
   "id": "72bd5f73-3f54-4e77-a125-e835268ccb2d",
   "metadata": {},
   "outputs": [
    {
     "name": "stdout",
     "output_type": "stream",
     "text": [
      "torch.Size([2, 2])\n"
     ]
    }
   ],
   "source": [
    "# 텐서의 크기\n",
    "print(temp.shape)"
   ]
  },
  {
   "cell_type": "code",
   "execution_count": 21,
   "id": "0704e9e6-1df3-4d0d-a7af-fb3c40c2df79",
   "metadata": {},
   "outputs": [
    {
     "name": "stdout",
     "output_type": "stream",
     "text": [
      "tensor([[1],\n",
      "        [2],\n",
      "        [3],\n",
      "        [4]])\n"
     ]
    }
   ],
   "source": [
    "print(temp.reshape(4, 1))"
   ]
  },
  {
   "cell_type": "code",
   "execution_count": 22,
   "id": "ecb3cd65-989c-43e5-bed7-1ffb01933959",
   "metadata": {},
   "outputs": [
    {
     "name": "stdout",
     "output_type": "stream",
     "text": [
      "tensor([1, 2, 3, 4])\n"
     ]
    }
   ],
   "source": [
    "print(temp.reshape(-1))"
   ]
  },
  {
   "cell_type": "code",
   "execution_count": 23,
   "id": "c98903d6-4475-4716-9718-e187cfdfe7b7",
   "metadata": {},
   "outputs": [
    {
     "name": "stdout",
     "output_type": "stream",
     "text": [
      "tensor([[1, 2, 3, 4]])\n"
     ]
    }
   ],
   "source": [
    "print(temp.reshape(1, -1))"
   ]
  },
  {
   "cell_type": "code",
   "execution_count": 24,
   "id": "49af2120-2104-425e-b04e-3f748274ec80",
   "metadata": {},
   "outputs": [
    {
     "name": "stdout",
     "output_type": "stream",
     "text": [
      "tensor([[1],\n",
      "        [2],\n",
      "        [3],\n",
      "        [4]])\n"
     ]
    }
   ],
   "source": [
    "print(temp.reshape(-1, 1))"
   ]
  },
  {
   "cell_type": "code",
   "execution_count": 56,
   "id": "71994f64-30c9-4452-a756-4938c62071fd",
   "metadata": {},
   "outputs": [],
   "source": [
    "# 1.원소가 [1, 2, 3, 4, 5, 6] 인 Tensor 생성하기.\n",
    "ex_tensor = torch.Tensor([1, 2, 3, 4, 5, 6])"
   ]
  },
  {
   "cell_type": "code",
   "execution_count": 26,
   "id": "c2a02074-798e-48c6-84ac-90f270b887fb",
   "metadata": {},
   "outputs": [
    {
     "name": "stdout",
     "output_type": "stream",
     "text": [
      "tensor([[1., 2., 3.],\n",
      "        [4., 5., 6.]])\n"
     ]
    }
   ],
   "source": [
    "# 2.해당 Tensor의 모양을 (2,3)으로 바꾸기.\n",
    "print(ex_tensor.reshape(2, 3))"
   ]
  },
  {
   "cell_type": "code",
   "execution_count": 27,
   "id": "12bbe26f-dbe8-44b7-b8cf-bb26f27c79d8",
   "metadata": {},
   "outputs": [
    {
     "name": "stdout",
     "output_type": "stream",
     "text": [
      "tensor([ 6.,  7.,  8.,  9., 10., 11.])\n"
     ]
    }
   ],
   "source": [
    "# 3.해당 Tensor의 모든 원소에 5를 더하기.\n",
    "print(ex_tensor + 5)"
   ]
  },
  {
   "cell_type": "code",
   "execution_count": 28,
   "id": "939554bc-e01c-4974-a627-807aa9c6d563",
   "metadata": {},
   "outputs": [
    {
     "name": "stdout",
     "output_type": "stream",
     "text": [
      "tensor([2., 3., 4.])\n"
     ]
    }
   ],
   "source": [
    "# 4.해당 Tensor에서 [2,3,4] 만을 가진 Tensor를 슬라이싱하기.\n",
    "print(ex_tensor[1:4])"
   ]
  },
  {
   "cell_type": "markdown",
   "id": "165d34f9-1896-41e8-abe8-3988f889eed2",
   "metadata": {},
   "source": [
    "#### 1-6. 텐서 차원 다루기"
   ]
  },
  {
   "cell_type": "code",
   "execution_count": 29,
   "id": "898cea13-2d8a-4ee1-9477-709b7f21578b",
   "metadata": {},
   "outputs": [
    {
     "name": "stdout",
     "output_type": "stream",
     "text": [
      "tensor([[1., 2.],\n",
      "        [3., 4.]])\n"
     ]
    }
   ],
   "source": [
    "print(torch.Tensor([1, 2, 3, 4]).reshape(2, 2))"
   ]
  },
  {
   "cell_type": "code",
   "execution_count": 57,
   "id": "9e3e6aa7-9147-4ee6-aa86-e8e82067fd1a",
   "metadata": {},
   "outputs": [
    {
     "name": "stdout",
     "output_type": "stream",
     "text": [
      "tensor([1., 2., 3., 4., 5., 6.])\n"
     ]
    }
   ],
   "source": [
    "print(torch.Tensor([[1, 2, 3], [4, 5, 6]]).reshape(-1))"
   ]
  },
  {
   "cell_type": "code",
   "execution_count": 31,
   "id": "353d49b6-0f69-4bcd-a484-d4187d6d7552",
   "metadata": {},
   "outputs": [
    {
     "name": "stdout",
     "output_type": "stream",
     "text": [
      "tensor([1., 4., 2., 5., 3., 6.])\n"
     ]
    }
   ],
   "source": [
    "print(torch.Tensor([[1, 4], [2, 5], [3, 6]]).reshape(-1))"
   ]
  },
  {
   "cell_type": "code",
   "execution_count": 32,
   "id": "10040be8-9c0c-4201-9d8f-840b86112525",
   "metadata": {},
   "outputs": [
    {
     "name": "stdout",
     "output_type": "stream",
     "text": [
      "tensor([[1., 2., 3., 4.],\n",
      "        [1., 2., 3., 4.]])\n"
     ]
    }
   ],
   "source": [
    "print(torch.stack([torch.Tensor([1, 2, 3, 4]), torch.Tensor([1, 2, 3, 4])]))"
   ]
  },
  {
   "cell_type": "code",
   "execution_count": 58,
   "id": "e8644efe-69a6-49b2-8035-bf30a79f3ba3",
   "metadata": {},
   "outputs": [
    {
     "name": "stdout",
     "output_type": "stream",
     "text": [
      "tensor([1., 2., 3., 4., 1., 2., 3., 4.])\n"
     ]
    }
   ],
   "source": [
    "print(torch.cat([torch.Tensor([1, 2, 3, 4]), torch.Tensor([1, 2, 3, 4])]))"
   ]
  },
  {
   "cell_type": "code",
   "execution_count": 59,
   "id": "4cc44d77-c147-4b9e-81d5-22b12ab3b912",
   "metadata": {},
   "outputs": [
    {
     "name": "stdout",
     "output_type": "stream",
     "text": [
      "tensor([[[ 1.,  2.,  3.,  4.],\n",
      "         [ 1.,  2.,  3.,  4.]],\n",
      "\n",
      "        [[ 5.,  6.,  7.,  8.],\n",
      "         [ 9., 10., 11., 12.]]])\n",
      "tensor([[ 1.,  2.,  3.,  4.],\n",
      "        [ 1.,  2.,  3.,  4.],\n",
      "        [ 5.,  6.,  7.,  8.],\n",
      "        [ 9., 10., 11., 12.]])\n"
     ]
    }
   ],
   "source": [
    "# 1.두 텐서 torch.Tensor([[1, 2, 3, 4], [1, 2, 3, 4]]), torch.Tensor([[5, 6, 7, 8], [9, 10, 11, 12]]) 를 stack하라.\n",
    "print(torch.stack([torch.Tensor([[1, 2, 3, 4], [1, 2, 3, 4]]), torch.Tensor([[5, 6, 7, 8], [9, 10, 11, 12]])]))\n",
    "print(torch.cat([torch.Tensor([[1, 2, 3, 4], [1, 2, 3, 4]]), torch.Tensor([[5, 6, 7, 8], [9, 10, 11, 12]])]))"
   ]
  },
  {
   "cell_type": "code",
   "execution_count": 35,
   "id": "7bfcca49-5232-4421-849d-c3e1890d1a89",
   "metadata": {},
   "outputs": [
    {
     "data": {
      "text/plain": [
       "tensor([[1., 2., 3.],\n",
       "        [4., 5., 6.],\n",
       "        [7., 8., 9.]])"
      ]
     },
     "execution_count": 35,
     "metadata": {},
     "output_type": "execute_result"
    }
   ],
   "source": [
    "# 2.두 텐서 torch.Tensor([[1,2,3,4], [1,2,3,4]]), torch.Tensor([[5,6,7,8], [9,10,11,12]]) 를 cat하라.\n",
    "x = torch.Tensor([[1, 2, 3], [4, 5, 6]])\n",
    "y = torch.Tensor([[7, 8, 9]])\n",
    "torch.cat([x, y])"
   ]
  },
  {
   "cell_type": "markdown",
   "id": "ea0c4db2-f044-4682-83a8-75cc37fcd74e",
   "metadata": {},
   "source": [
    "#### 1-7. Tensor 생성의 다양한 방법들"
   ]
  },
  {
   "cell_type": "code",
   "execution_count": 36,
   "id": "3185b9f7-2697-463a-b365-7bc1298a5951",
   "metadata": {},
   "outputs": [],
   "source": [
    "# arange\n",
    "# linspace\n",
    "# zeros\n",
    "# ones\n",
    "# rand"
   ]
  },
  {
   "cell_type": "code",
   "execution_count": 37,
   "id": "29740071-1704-4829-a3f5-5d491fc2bdae",
   "metadata": {},
   "outputs": [
    {
     "name": "stdout",
     "output_type": "stream",
     "text": [
      "tensor([0, 1, 2, 3, 4, 5, 6, 7, 8, 9])\n",
      "---------------------------\n",
      "tensor([-1.0000e+00, -9.0000e-01, -8.0000e-01, -7.0000e-01, -6.0000e-01,\n",
      "        -5.0000e-01, -4.0000e-01, -3.0000e-01, -2.0000e-01, -1.0000e-01,\n",
      "        -2.9802e-09,  1.0000e-01,  2.0000e-01,  3.0000e-01,  4.0000e-01,\n",
      "         5.0000e-01,  6.0000e-01,  7.0000e-01,  8.0000e-01,  9.0000e-01])\n",
      "---------------------------\n",
      "tensor([ 0.0000,  0.4167,  0.8333,  1.2500,  1.6667,  2.0833,  2.5000,  2.9167,\n",
      "         3.3333,  3.7500,  4.1667,  4.5833,  5.0000,  5.4167,  5.8333,  6.2500,\n",
      "         6.6667,  7.0833,  7.5000,  7.9167,  8.3333,  8.7500,  9.1667,  9.5833,\n",
      "        10.0000])\n"
     ]
    }
   ],
   "source": [
    "print(torch.arange(0, 10, 1)) # arguments: start, stop, step\n",
    "print('---------------------------')\n",
    "print(torch.arange(-1, 1, 0.1))\n",
    "print('---------------------------')\n",
    "print(torch.linspace(0, 10, 25))"
   ]
  },
  {
   "cell_type": "code",
   "execution_count": 38,
   "id": "86fdca4a-5b7d-497a-89dc-8e7fb444f06b",
   "metadata": {},
   "outputs": [
    {
     "name": "stdout",
     "output_type": "stream",
     "text": [
      "tensor([[0., 0., 0.],\n",
      "        [0., 0., 0.],\n",
      "        [0., 0., 0.]])\n",
      "---------------------------\n",
      "tensor([[1., 1., 1.],\n",
      "        [1., 1., 1.],\n",
      "        [1., 1., 1.]])\n",
      "---------------------------\n",
      "tensor([[0.5359, 0.6651, 0.3860],\n",
      "        [0.6757, 0.2324, 0.8191],\n",
      "        [0.5553, 0.6407, 0.7644]])\n"
     ]
    }
   ],
   "source": [
    "print(torch.zeros((3, 3)))\n",
    "print('---------------------------')\n",
    "print(torch.ones((3, 3)))\n",
    "print('---------------------------')\n",
    "print(torch.rand((3, 3)))"
   ]
  },
  {
   "cell_type": "markdown",
   "id": "0f9356e6-3376-4b4f-aa63-3aa9e475f7b5",
   "metadata": {},
   "source": [
    "#### 1-8. Tensor의 데이터 처리"
   ]
  },
  {
   "cell_type": "code",
   "execution_count": 60,
   "id": "478b3ed7-fc86-42e7-b889-bb15359c4196",
   "metadata": {},
   "outputs": [
    {
     "name": "stdout",
     "output_type": "stream",
     "text": [
      "tensor(0.5417)\n",
      "---------------------------\n",
      "tensor(0.3294) tensor(0.1085)\n",
      "---------------------------\n",
      "tensor(0.1250)\n"
     ]
    }
   ],
   "source": [
    "data = torch.linspace(0, 1, 25).reshape(5, 5)\n",
    "print(torch.mean(data[:,3]))\n",
    "print('---------------------------')\n",
    "print(torch.std(data[:,3]), torch.var(data[:,3]))\n",
    "print('---------------------------')\n",
    "print(data[:,3].min())"
   ]
  },
  {
   "cell_type": "code",
   "execution_count": 61,
   "id": "33040153-d2db-44cb-96e1-51831920730e",
   "metadata": {},
   "outputs": [
    {
     "name": "stdout",
     "output_type": "stream",
     "text": [
      "tensor(0.9583)\n",
      "---------------------------\n",
      "tensor(0.9583)\n",
      "---------------------------\n",
      "tensor(12.5000)\n"
     ]
    }
   ],
   "source": [
    "print(data[:,3].max())\n",
    "print('---------------------------')\n",
    "print(torch.max(data[:,3]))\n",
    "print('---------------------------')\n",
    "print(torch.sum(data))"
   ]
  },
  {
   "cell_type": "code",
   "execution_count": 41,
   "id": "8ca7b66a-46c9-4014-842f-4029490db48d",
   "metadata": {},
   "outputs": [
    {
     "data": {
      "text/plain": [
       "[[0, 1, 2], [3, 4, 5], [6, 7, 8]]"
      ]
     },
     "execution_count": 41,
     "metadata": {},
     "output_type": "execute_result"
    }
   ],
   "source": [
    "# 1. 0~8까지의 값을 가지는 3x3 텐서를 생성하라.\n",
    "[[0, 1, 2],\n",
    " [3, 4, 5],\n",
    " [6, 7, 8]]"
   ]
  },
  {
   "cell_type": "code",
   "execution_count": 42,
   "id": "07a8f613-c36d-49f5-8fea-c35cb35a38c3",
   "metadata": {},
   "outputs": [
    {
     "name": "stdout",
     "output_type": "stream",
     "text": [
      "tensor([[0., 1., 2.],\n",
      "        [3., 4., 5.],\n",
      "        [6., 7., 8.]])\n",
      "tensor([[ 0.,  1.,  2.,  3.,  4.],\n",
      "        [ 5.,  6.,  7.,  8.,  9.],\n",
      "        [10., 11., 12., 13., 14.],\n",
      "        [15., 16., 17., 18., 19.],\n",
      "        [20., 21., 22., 23., 24.]])\n",
      "tensor(12.)\n"
     ]
    }
   ],
   "source": [
    "# 2. 0~24까지의 값을 가지는 5x5 텐서를 생성하라.\n",
    "# 3. 0~24까지의 값을 가지는 5x5 텐서를 생성하고 해당 텐서의 평균을 구하라.\n",
    "\n",
    "# x = torch.arange(0, 9, 1.0).reshape((3,3))\n",
    "x = torch.linspace(0, 8, 9).reshape((3, 3))\n",
    "print(x)\n",
    "\n",
    "y = torch.linspace(0, 24, 25).reshape((5, 5))\n",
    "print(y)\n",
    "\n",
    "print(torch.mean(y))"
   ]
  },
  {
   "cell_type": "markdown",
   "id": "2dd7aa4c-6e10-4d22-ab8a-e7834a9301dd",
   "metadata": {},
   "source": [
    "#### 1-9. torch의 각종 수학 함수들"
   ]
  },
  {
   "cell_type": "code",
   "execution_count": 43,
   "id": "eebc557a-e37b-4915-b02d-13fcf52d035d",
   "metadata": {},
   "outputs": [
    {
     "name": "stdout",
     "output_type": "stream",
     "text": [
      "tensor([ 0.0998,  0.6857,  0.9873,  0.8796,  0.4072, -0.2340, -0.7782, -0.9997,\n",
      "        -0.8068, -0.2794])\n",
      "---------------------------\n",
      "tensor([ 0.1003,  0.9420,  6.2090, -1.8486, -0.4458,  0.2407,  1.2390, 42.5454,\n",
      "        -1.3656, -0.2910])\n",
      "---------------------------\n",
      "tensor([1.0000e-02, 5.7086e-01, 1.9912e+00, 4.2711e+00, 7.4105e+00, 1.1409e+01,\n",
      "        1.6268e+01, 2.1986e+01, 2.8563e+01, 3.6000e+01])\n"
     ]
    }
   ],
   "source": [
    "x = torch.linspace(0.1, 6, 10)\n",
    "print(torch.sin(x))\n",
    "print('---------------------------')\n",
    "print(torch.tan(x))\n",
    "print('---------------------------')\n",
    "print(x ** 2)"
   ]
  },
  {
   "cell_type": "code",
   "execution_count": 44,
   "id": "edb2f7a1-e5d4-41fc-92a5-97e1d0e540ee",
   "metadata": {},
   "outputs": [
    {
     "name": "stdout",
     "output_type": "stream",
     "text": [
      "tensor([  1.1052,   2.1288,   4.1005,   7.8985,  15.2141,  29.3056,  56.4488,\n",
      "        108.7323, 209.4415, 403.4288])\n",
      "---------------------------\n",
      "tensor([-1.0000, -0.1217,  0.1496,  0.3153,  0.4349,  0.5286,  0.6057,  0.6711,\n",
      "         0.7279,  0.7782])\n",
      "---------------------------\n",
      "tensor([0.0997, 0.6385, 0.8877, 0.9684, 0.9914, 0.9977, 0.9994, 0.9998, 1.0000,\n",
      "        1.0000])\n"
     ]
    }
   ],
   "source": [
    "print(torch.exp(x))\n",
    "print('---------------------------')\n",
    "print(torch.log10(x))\n",
    "print('---------------------------')\n",
    "print(torch.tanh(x))"
   ]
  },
  {
   "cell_type": "code",
   "execution_count": 45,
   "id": "628eff21-e4b6-45fe-bf93-15cfba1c7d1d",
   "metadata": {},
   "outputs": [
    {
     "name": "stdout",
     "output_type": "stream",
     "text": [
      "tensor([ 9.8363e-01,  2.9265e-01, -2.1684e-01,  3.2023e-02,  8.9574e-02,\n",
      "        -8.7375e-02,  8.2494e-03,  5.6280e-02, -5.2588e-02,  2.5305e-09])\n",
      "---------------------------\n",
      "tensor([0.1125, 0.7147, 0.9540, 0.9965, 0.9999, 1.0000, 1.0000, 1.0000, 1.0000,\n",
      "        1.0000])\n",
      "---------------------------\n",
      "tensor([0.5250, 0.6804, 0.8039, 0.8876, 0.9383, 0.9670, 0.9826, 0.9909, 0.9952,\n",
      "        0.9975])\n"
     ]
    }
   ],
   "source": [
    "print(torch.sinc(x))\n",
    "print('---------------------------')\n",
    "print(torch.erf(x))\n",
    "print('---------------------------')\n",
    "print(torch.sigmoid(x))"
   ]
  },
  {
   "cell_type": "markdown",
   "id": "b0b377a0-3985-4f5b-a83a-0942dc3923a0",
   "metadata": {},
   "source": [
    "#### 1-10. matplotlib를 이용한 plot"
   ]
  },
  {
   "cell_type": "code",
   "execution_count": 46,
   "id": "53d20b2f-093c-4f72-adce-35b5fa1073e2",
   "metadata": {},
   "outputs": [
    {
     "data": {
      "image/png": "[encoded data removed]",
      "text/plain": [
       "<Figure size 640x480 with 1 Axes>"
      ]
     },
     "metadata": {},
     "output_type": "display_data"
    }
   ],
   "source": [
    "import matplotlib.pyplot as plt\n",
    "\n",
    "x = torch.linspace(0, 10, 100)\n",
    "plt.plot(x, x ** 2 / 10)\n",
    "plt.plot(x, torch.sin(x))\n",
    "plt.show()"
   ]
  },
  {
   "cell_type": "code",
   "execution_count": 47,
   "id": "6af622c3-b3b5-4453-b2b4-e6a1c9bd2425",
   "metadata": {},
   "outputs": [
    {
     "data": {
      "image/png": "[encoded data removed]",
      "text/plain": [
       "<Figure size 640x480 with 1 Axes>"
      ]
     },
     "metadata": {},
     "output_type": "display_data"
    }
   ],
   "source": [
    "# torch.linspace 함수를 이용하여  −1 ≤ x ≤ 1  범위에서  f(x) = 3x 함수를 그려라.\n",
    "x = torch.linspace(-1, 1, 100)\n",
    "plt.plot(x, 3 * x)\n",
    "plt.show()"
   ]
  },
  {
   "cell_type": "code",
   "execution_count": 48,
   "id": "be5c0d56-faa3-45fa-ad57-b7d80a83df7a",
   "metadata": {},
   "outputs": [
    {
     "data": {
      "image/png": "[encoded data removed]",
      "text/plain": [
       "<Figure size 640x480 with 1 Axes>"
      ]
     },
     "metadata": {},
     "output_type": "display_data"
    }
   ],
   "source": [
    "# f(x) = x^2 + x 함수를  −2≤x≤2  범위에서 그려라.\n",
    "x = torch.linspace(-2, 2, 100)\n",
    "plt.plot(x, x ** 2 + x)\n",
    "plt.show()"
   ]
  },
  {
   "cell_type": "code",
   "execution_count": 49,
   "id": "9f08078a-e397-4977-afa7-a6a114ec47f8",
   "metadata": {},
   "outputs": [
    {
     "data": {
      "text/plain": [
       "[<matplotlib.lines.Line2D at 0x7fefd826b820>]"
      ]
     },
     "execution_count": 49,
     "metadata": {},
     "output_type": "execute_result"
    },
    {
     "data": {
      "image/png": "[encoded data removed]",
      "text/plain": [
       "<Figure size 640x480 with 1 Axes>"
      ]
     },
     "metadata": {},
     "output_type": "display_data"
    }
   ],
   "source": [
    "# 사각 슬릿을 통과한 빛의 세기는 아래와 같은 형태로 표현할 수 있다.\n",
    "# 슬릿의 크기  w  = 1 mm, 파장  λ  638 nm, 거리  L  10 m 일 때, 스크린에 어떤 패턴이 나타나는지 그려라.\n",
    "# I(x)=sinc^2((π * x * w)/(lam * L))\n",
    "w = 1e-3\n",
    "lam = 638e-9\n",
    "L = 10\n",
    "x = torch.linspace(-2, 2, 100)\n",
    "y = torch.sinc(torch.pi * x * w / (lam * L)) ** 2\n",
    "plt.plot(x,y)"
   ]
  }
 ],
 "metadata": {
  "kernelspec": {
   "display_name": "Python 3 (ipykernel)",
   "language": "python",
   "name": "python3"
  },
  "language_info": {
   "codemirror_mode": {
    "name": "ipython",
    "version": 3
   },
   "file_extension": ".py",
   "mimetype": "text/x-python",
   "name": "python",
   "nbconvert_exporter": "python",
   "pygments_lexer": "ipython3",
   "version": "3.8.10"
  }
 },
 "nbformat": 4,
 "nbformat_minor": 5
}
