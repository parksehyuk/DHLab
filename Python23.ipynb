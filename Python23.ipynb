{
 "cells": [
  {
   "cell_type": "markdown",
   "id": "db467261-157f-4fee-a5d0-1d86157ebc5a",
   "metadata": {},
   "source": [
    "#### 23. Iterator & Generator"
   ]
  },
  {
   "cell_type": "markdown",
   "id": "db25b2a4-d098-4fb1-acc5-6fdfd3b04eb9",
   "metadata": {},
   "source": [
    "#### 23-1. Iterator"
   ]
  },
  {
   "cell_type": "code",
   "execution_count": 3,
   "id": "0c0c5404-1ac1-4e69-9371-fa16117a2a6c",
   "metadata": {},
   "outputs": [
    {
     "name": "stdout",
     "output_type": "stream",
     "text": [
      "1\n",
      "2\n",
      "3\n"
     ]
    }
   ],
   "source": [
    "# iterable\n",
    "# 반복문에 적용할 수 있는 리스트와 같은 객체를 반복 가능 객체라고 한다.\n",
    "for a in [1, 2, 3]:\n",
    "    print(a)"
   ]
  },
  {
   "cell_type": "code",
   "execution_count": 7,
   "id": "b2fd117b-103b-488b-83b2-795e6f2265e0",
   "metadata": {},
   "outputs": [],
   "source": [
    "# iterator\n",
    "# next 함수 호출 시 계속 그다음 값을 리턴하는 객체이다."
   ]
  },
  {
   "cell_type": "code",
   "execution_count": 37,
   "id": "92b1a859-d439-49e0-ba50-0a96c486d2bc",
   "metadata": {},
   "outputs": [
    {
     "ename": "TypeError",
     "evalue": "'list' object is not an iterator",
     "output_type": "error",
     "traceback": [
      "\u001b[0;31m---------------------------------------------------------------------------\u001b[0m",
      "\u001b[0;31mTypeError\u001b[0m                                 Traceback (most recent call last)",
      "Cell \u001b[0;32mIn[37], line 3\u001b[0m\n\u001b[1;32m      1\u001b[0m \u001b[38;5;66;03m# 반복 가능하다고 해서 iterator는 아니다.\u001b[39;00m\n\u001b[1;32m      2\u001b[0m a \u001b[38;5;241m=\u001b[39m [\u001b[38;5;241m1\u001b[39m, \u001b[38;5;241m2\u001b[39m, \u001b[38;5;241m3\u001b[39m]\n\u001b[0;32m----> 3\u001b[0m \u001b[38;5;28;43mnext\u001b[39;49m\u001b[43m(\u001b[49m\u001b[43ma\u001b[49m\u001b[43m)\u001b[49m\n",
      "\u001b[0;31mTypeError\u001b[0m: 'list' object is not an iterator"
     ]
    }
   ],
   "source": [
    "# 반복 가능하다고 해서 iterator는 아니다.\n",
    "a = [1, 2, 3]\n",
    "next(a)"
   ]
  },
  {
   "cell_type": "code",
   "execution_count": 29,
   "id": "30e41cc6-34b6-4cce-b3b6-770906e02068",
   "metadata": {},
   "outputs": [
    {
     "name": "stdout",
     "output_type": "stream",
     "text": [
      "<class 'list_iterator'>\n"
     ]
    }
   ],
   "source": [
    "# iter\n",
    "# 반복 가능하다면 iter 함수를 이용해 iterator로 만들 수 있다.\n",
    "a = [1, 2, 3]\n",
    "ia = iter(a)\n",
    "print(type(ia))"
   ]
  },
  {
   "cell_type": "code",
   "execution_count": 30,
   "id": "12b949b0-3edd-459b-9d4c-fe2312d891f0",
   "metadata": {},
   "outputs": [
    {
     "name": "stdout",
     "output_type": "stream",
     "text": [
      "1\n",
      "2\n",
      "3\n"
     ]
    }
   ],
   "source": [
    "# next 함수를 호출할 때마다 iterator 객체의 요소를 차례대로 리턴한다.\n",
    "# 더이상 리턴할 값이 없다면 StopIteration 예외가 발생한다.\n",
    "print(next(ia))\n",
    "print(next(ia))\n",
    "print(next(ia))"
   ]
  },
  {
   "cell_type": "code",
   "execution_count": 34,
   "id": "c534dc9c-17cb-49f4-8501-cf9d12ea1ccc",
   "metadata": {},
   "outputs": [
    {
     "name": "stdout",
     "output_type": "stream",
     "text": [
      "1\n",
      "2\n",
      "3\n"
     ]
    }
   ],
   "source": [
    "# iterator with for\n",
    "# for가 자동으로 값을 호출하므로 next 함수와 StopIteration 예외에 신경 쓸 필요가 없다.\n",
    "a = [1, 2, 3]\n",
    "ia =iter(a)\n",
    "for i in ia:\n",
    "    print(i)"
   ]
  },
  {
   "cell_type": "code",
   "execution_count": 36,
   "id": "02f2e20b-e67c-4ce8-beaf-7529dd763b60",
   "metadata": {},
   "outputs": [],
   "source": [
    "# iterator는 for 문을 이용하여 반복하고 난 후 다시 반복하더라도 그 값을 가져오지 못한다.\n",
    "# for문이나 next로 값을 한 번 읽으면 그 값을 다시는 읽을 수 없다.\n",
    "for i in ia:\n",
    "    print(i)"
   ]
  },
  {
   "cell_type": "markdown",
   "id": "f4b18a0e-360b-4163-b268-54a3f000d98d",
   "metadata": {},
   "source": [
    "#### 23-2. Iterator as a class"
   ]
  },
  {
   "cell_type": "code",
   "execution_count": 43,
   "id": "62af9217-0212-4a1d-8530-fc7fc89cb4b5",
   "metadata": {},
   "outputs": [],
   "source": [
    "# __iter__\n",
    "# class에 __iter__ method를 구현하면 해당 클래스로 생성한 객체는 반복 가능한 객체가 된다.\n",
    "# method는 반복 가능한 객체를 리턴해야 하며 보통 클래스의 객체를 의미하는 self를 리턴한다."
   ]
  },
  {
   "cell_type": "code",
   "execution_count": 44,
   "id": "8764625e-da33-4218-9116-3a290726ea5e",
   "metadata": {},
   "outputs": [],
   "source": [
    "# __next__\n",
    "# 반복 가능한 객체의 값을 차례대로 반환하는 역할을 한다.\n",
    "# for 문을 수행하거나 next 함수 호출 시 수행된다.\n",
    "# class에 __iter__ 메서드를 구현할 경우 반드시 __next__ 함수를 구현해야 한다."
   ]
  },
  {
   "cell_type": "code",
   "execution_count": 116,
   "id": "5478926d-d88c-4829-b454-dcdc04b919ba",
   "metadata": {},
   "outputs": [
    {
     "name": "stdout",
     "output_type": "stream",
     "text": [
      "1\n",
      "2\n",
      "3\n"
     ]
    }
   ],
   "source": [
    "# Iterator\n",
    "class Iterator:\n",
    "    def __init__(self, data):\n",
    "        self.data = data\n",
    "        self.position = 0\n",
    "    def __iter__(self):\n",
    "        return self\n",
    "    def __next__(self):\n",
    "        if self.position >= len(self.data):\n",
    "            raise StopIteration\n",
    "        result = self.data[self.position]\n",
    "        self.position += 1\n",
    "        return result\n",
    "if __name__ == '__main__':\n",
    "    i = Iterator([1,2,3])\n",
    "    for item in i:\n",
    "        print(item)"
   ]
  },
  {
   "cell_type": "code",
   "execution_count": 48,
   "id": "212725c7-bbef-4155-ad51-c206d239d256",
   "metadata": {},
   "outputs": [
    {
     "name": "stdout",
     "output_type": "stream",
     "text": [
      "3\n",
      "2\n",
      "1\n"
     ]
    }
   ],
   "source": [
    "# Reverse Iterator\n",
    "class ReverseItertor:\n",
    "    def __init__(self, data):\n",
    "        self.data = data\n",
    "        self.position = len(self.data) -1\n",
    "    def __iter__(self):\n",
    "        return self\n",
    "    def __next__(self):\n",
    "        if self.position < 0:\n",
    "            raise StopIteration\n",
    "        result = self.data[self.position]\n",
    "        self.position -= 1\n",
    "        return result\n",
    "if __name__ == '__main__':\n",
    "    i = ReverseItertor([1,2,3])\n",
    "    for item in i:\n",
    "        print(item)"
   ]
  },
  {
   "cell_type": "markdown",
   "id": "1856f8be-2470-406b-aed7-df2571e95d90",
   "metadata": {},
   "source": [
    "#### 23-3. Generator"
   ]
  },
  {
   "cell_type": "code",
   "execution_count": 56,
   "id": "af523006-c5e6-4886-9ff9-b162dc90a117",
   "metadata": {},
   "outputs": [],
   "source": [
    "# function that generating iterator\n",
    "# generator로 생성한 객체는 iterator와 마찬가지로 next 함수 호출 시 그 값을 차례대로 얻을 수 있다.\n",
    "# generator는 yield를 만나 그 값을 리턴하되 현재 상태를 그대로 기억한다.\n",
    "# 마치 음악을 재생하다가 일시 정지 버튼으로 멈춘 것과 비슷한 모양새이다."
   ]
  },
  {
   "cell_type": "code",
   "execution_count": 55,
   "id": "10613da8-c156-479b-9b30-628c06e199a8",
   "metadata": {},
   "outputs": [],
   "source": [
    "# yield\n",
    "# generator에서 차례대로 결과를 반환하고자 return 대신 사용한다."
   ]
  },
  {
   "cell_type": "code",
   "execution_count": 59,
   "id": "68d8c21a-aaa6-443e-89bd-8761121d93e7",
   "metadata": {},
   "outputs": [
    {
     "name": "stdout",
     "output_type": "stream",
     "text": [
      "<class 'generator'>\n"
     ]
    }
   ],
   "source": [
    "def gen():\n",
    "    yield 'a'\n",
    "    yield 'b'\n",
    "    yield 'c'\n",
    "g = gen()\n",
    "print(type(g))"
   ]
  },
  {
   "cell_type": "code",
   "execution_count": 60,
   "id": "615e34dc-9144-460b-9c32-ba56bde848e9",
   "metadata": {},
   "outputs": [
    {
     "name": "stdout",
     "output_type": "stream",
     "text": [
      "a\n",
      "b\n",
      "c\n"
     ]
    }
   ],
   "source": [
    "for i in g:\n",
    "    print(i)"
   ]
  },
  {
   "cell_type": "code",
   "execution_count": 65,
   "id": "302dd0c6-e511-489a-83e5-54f271e3f7eb",
   "metadata": {},
   "outputs": [
    {
     "name": "stdout",
     "output_type": "stream",
     "text": [
      "4\n",
      "9\n",
      "16\n",
      "25\n",
      "36\n",
      "49\n",
      "64\n",
      "81\n"
     ]
    }
   ],
   "source": [
    "# generator with function\n",
    "def gen1():\n",
    "    for i in range(2, 10):\n",
    "        result = i * i\n",
    "        yield result\n",
    "gen = gen1()\n",
    "for j in gen:\n",
    "    print(j)"
   ]
  },
  {
   "cell_type": "code",
   "execution_count": 126,
   "id": "b64226e5-a755-465e-a93a-b20e5e8b9ba0",
   "metadata": {},
   "outputs": [
    {
     "name": "stdout",
     "output_type": "stream",
     "text": [
      "1\n",
      "4\n",
      "9\n",
      "16\n",
      "25\n",
      "36\n",
      "49\n",
      "64\n",
      "81\n"
     ]
    }
   ],
   "source": [
    "# generator with class\n",
    "class Gen:\n",
    "    def __init__(self, *args, **kwargs):\n",
    "        self.data = 1\n",
    "    def __iter__(self):\n",
    "        return self\n",
    "    def __next__(self):\n",
    "        result = self.data * self.data\n",
    "        self.data += 1\n",
    "        if self.data >= 11:\n",
    "            raise StopIteration\n",
    "        return result\n",
    "if __name__ == '__main__':\n",
    "    i = Gen()\n",
    "    for j in i:\n",
    "        print(j)"
   ]
  },
  {
   "cell_type": "code",
   "execution_count": 110,
   "id": "122809d3-acfe-4eaf-bc66-d640724752d7",
   "metadata": {},
   "outputs": [
    {
     "name": "stdout",
     "output_type": "stream",
     "text": [
      "1\n",
      "4\n",
      "9\n",
      "16\n",
      "25\n",
      "36\n",
      "49\n",
      "64\n",
      "81\n"
     ]
    }
   ],
   "source": [
    "# generator expression\n",
    "# generator with tuple\n",
    "# gen2 functions exactly the same as gen1 and class Gen\n",
    "# similiar with list comprehension\n",
    "gen2 = (i * i for i in range(1, 10))\n",
    "for j in gen2:\n",
    "    print(j)"
   ]
  },
  {
   "cell_type": "markdown",
   "id": "f1dc3d41-b12e-4f3c-aac5-9aec67559b68",
   "metadata": {},
   "source": [
    "#### 23-4. Using generator"
   ]
  },
  {
   "cell_type": "code",
   "execution_count": 108,
   "id": "93cb3a79-982b-4114-bc1c-652733494515",
   "metadata": {},
   "outputs": [
    {
     "name": "stdout",
     "output_type": "stream",
     "text": [
      "job start\n",
      "job start\n",
      "job start\n",
      "job start\n",
      "job start\n",
      "done\n"
     ]
    }
   ],
   "source": [
    "import time\n",
    "def time_job():\n",
    "    print('job start')\n",
    "    time.sleep(1)\n",
    "    return 'done'\n",
    "list_job = [time_job() for i in range(5)]\n",
    "print(list_job[0])"
   ]
  },
  {
   "cell_type": "code",
   "execution_count": 128,
   "id": "cec81941-53b7-4516-b8c6-dae31d0559d4",
   "metadata": {},
   "outputs": [
    {
     "name": "stdout",
     "output_type": "stream",
     "text": [
      "job start\n",
      "done\n"
     ]
    }
   ],
   "source": [
    "# lazy evaluation\n",
    "# 제너레이터 표현식으로 인해 함수가 5회가 아닌 1회만 호출된다.\n",
    "# 시간이 오래 걸리는 작업을 한꺼번에 처리하기보다는 필요한 경우에만 호출하여 사용할 때 사용된다.\n",
    "import time\n",
    "def longtime_job():\n",
    "    print('job start')\n",
    "    time.sleep(1)\n",
    "    return 'done'\n",
    "list_job = (longtime_job() for i in range(5))\n",
    "print(next(list_job))"
   ]
  }
 ],
 "metadata": {
  "kernelspec": {
   "display_name": "Python 3 (ipykernel)",
   "language": "python",
   "name": "python3"
  },
  "language_info": {
   "codemirror_mode": {
    "name": "ipython",
    "version": 3
   },
   "file_extension": ".py",
   "mimetype": "text/x-python",
   "name": "python",
   "nbconvert_exporter": "python",
   "pygments_lexer": "ipython3",
   "version": "3.8.10"
  }
 },
 "nbformat": 4,
 "nbformat_minor": 5
}
