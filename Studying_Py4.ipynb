{
 "cells": [
  {
   "cell_type": "markdown",
   "id": "ae826e28-1d68-44e5-9812-d9a61a7cd8d9",
   "metadata": {
    "jp-MarkdownHeadingCollapsed": true
   },
   "source": [
    "#### 4. Date Type II"
   ]
  },
  {
   "cell_type": "markdown",
   "id": "156433a1-1d4e-499c-a4ae-196b09678e02",
   "metadata": {},
   "source": [
    "#### 4-1. String Type"
   ]
  },
  {
   "cell_type": "code",
   "execution_count": 67,
   "id": "676789dd-3ccb-4cef-8626-0e66e33acc5f",
   "metadata": {},
   "outputs": [
    {
     "name": "stdout",
     "output_type": "stream",
     "text": [
      "Life is too short, You need python.\n",
      "Life is too short, You need python.\n",
      "\"Life is too short, You need python\" he says.\n",
      "'Life is too short, You need python' he says.\n"
     ]
    }
   ],
   "source": [
    "# 문자열\n",
    "# 연속된 문자들의 나열\n",
    "\n",
    "\n",
    "# 모든 예문이(숫자포함) 큰 따옴표, 작은 따옴표, 큰따옴표 3개 연속, 작은따옴표 3개 연속으로 둘러싸여 있으면 모두 문자열.\n",
    "# 문장 안에도 작은따옴표와 큰따옴표가 들어 있어야 할 경우를 고려하기 때문이다.\n",
    "\n",
    "\n",
    "a = \"Life is too short, You need python.\"\n",
    "print(a)\n",
    "\n",
    "b = 'Life is too short, You need python.'\n",
    "print(b)\n",
    "\n",
    "c = \"\"\"\"Life is too short, You need python\" he says.\"\"\"\n",
    "print(c)\n",
    "\n",
    "d = \"\"\"'Life is too short, You need python' he says.\"\"\"\n",
    "print(d)"
   ]
  },
  {
   "cell_type": "markdown",
   "id": "d6996392-7743-4bda-8113-1ca699755705",
   "metadata": {},
   "source": [
    "#### 4-2. 문자열에 따옴표 포함하기"
   ]
  },
  {
   "cell_type": "code",
   "execution_count": 68,
   "id": "0c2dc583-b437-453e-a6e2-97c469bd1ead",
   "metadata": {},
   "outputs": [
    {
     "name": "stdout",
     "output_type": "stream",
     "text": [
      "\"Life is too short, You need python\" he says.\n",
      "'Life is too short, You need python' he says.\n"
     ]
    }
   ],
   "source": [
    "# 큰따옴표 안에 들어 있는 작은따옴표는 문자열을 나타내기 위한 기호로 인식되지 않는다.\n",
    "# 작은따옴표 안에 들어 있는 큰따옴표는 문자열을 나타내기 위한 기호로 인식되지 않는다.\n",
    "\n",
    "\n",
    "a = '\"Life is too short, You need python\" he says.'\n",
    "print(a)\n",
    "\n",
    "b = \"'Life is too short, You need python' he says.\"\n",
    "print(b)"
   ]
  },
  {
   "cell_type": "markdown",
   "id": "f406f47f-6a9d-4ce4-bdbc-5eef55232051",
   "metadata": {},
   "source": [
    "#### 4-3. 역슬래시 삽입"
   ]
  },
  {
   "cell_type": "code",
   "execution_count": 69,
   "id": "123327b5-9d4d-4e20-8b11-82206ac19ce4",
   "metadata": {},
   "outputs": [
    {
     "name": "stdout",
     "output_type": "stream",
     "text": [
      "\"Life is too short, You need python\" he says.\n",
      "\"Life is too short, You need python\" he says.\n",
      "Life's too short, You need python.\n"
     ]
    }
   ],
   "source": [
    "# 역슬래시를 따옴표 앞에 삽입하면 역슬래시 뒤의 따옴표는 문자열을 둘러싸는 기호의 의미가 아니라 ' or \" 자체를 뜻하게 된다.\n",
    "\n",
    "\n",
    "a = \"\\\"Life is too short, You need python\\\" he says.\"\n",
    "print(a)\n",
    "\n",
    "b = \"\\\"Life is too short, You need python\\\" he says.\"\n",
    "print(b)\n",
    "\n",
    "c = \"Life\\'s too short, You need python.\"\n",
    "print(c)"
   ]
  },
  {
   "cell_type": "markdown",
   "id": "ded33753-799f-4969-b652-7123bbb0cb7b",
   "metadata": {},
   "source": [
    "#### 4-4. 줄바꿈 문자"
   ]
  },
  {
   "cell_type": "code",
   "execution_count": 70,
   "id": "2fd8eb56-c4ac-4002-ba33-ca4b681b2609",
   "metadata": {},
   "outputs": [
    {
     "name": "stdout",
     "output_type": "stream",
     "text": [
      "Life is too short\n",
      "You need python\n"
     ]
    }
   ],
   "source": [
    "# multiline\n",
    "# 줄을 바꾸기 위한 이스케이프 코드 \\n 삽입\n",
    "\n",
    "\n",
    "a = \"Life is too short\\nYou need python\"\n",
    "print(a)"
   ]
  },
  {
   "cell_type": "code",
   "execution_count": 71,
   "id": "7961f75b-9d0b-4e7b-9f9c-ea7366852114",
   "metadata": {},
   "outputs": [
    {
     "name": "stdout",
     "output_type": "stream",
     "text": [
      "\n",
      "Life is too short\n",
      "You need python\n",
      "\n",
      "\n",
      "Life's too short\n",
      "You need python\n",
      "\n"
     ]
    }
   ],
   "source": [
    "multiline1 = '''\n",
    "Life is too short\n",
    "You need python\n",
    "'''\n",
    "print(multiline1)\n",
    "\n",
    "multiline2 = \"\"\"\n",
    "Life's too short\n",
    "You need python\n",
    "\"\"\"\n",
    "print(multiline2)"
   ]
  },
  {
   "cell_type": "markdown",
   "id": "8d9a2260-babf-4cf5-b9ac-c9183ea3b367",
   "metadata": {},
   "source": [
    "#### 4-5. 이스케이프 코드"
   ]
  },
  {
   "cell_type": "code",
   "execution_count": 72,
   "id": "2f314fac-66fd-456f-94bb-16e9633ec178",
   "metadata": {},
   "outputs": [
    {
     "name": "stdout",
     "output_type": "stream",
     "text": [
      "Life is too short\n",
      "You need python\n",
      "Life is too short\tYou need python\n",
      "Life is too short\\You need python\n",
      "Life is too short'You need python\n",
      "Life is too short\"You need python\n",
      "You need pythonrt\n",
      "Life is too short\f",
      "You need python\n",
      "Life is too short\u0007You need python\n",
      "Life is too shorYou need python\n",
      "Life is too short\u0000You need python\n"
     ]
    }
   ],
   "source": [
    "# \\n\n",
    "# 문자열 안에서 줄을 바꿀 때 사용\n",
    "\n",
    "a = \"Life is too short\\nYou need python\"\n",
    "print(a)\n",
    "\n",
    "\n",
    "\n",
    "# \\t\n",
    "# 문자열 사이에 탭 간격을 줄 때 사용\n",
    "\n",
    "b = \"Life is too short\\tYou need python\"\n",
    "print(b)\n",
    "\n",
    "\n",
    "\n",
    "# \\\\\n",
    "# \\를 그대로 표현할 때 사용\n",
    "\n",
    "c = \"Life is too short\\\\You need python\"\n",
    "print(c)\n",
    "\n",
    "\n",
    "\n",
    "# \\'\n",
    "# 작은따옴표를 그대로 표현할 때 사용\n",
    "\n",
    "d = \"Life is too short\\'You need python\"\n",
    "print(d)\n",
    "\n",
    "\n",
    "\n",
    "# \\\"\n",
    "# 큰따옴표를 그대로 표현할 때 사용\n",
    "\n",
    "e = \"Life is too short\\\"You need python\"\n",
    "print(e)\n",
    "\n",
    "\n",
    "\n",
    "# \\r\n",
    "# 캐리지 리턴. 줄 바꿈 문자, 커서를 현재 줄의 가장 앞으로 이동한다.\n",
    "\n",
    "f = \"Life is too short\\rYou need python\"\n",
    "print(f)\n",
    "\n",
    "\n",
    "\n",
    "# \\f\n",
    "# 폼 피드. 줄 바꿈 문자, 커서를 현재 줄의 다음 줄로 이동한다.\n",
    "\n",
    "g = \"Life is too short\\fYou need python\"\n",
    "print(g)\n",
    "\n",
    "\n",
    "\n",
    "# \\a\n",
    "# 벨 소리. 출력할 때 PC 스피커에서 '삑' 소리가 난다.\n",
    "\n",
    "h = \"Life is too short\\aYou need python\"\n",
    "print(h)\n",
    "\n",
    "\n",
    "\n",
    "# \\a\n",
    "# 백 스페이스\n",
    "\n",
    "i = \"Life is too short\\bYou need python\"\n",
    "print(i)\n",
    "\n",
    "\n",
    "\n",
    "# \\000\n",
    "# 널 문자\n",
    "\n",
    "j = \"Life is too short\\000You need python\"\n",
    "print(j)"
   ]
  },
  {
   "cell_type": "markdown",
   "id": "a28d2e10-79b7-45d7-8574-33a38d0eb93a",
   "metadata": {},
   "source": [
    "#### 4-6. 문자열 연산"
   ]
  },
  {
   "cell_type": "code",
   "execution_count": 73,
   "id": "805455c1-2719-4ca5-a015-2399b508e4d8",
   "metadata": {},
   "outputs": [
    {
     "name": "stdout",
     "output_type": "stream",
     "text": [
      "Life is too short, You need python\n",
      "Life is too short, Life is too short, \n"
     ]
    }
   ],
   "source": [
    "a = \"Life is too short, \"\n",
    "b = \"You need python\"\n",
    "\n",
    "\n",
    "# 문자열 덧셈\n",
    "print(a + b)\n",
    "\n",
    "\n",
    "# 문자열 곱셈\n",
    "print(a * 2)"
   ]
  },
  {
   "cell_type": "markdown",
   "id": "a2216698-408b-4e28-baa2-8ba13e4e7739",
   "metadata": {},
   "source": [
    "#### 4-7. 문자열 곱셈 응용"
   ]
  },
  {
   "cell_type": "code",
   "execution_count": 74,
   "id": "83989ffb-1d18-4970-abc6-0079e343e4b0",
   "metadata": {},
   "outputs": [
    {
     "name": "stdout",
     "output_type": "stream",
     "text": [
      "==================================================\n",
      "My Program\n",
      "==================================================\n"
     ]
    }
   ],
   "source": [
    "# multistring.py\n",
    "\n",
    "\n",
    "print(\"=\" * 50)\n",
    "print(\"My Program\")\n",
    "print(\"=\" * 50)"
   ]
  },
  {
   "cell_type": "markdown",
   "id": "4b031f93-d352-4421-adf3-4de7e5a91390",
   "metadata": {},
   "source": [
    "#### 4-8. 문자열 길이"
   ]
  },
  {
   "cell_type": "code",
   "execution_count": 75,
   "id": "9796fa36-d108-4c60-8bdc-d83b0db57f31",
   "metadata": {},
   "outputs": [
    {
     "data": {
      "text/plain": [
       "35"
      ]
     },
     "execution_count": 75,
     "metadata": {},
     "output_type": "execute_result"
    }
   ],
   "source": [
    "# 문자열의 길이에는 공백 문자도 포함된다.\n",
    "\n",
    "\n",
    "a = \"Life is too short, You need python.\"\n",
    "len(a)"
   ]
  },
  {
   "cell_type": "markdown",
   "id": "90b158da-bcb0-4f9a-84ee-7da60cc69060",
   "metadata": {},
   "source": [
    "#### 4-9. String Indexing"
   ]
  },
  {
   "cell_type": "code",
   "execution_count": 76,
   "id": "a9869ca4-d142-49c2-a7cc-fe97fd765f9a",
   "metadata": {
    "scrolled": true
   },
   "outputs": [
    {
     "name": "stdout",
     "output_type": "stream",
     "text": [
      "e\n",
      "n\n",
      "L\n",
      "L\n"
     ]
    }
   ],
   "source": [
    "# Indexing\n",
    "# 가리킨다\n",
    "\n",
    "\n",
    "# Slicing\n",
    "# 잘라내다\n",
    "\n",
    "\n",
    "# a[N]\n",
    "# 문자열의 N번째 문자\n",
    "# 파이썬은 숫자를 0부터 센다.\n",
    "\n",
    "\n",
    "# a[N]은 문자열 안의 특정한 값을 뽑아 낸다.\n",
    "a = \"Life is too short, You need Python\"\n",
    "print(a[3])\n",
    "\n",
    "\n",
    "# a[-1]은 뒤에서부터 셀 때 첫 번째가 되는 문자이다.\n",
    "print(a[-1])\n",
    "\n",
    "\n",
    "# 0 = -0 so a[0] = a[-0]\n",
    "print(a[0])\n",
    "print(a[-0])"
   ]
  },
  {
   "cell_type": "markdown",
   "id": "1ba83de4-9c82-49c5-8325-e2c75a9cb6ff",
   "metadata": {},
   "source": [
    "#### 4-10. String Slicing"
   ]
  },
  {
   "cell_type": "code",
   "execution_count": 77,
   "id": "445f723a-dcfc-4a5e-ae0a-b5aecc96f2b9",
   "metadata": {},
   "outputs": [
    {
     "name": "stdout",
     "output_type": "stream",
     "text": [
      "Life\n",
      "Life\n",
      "You need python.\n",
      "Life is too short\n",
      "You need \n"
     ]
    }
   ],
   "source": [
    "# 문자열 내 단어 뽑아내기\n",
    "a = \"Life is too short, You need python.\"\n",
    "b = a[0] + a[1] + a[2] + a[3]\n",
    "print(b)\n",
    "\n",
    "# Slicing\n",
    "# a[start number : end number]를 지정할 때 끝 번호에 해당하는 문자는 포함하지 않는다.\n",
    "# 0 <= a < 3\n",
    "\n",
    "c = a[0:4]\n",
    "print(c)\n",
    "\n",
    "\n",
    "# end number를 생략하면 시작 번호부터 그 문자열의 끝까지 뽑아 낸다.\n",
    "d = a[19:]\n",
    "print(d)\n",
    "\n",
    "\n",
    "# start number를 생략하면 문자열의 처음부터 끝 번호까지 뽑아 낸다.\n",
    "e = a[:17]\n",
    "print(e)\n",
    "\n",
    "\n",
    "# Slicing에서도 - 기호 사용 가능하다.\n",
    "# a[19:-7]은 a[19]에서 a[-8]까지를 의미한다. a[-7]은 포함하지 않는다.\n",
    "f = a[19:-7]\n",
    "print(f)"
   ]
  },
  {
   "cell_type": "code",
   "execution_count": 78,
   "id": "fb2de7d3-80df-43d4-b3b4-3d070dd7a5c5",
   "metadata": {},
   "outputs": [
    {
     "name": "stdout",
     "output_type": "stream",
     "text": [
      "2000\n",
      "0611\n",
      "Sunny\n"
     ]
    }
   ],
   "source": [
    "a = \"20000611Sunny\"\n",
    "year = a[:4]\n",
    "day = a[4:8]\n",
    "weather = a[8:]\n",
    "print(year)\n",
    "print(day)\n",
    "print(weather)"
   ]
  },
  {
   "cell_type": "markdown",
   "id": "801fa301-134d-44da-9e17-11dca399e6a7",
   "metadata": {},
   "source": [
    "#### 4-11. 'Pithon' to 'python'"
   ]
  },
  {
   "cell_type": "code",
   "execution_count": 79,
   "id": "1c12feb7-7d85-41d5-bed9-b4d9dcfceb3e",
   "metadata": {},
   "outputs": [
    {
     "name": "stdout",
     "output_type": "stream",
     "text": [
      "python\n"
     ]
    }
   ],
   "source": [
    "# Immutable Data Type\n",
    "# 변경 불가능한 자료형\n",
    "# 문자열의 요솟값은 바꿀 수 있는 값이 아니다.\n",
    "\n",
    "\n",
    "# Slicing\n",
    "a = \"pithon\"\n",
    "print(a[:1] + \"y\" + a[2:])"
   ]
  },
  {
   "cell_type": "markdown",
   "id": "e71a68aa-0c5a-43e3-b606-3ecca2bf52de",
   "metadata": {},
   "source": [
    "#### 4-12. String Formatting"
   ]
  },
  {
   "cell_type": "code",
   "execution_count": 80,
   "id": "1ca6cd4d-d6bb-4481-a963-2eb215840502",
   "metadata": {},
   "outputs": [],
   "source": [
    "# 문자열 안의 특정한 값을 시간에 따라 바꾸어야 할 때 사용한다.\n",
    "# 문자열 안에 어떤 값을 삽입하는 방법이다."
   ]
  },
  {
   "cell_type": "markdown",
   "id": "71bdbfa9-1769-474e-88e9-13b057103f47",
   "metadata": {},
   "source": [
    "#### 4-13. String Format Code"
   ]
  },
  {
   "cell_type": "code",
   "execution_count": 81,
   "id": "b359d5c1-e330-49fb-a3f2-47660d8b6583",
   "metadata": {},
   "outputs": [],
   "source": [
    "# %s\n",
    "# 문자열(String)\n",
    "\n",
    "# %c\n",
    "# 문자 1개(character)\n",
    "\n",
    "# %d\n",
    "# 정수(Integer)\n",
    "\n",
    "# %f\n",
    "# 부동소수(floating-point)\n",
    "\n",
    "# %o\n",
    "# 8진수\n",
    "\n",
    "# %x\n",
    "# 16진수\n",
    "\n",
    "# %%\n",
    "# Literal % (문자 % 자체)"
   ]
  },
  {
   "cell_type": "code",
   "execution_count": 82,
   "id": "27a44942-c6bf-4bad-bf1e-a27b43a650cf",
   "metadata": {},
   "outputs": [
    {
     "name": "stdout",
     "output_type": "stream",
     "text": [
      "I ate 3 apples\n",
      "I ate 3 apples\n",
      "I ate three apples\n",
      "I ate 10 apples, so I was sick for three days.\n"
     ]
    }
   ],
   "source": [
    "# %d\n",
    "print(\"I ate %d apples\" % 3)\n",
    "\n",
    "number = 3\n",
    "print(\"I ate %d apples\" % number)\n",
    "\n",
    "# %s\n",
    "print(\"I ate %s apples\" % \"three\")\n",
    "\n",
    "# 2개 이상의 값 넣기\n",
    "Number = 10\n",
    "Day = \"three\"\n",
    "print(\"I ate %d apples, so I was sick for %s days.\" % (Number, Day))"
   ]
  },
  {
   "cell_type": "markdown",
   "id": "5769a05a-088c-41d1-aa9e-ab1c5c75c524",
   "metadata": {},
   "source": [
    "#### 4-14 %s Format Code"
   ]
  },
  {
   "cell_type": "code",
   "execution_count": 83,
   "id": "cb81b349-bf84-4a6a-a439-9f46ea52262c",
   "metadata": {},
   "outputs": [
    {
     "name": "stdout",
     "output_type": "stream",
     "text": [
      "I have three apples\n",
      "I have 3 apples\n",
      "rate is 3.234\n"
     ]
    }
   ],
   "source": [
    "# %s\n",
    "# %s 이 코드에는 어떤 형태의 값이든 변환해 넣을 수 있다.\n",
    "# 자동으로 % 뒤의 값을 문자열로 바꾸어 대입하기 때문이다.\n",
    "\n",
    "print(\"I have %s apples\" % \"three\")\n",
    "print(\"I have %s apples\" % 3)\n",
    "print(\"rate is %s\" % 3.234)"
   ]
  },
  {
   "cell_type": "markdown",
   "id": "5d6c8189-de41-4af2-8b19-9ae4d144e849",
   "metadata": {},
   "source": [
    "#### 4-15 %d 와 % 가 같은 문자열 안에 존재하는 경우"
   ]
  },
  {
   "cell_type": "code",
   "execution_count": 84,
   "id": "581c07f0-5deb-4e52-94c2-fdf27c16eb8f",
   "metadata": {},
   "outputs": [
    {
     "name": "stdout",
     "output_type": "stream",
     "text": [
      "Error is 98%.\n"
     ]
    }
   ],
   "source": [
    "# %를 나타내려면 반드시 %%를 써야 한다.\n",
    "# %d와 같은 Format Code가 없으면 %는 홀로 쓰여도 상관없다.\n",
    "\n",
    "print(\"Error is %d%%.\" % 98)"
   ]
  },
  {
   "cell_type": "markdown",
   "id": "72bc8248-d094-427e-a5c4-9a4b949a5346",
   "metadata": {},
   "source": [
    "#### 4-16. Using Format Code with Number"
   ]
  },
  {
   "cell_type": "code",
   "execution_count": 85,
   "id": "f5e18d55-5d21-4386-b21d-34ab08f8bab8",
   "metadata": {},
   "outputs": [
    {
     "name": "stdout",
     "output_type": "stream",
     "text": [
      "        hi\n",
      "hi        sehyuk\n"
     ]
    }
   ],
   "source": [
    "# 정렬과 공백\n",
    "\n",
    "\n",
    "# %10s\n",
    "# 오른쪽 정렬\n",
    "\n",
    "# 전체 길이가 10개인 문자열 공간에서 대입되는 값을 오른쪽으로 정렬하고, 그 앞은 8개는 공백으로 남긴다.\n",
    "print(\"%10s\" % \"hi\" )\n",
    "\n",
    "# %-10s\n",
    "# 왼쪽 정렬\n",
    "\n",
    "# 전체 길이 16인 문자열 공간에서 대입되는 값을 왼쪽으로 정렬하고, 중간 값을 공백으로 남긴다.\n",
    "print(\"%-10ssehyuk\" % \"hi\")"
   ]
  },
  {
   "cell_type": "code",
   "execution_count": 86,
   "id": "40c9f9e8-09f2-47ef-9e4e-69c10af7d4f5",
   "metadata": {},
   "outputs": [
    {
     "name": "stdout",
     "output_type": "stream",
     "text": [
      "3.141593\n",
      "3.141593\n",
      "  3.141593\n"
     ]
    }
   ],
   "source": [
    "# 소수점 표현\n",
    "\n",
    "\n",
    "# %0.4f\n",
    "# ‘.’ 소수점 포인트, 그 뒤의 숫자 4는 소수점 뒤에 나올 숫자의 개수이다.\n",
    "# 소수점 포인트 앞의 숫자는 문자열의 전체 길이를 의미하는데, %0.4f에서 사용한 숫자 0은 길이에 상관하지 않겠다는 의미이다.\n",
    "print(\"%0.6f\" % 3.14159265359)\n",
    "\n",
    "# %0.4f는 0을 생략하여 %.4f로 사용하기도 한다.\n",
    "print(\"%.6f\" % 3.14159265359)\n",
    "\n",
    "# 주어진 값을 소수점 여섯 번째 자리까지만 표시하고, 전체 길이가 10개인 문자열 공간에서 오른쪽으로 정렬하는 예이다.\n",
    "print(\"%10.6f\" % 3.14159265359)"
   ]
  },
  {
   "cell_type": "markdown",
   "id": "bf54de5e-9662-4bf3-9b93-c24a2268c10a",
   "metadata": {},
   "source": [
    "#### 4-17. Fomatting with Format Function"
   ]
  },
  {
   "cell_type": "code",
   "execution_count": null,
   "id": "69717cbd-02e0-4d2d-96de-087a340bd183",
   "metadata": {},
   "outputs": [],
   "source": []
  }
 ],
 "metadata": {
  "kernelspec": {
   "display_name": "Python 3 (ipykernel)",
   "language": "python",
   "name": "python3"
  },
  "language_info": {
   "codemirror_mode": {
    "name": "ipython",
    "version": 3
   },
   "file_extension": ".py",
   "mimetype": "text/x-python",
   "name": "python",
   "nbconvert_exporter": "python",
   "pygments_lexer": "ipython3",
   "version": "3.8.10"
  }
 },
 "nbformat": 4,
 "nbformat_minor": 5
}
